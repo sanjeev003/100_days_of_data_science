{
 "cells": [
  {
   "attachments": {},
   "cell_type": "markdown",
   "metadata": {},
   "source": [
    "1. np.unique() is a NumPy function that returns the sorted unique elements of an array. It takes an array as input and returns a new array with only the unique elements, removing any duplicates.\n",
    ">>> Examples\n",
    "\n",
    "import numpy as np\n",
    "arr = np.array([2, 1, 3, 2, 4, 3, 1, 5])\n",
    "unique_values = np.unique(arr)\n",
    "print(unique_values)\n",
    "> OutPut :- [1 2 3 4 5]\n",
    "\n",
    "import numpy as np\n",
    "arr = np.array([[1, 2, 3] , [2, 3, 4] , [3, 4, 5]])\n",
    "unique_values = np.unique(arr)\n",
    "print(unique_values)\n",
    "> OutPut :- [1 2 3 4 5]\n",
    "\n",
    "2. np.argmax() is a NumPy function that returns the indices of the maximum values along a specified axis of an array. It is used to find the indices of the maximum element(s) in an array.\n",
    ">>> Examples\n",
    "\n",
    "import numpy as np\n",
    "arr = np.array([4, 2, 7, 1, 9, 5])\n",
    "max_index = np.argmax(arr)\n",
    "print(max_index)\n",
    "> Output:- 4 (Index of 9 is 4)\n",
    "\n",
    "import numpy as np\n",
    "arr = np.array([[1, 2, 3] , [4, 5, 6] , [7, 8, 9]])\n",
    "max_indices = np.argmax(arr, axis=1)\n",
    "print(max_indices)\n",
    ">Output :- [2 2 2]\n",
    "    In this example, the np.argmax(arr, axis=1) call returns an array containing the indices of the maximum values along each row of the array arr. So, the maximum value in the first row is at index 2, the maximum value in the second row is at index 2, and the maximum value in the third row is also at index 2.\n",
    "\n",
    "3. np.sort() is a NumPy function used to sort the elements of an array along a specified axis. It returns a sorted copy of the array, leaving the original array unchanged.\n",
    ">>> Examples\n",
    "\n",
    "import numpy as np\n",
    "arr = np.array([3, 1, 4, 2, 5])\n",
    "sorted_arr = np.sort(arr)\n",
    "print(sorted_arr)\n",
    "> OutPut :- [1 2 3 4 5]\n",
    "\n",
    "import numpy as np\n",
    "arr = np.array([[3, 1, 4] , [2, 5, 6]])\n",
    "sorted_arr = np.sort(arr, axis=1)\n",
    "print(sorted_arr)\n",
    "> OutPut :- [[1 3 4] [2 5 6]]"
   ]
  },
  {
   "attachments": {},
   "cell_type": "markdown",
   "metadata": {},
   "source": [
    "1. The following array is given:\n",
    "\n",
    "A = np.array([[5, 1, 2, 1, 2] , [9, 1, 9, 7, 5] , [4, 1, 5, 7, 9]])\n",
    "\n",
    "Extract all unique values of this array as a list and print it to the console."
   ]
  },
  {
   "cell_type": "code",
   "execution_count": 1,
   "metadata": {},
   "outputs": [
    {
     "name": "stdout",
     "output_type": "stream",
     "text": [
      "[1 2 4 5 7 9]\n"
     ]
    }
   ],
   "source": [
    "import numpy as np \n",
    "A = np.array([[5, 1, 2, 1, 2] , [9, 1, 9, 7, 5] , [4, 1, 5, 7, 9]])\n",
    "print(np.unique(A))"
   ]
  },
  {
   "attachments": {},
   "cell_type": "markdown",
   "metadata": {},
   "source": [
    "2. The following array is given:\n",
    "\n",
    "A = np.array([[0.4, 0.3, 0.3] , [0.1, 0.1, 0.8] , [0.2, 0.5, 0.3]])\n",
    "\n",
    "Return a list of indexes with maximum values for each row from this array and print it to the console."
   ]
  },
  {
   "cell_type": "code",
   "execution_count": 3,
   "metadata": {},
   "outputs": [
    {
     "name": "stdout",
     "output_type": "stream",
     "text": [
      "[0 2 1]\n"
     ]
    }
   ],
   "source": [
    "import numpy as np\n",
    "A = np.array([[0.4, 0.3, 0.3] , [0.1, 0.1, 0.8] , [0.2, 0.5, 0.3]])\n",
    "print(np.argmax(A , axis = 1))"
   ]
  },
  {
   "attachments": {},
   "cell_type": "markdown",
   "metadata": {},
   "source": [
    "3. The following array is given:\n",
    "\n",
    "A = np.array([[4.99, 3.49, 9.99] , [1.99, 9.99, 4.99] , [14.99, 2.39, 7.29]])\n",
    "\n",
    "Sort this array:\n",
    "\n",
    "by row (ascending)\n",
    "by column (ascending)\n",
    "\n",
    "And print result to the console as shown below."
   ]
  },
  {
   "cell_type": "code",
   "execution_count": 6,
   "metadata": {},
   "outputs": [
    {
     "name": "stdout",
     "output_type": "stream",
     "text": [
      "[[ 3.49  4.99  9.99]\n",
      " [ 1.99  4.99  9.99]\n",
      " [ 2.39  7.29 14.99]]\n",
      "[[ 1.99  2.39  4.99]\n",
      " [ 4.99  3.49  7.29]\n",
      " [14.99  9.99  9.99]]\n"
     ]
    }
   ],
   "source": [
    "import numpy as np\n",
    " \n",
    "A = np.array([[4.99, 3.49, 9.99] , [1.99, 9.99, 4.99] , [14.99, 2.39, 7.29]])\n",
    "\n",
    "print(np.sort(A))\n",
    "print(np.sort(A, axis=0))"
   ]
  },
  {
   "attachments": {},
   "cell_type": "markdown",
   "metadata": {},
   "source": [
    "4. Extract all elements from the following array with a value greater than 8 and print result to the console.\n",
    "\n",
    "A = np.array([[4.99, 3.49, 9.99] , [1.99, 9.99, 4.99] , [14.99, 2.39, 7.29]])\n",
    "\n",
    "Expected result :- [ 9.99  9.99 14.99]"
   ]
  },
  {
   "cell_type": "code",
   "execution_count": 7,
   "metadata": {},
   "outputs": [
    {
     "name": "stdout",
     "output_type": "stream",
     "text": [
      "[ 9.99  9.99 14.99]\n"
     ]
    }
   ],
   "source": [
    "import numpy as np\n",
    "\n",
    "A = np.array([[4.99, 3.49, 9.99], [1.99, 9.99, 4.99], [14.99, 2.39, 7.29]])\n",
    "result = A[A > 8]\n",
    "\n",
    "print(result)"
   ]
  }
 ],
 "metadata": {
  "kernelspec": {
   "display_name": "Python 3",
   "language": "python",
   "name": "python3"
  },
  "language_info": {
   "codemirror_mode": {
    "name": "ipython",
    "version": 3
   },
   "file_extension": ".py",
   "mimetype": "text/x-python",
   "name": "python",
   "nbconvert_exporter": "python",
   "pygments_lexer": "ipython3",
   "version": "3.9.6"
  },
  "orig_nbformat": 4
 },
 "nbformat": 4,
 "nbformat_minor": 2
}
