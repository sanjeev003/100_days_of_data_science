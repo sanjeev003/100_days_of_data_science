{
 "cells": [
  {
   "cell_type": "markdown",
   "metadata": {},
   "source": [
    "# Day 87 - accuracy, confusion matrix & decision tree"
   ]
  },
  {
   "cell_type": "markdown",
   "metadata": {},
   "source": [
    "1. The predictions.csv file contains the predictions based on the certain multi-class classification model (3 classes). The y_true column describes the actual values, and the y_pred column describes the values predicted by the model. <br>\n",
    "Using the accuracy_score() function from the scikit-learn package, calculate the accuracy of this model."
   ]
  },
  {
   "cell_type": "code",
   "execution_count": 2,
   "metadata": {},
   "outputs": [
    {
     "name": "stdout",
     "output_type": "stream",
     "text": [
      "Accuracy: 0.7241\n"
     ]
    }
   ],
   "source": [
    "import numpy as np\n",
    "import pandas as pd\n",
    "from sklearn.metrics import accuracy_score\n",
    " \n",
    "predictions = pd.read_csv('predictions(87).csv')\n",
    "acc = accuracy_score(predictions['y_true'], predictions['y_pred'])\n",
    "print(f'Accuracy: {acc:.4f}')"
   ]
  },
  {
   "cell_type": "markdown",
   "metadata": {},
   "source": [
    "2. The predictions.csv file contains predictions based on the certain multi-class classification model (3 classes). The y_true column describes the actual values, and the y_pred column describes the values predicted by the model.\n",
    "Use the confusion_matrix() function from the scikit-learn package to calculate the confusion matrix and print it to the console."
   ]
  },
  {
   "cell_type": "code",
   "execution_count": 4,
   "metadata": {},
   "outputs": [
    {
     "name": "stdout",
     "output_type": "stream",
     "text": [
      "[[ 6  1  0]\n",
      " [ 3 10  2]\n",
      " [ 0  2  5]]\n"
     ]
    }
   ],
   "source": [
    "import numpy as np\n",
    "import pandas as pd\n",
    "from sklearn.metrics import confusion_matrix\n",
    " \n",
    "predictions = pd.read_csv('predictions(87).csv')\n",
    "cm = confusion_matrix(predictions['y_true'], predictions['y_pred'])\n",
    "print(cm)"
   ]
  },
  {
   "cell_type": "markdown",
   "metadata": {},
   "source": [
    "3. The following arrays are given: <br>\n",
    "<br>\n",
    "X_train, y_train <br>\n",
    "X_test, y_test <br>\n",
    "<br>\n",
    "Using the DecisionTreeClassifier class from the scikit-learn package, create classification model (leave the default arguments). Train the model on the train set and evaluate on the test set. <br>\n",
    "In response, print the model accuracy (up to four decimal places) to the console as shown below."
   ]
  },
  {
   "cell_type": "code",
   "execution_count": 5,
   "metadata": {},
   "outputs": [
    {
     "name": "stdout",
     "output_type": "stream",
     "text": [
      "Accuracy: 0.9020\n"
     ]
    }
   ],
   "source": [
    "import numpy as np\n",
    "import pandas as pd\n",
    " \n",
    "from sklearn.datasets import make_moons\n",
    "from sklearn.model_selection import train_test_split\n",
    "from sklearn.tree import DecisionTreeClassifier\n",
    " \n",
    "np.random.seed(42)\n",
    "raw_data = make_moons(n_samples=2000, noise=0.25, random_state=42)\n",
    "data = raw_data[0]\n",
    "target = raw_data[1]\n",
    " \n",
    "X_train, X_test, y_train, y_test = train_test_split(data, target)\n",
    " \n",
    "classifier = DecisionTreeClassifier()\n",
    "classifier.fit(X_train, y_train)\n",
    "acc = classifier.score(X_test, y_test)\n",
    "print(f'Accuracy: {acc:.4f}')"
   ]
  }
 ],
 "metadata": {
  "kernelspec": {
   "display_name": "Python 3",
   "language": "python",
   "name": "python3"
  },
  "language_info": {
   "codemirror_mode": {
    "name": "ipython",
    "version": 3
   },
   "file_extension": ".py",
   "mimetype": "text/x-python",
   "name": "python",
   "nbconvert_exporter": "python",
   "pygments_lexer": "ipython3",
   "version": "3.9.6"
  },
  "orig_nbformat": 4
 },
 "nbformat": 4,
 "nbformat_minor": 2
}
