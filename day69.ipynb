{
 "cells": [
  {
   "cell_type": "markdown",
   "metadata": {},
   "source": [
    "# Day 69 - data preprocessing"
   ]
  },
  {
   "cell_type": "markdown",
   "metadata": {},
   "source": [
    "1. The quotations DataFrame is given below:\n",
    "\n",
    "            amzn_open  amzn_close  tsla_open  tsla_close  amzn_change  tsla_change  similarity_flag\n",
    "Date                                                                                               \n",
    "2020-09-22  3033.8350     3128.99     429.60      424.23     3.136459    -1.250000                0\n",
    "2020-09-21  2906.5000     2960.47     453.13      449.39     1.856873    -0.825370                0\n",
    "2020-09-18  3031.7400     2954.91     447.94      442.15    -2.534188    -1.292584                1\n",
    "2020-09-17  3009.2500     3008.73     415.60      423.43    -0.017280     1.884023                0\n",
    "2020-09-16  3179.9900     3078.10     439.87      441.76    -3.204098     0.429672                0\n",
    "2020-09-15  3136.1600     3156.13     436.56      449.76     0.636766     3.023639                1\n",
    "2020-09-14  3172.9372     3102.97     380.95      419.62    -2.205124    10.150938                0\n",
    "2020-09-11  3208.6900     3116.22     381.94      372.72    -2.881861    -2.413992                1\n",
    "2020-09-10  3307.2188     3175.11     386.21      371.34    -3.994559    -3.850237                1\n",
    "2020-09-09  3202.9900     3268.61     356.60      366.28     2.048711     2.714526                1\n",
    "2020-09-08  3144.0000     3149.84     356.00      330.21     0.185751    -7.244382                0\n",
    "2020-09-04  3318.0000     3294.62     402.81      418.32    -0.704641     3.850451                0\n",
    "2020-09-03  3485.0000     3368.00     407.23      407.00    -3.357245    -0.056479                1\n",
    "2020-09-02  3547.0000     3531.45     478.99      447.37    -0.438399    -6.601390                1\n",
    "2020-09-01  3489.5800     3499.12     502.14      475.05     0.273385    -5.394910                0\n",
    "2020-08-31  3408.9900     3450.96     444.61      498.32     1.231156    12.080250                1\n",
    "2020-08-28  3423.0000     3401.80     459.02      442.68    -0.619340    -3.559758                1\n",
    "2020-08-27  3450.0500     3400.00     436.09      447.75    -1.450704     2.673760                0\n",
    "2020-08-26  3351.1100     3441.85     412.00      430.63     2.707760     4.521845                1\n",
    "2020-08-25  3294.9900     3346.49     394.98      404.67     1.562979     2.453289                1\n",
    "\n",
    "Calculate the percentage of trading sessions for which Amazon and Tesla had the same direction (similarity_flag == 1) and print to the console as shown below."
   ]
  },
  {
   "cell_type": "code",
   "execution_count": 5,
   "metadata": {},
   "outputs": [
    {
     "name": "stdout",
     "output_type": "stream",
     "text": [
      "55.00%\n"
     ]
    }
   ],
   "source": [
    "import pandas as pd\n",
    " \n",
    "amazon = pd.read_csv('amazon_69.csv', index_col=0)\n",
    "tesla = pd.read_csv('tesla_69.csv', index_col=0)\n",
    "amazon.columns = ['amzn_' + col.lower() for col in amazon.columns]\n",
    "tesla.columns = ['tsla_' + col.lower() for col in tesla.columns]\n",
    "result = pd.concat([amazon, tesla], axis=1)\n",
    "quotations = result[\n",
    "    ['amzn_open', 'amzn_close', 'tsla_open', 'tsla_close']\n",
    "].copy()\n",
    "quotations['amzn_change'] = (\n",
    "    quotations['amzn_close'] / quotations['amzn_open'] - 1\n",
    ") * 100\n",
    "quotations['tsla_change'] = (\n",
    "    quotations['tsla_close'] / quotations['tsla_open'] - 1\n",
    ") * 100\n",
    "quotations['similarity_flag'] = (\n",
    "    quotations['amzn_change'] * quotations['tsla_change'] > 0\n",
    ") * 1\n",
    "result = quotations['similarity_flag'].sum() / len(quotations)\n",
    "print(f'{result * 100:.2f}%')"
   ]
  },
  {
   "cell_type": "markdown",
   "metadata": {},
   "source": [
    "2. The following dictionaries are given:\n",
    "\n",
    "products_dict = {\n",
    "    'product_id': ['001', '004', '007', '010'],\n",
    "    'name': ['mobile phone', 'laptop', 'mouse', 'tablet'],\n",
    "    'price': [1490.0, 3400.0, 59.99, 999.00]\n",
    "}\n",
    " \n",
    "orders_day_1_dict = {\n",
    "    'order_id': ['1001', '1002', '1003', '1004'],\n",
    "    'product_id': ['004', '001', '001', '007'],\n",
    "    'quantity': [2, 1, 1, 3]\n",
    "}       \n",
    " \n",
    "orders_day_2_dict = {\n",
    "    'order_id': ['1005', '1006', '1007'],\n",
    "    'product_id': ['010', '001', '007'],\n",
    "    'quantity': [2, 1, 1]\n",
    "}  \n",
    "\n",
    "Using these dictionaries create three DataFrame objects with the following names:\n",
    "\n",
    "products\n",
    "orders_day_1\n",
    "orders_day_2\n",
    "\n",
    "Then print these objects to the console as shown below."
   ]
  },
  {
   "cell_type": "code",
   "execution_count": 6,
   "metadata": {},
   "outputs": [
    {
     "name": "stdout",
     "output_type": "stream",
     "text": [
      "  product_id          name    price\n",
      "0        001  mobile phone  1490.00\n",
      "1        004        laptop  3400.00\n",
      "2        007         mouse    59.99\n",
      "3        010        tablet   999.00\n",
      "  order_id product_id  quantity\n",
      "0     1001        004         2\n",
      "1     1002        001         1\n",
      "2     1003        001         1\n",
      "3     1004        007         3\n",
      "  order_id product_id  quantity\n",
      "0     1005        010         2\n",
      "1     1006        001         1\n",
      "2     1007        007         1\n"
     ]
    }
   ],
   "source": [
    "import pandas as pd\n",
    " \n",
    "products_dict = {\n",
    "    'product_id': ['001', '004', '007', '010'],\n",
    "    'name': ['mobile phone', 'laptop', 'mouse', 'tablet'],\n",
    "    'price': [1490.0, 3400.0, 59.99, 999.00]\n",
    "}\n",
    "orders_day_1_dict = {\n",
    "    'order_id': ['1001', '1002', '1003', '1004'],\n",
    "    'product_id': ['004', '001', '001', '007'],\n",
    "    'quantity': [2, 1, 1, 3]\n",
    "}       \n",
    "orders_day_2_dict = {\n",
    "    'order_id': ['1005', '1006', '1007'],\n",
    "    'product_id': ['010', '001', '007'],\n",
    "    'quantity': [2, 1, 1]\n",
    "}                \n",
    " \n",
    "products = pd.DataFrame(products_dict)\n",
    "orders_day_1 = pd.DataFrame(orders_day_1_dict)\n",
    "orders_day_2 = pd.DataFrame(orders_day_2_dict)\n",
    " \n",
    "print(products)\n",
    "print(orders_day_1)\n",
    "print(orders_day_2)"
   ]
  },
  {
   "cell_type": "markdown",
   "metadata": {},
   "source": [
    "3. The following DataFrame objects are given:\n",
    "\n",
    "products\n",
    "orders_day_1\n",
    "orders_day_2\n",
    "\n",
    "Combine orders_day_1 DataFrame:\n",
    "\n",
    "  order_id product_id  quantity\n",
    "0     1001        004         2\n",
    "1     1002        001         1\n",
    "2     1003        001         1\n",
    "3     1004        007         3\n",
    "\n",
    "with orders_day_2 DataFrame:\n",
    "\n",
    "  order_id product_id  quantity\n",
    "0     1005        010         2\n",
    "1     1006        001         1\n",
    "2     1007        007         1\n",
    "\n",
    "as shown below and assign to the orders variable. Make sure the new DataFrame is indexed correctly.\n",
    "In response, print the orders DataFrame to the console."
   ]
  },
  {
   "cell_type": "code",
   "execution_count": 7,
   "metadata": {},
   "outputs": [
    {
     "name": "stdout",
     "output_type": "stream",
     "text": [
      "  order_id product_id  quantity\n",
      "0     1001        004         2\n",
      "1     1002        001         1\n",
      "2     1003        001         1\n",
      "3     1004        007         3\n",
      "4     1005        010         2\n",
      "5     1006        001         1\n",
      "6     1007        007         1\n"
     ]
    },
    {
     "name": "stderr",
     "output_type": "stream",
     "text": [
      "C:\\Users\\JAI GANESH\\AppData\\Local\\Temp\\ipykernel_32872\\3370314658.py:26: FutureWarning: The frame.append method is deprecated and will be removed from pandas in a future version. Use pandas.concat instead.\n",
      "  orders = orders_day_1.append(orders_day_2, ignore_index=True)\n"
     ]
    }
   ],
   "source": [
    "import pandas as pd\n",
    " \n",
    " \n",
    "products_dict = {\n",
    "    'product_id': ['001', '004', '007', '010'],\n",
    "    'name': ['mobile phone', 'laptop', 'mouse', 'tablet'],\n",
    "    'price': [1490.0, 3400.0, 59.99, 999.00]\n",
    "}\n",
    " \n",
    "orders_day_1_dict = {\n",
    "    'order_id': ['1001', '1002', '1003', '1004'],\n",
    "    'product_id': ['004', '001', '001', '007'],\n",
    "    'quantity': [2, 1, 1, 3]\n",
    "}       \n",
    " \n",
    "orders_day_2_dict = {\n",
    "    'order_id': ['1005', '1006', '1007'],\n",
    "    'product_id': ['010', '001', '007'],\n",
    "    'quantity': [2, 1, 1]\n",
    "}                \n",
    " \n",
    "products = pd.DataFrame(products_dict)\n",
    "orders_day_1 = pd.DataFrame(orders_day_1_dict)\n",
    "orders_day_2 = pd.DataFrame(orders_day_2_dict)\n",
    " \n",
    "orders = orders_day_1.append(orders_day_2, ignore_index=True)\n",
    "print(orders)"
   ]
  }
 ],
 "metadata": {
  "kernelspec": {
   "display_name": "Python 3",
   "language": "python",
   "name": "python3"
  },
  "language_info": {
   "codemirror_mode": {
    "name": "ipython",
    "version": 3
   },
   "file_extension": ".py",
   "mimetype": "text/x-python",
   "name": "python",
   "nbconvert_exporter": "python",
   "pygments_lexer": "ipython3",
   "version": "3.9.6"
  },
  "orig_nbformat": 4
 },
 "nbformat": 4,
 "nbformat_minor": 2
}
