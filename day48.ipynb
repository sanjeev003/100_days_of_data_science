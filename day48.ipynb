{
 "cells": [
  {
   "attachments": {},
   "cell_type": "markdown",
   "metadata": {},
   "source": [
    "# Day 48 - filtering & missing values"
   ]
  },
  {
   "attachments": {},
   "cell_type": "markdown",
   "metadata": {},
   "source": [
    "1. The following DataFrame is given:\n",
    "    df = pd.DataFrame(np.random.rand(10, 4), columns=list('ABCD'))\n",
    "Extract rows of this DataFrame for which the C column is greater than 0.3 and the D column is less than 0.7. Print result to the console."
   ]
  },
  {
   "cell_type": "code",
   "execution_count": 1,
   "metadata": {},
   "outputs": [
    {
     "name": "stdout",
     "output_type": "stream",
     "text": [
      "          A         B         C         D\n",
      "0  0.374540  0.950714  0.731994  0.598658\n",
      "4  0.304242  0.524756  0.431945  0.291229\n",
      "7  0.592415  0.046450  0.607545  0.170524\n",
      "9  0.304614  0.097672  0.684233  0.440152\n"
     ]
    }
   ],
   "source": [
    "import numpy as np\n",
    "import pandas as pd\n",
    " \n",
    "np.random.seed(42)\n",
    "df = pd.DataFrame(np.random.rand(10, 4), columns=list('ABCD'))\n",
    "print(df.loc[(df['C'] > 0.3) & (df['D'] < 0.7)])"
   ]
  },
  {
   "attachments": {},
   "cell_type": "markdown",
   "metadata": {},
   "source": [
    "2. The following DataFrame is given:\n",
    "    df = pd.DataFrame(np.random.rand(10, 4), columns=list('ABCD'))\n",
    "Iterate through the first five rows of this object and print each row to the console as shown below."
   ]
  },
  {
   "cell_type": "code",
   "execution_count": 2,
   "metadata": {},
   "outputs": [
    {
     "name": "stdout",
     "output_type": "stream",
     "text": [
      "A    0.374540\n",
      "B    0.950714\n",
      "C    0.731994\n",
      "D    0.598658\n",
      "Name: 0, dtype: float64\n",
      "A    0.156019\n",
      "B    0.155995\n",
      "C    0.058084\n",
      "D    0.866176\n",
      "Name: 1, dtype: float64\n",
      "A    0.601115\n",
      "B    0.708073\n",
      "C    0.020584\n",
      "D    0.969910\n",
      "Name: 2, dtype: float64\n",
      "A    0.832443\n",
      "B    0.212339\n",
      "C    0.181825\n",
      "D    0.183405\n",
      "Name: 3, dtype: float64\n",
      "A    0.304242\n",
      "B    0.524756\n",
      "C    0.431945\n",
      "D    0.291229\n",
      "Name: 4, dtype: float64\n"
     ]
    }
   ],
   "source": [
    "import numpy as np\n",
    "import pandas as pd\n",
    " \n",
    "np.random.seed(42)\n",
    "df = pd.DataFrame(np.random.rand(10, 4), columns=list('ABCD'))\n",
    "for index, row in df.head().iterrows():\n",
    "    print(row)"
   ]
  },
  {
   "attachments": {},
   "cell_type": "markdown",
   "metadata": {},
   "source": [
    "3. The following DataFrame is given:\n",
    "    df = pd.DataFrame(np.random.rand(10, 4), columns=list('ABCD'))\n",
    "Set the value in row with index 3 for column B as np.nan (use df.iloc) and also set the value in the row at index 8 for column D as np.nan (use df.loc).\n",
    "Print DataFrame to the console."
   ]
  },
  {
   "cell_type": "code",
   "execution_count": 3,
   "metadata": {},
   "outputs": [
    {
     "name": "stdout",
     "output_type": "stream",
     "text": [
      "          A         B         C         D\n",
      "0  0.374540  0.950714  0.731994  0.598658\n",
      "1  0.156019  0.155995  0.058084  0.866176\n",
      "2  0.601115  0.708073  0.020584  0.969910\n",
      "3  0.832443       NaN  0.181825  0.183405\n",
      "4  0.304242  0.524756  0.431945  0.291229\n",
      "5  0.611853  0.139494  0.292145  0.366362\n",
      "6  0.456070  0.785176  0.199674  0.514234\n",
      "7  0.592415  0.046450  0.607545  0.170524\n",
      "8  0.065052  0.948886  0.965632       NaN\n",
      "9  0.304614  0.097672  0.684233  0.440152\n"
     ]
    }
   ],
   "source": [
    "import numpy as np\n",
    "import pandas as pd \n",
    "np.random.seed(42)\n",
    "df = pd.DataFrame(np.random.rand(10, 4), columns=list('ABCD'))\n",
    "df.iloc[3, 1] = np.nan\n",
    "df.loc[8, 'D'] = np.nan\n",
    "print(df)"
   ]
  }
 ],
 "metadata": {
  "kernelspec": {
   "display_name": "Python 3",
   "language": "python",
   "name": "python3"
  },
  "language_info": {
   "codemirror_mode": {
    "name": "ipython",
    "version": 3
   },
   "file_extension": ".py",
   "mimetype": "text/x-python",
   "name": "python",
   "nbconvert_exporter": "python",
   "pygments_lexer": "ipython3",
   "version": "3.9.6"
  },
  "orig_nbformat": 4
 },
 "nbformat": 4,
 "nbformat_minor": 2
}
