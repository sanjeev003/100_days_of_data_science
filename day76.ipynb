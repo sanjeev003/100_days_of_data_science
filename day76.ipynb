{
 "cells": [
  {
   "cell_type": "markdown",
   "metadata": {},
   "source": [
    "# Day 76 - continuous to categorical variable"
   ]
  },
  {
   "cell_type": "markdown",
   "metadata": {},
   "source": [
    "1. The df DataFrame is given below:\n",
    "\n",
    "  size  color  gender  price  weight bought\n",
    "0   XL    red  female  199.0   500.0    yes\n",
    "1    L  green    male   89.0   450.0     no\n",
    "2    M   blue     NaN    NaN   300.0    yes\n",
    "3  NaN  green  female  129.0     NaN     no\n",
    "4    M    red  female   79.0   410.0    yes\n",
    "5    M  green    male   89.0     NaN     no\n",
    "\n",
    "Extract columns of object type from this DataFrame. Then fill in all the missing values for these columns with the value 'empty'.\n",
    "Assign the result to the df_object variable and print it to the console."
   ]
  },
  {
   "cell_type": "code",
   "execution_count": 1,
   "metadata": {},
   "outputs": [
    {
     "name": "stdout",
     "output_type": "stream",
     "text": [
      "    size  color  gender bought\n",
      "0     XL    red  female    yes\n",
      "1      L  green    male     no\n",
      "2      M   blue   empty    yes\n",
      "3  empty  green  female     no\n",
      "4      M    red  female    yes\n",
      "5      M  green    male     no\n"
     ]
    }
   ],
   "source": [
    "import numpy as np\n",
    "import pandas as pd\n",
    "from sklearn.impute import SimpleImputer \n",
    " \n",
    "data = {\n",
    "    'size': ['XL', 'L', 'M', np.nan, 'M', 'M'],\n",
    "    'color': ['red', 'green', 'blue', 'green', 'red', 'green'],\n",
    "    'gender': ['female', 'male', np.nan, 'female', 'female', 'male'],\n",
    "    'price': [199.0, 89.0, np.nan, 129.0, 79.0, 89.0],\n",
    "    'weight': [500, 450, 300, np.nan, 410, np.nan],\n",
    "    'bought': ['yes', 'no', 'yes', 'no', 'yes', 'no']\n",
    "}\n",
    " \n",
    "df = pd.DataFrame(data=data)\n",
    "df_object = df.select_dtypes(include=['object']).fillna('empty')\n",
    "print(df_object)"
   ]
  },
  {
   "cell_type": "markdown",
   "metadata": {},
   "source": [
    "2. The df DataFrame is given below:\n",
    "\n",
    "df = pd.DataFrame(data={'weight': [75., 78.5, 85., 91., 84.5, 83., 68.]})\n",
    "\n",
    "Discretize the weight column. Divide the values of this column into three intervals of equal width. Assign the result to a new column 'weight_cut' as shown below.\n",
    "In response, print the df object to the console."
   ]
  },
  {
   "cell_type": "code",
   "execution_count": 2,
   "metadata": {},
   "outputs": [
    {
     "name": "stdout",
     "output_type": "stream",
     "text": [
      "   weight        weight_cut\n",
      "0    75.0  (67.977, 75.667]\n",
      "1    78.5  (75.667, 83.333]\n",
      "2    85.0    (83.333, 91.0]\n",
      "3    91.0    (83.333, 91.0]\n",
      "4    84.5    (83.333, 91.0]\n",
      "5    83.0  (75.667, 83.333]\n",
      "6    68.0  (67.977, 75.667]\n"
     ]
    }
   ],
   "source": [
    "import pandas as pd\n",
    " \n",
    "df = pd.DataFrame(data={'weight': [75., 78.5, 85., 91., 84.5, 83., 68.]})\n",
    "df['weight_cut'] = pd.cut(df['weight'], bins=3)\n",
    "print(df)"
   ]
  },
  {
   "cell_type": "markdown",
   "metadata": {},
   "source": [
    "3. The df DataFrame is given below:\n",
    "\n",
    "df = pd.DataFrame(data={'weight': [75., 78.5, 85., 91., 84.5, 83., 68.]})\n",
    "\n",
    "Discretize the column weight into three intervals with the given boundaries:\n",
    "\n",
    "(60, 75]\n",
    "(75, 80]\n",
    "(80, 95]\n",
    "\n",
    "Assign the result to the new column 'weight_cut' as shown below.\n",
    "In response, print the df DataFrame to the console."
   ]
  },
  {
   "cell_type": "code",
   "execution_count": 3,
   "metadata": {},
   "outputs": [
    {
     "name": "stdout",
     "output_type": "stream",
     "text": [
      "   weight weight_cut\n",
      "0    75.0   (60, 75]\n",
      "1    78.5   (75, 80]\n",
      "2    85.0   (80, 95]\n",
      "3    91.0   (80, 95]\n",
      "4    84.5   (80, 95]\n",
      "5    83.0   (80, 95]\n",
      "6    68.0   (60, 75]\n"
     ]
    }
   ],
   "source": [
    "import pandas as pd\n",
    " \n",
    "df = pd.DataFrame(data={'weight': [75., 78.5, 85., 91., 84.5, 83., 68.]})\n",
    "df['weight_cut'] = pd.cut(df['weight'], bins=(60, 75, 80, 95))\n",
    "print(df)"
   ]
  },
  {
   "cell_type": "markdown",
   "metadata": {},
   "source": [
    "4. The df DataFrame is given below:\n",
    "\n",
    "df = pd.DataFrame(data={'weight': [75., 78.5, 85., 91., 84.5, 83., 68.]})\n",
    "\n",
    "Discretize the column weight into three intervals with the given boundaries:\n",
    "\n",
    "(60, 75]\n",
    "(75, 80]\n",
    "(80, 95]\n",
    "\n",
    "and bound to them the following labels:\n",
    "\n",
    "light\n",
    "normal\n",
    "heavy\n",
    "\n",
    "Assign the result to the new column 'weight_cut' as show below.\n",
    "In response, print the df DataFrame to the console."
   ]
  },
  {
   "cell_type": "code",
   "execution_count": 4,
   "metadata": {},
   "outputs": [
    {
     "name": "stdout",
     "output_type": "stream",
     "text": [
      "   weight weight_cut\n",
      "0    75.0      light\n",
      "1    78.5     normal\n",
      "2    85.0      heavy\n",
      "3    91.0      heavy\n",
      "4    84.5      heavy\n",
      "5    83.0      heavy\n",
      "6    68.0      light\n"
     ]
    }
   ],
   "source": [
    "import pandas as pd\n",
    " \n",
    "df = pd.DataFrame(data={'weight': [75., 78.5, 85., 91., 84.5, 83., 68.]})\n",
    "df['weight_cut'] = pd.cut(\n",
    "    df['weight'],\n",
    "    bins=(60, 75, 80, 95),\n",
    "    labels=['light', 'normal', 'heavy'],\n",
    ")\n",
    "print(df)"
   ]
  }
 ],
 "metadata": {
  "kernelspec": {
   "display_name": "Python 3",
   "language": "python",
   "name": "python3"
  },
  "language_info": {
   "codemirror_mode": {
    "name": "ipython",
    "version": 3
   },
   "file_extension": ".py",
   "mimetype": "text/x-python",
   "name": "python",
   "nbconvert_exporter": "python",
   "pygments_lexer": "ipython3",
   "version": "3.9.6"
  },
  "orig_nbformat": 4
 },
 "nbformat": 4,
 "nbformat_minor": 2
}
