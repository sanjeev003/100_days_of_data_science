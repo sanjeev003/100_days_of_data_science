{
 "cells": [
  {
   "cell_type": "markdown",
   "metadata": {},
   "source": [
    "# Day 78 - data preprocessing"
   ]
  },
  {
   "cell_type": "markdown",
   "metadata": {},
   "source": [
    "1. The df DataFrame is given below:\n",
    "<br>\n",
    "              hashtags <br>\n",
    "0          #good#vibes <br>\n",
    "1  #hot#summer#holiday <br>\n",
    "2         #street#food <br>\n",
    "3             #workout <br>\n",
    "\n",
    "Split hashtags by the '#' sign using pd.Series.str.split() with argument expand = True. You will get four columns. For example, for the second row:\n",
    "<br>\n",
    "'#hot#summer#holiday'\n",
    "<br>\n",
    "it returns the following list:\n",
    "<br>\n",
    "['', 'hot', 'summer', 'holiday']\n",
    "<br>\n",
    "Remove the first column from the result (the first column contains only empty strings ''). Then assign the names of the remaining columns as follows:\n",
    "<br>\n",
    "'hashtag1' <br>\n",
    "'hashtag2' <br>\n",
    "'hashtag3' <br>\n",
    "In response, print result to the console."
   ]
  },
  {
   "cell_type": "code",
   "execution_count": 1,
   "metadata": {},
   "outputs": [
    {
     "name": "stdout",
     "output_type": "stream",
     "text": [
      "  hashtag1 hashtag2 hashtag3\n",
      "0     good    vibes     None\n",
      "1      hot   summer  holiday\n",
      "2   street     food     None\n",
      "3  workout     None     None\n"
     ]
    }
   ],
   "source": [
    "import pandas as pd\n",
    " \n",
    "df = pd.DataFrame(\n",
    "    data={\n",
    "        'hashtags': [\n",
    "            '#good#vibes',\n",
    "            '#hot#summer#holiday',\n",
    "            '#street#food',\n",
    "            '#workout',\n",
    "        ]\n",
    "    }\n",
    ")\n",
    "df = df['hashtags'].str.split('#', expand=True)\n",
    "df = df.drop(columns=[0])\n",
    "df.columns = ['hashtag1', 'hashtag2', 'hashtag3']\n",
    "print(df)"
   ]
  },
  {
   "cell_type": "markdown",
   "metadata": {},
   "source": [
    "2. The df DataFrame is given below:\n",
    "<br>\n",
    "  hashtag1 hashtag2 hashtag3 <br>\n",
    "0     good    vibes     None <br>\n",
    "1      hot   summer  holiday <br>\n",
    "2   street     food     None <br>\n",
    "3  workout     None     None <br>\n",
    "\n",
    "Create a new column 'missing' and assign the number of missing hashtags for each row as shown below. For example:\n",
    "<br>\n",
    "row one -> 1 <br>\n",
    "row two -> 0 <br>\n",
    "row three -> 1, etc. <br>\n",
    "As an answer, print the df DataFrame to the console."
   ]
  },
  {
   "cell_type": "code",
   "execution_count": 2,
   "metadata": {},
   "outputs": [
    {
     "name": "stdout",
     "output_type": "stream",
     "text": [
      "  hashtag1 hashtag2 hashtag3  missing\n",
      "0     good    vibes     None        1\n",
      "1      hot   summer  holiday        0\n",
      "2   street     food     None        1\n",
      "3  workout     None     None        2\n"
     ]
    }
   ],
   "source": [
    "import pandas as pd\n",
    " \n",
    "df = pd.DataFrame(\n",
    "    data={\n",
    "        'hashtags': [\n",
    "            '#good#vibes',\n",
    "            '#hot#summer#holiday',\n",
    "            '#street#food',\n",
    "            '#workout',\n",
    "        ]\n",
    "    }\n",
    ")\n",
    "df = df['hashtags'].str.split('#', expand=True)\n",
    "df = df.drop(columns=[0])\n",
    "df.columns = ['hashtag1', 'hashtag2', 'hashtag3']\n",
    "df['missing'] = df.isnull().sum(axis=1)\n",
    "print(df)"
   ]
  },
  {
   "cell_type": "markdown",
   "metadata": {},
   "source": [
    "3. The df DataFrame is given below:\n",
    "<br>\n",
    "   investments <br>\n",
    "0  100_000_000 <br>\n",
    "1      100_000 <br>\n",
    "2   30_000_000 <br>\n",
    "3  100_500_000 <br>\n",
    "\n",
    "Convert column investments to int type and print result to the console."
   ]
  },
  {
   "cell_type": "code",
   "execution_count": 3,
   "metadata": {},
   "outputs": [
    {
     "name": "stdout",
     "output_type": "stream",
     "text": [
      "   investments\n",
      "0    100000000\n",
      "1       100000\n",
      "2     30000000\n",
      "3    100500000\n"
     ]
    }
   ],
   "source": [
    "import pandas as pd\n",
    " \n",
    "df = pd.DataFrame(\n",
    "    data={\n",
    "        'investments': [\n",
    "            '100_000_000',\n",
    "            '100_000',\n",
    "            '30_000_000',\n",
    "            '100_500_000',\n",
    "        ]\n",
    "    }\n",
    ")\n",
    "df['investments'] = df['investments'].str.replace('_', '').astype(int)\n",
    "print(df)"
   ]
  }
 ],
 "metadata": {
  "kernelspec": {
   "display_name": "Python 3",
   "language": "python",
   "name": "python3"
  },
  "language_info": {
   "codemirror_mode": {
    "name": "ipython",
    "version": 3
   },
   "file_extension": ".py",
   "mimetype": "text/x-python",
   "name": "python",
   "nbconvert_exporter": "python",
   "pygments_lexer": "ipython3",
   "version": "3.9.6"
  },
  "orig_nbformat": 4
 },
 "nbformat": 4,
 "nbformat_minor": 2
}
