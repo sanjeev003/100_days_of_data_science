{
 "cells": [
  {
   "attachments": {},
   "cell_type": "markdown",
   "metadata": {},
   "source": [
    "1. The np.reshape() function in NumPy is used to change the shape of an array while maintaining the same elements. It allows you to reshape an array into a new shape without modifying the original data.\n",
    "The syntax of np.reshape() is as follows -->\n",
    "\n",
    "np.reshape(array, new_shape)\n",
    "\n",
    "                            *************************\n",
    "\n",
    "2.  you can convert a NumPy array to a Python list using the tolist() method of the NumPy array object. The tolist() method returns a Python list containing the elements of the array.\n",
    "Here's an example -->\n",
    "\n",
    "import numpy as np\n",
    "\n",
    "arr = np.array([1, 2, 3, 4, 5])\n",
    "list_arr = arr.tolist()\n",
    "\n",
    "print(list_arr)\n",
    "\n",
    "OUTPUT :- [1, 2, 3, 4, 5]\n",
    "\n",
    "                            *************************\n",
    "\n",
    "3. The np.pad() function in NumPy is used to pad an array with values along specified dimensions. It allows you to add values to the edges of an array, effectively increasing its size.\n",
    "\n",
    "The np.pad() function takes several arguments:\n",
    "\n",
    "array: The input array to be padded.\n",
    "pad_width: The number of values to pad on each axis. It can be a single integer or a tuple of integers specifying the padding for each dimension.\n",
    "mode: The padding mode. It determines how the values are padded. Some common modes include \"constant\", \"edge\", \"reflect\", and \"wrap\".\n",
    "constant_values: The value to use for padding if the mode is set to \"constant\".\n",
    "Here's an example usage of np.pad() -->\n",
    "\n",
    "import numpy as np\n",
    "\n",
    "arr = np.array([[1, 2], [3, 4]])\n",
    "padded_arr = np.pad(arr, pad_width=1, mode='constant', constant_values=0)\n",
    "\n",
    "print(padded_arr)\n",
    "\n",
    "OUTPUT :- \n",
    "[[0 0 0]\n",
    " [0 1 2]\n",
    " [0 3 4]\n",
    " [0 0 0]]"
   ]
  },
  {
   "attachments": {},
   "cell_type": "markdown",
   "metadata": {},
   "source": [
    "1. Using Numpy create and convert the following array into the list:\n",
    "\n",
    "array([[ 0,  1,  2,  3],\n",
    "       [ 4,  5,  6,  7],\n",
    "       [ 8,  9, 10, 11]])\n",
    "\n",
    "In response, print list to the console."
   ]
  },
  {
   "cell_type": "code",
   "execution_count": 4,
   "metadata": {},
   "outputs": [
    {
     "name": "stdout",
     "output_type": "stream",
     "text": [
      "[[0, 1, 2, 3], [4, 5, 6, 7], [8, 9, 10, 11]]\n"
     ]
    }
   ],
   "source": [
    "import numpy as np\n",
    "\n",
    "arr = np.array([[ 0,  1,  2,  3],\n",
    "       [ 4,  5,  6,  7],\n",
    "       [ 8,  9, 10, 11]])\n",
    "\n",
    "listed_arr = arr.tolist()\n",
    "\n",
    "print(listed_arr)"
   ]
  },
  {
   "attachments": {},
   "cell_type": "markdown",
   "metadata": {},
   "source": [
    "2. The following array is given:\n",
    "array([[ 0,  1,  2,  3],\n",
    "       [ 4,  5,  6,  7],\n",
    "       [ 8,  9, 10, 11]])\n",
    "\n",
    "Using the slice operator, transform this array into the following:\n",
    "array([[ 8,  9, 10, 11],\n",
    "       [ 4,  5,  6,  7],\n",
    "       [ 0,  1,  2,  3]])\n",
    "\n",
    "In response, print transformed array to the console."
   ]
  },
  {
   "cell_type": "code",
   "execution_count": 6,
   "metadata": {},
   "outputs": [
    {
     "name": "stdout",
     "output_type": "stream",
     "text": [
      "[[ 8  9 10 11]\n",
      " [ 4  5  6  7]\n",
      " [ 0  1  2  3]]\n"
     ]
    }
   ],
   "source": [
    "import numpy as np\n",
    "\n",
    "arr = np.array([[0, 1, 2, 3],\n",
    "                [4, 5, 6, 7],\n",
    "                [8, 9, 10, 11]])\n",
    "\n",
    "transformed_arr = arr[::-1]\n",
    "\n",
    "print(transformed_arr)"
   ]
  },
  {
   "attachments": {},
   "cell_type": "markdown",
   "metadata": {},
   "source": [
    "3. The following array:\n",
    "array([[1., 1., 1., 1.],\n",
    "       [1., 1., 1., 1.],\n",
    "       [1., 1., 1., 1.],\n",
    "       [1., 1., 1., 1.]])\n",
    "\n",
    "transform to this array:\n",
    "array([[0., 0., 0., 0., 0., 0.],\n",
    "       [0., 1., 1., 1., 1., 0.],\n",
    "       [0., 1., 1., 1., 1., 0.],\n",
    "       [0., 1., 1., 1., 1., 0.],\n",
    "       [0., 1., 1., 1., 1., 0.],\n",
    "       [0., 0., 0., 0., 0., 0.]])"
   ]
  },
  {
   "cell_type": "code",
   "execution_count": 8,
   "metadata": {},
   "outputs": [
    {
     "name": "stdout",
     "output_type": "stream",
     "text": [
      "[[0. 0. 0. 0. 0. 0.]\n",
      " [0. 1. 1. 1. 1. 0.]\n",
      " [0. 1. 1. 1. 1. 0.]\n",
      " [0. 1. 1. 1. 1. 0.]\n",
      " [0. 1. 1. 1. 1. 0.]\n",
      " [0. 0. 0. 0. 0. 0.]]\n"
     ]
    },
    {
     "data": {
      "text/plain": [
       "\"\\n    Explanation\\n    In this code, we first create a 4x4 array of ones using np.ones((4, 4)). Then, we use np.pad to add a border of zeros around the array. The ((1, 1), (1, 1)) parameter specifies the amount of padding to add on each side of the array. The mode='constant' parameter ensures that zeros are used for padding. The resulting array transformed_arr has the desired transformation, where the original array is padded with zeros on all sides.\\n\""
      ]
     },
     "execution_count": 8,
     "metadata": {},
     "output_type": "execute_result"
    }
   ],
   "source": [
    "import numpy as np\n",
    "\n",
    "arr = np.ones((4, 4))\n",
    "transformed_arr = np.pad(arr, ((1, 1), (1, 1)), mode='constant')\n",
    "\n",
    "print(transformed_arr)\n",
    "\n",
    "'''\n",
    "    Explanation\n",
    "    In this code, we first create a 4x4 array of ones using np.ones((4, 4)). Then, we use np.pad to add a border of zeros around the array. The ((1, 1), (1, 1)) parameter specifies the amount of padding to add on each side of the array. The mode='constant' parameter ensures that zeros are used for padding. The resulting array transformed_arr has the desired transformation, where the original array is padded with zeros on all sides.\n",
    "'''"
   ]
  }
 ],
 "metadata": {
  "kernelspec": {
   "display_name": "Python 3",
   "language": "python",
   "name": "python3"
  },
  "language_info": {
   "codemirror_mode": {
    "name": "ipython",
    "version": 3
   },
   "file_extension": ".py",
   "mimetype": "text/x-python",
   "name": "python",
   "nbconvert_exporter": "python",
   "pygments_lexer": "ipython3",
   "version": "3.9.6"
  },
  "orig_nbformat": 4
 },
 "nbformat": 4,
 "nbformat_minor": 2
}
