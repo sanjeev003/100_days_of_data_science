{
 "cells": [
  {
   "cell_type": "markdown",
   "metadata": {},
   "source": [
    "# Day 97 - classification & MultinomialNB"
   ]
  },
  {
   "cell_type": "markdown",
   "metadata": {},
   "source": [
    "1. Two files are attached to this exercise: <br>\n",
    "<br>\n",
    "data_train(97).csv <br>\n",
    "target_train(97).csv <br>\n",
    "<br>\n",
    "The data_train.csv file contains e-mails from two categories: computer graphics (comp.graphics) and space (sci.space). The target_train.csv file contains the labels (0 - comp.graphics, 1 - sci.space). These files was loaded to the following DataFrames: <br>\n",
    "<br>\n",
    "data_train <br>\n",
    "target_train <br>\n",
    "<br>\n",
    "Some processing of data_train and target_train was performed. The CountVectorizer class from the scikit-learn package was used to vectorize the text (data_train_vectorized variable). <br>\n",
    "Using the MultinomialNB class create a text document classification model. Train the model based on the data_train_vectorized and target_train data. <br>\n",
    "Then classify the following sentences:<br>\n",
    "'The graphic designer requires a good processor to work.'<br>\n",
    "'Flights into space.' <br>\n",
    "In response, print the result to the console as shown below. <br>\n",
    "Expected result: <br>\n",
    "<br>\n",
    "'The graphic designer requires a good processor to work' => comp.graphics <br>\n",
    "'Flights into space' => sci.space"
   ]
  },
  {
   "cell_type": "code",
   "execution_count": 1,
   "metadata": {},
   "outputs": [
    {
     "name": "stdout",
     "output_type": "stream",
     "text": [
      "'The graphic designer requires a good processor to work' => comp.graphics\n",
      "'Flights into space' => sci.space\n"
     ]
    }
   ],
   "source": [
    "import numpy as np\n",
    "import pandas as pd\n",
    "from sklearn.feature_extraction.text import CountVectorizer\n",
    "from sklearn.naive_bayes import MultinomialNB\n",
    " \n",
    " \n",
    "data_train = pd.read_csv('data_train(97).csv')\n",
    "target_train = pd.read_csv('target_train(97).csv')\n",
    " \n",
    "categories = ['comp.graphics', 'sci.space']\n",
    " \n",
    "data_train = data_train['text'].tolist()\n",
    "target_train = target_train.values.ravel()\n",
    " \n",
    "vectorizer = CountVectorizer()\n",
    "data_train_vectorized = vectorizer.fit_transform(data_train)\n",
    " \n",
    "classifier = MultinomialNB()\n",
    "classifier.fit(data_train_vectorized, target_train)\n",
    " \n",
    "docs = [\n",
    "    'The graphic designer requires a good processor to work',\n",
    "    'Flights into space',\n",
    "]\n",
    "data_new = vectorizer.transform(docs)\n",
    " \n",
    "data_pred = classifier.predict(data_new)\n",
    " \n",
    "for doc, category in zip(docs, data_pred):\n",
    "    print(f'\\'{doc}\\' => {categories[category]}')"
   ]
  },
  {
   "cell_type": "markdown",
   "metadata": {},
   "source": [
    "2. Two files are attached to this exercise: <br>\n",
    "<br>\n",
    "data_train.csv <br>\n",
    "target_train.csv <br>\n",
    "<br>\n",
    "The data_train.csv file contains e-mails from two categories: computer graphics (comp.graphics) and space (sci.space). The target_train.csv file contains the labels (0 - comp.graphics, 1 - sci.space). These files was loaded to the following DataFrames: <br>\n",
    "<br>\n",
    "data_train <br>\n",
    "target_train <br>\n",
    "<br>\n",
    "Some processing of data_train and target_trian was performed. Using the TfidfVectorizer class from the scikit-learn package, vectorize the text from the data_train list and assign it to the data_train_vectorized variable. In response, print the shape of the sparse matrix obtained in this way to the console.<br>\n",
    "<br>\n",
    "Expected result: <br>\n",
    "(50, 3225)"
   ]
  },
  {
   "cell_type": "code",
   "execution_count": 3,
   "metadata": {},
   "outputs": [
    {
     "name": "stdout",
     "output_type": "stream",
     "text": [
      "(50, 3225)\n"
     ]
    }
   ],
   "source": [
    "import numpy as np\n",
    "import pandas as pd\n",
    "from sklearn.feature_extraction.text import TfidfVectorizer\n",
    " \n",
    " \n",
    "data_train = pd.read_csv('data_train(97).csv')\n",
    "target_train = pd.read_csv('target_train(97).csv')\n",
    " \n",
    "categories = ['comp.graphics', 'sci.space']\n",
    " \n",
    "data_train = data_train['text'].tolist()\n",
    "target_train = target_train.values.ravel()\n",
    " \n",
    "vectorizer = TfidfVectorizer()\n",
    "data_train_vectorized = vectorizer.fit_transform(data_train)\n",
    "print(data_train_vectorized.shape)"
   ]
  }
 ],
 "metadata": {
  "kernelspec": {
   "display_name": "Python 3",
   "language": "python",
   "name": "python3"
  },
  "language_info": {
   "codemirror_mode": {
    "name": "ipython",
    "version": 3
   },
   "file_extension": ".py",
   "mimetype": "text/x-python",
   "name": "python",
   "nbconvert_exporter": "python",
   "pygments_lexer": "ipython3",
   "version": "3.9.6"
  },
  "orig_nbformat": 4
 },
 "nbformat": 4,
 "nbformat_minor": 2
}
