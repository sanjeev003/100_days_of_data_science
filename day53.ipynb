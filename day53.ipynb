{
 "cells": [
  {
   "cell_type": "markdown",
   "metadata": {},
   "source": [
    "# Day 53 - data preprocessing"
   ]
  },
  {
   "cell_type": "markdown",
   "metadata": {},
   "source": [
    "1. The df DataFrame is given below. Find the distribution of the owner_type column and print to the console."
   ]
  },
  {
   "cell_type": "code",
   "execution_count": 1,
   "metadata": {},
   "outputs": [
    {
     "name": "stdout",
     "output_type": "stream",
     "text": [
      "First             4929\n",
      "Second             968\n",
      "Third              113\n",
      "Fourth & Above       9\n",
      "Name: owner_type, dtype: int64\n"
     ]
    }
   ],
   "source": [
    "import pandas as pd\n",
    " \n",
    "url = ( 'https://storage.googleapis.com/esmartdata-courses-files/dash-course/data.csv' )\n",
    "df = pd.read_csv(url, index_col=0)\n",
    "df.columns = [col.lower() for col in df.columns]\n",
    "print(df['owner_type'].value_counts())"
   ]
  },
  {
   "cell_type": "markdown",
   "metadata": {},
   "source": [
    "2. The df DataFrame is given below. Look at the distribution of the engine column. Note that the type of this column is set to object. Remove the last three characters from each element in this column and convert this column to int type.\n",
    "In response, print the first five rows using the pd.DataFrame.head() and print() function for two columns: \n",
    "\n",
    "name\n",
    "engine"
   ]
  },
  {
   "cell_type": "code",
   "execution_count": 2,
   "metadata": {},
   "outputs": [
    {
     "name": "stdout",
     "output_type": "stream",
     "text": [
      "                                 name  engine\n",
      "2                        Honda Jazz V    1199\n",
      "7   Toyota Innova Crysta 2.8 GX AT 8S    2755\n",
      "10                   Maruti Ciaz Zeta    1462\n",
      "15        Mitsubishi Pajero Sport 4X4    2477\n",
      "20                  BMW 3 Series 320d    1995\n"
     ]
    }
   ],
   "source": [
    "import pandas as pd\n",
    " \n",
    "url = ( 'https://storage.googleapis.com/esmartdata-courses-files/dash-course/data.csv' )\n",
    "df = pd.read_csv(url, index_col=0)\n",
    "df.columns = [col.lower() for col in df.columns]\n",
    "df.dropna(inplace=True)\n",
    "df['engine'] = df['engine'].map(lambda x: int(x[:-3]))\n",
    "print(df[['name', 'engine']].head())"
   ]
  },
  {
   "cell_type": "markdown",
   "metadata": {},
   "source": [
    "3. The df DataFrame is given below. Look at the distribution of the power column. Note that this column also has missing values as a 'null bhp'. Replace these values with np.nan. Use the np.where() function for this.\n",
    "In response, print the distribution of the power column to the console (only the top five most common values)."
   ]
  },
  {
   "cell_type": "code",
   "execution_count": 3,
   "metadata": {},
   "outputs": [
    {
     "name": "stdout",
     "output_type": "stream",
     "text": [
      "74 bhp      235\n",
      "98.6 bhp    131\n",
      "73.9 bhp    125\n",
      "140 bhp     123\n",
      "78.9 bhp    111\n",
      "Name: power, dtype: int64\n"
     ]
    }
   ],
   "source": [
    "import numpy as np\n",
    "import pandas as pd\n",
    " \n",
    "url = ( 'https://storage.googleapis.com/esmartdata-courses-files/dash-course/data.csv' )\n",
    "df = pd.read_csv(url, index_col=0)\n",
    "df.columns = [col.lower() for col in df.columns]\n",
    "df['power'] = np.where(df['power'] == 'null bhp', np.nan, df['power'])\n",
    "print(df['power'].value_counts()[:5])"
   ]
  }
 ],
 "metadata": {
  "kernelspec": {
   "display_name": "Python 3",
   "language": "python",
   "name": "python3"
  },
  "language_info": {
   "codemirror_mode": {
    "name": "ipython",
    "version": 3
   },
   "file_extension": ".py",
   "mimetype": "text/x-python",
   "name": "python",
   "nbconvert_exporter": "python",
   "pygments_lexer": "ipython3",
   "version": "3.9.6"
  },
  "orig_nbformat": 4
 },
 "nbformat": 4,
 "nbformat_minor": 2
}
