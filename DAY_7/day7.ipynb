{
 "cells": [
  {
   "attachments": {},
   "cell_type": "markdown",
   "metadata": {},
   "source": [
    "ONE WEEK 🥲🥲🥲\n",
    "\n",
    "1. The np.diag() function in NumPy is used to create a square matrix with the given input array as its diagonal, and all other elements set to zero. It can also extract the diagonal elements from a given matrix.\n",
    "Here are a few examples to demonstrate the usage of np.diag() -->\n",
    "\n",
    "import numpy as np\n",
    "arr = np.array([1, 2, 3])  \n",
    "diagonal_matrix = np.diag(arr)\n",
    "print(diagonal_matrix)\n",
    "\n",
    "[[1 0 0]\n",
    " [0 2 0]\n",
    " [0 0 3]]\n",
    "\n",
    "\n",
    "import numpy as np\n",
    "matrix = np.array([[1, 2, 3],\n",
    "                   [4, 5, 6],\n",
    "                   [7, 8, 9]])\n",
    "\n",
    "diagonal_elements = np.diag(matrix)\n",
    "print(diagonal_elements)\n",
    "\n",
    "[1 5 9]\n",
    "\n",
    "                                        ******************\n",
    "\n",
    "2. The np.save() function in NumPy is used to save an array or multiple arrays to a binary file with the extension \".npy\". This function allows you to store the array data in a format that can be easily loaded and used later.\n",
    "Here's an example to demonstrate the usage of np.save() -->\n",
    "\n",
    "import numpy as np\n",
    "arr = np.array([1, 2, 3, 4, 5])  \n",
    "np.save('array_data.npy', arr)\n",
    "\n",
    "In this example, the np.save() function is used to save the array arr to a file named \"array_data.npy\". The file will be created in the current directory. The array data is stored in a binary format optimized for efficient loading and saving.\n",
    "To load the saved array back into memory, you can use the np.load() function -->\n",
    "\n",
    "loaded_arr = np.load('array_data.npy')\n",
    "print(loaded_arr)\n",
    "\n",
    "[1 2 3 4 5]\n",
    "\n",
    "                                        ******************\n",
    "\n",
    "3. The np.savetxt() and np.loadtxt() functions in NumPy are used to save and load arrays as text files, respectively.\n",
    "\n",
    "np.savetxt(): This function is used to save an array to a text file. It offers flexible options for formatting and customization of the saved data.\n",
    "Here's an example of using np.savetxt() to save a NumPy array as a text file -->\n",
    "\n",
    "import numpy as np\n",
    "arr = np.array([[1, 2, 3], [4, 5, 6]])\n",
    "np.savetxt('array_data.txt', arr, delimiter=',')\n",
    "\n",
    "In this example, the np.savetxt() function saves the array arr to a text file named \"array_data.txt\". The delimiter=',' parameter specifies that the values in the file should be separated by commas. By default, the data is saved with a floating-point format.\n",
    "The resulting \"array_data.txt\" file would contain the following contents -->\n",
    "\n",
    "1.000000000000000000e+00, 2.000000000000000000e+00, 3.000000000000000000e+00\n",
    "4.000000000000000000e+00, 5.000000000000000000e+00, 6.000000000000000000e+00\n",
    "\n",
    "You can customize the format of the saved data using the fmt parameter of np.savetxt(). For example, to save the data as integers, you can use fmt='%d':\n",
    "\n",
    "np.savetxt('array_data.txt', arr, delimiter=',', fmt='%d')\n",
    "The resulting \"array_data.txt\" file would contain the following contents -->\n",
    "\n",
    "1, 2, 3\n",
    "4, 5, 6\n",
    "\n",
    "np.loadtxt(): This function is used to load data from a text file into a NumPy array.\n",
    "Here's an example of using np.loadtxt() to load data from a text file -->\n",
    "\n",
    "import numpy as np\n",
    "loaded_arr = np.loadtxt('array_data.txt', delimiter=',')\n",
    "print(loaded_arr)\n",
    "\n",
    "In this example, the np.loadtxt() function reads the contents of the \"array_data.txt\" file and returns the data as a NumPy array. The delimiter=',' parameter specifies that the values in the file are separated by commas.\n",
    "\n",
    "[[1. 2. 3.] [4. 5. 6.]]\n",
    "By default, np.loadtxt() assumes that the data in the file is in a floating-point format. If the data in the file is in a different format, you can specify the data type using the dtype parameter."
   ]
  },
  {
   "attachments": {},
   "cell_type": "markdown",
   "metadata": {},
   "source": [
    "1. Using Numpy create the following two-dimensional array:\n",
    "[[0 0 0 0 0 0]\n",
    " [0 1 0 0 0 0]\n",
    " [0 0 2 0 0 0]\n",
    " [0 0 0 3 0 0]\n",
    " [0 0 0 0 4 0]\n",
    " [0 0 0 0 0 5]]"
   ]
  },
  {
   "cell_type": "code",
   "execution_count": 2,
   "metadata": {},
   "outputs": [
    {
     "name": "stdout",
     "output_type": "stream",
     "text": [
      "[[0 0 0 0 0 0]\n",
      " [0 1 0 0 0 0]\n",
      " [0 0 2 0 0 0]\n",
      " [0 0 0 3 0 0]\n",
      " [0 0 0 0 4 0]\n",
      " [0 0 0 0 0 5]]\n"
     ]
    }
   ],
   "source": [
    "import numpy as np\n",
    "\n",
    "sanj = np.array([0,1,2,3,4,5])\n",
    "san = np.diag(sanj)\n",
    "print(san)\n",
    "\n",
    "# or you can simply write it as --> print(np.diag(np.arange(6)))"
   ]
  },
  {
   "attachments": {},
   "cell_type": "markdown",
   "metadata": {},
   "source": [
    "2. Using Numpy create the following array:\n",
    "\n",
    "array([[ 0,  1,  2,  3],\n",
    "       [ 4,  5,  6,  7],\n",
    "       [ 8,  9, 10, 11]])"
   ]
  },
  {
   "cell_type": "code",
   "execution_count": 5,
   "metadata": {},
   "outputs": [
    {
     "name": "stdout",
     "output_type": "stream",
     "text": [
      "[[ 0  1  2  3]\n",
      " [ 4  5  6  7]\n",
      " [ 8  9 10 11]]\n"
     ]
    }
   ],
   "source": [
    "import numpy as np\n",
    "arr = np.array([[ 0,  1,  2,  3],\n",
    "                [ 4,  5,  6,  7],\n",
    "                [ 8,  9, 10, 11]])\n",
    "np.save('arr_data.npy' , arr)\n",
    "\n",
    "\n",
    "loaded_arr = np.load('arr_data.npy')\n",
    "print(loaded_arr)"
   ]
  },
  {
   "attachments": {},
   "cell_type": "markdown",
   "metadata": {},
   "source": [
    "3. Using Numpy create the following array:\n",
    "\n",
    "array([[ 0,  1,  2,  3],\n",
    "       [ 4,  5,  6,  7],\n",
    "       [ 8,  9, 10, 11]])\n",
    "\n",
    "Save this array to a text file named 'array.txt' with two decimal places and then load this file back into another variable. Print this variable to the console."
   ]
  },
  {
   "cell_type": "code",
   "execution_count": 6,
   "metadata": {},
   "outputs": [
    {
     "name": "stdout",
     "output_type": "stream",
     "text": [
      "[[ 0.  1.  2.  3.]\n",
      " [ 4.  5.  6.  7.]\n",
      " [ 8.  9. 10. 11.]]\n"
     ]
    }
   ],
   "source": [
    "import numpy as np\n",
    "\n",
    "arr = np.array([[0, 1, 2, 3],\n",
    "                [4, 5, 6, 7],\n",
    "                [8, 9, 10, 11]])\n",
    "\n",
    "np.savetxt('array.txt', arr, fmt='%.2f')\n",
    "\n",
    "loaded_arr = np.loadtxt('array.txt')\n",
    "print(loaded_arr)"
   ]
  }
 ],
 "metadata": {
  "kernelspec": {
   "display_name": "Python 3",
   "language": "python",
   "name": "python3"
  },
  "language_info": {
   "codemirror_mode": {
    "name": "ipython",
    "version": 3
   },
   "file_extension": ".py",
   "mimetype": "text/x-python",
   "name": "python",
   "nbconvert_exporter": "python",
   "pygments_lexer": "ipython3",
   "version": "3.9.6"
  },
  "orig_nbformat": 4
 },
 "nbformat": 4,
 "nbformat_minor": 2
}
