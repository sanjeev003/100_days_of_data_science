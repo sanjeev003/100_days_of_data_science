{
 "cells": [
  {
   "cell_type": "markdown",
   "metadata": {},
   "source": [
    "# Day 75 - imputing missing values"
   ]
  },
  {
   "cell_type": "markdown",
   "metadata": {},
   "source": [
    "1. The following df DataFrame is given:\n",
    "\n",
    "  size  color  gender  price  weight bought\n",
    "0   XL    red  female  199.0   500.0    yes\n",
    "1    L  green    male   89.0   450.0     no\n",
    "2    M   blue     NaN    NaN   300.0    yes\n",
    "3  NaN  green  female  129.0     NaN     no\n",
    "4    M    red  female   79.0   410.0    yes\n",
    "5    M  green    male   89.0     NaN     no\n",
    "\n",
    "Using the scikit-learn package and the SimpleImputer class, fill in the missing data for the price column with a constant value = 99.0.\n",
    "Assign changes to the df DataFrame. In response, print the df DataFrame to the console as shown below."
   ]
  },
  {
   "cell_type": "code",
   "execution_count": 1,
   "metadata": {},
   "outputs": [
    {
     "name": "stdout",
     "output_type": "stream",
     "text": [
      "  size  color  gender  price  weight bought\n",
      "0   XL    red  female  199.0   500.0    yes\n",
      "1    L  green    male   89.0   450.0     no\n",
      "2    M   blue     NaN   99.0   300.0    yes\n",
      "3  NaN  green  female  129.0     NaN     no\n",
      "4    M    red  female   79.0   410.0    yes\n",
      "5    M  green    male   89.0     NaN     no\n"
     ]
    }
   ],
   "source": [
    "import numpy as np\n",
    "import pandas as pd\n",
    "from sklearn.impute import SimpleImputer\n",
    " \n",
    "data = {\n",
    "    'size': ['XL', 'L', 'M', np.nan, 'M', 'M'],\n",
    "    'color': ['red', 'green', 'blue', 'green', 'red', 'green'],\n",
    "    'gender': ['female', 'male', np.nan, 'female', 'female', 'male'],\n",
    "    'price': [199.0, 89.0, np.nan, 129.0, 79.0, 89.0],\n",
    "    'weight': [500, 450, 300, np.nan, 410, np.nan],\n",
    "    'bought': ['yes', 'no', 'yes', 'no', 'yes', 'no'],\n",
    "}\n",
    " \n",
    "df = pd.DataFrame(data=data)\n",
    "imputer = SimpleImputer(\n",
    "    missing_values=np.nan, strategy='constant', fill_value=99.0\n",
    ")\n",
    "df[['price']] = imputer.fit_transform(df[['price']])\n",
    "print(df)"
   ]
  },
  {
   "cell_type": "markdown",
   "metadata": {},
   "source": [
    "2. The following df DataFrame is given:\n",
    "\n",
    "  size  color  gender  price  weight bought\n",
    "0   XL    red  female  199.0   500.0    yes\n",
    "1    L  green    male   89.0   450.0     no\n",
    "2    M   blue     NaN    NaN   300.0    yes\n",
    "3  NaN  green  female  129.0     NaN     no\n",
    "4    M    red  female   79.0   410.0    yes\n",
    "5    M  green    male   89.0     NaN     no\n",
    "\n",
    "Using the scikit-learn package and the SimpleImputer class, fill in the missing values for the size column with the most frequent value of this column.\n",
    "Assign changes to the df DataFrame. In response, print the df DataFrame to the console as shown below."
   ]
  },
  {
   "cell_type": "code",
   "execution_count": 2,
   "metadata": {},
   "outputs": [
    {
     "name": "stdout",
     "output_type": "stream",
     "text": [
      "  size  color  gender  price  weight bought\n",
      "0   XL    red  female  199.0   500.0    yes\n",
      "1    L  green    male   89.0   450.0     no\n",
      "2    M   blue     NaN    NaN   300.0    yes\n",
      "3    M  green  female  129.0     NaN     no\n",
      "4    M    red  female   79.0   410.0    yes\n",
      "5    M  green    male   89.0     NaN     no\n"
     ]
    }
   ],
   "source": [
    "import numpy as np\n",
    "import pandas as pd\n",
    "from sklearn.impute import SimpleImputer\n",
    " \n",
    "data = {\n",
    "    'size': ['XL', 'L', 'M', np.nan, 'M', 'M'],\n",
    "    'color': ['red', 'green', 'blue', 'green', 'red', 'green'],\n",
    "    'gender': ['female', 'male', np.nan, 'female', 'female', 'male'],\n",
    "    'price': [199.0, 89.0, np.nan, 129.0, 79.0, 89.0],\n",
    "    'weight': [500, 450, 300, np.nan, 410, np.nan],\n",
    "    'bought': ['yes', 'no', 'yes', 'no', 'yes', 'no']\n",
    "}\n",
    " \n",
    "df = pd.DataFrame(data=data)\n",
    "imputer = SimpleImputer(missing_values=np.nan, strategy='most_frequent')\n",
    "df[['size']] = imputer.fit_transform(df[['size']])\n",
    "print(df)"
   ]
  },
  {
   "cell_type": "markdown",
   "metadata": {},
   "source": [
    "3. The following df DataFrame is given:\n",
    "\n",
    "  size  color  gender  price  weight bought\n",
    "0   XL    red  female  199.0   500.0    yes\n",
    "1    L  green    male   89.0   450.0     no\n",
    "2    M   blue     NaN    NaN   300.0    yes\n",
    "3  NaN  green  female  129.0     NaN     no\n",
    "4    M    red  female   79.0   410.0    yes\n",
    "5    M  green    male   89.0     NaN     no\n",
    "\n",
    "Extract all rows of the df that don't have the value np.nan in column weight. Using this rows calculate the average value for all numeric columns and print result to the console."
   ]
  },
  {
   "cell_type": "code",
   "execution_count": 3,
   "metadata": {},
   "outputs": [
    {
     "name": "stdout",
     "output_type": "stream",
     "text": [
      "price     122.333333\n",
      "weight    415.000000\n",
      "dtype: float64\n"
     ]
    },
    {
     "name": "stderr",
     "output_type": "stream",
     "text": [
      "C:\\Users\\JAI GANESH\\AppData\\Local\\Temp\\ipykernel_6412\\3204046381.py:14: FutureWarning: The default value of numeric_only in DataFrame.mean is deprecated. In a future version, it will default to False. In addition, specifying 'numeric_only=None' is deprecated. Select only valid columns or specify the value of numeric_only to silence this warning.\n",
      "  print(df[~df['weight'].isnull()].mean())\n"
     ]
    }
   ],
   "source": [
    "import numpy as np\n",
    "import pandas as pd\n",
    " \n",
    "data = {\n",
    "    'size': ['XL', 'L', 'M', np.nan, 'M', 'M'],\n",
    "    'color': ['red', 'green', 'blue', 'green', 'red', 'green'],\n",
    "    'gender': ['female', 'male', np.nan, 'female', 'female', 'male'],\n",
    "    'price': [199.0, 89.0, np.nan, 129.0, 79.0, 89.0],\n",
    "    'weight': [500, 450, 300, np.nan, 410, np.nan],\n",
    "    'bought': ['yes', 'no', 'yes', 'no', 'yes', 'no']\n",
    "}\n",
    " \n",
    "df = pd.DataFrame(data=data)\n",
    "print(df[~df['weight'].isnull()].mean())"
   ]
  }
 ],
 "metadata": {
  "kernelspec": {
   "display_name": "Python 3",
   "language": "python",
   "name": "python3"
  },
  "language_info": {
   "codemirror_mode": {
    "name": "ipython",
    "version": 3
   },
   "file_extension": ".py",
   "mimetype": "text/x-python",
   "name": "python",
   "nbconvert_exporter": "python",
   "pygments_lexer": "ipython3",
   "version": "3.9.6"
  },
  "orig_nbformat": 4
 },
 "nbformat": 4,
 "nbformat_minor": 2
}
