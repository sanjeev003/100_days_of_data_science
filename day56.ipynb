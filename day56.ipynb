{
 "cells": [
  {
   "cell_type": "markdown",
   "metadata": {},
   "source": [
    "# Day 56 - data preprocessing"
   ]
  },
  {
   "cell_type": "markdown",
   "metadata": {},
   "source": [
    "1. The df DataFrame is given below. Extract time (in hours) from the timestamp column and assign to the new column 'hour'. Print the first five rows of this DataFrame to the console."
   ]
  },
  {
   "cell_type": "code",
   "execution_count": 2,
   "metadata": {},
   "outputs": [
    {
     "name": "stdout",
     "output_type": "stream",
     "text": [
      "            timestamp  cnt   t1   t2    hum  wind_speed  weather_code  \\\n",
      "0 2015-01-04 00:00:00  182  3.0  2.0   93.0         6.0           3.0   \n",
      "1 2015-01-04 01:00:00  138  3.0  2.5   93.0         5.0           1.0   \n",
      "2 2015-01-04 02:00:00  134  2.5  2.5   96.5         0.0           1.0   \n",
      "3 2015-01-04 03:00:00   72  2.0  2.0  100.0         0.0           1.0   \n",
      "4 2015-01-04 04:00:00   47  2.0  0.0   93.0         6.5           1.0   \n",
      "\n",
      "   is_holiday  is_weekend  season  hour  \n",
      "0         0.0         1.0     3.0     0  \n",
      "1         0.0         1.0     3.0     1  \n",
      "2         0.0         1.0     3.0     2  \n",
      "3         0.0         1.0     3.0     3  \n",
      "4         0.0         1.0     3.0     4  \n"
     ]
    }
   ],
   "source": [
    "import pandas as pd \n",
    " \n",
    "url = ( 'https://storage.googleapis.com/esmartdata-courses-files/ds-bootcamp/london_bike.csv' )\n",
    "df = pd.read_csv(url)\n",
    "df['timestamp'] = pd.to_datetime(df['timestamp'])\n",
    "df['hour'] = df['timestamp'].dt.hour\n",
    "print(df.head())"
   ]
  },
  {
   "cell_type": "markdown",
   "metadata": {},
   "source": [
    "2. The df DataFrame is given below. Extract month from the timestamp column and assign to the new column 'month'. Print the first five rows of this DataFrame to the console."
   ]
  },
  {
   "cell_type": "code",
   "execution_count": 3,
   "metadata": {},
   "outputs": [
    {
     "name": "stdout",
     "output_type": "stream",
     "text": [
      "            timestamp  cnt   t1   t2    hum  wind_speed  weather_code  \\\n",
      "0 2015-01-04 00:00:00  182  3.0  2.0   93.0         6.0           3.0   \n",
      "1 2015-01-04 01:00:00  138  3.0  2.5   93.0         5.0           1.0   \n",
      "2 2015-01-04 02:00:00  134  2.5  2.5   96.5         0.0           1.0   \n",
      "3 2015-01-04 03:00:00   72  2.0  2.0  100.0         0.0           1.0   \n",
      "4 2015-01-04 04:00:00   47  2.0  0.0   93.0         6.5           1.0   \n",
      "\n",
      "   is_holiday  is_weekend  season  hour  month  \n",
      "0         0.0         1.0     3.0     0      1  \n",
      "1         0.0         1.0     3.0     1      1  \n",
      "2         0.0         1.0     3.0     2      1  \n",
      "3         0.0         1.0     3.0     3      1  \n",
      "4         0.0         1.0     3.0     4      1  \n"
     ]
    }
   ],
   "source": [
    "import pandas as pd\n",
    " \n",
    "url = ( 'https://storage.googleapis.com/esmartdata-courses-files/ds-bootcamp/london_bike.csv' )\n",
    "df = pd.read_csv(url)\n",
    "df['timestamp'] = pd.to_datetime(df['timestamp'])\n",
    "df['hour'] = df['timestamp'].dt.hour\n",
    "df['month'] = df['timestamp'].dt.month\n",
    "print(df.head())"
   ]
  },
  {
   "cell_type": "markdown",
   "metadata": {},
   "source": [
    "3. The df DataFrame is given below. Group this DataFrame by month and calculate the average value for the hum column. Assign the result to humidity_by_month variable and reset the index.\n",
    "In response, print humidity_by_month DataFrame to the console as shown below."
   ]
  },
  {
   "cell_type": "code",
   "execution_count": 4,
   "metadata": {},
   "outputs": [
    {
     "name": "stdout",
     "output_type": "stream",
     "text": [
      "    month        hum\n",
      "0       1  77.543376\n",
      "1       2  74.905813\n",
      "2       3  71.903781\n",
      "3       4  67.532337\n",
      "4       5  66.367272\n",
      "5       6  68.945148\n",
      "6       7  64.383525\n",
      "7       8  67.289420\n",
      "8       9  71.753228\n",
      "9      10  77.639621\n",
      "10     11  78.732517\n",
      "11     12  81.032345\n"
     ]
    }
   ],
   "source": [
    "import pandas as pd\n",
    " \n",
    "url = ( 'https://storage.googleapis.com/esmartdata-courses-files/ds-bootcamp/london_bike.csv' )\n",
    "df = pd.read_csv(url)\n",
    "df['timestamp'] = pd.to_datetime(df['timestamp'])\n",
    "df['month'] = df['timestamp'].dt.month\n",
    "humidity_by_month = df.groupby('month')['hum'].mean().reset_index()\n",
    "print(humidity_by_month)"
   ]
  }
 ],
 "metadata": {
  "kernelspec": {
   "display_name": "Python 3",
   "language": "python",
   "name": "python3"
  },
  "language_info": {
   "codemirror_mode": {
    "name": "ipython",
    "version": 3
   },
   "file_extension": ".py",
   "mimetype": "text/x-python",
   "name": "python",
   "nbconvert_exporter": "python",
   "pygments_lexer": "ipython3",
   "version": "3.9.6"
  },
  "orig_nbformat": 4
 },
 "nbformat": 4,
 "nbformat_minor": 2
}
