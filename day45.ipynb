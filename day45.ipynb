{
 "cells": [
  {
   "attachments": {},
   "cell_type": "markdown",
   "metadata": {},
   "source": [
    "# Day 45 - mapping & clipping"
   ]
  },
  {
   "attachments": {},
   "cell_type": "markdown",
   "metadata": {},
   "source": [
    "1. The df DataFrame is given below. Assign a new column named 'col3', which will store 1 when the value in the column col2 is non-negative and -1 opposite.\n",
    "In response. print DataFrame to the console."
   ]
  },
  {
   "cell_type": "code",
   "execution_count": 1,
   "metadata": {},
   "outputs": [
    {
     "name": "stdout",
     "output_type": "stream",
     "text": [
      "        col1      col2  col3\n",
      "0   0.374540 -1.012831    -1\n",
      "1   0.950714  0.314247     1\n",
      "2   0.731994 -0.908024    -1\n",
      "3   0.598658 -1.412304    -1\n",
      "4   0.156019  1.465649     1\n",
      "5   0.155995 -0.225776    -1\n",
      "6   0.058084  0.067528     1\n",
      "7   0.866176 -1.424748    -1\n",
      "8   0.601115 -0.544383    -1\n",
      "9   0.708073  0.110923     1\n",
      "10  0.020584 -1.150994    -1\n",
      "11  0.969910  0.375698     1\n",
      "12  0.832443 -0.600639    -1\n",
      "13  0.212339 -0.291694    -1\n",
      "14  0.181825 -0.601707    -1\n",
      "15  0.183405  1.852278     1\n",
      "16  0.304242 -0.013497    -1\n",
      "17  0.524756 -1.057711    -1\n",
      "18  0.431945  0.822545     1\n",
      "19  0.291229 -1.220844    -1\n"
     ]
    }
   ],
   "source": [
    "import numpy as np\n",
    "import pandas as pd\n",
    " \n",
    "np.random.seed(42)\n",
    "s1 = pd.Series(np.random.rand(20))\n",
    "s2 = pd.Series(np.random.randn(20))\n",
    "df = pd.concat([s1, s2], axis=1)\n",
    "df.columns = ['col1', 'col2']\n",
    "df['col3'] = df['col2'].map(lambda x: 1 if x >= 0 else -1)\n",
    "print(df)"
   ]
  },
  {
   "attachments": {},
   "cell_type": "markdown",
   "metadata": {},
   "source": [
    "2. The df DataFrame is given below. Assign a new column 'col4', which will truncate the values from the column col2 to the range [−1.0, 1.0]. In other words, for values less than -1.0 set -1.0 and for values greater than 1.0 set 1.0.\n",
    "In response, print DataFrame to the console."
   ]
  },
  {
   "cell_type": "code",
   "execution_count": 2,
   "metadata": {},
   "outputs": [
    {
     "name": "stdout",
     "output_type": "stream",
     "text": [
      "        col1      col2  col3      col4\n",
      "0   0.374540 -1.012831    -1 -1.000000\n",
      "1   0.950714  0.314247     1  0.314247\n",
      "2   0.731994 -0.908024    -1 -0.908024\n",
      "3   0.598658 -1.412304    -1 -1.000000\n",
      "4   0.156019  1.465649     1  1.000000\n",
      "5   0.155995 -0.225776    -1 -0.225776\n",
      "6   0.058084  0.067528     1  0.067528\n",
      "7   0.866176 -1.424748    -1 -1.000000\n",
      "8   0.601115 -0.544383    -1 -0.544383\n",
      "9   0.708073  0.110923     1  0.110923\n",
      "10  0.020584 -1.150994    -1 -1.000000\n",
      "11  0.969910  0.375698     1  0.375698\n",
      "12  0.832443 -0.600639    -1 -0.600639\n",
      "13  0.212339 -0.291694    -1 -0.291694\n",
      "14  0.181825 -0.601707    -1 -0.601707\n",
      "15  0.183405  1.852278     1  1.000000\n",
      "16  0.304242 -0.013497    -1 -0.013497\n",
      "17  0.524756 -1.057711    -1 -1.000000\n",
      "18  0.431945  0.822545     1  0.822545\n",
      "19  0.291229 -1.220844    -1 -1.000000\n"
     ]
    }
   ],
   "source": [
    "import numpy as np\n",
    "import pandas as pd\n",
    "\n",
    "np.random.seed(42)\n",
    "s1 = pd.Series(np.random.rand(20))\n",
    "s2 = pd.Series(np.random.randn(20))\n",
    " \n",
    "df = pd.concat([s1, s2], axis=1)\n",
    "df.columns = ['col1', 'col2']\n",
    "df['col3'] = df['col2'].map(lambda x: 1 if x >= 0 else -1)\n",
    "df['col4'] = df['col2'].clip(-1.0, 1.0)\n",
    "print(df)"
   ]
  },
  {
   "attachments": {},
   "cell_type": "markdown",
   "metadata": {},
   "source": [
    "3.  The df DataFrame is given below. Print the five largest values for the col2. Then print blank line and print the five lowest values for the col2."
   ]
  },
  {
   "cell_type": "code",
   "execution_count": 3,
   "metadata": {},
   "outputs": [
    {
     "name": "stdout",
     "output_type": "stream",
     "text": [
      "15    1.852278\n",
      "4     1.465649\n",
      "18    0.822545\n",
      "11    0.375698\n",
      "1     0.314247\n",
      "Name: col2, dtype: float64\n",
      "\n",
      "7    -1.424748\n",
      "3    -1.412304\n",
      "19   -1.220844\n",
      "10   -1.150994\n",
      "17   -1.057711\n",
      "Name: col2, dtype: float64\n"
     ]
    }
   ],
   "source": [
    "import numpy as np\n",
    "import pandas as pd\n",
    " \n",
    "np.random.seed(42)\n",
    "s1 = pd.Series(np.random.rand(20))\n",
    "s2 = pd.Series(np.random.randn(20))\n",
    "df = pd.concat([s1, s2], axis=1)\n",
    "df.columns = ['col1', 'col2']\n",
    "print(df['col2'].nlargest(5))\n",
    "print()\n",
    "print(df['col2'].nsmallest(5))"
   ]
  }
 ],
 "metadata": {
  "kernelspec": {
   "display_name": "Python 3",
   "language": "python",
   "name": "python3"
  },
  "language_info": {
   "codemirror_mode": {
    "name": "ipython",
    "version": 3
   },
   "file_extension": ".py",
   "mimetype": "text/x-python",
   "name": "python",
   "nbconvert_exporter": "python",
   "pygments_lexer": "ipython3",
   "version": "3.9.6"
  },
  "orig_nbformat": 4
 },
 "nbformat": 4,
 "nbformat_minor": 2
}
