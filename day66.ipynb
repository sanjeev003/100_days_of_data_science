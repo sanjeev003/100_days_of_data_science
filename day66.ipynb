{
 "cells": [
  {
   "cell_type": "markdown",
   "metadata": {},
   "source": [
    "# Day 66 - JSON Files"
   ]
  },
  {
   "cell_type": "markdown",
   "metadata": {},
   "source": [
    "1. The df DataFrame is given below. The pct_change column has the object type. Convert this column to float type.\n",
    "In response, print this DataFrame to the console."
   ]
  },
  {
   "cell_type": "code",
   "execution_count": null,
   "metadata": {},
   "outputs": [],
   "source": [
    "import pandas as pd\n",
    "  \n",
    "pd.set_option('display.max_columns', 15)\n",
    "pd.set_option('display.width', 1000)\n",
    "df = pd.read_json('market.json')\n",
    "df['pct_change'] = df['pct_change'].apply(lambda item: float(item[1:-2]))\n",
    "print(df)"
   ]
  },
  {
   "cell_type": "markdown",
   "metadata": {},
   "source": [
    "2. The df DataFrame is given below.\n",
    "\n",
    "Perform the following steps:\n",
    "\n",
    "print to the console row with the highest pct_change\n",
    "\n",
    "print a blank line\n",
    "\n",
    "print to the console row with the lowest pct_change"
   ]
  },
  {
   "cell_type": "code",
   "execution_count": null,
   "metadata": {},
   "outputs": [],
   "source": [
    "import pandas as pd \n",
    " \n",
    "pd.set_option('display.max_columns', 15)\n",
    "pd.set_option('display.width', 1000)\n",
    "df = pd.read_json('market.json')\n",
    "df['pct_change'] = df['pct_change'].apply(lambda item: float(item[1:-2]))\n",
    "print(df.iloc[df['pct_change'].argmax()])\n",
    "print()\n",
    "print(df.iloc[df['pct_change'].argmin()])"
   ]
  },
  {
   "cell_type": "markdown",
   "metadata": {},
   "source": [
    "3. The df DataFrame is given below. Extract all rows of this object for which the pct_change column is greater than or equal to zero and save to 'positive.json' file. Do the same for the negative values and save to the 'negative.json' file."
   ]
  },
  {
   "cell_type": "code",
   "execution_count": null,
   "metadata": {},
   "outputs": [],
   "source": [
    "import pandas as pd\n",
    " \n",
    "pd.set_option('display.max_columns', 15)\n",
    "pd.set_option('display.width', 1000)\n",
    "df = pd.read_json('market.json')\n",
    "df['pct_change'] = df['pct_change'].apply(lambda item: float(item[1:-2]))\n",
    "df[df['pct_change'] >= 0].to_json('positive.json', indent=4)\n",
    "df[df['pct_change'] < 0].to_json('negative.json', indent=4)"
   ]
  }
 ],
 "metadata": {
  "kernelspec": {
   "display_name": "Python 3",
   "language": "python",
   "name": "python3"
  },
  "language_info": {
   "codemirror_mode": {
    "name": "ipython",
    "version": 3
   },
   "file_extension": ".py",
   "mimetype": "text/x-python",
   "name": "python",
   "nbconvert_exporter": "python",
   "pygments_lexer": "ipython3",
   "version": "3.9.6"
  },
  "orig_nbformat": 4
 },
 "nbformat": 4,
 "nbformat_minor": 2
}
