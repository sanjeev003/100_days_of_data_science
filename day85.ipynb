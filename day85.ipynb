{
 "cells": [
  {
   "cell_type": "markdown",
   "metadata": {},
   "source": [
    "# # Day 85 - metrics"
   ]
  },
  {
   "cell_type": "markdown",
   "metadata": {},
   "source": [
    "1. The predictions.csv file contains predictions for a certain regression model: <br>\n",
    "<br>\n",
    "y_true describes the actual, observed values <br>\n",
    "y_pred describes the values predicted by model <br>\n",
    "<br>\n",
    "Load this file into a DataFrame. Then implement a function called mean_absolute_error() that computes the mean absolute error."
   ]
  },
  {
   "cell_type": "code",
   "execution_count": 1,
   "metadata": {},
   "outputs": [
    {
     "name": "stdout",
     "output_type": "stream",
     "text": [
      "MAE = 6.7918\n"
     ]
    }
   ],
   "source": [
    "import numpy as np\n",
    "import pandas as pd\n",
    " \n",
    "predictions = pd.read_csv('predictions.csv')\n",
    " \n",
    "def mean_absolute_error(y_true, y_pred):\n",
    "    return abs(y_true - y_pred).sum() / len(y_true)\n",
    " \n",
    "mae = mean_absolute_error(predictions['y_true'], predictions['y_pred'])\n",
    "print(f'MAE = {mae:.4f}')"
   ]
  },
  {
   "cell_type": "markdown",
   "metadata": {},
   "source": [
    "2. The predictions.csv file contains predictions for a certain regression model: <br>\n",
    "<br>\n",
    "y_true variable describes the actual, observed values <br>\n",
    "y_pred variable describes the values provided by the model <br>\n",
    "<br>\n",
    "Load this file into a DataFrame. Then implement a function called mean_squared_error() that computes the mean squared error."
   ]
  },
  {
   "cell_type": "code",
   "execution_count": 2,
   "metadata": {},
   "outputs": [
    {
     "name": "stdout",
     "output_type": "stream",
     "text": [
      "MSE = 74.9471\n"
     ]
    }
   ],
   "source": [
    "import numpy as np\n",
    "import pandas as pd\n",
    " \n",
    " \n",
    "predictions = pd.read_csv('predictions.csv')\n",
    "def mean_squared_error(y_true, y_pred):\n",
    "    return ((y_true - y_pred) ** 2).sum() / len(y_true)\n",
    "mse = mean_squared_error(predictions['y_true'], predictions['y_pred'])\n",
    "print(f'MSE = {mse:.4f}')"
   ]
  },
  {
   "cell_type": "markdown",
   "metadata": {},
   "source": [
    "3. The following df DataFrame is given: <br>\n",
    "<br>\n",
    "       var1 <br>\n",
    "0  1.161966 <br>\n",
    "1  0.251008 <br>\n",
    "2  0.948663 <br>\n",
    "3 -0.141041 <br>\n",
    "4  0.978152 <br>\n",
    "5  0.496576 <br>\n",
    "6 -0.006001 <br>\n",
    "7 -0.350019 <br>\n",
    "8 -0.693200 <br>\n",
    "9 -2.422743 <br>\n",
    "<br>\n",
    "Implement the sigmoid() function using the numpy package. <br>\n",
    "Using the implemented function, calculate sigmoid values for the variable var1 and assign to the new column 'var1_sigmoid'."
   ]
  },
  {
   "cell_type": "code",
   "execution_count": 3,
   "metadata": {},
   "outputs": [
    {
     "name": "stdout",
     "output_type": "stream",
     "text": [
      "       var1  var1_sigmoid\n",
      "0  0.496714      0.621687\n",
      "1 -0.138264      0.465489\n",
      "2  0.647689      0.656489\n",
      "3  1.523030      0.820984\n",
      "4 -0.234153      0.441728\n",
      "5 -0.234137      0.441732\n",
      "6  1.579213      0.829093\n",
      "7  0.767435      0.682966\n",
      "8 -0.469474      0.384741\n",
      "9  0.542560      0.632408\n"
     ]
    }
   ],
   "source": [
    "import numpy as np\n",
    "import pandas as pd\n",
    " \n",
    " \n",
    "np.random.seed(42)\n",
    "df = pd.DataFrame(data=np.random.randn(10), columns=['var1'])\n",
    "def sigmoid(x):\n",
    "    return 1 / (1 + np.exp(-x)) \n",
    "df['var1_sigmoid'] = df['var1'].apply(sigmoid)\n",
    "print(df)"
   ]
  }
 ],
 "metadata": {
  "kernelspec": {
   "display_name": "Python 3",
   "language": "python",
   "name": "python3"
  },
  "language_info": {
   "codemirror_mode": {
    "name": "ipython",
    "version": 3
   },
   "file_extension": ".py",
   "mimetype": "text/x-python",
   "name": "python",
   "nbconvert_exporter": "python",
   "pygments_lexer": "ipython3",
   "version": "3.9.6"
  },
  "orig_nbformat": 4
 },
 "nbformat": 4,
 "nbformat_minor": 2
}
