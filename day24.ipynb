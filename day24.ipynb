{
 "cells": [
  {
   "attachments": {},
   "cell_type": "markdown",
   "metadata": {},
   "source": [
    "# Today is all about the Dates"
   ]
  },
  {
   "attachments": {},
   "cell_type": "markdown",
   "metadata": {},
   "source": [
    "1. Using the np.arange() function, generate the following array:\n",
    "\n",
    "[\n",
    "    '2021-01-01'\n",
    "    '2021-01-02'\n",
    "    '2021-01-03'\n",
    "    '2021-01-04'\n",
    "    '2021-01-05'\n",
    "    '2021-01-06'\n",
    "    '2021-01-07'\n",
    "    '2021-01-08'\n",
    "    '2021-01-09'\n",
    "    '2021-01-10'\n",
    "    '2021-01-11'\n",
    "    '2021-01-12'\n",
    "    '2021-01-13'\n",
    "    '2021-01-14'\n",
    "    '2021-01-15'\n",
    "    '2021-01-16'\n",
    "    '2021-01-17'\n",
    "    '2021-01-18'\n",
    "    '2021-01-19'\n",
    "    '2021-01-20'\n",
    "    '2021-01-21'\n",
    "    '2021-01-22'\n",
    "    '2021-01-23'\n",
    "    '2021-01-24'\n",
    "    '2021-01-25'\n",
    "    '2021-01-26'\n",
    "    '2021-01-27'\n",
    "    '2021-01-28'\n",
    "    '2021-01-29'\n",
    "    '2021-01-30'\n",
    "    '2021-01-31'\n",
    "]"
   ]
  },
  {
   "cell_type": "code",
   "execution_count": 1,
   "metadata": {},
   "outputs": [
    {
     "name": "stdout",
     "output_type": "stream",
     "text": [
      "['2021-01-01' '2021-01-02' '2021-01-03' '2021-01-04' '2021-01-05'\n",
      " '2021-01-06' '2021-01-07' '2021-01-08' '2021-01-09' '2021-01-10'\n",
      " '2021-01-11' '2021-01-12' '2021-01-13' '2021-01-14' '2021-01-15'\n",
      " '2021-01-16' '2021-01-17' '2021-01-18' '2021-01-19' '2021-01-20'\n",
      " '2021-01-21' '2021-01-22' '2021-01-23' '2021-01-24' '2021-01-25'\n",
      " '2021-01-26' '2021-01-27' '2021-01-28' '2021-01-29' '2021-01-30'\n",
      " '2021-01-31']\n"
     ]
    }
   ],
   "source": [
    "import numpy as np\n",
    " \n",
    "print(np.arange('2021-01-01', '2021-02-01', dtype='datetime64[D]'))"
   ]
  },
  {
   "attachments": {},
   "cell_type": "markdown",
   "metadata": {},
   "source": [
    "2. Using the np.arange() function, generate the following array:\n",
    "\n",
    "[['2021-01' '2021-02' '2021-03']\n",
    " ['2021-04' '2021-05' '2021-06']\n",
    " ['2021-07' '2021-08' '2021-09']\n",
    " ['2021-10' '2021-11' '2021-12']]"
   ]
  },
  {
   "cell_type": "code",
   "execution_count": 1,
   "metadata": {},
   "outputs": [
    {
     "name": "stdout",
     "output_type": "stream",
     "text": [
      "[['2021-01' '2021-02' '2021-03']\n",
      " ['2021-04' '2021-05' '2021-06']\n",
      " ['2021-07' '2021-08' '2021-09']\n",
      " ['2021-10' '2021-11' '2021-12']]\n"
     ]
    }
   ],
   "source": [
    "import numpy as np\n",
    " \n",
    "A = np.arange('2021-01', '2022-01', dtype='datetime64[M]')\n",
    "A = A.reshape(-1, 3)\n",
    "print(A)"
   ]
  },
  {
   "attachments": {},
   "cell_type": "markdown",
   "metadata": {},
   "source": [
    "3. Using the np.datetime64() function, generate today's date and print result to the console."
   ]
  },
  {
   "cell_type": "code",
   "execution_count": 2,
   "metadata": {},
   "outputs": [
    {
     "name": "stdout",
     "output_type": "stream",
     "text": [
      "2023-06-08\n"
     ]
    }
   ],
   "source": [
    "import numpy as np\n",
    " \n",
    "print(np.datetime64('today'))"
   ]
  }
 ],
 "metadata": {
  "kernelspec": {
   "display_name": "Python 3",
   "language": "python",
   "name": "python3"
  },
  "language_info": {
   "codemirror_mode": {
    "name": "ipython",
    "version": 3
   },
   "file_extension": ".py",
   "mimetype": "text/x-python",
   "name": "python",
   "nbconvert_exporter": "python",
   "pygments_lexer": "ipython3",
   "version": "3.9.6"
  },
  "orig_nbformat": 4
 },
 "nbformat": 4,
 "nbformat_minor": 2
}
