{
 "cells": [
  {
   "cell_type": "markdown",
   "metadata": {},
   "source": [
    "# Day 96 - CountVectorizer"
   ]
  },
  {
   "cell_type": "markdown",
   "metadata": {},
   "source": [
    "1. Two files are attached to this exercise: <br>\n",
    "<br> \n",
    "data_train.csv <br>\n",
    "target_train.csv <br>\n",
    "<br>\n",
    "The data_train.csv file contains e-mails from two categories: computer graphics (comp.graphics) and space (sci.space). The target_train.csv file contains the labels (0 - comp.graphics, 1 - sci.space). Load these files as DataFrame objects with the following names: <br>\n",
    "<br>\n",
    "data_train <br>\n",
    "target_train <br>\n",
    "<br>\n",
    "Explore this dataset. In response, print the content of the second element of the data_train object."
   ]
  },
  {
   "cell_type": "code",
   "execution_count": 1,
   "metadata": {},
   "outputs": [
    {
     "name": "stdout",
     "output_type": "stream",
     "text": [
      "From: stephens@geod.emr.ca (Dave Stephenson)\n",
      "Subject: Re: Clementine Science Team Selected\n",
      "Nntp-Posting-Host: ngis.geod.emr.ca\n",
      "Organization: Dept. of Energy, Mines, and Resources, Ottawa\n",
      "Lines: 32\n",
      "\n",
      "nickh@CS.CMU.EDU (Nick Haines) writes:\n",
      "\n",
      ">In article <stephens.734792933@ngis> stephens@geod.emr.ca (Dave Stephenson) writes:\n",
      "\n",
      ">   Remember the first government scientist in the British Empire was\n",
      ">   the Astronomer Royal, who was paid [...] from the Department\n",
      ">   of Ordinance Budget (i.e. the military). Flamsteed House (the original\n",
      ">   RGO) was built out of Army Surplus Scrap ( A gate house at the Tower of\n",
      ">   London ?), and paid for by the sale of time expired gunpowder [...]\n",
      "\n",
      ">At the time, astronomy was vital to the military, in that navigation\n",
      ">and cartography were of primary impoortance to the military, and good\n",
      ">cartography was impossible without good astronomy.\n",
      "\n",
      ">The relevance these daysis somewhat less obvious.\n",
      "\n",
      ">Nick\n",
      "\n",
      "It still applies, except the astronomy these days is Very Long Baseline\n",
      "Radio Astronomy coupled to GPS and Satellite Laser Ranging. The data\n",
      "from NASA's and the Naval Observatory's (among others) is a vital \n",
      "source of data for studies into crustal dynamics, Earth rotation, and\n",
      "purturbations. Every time there is a leap second added to the New Year,\n",
      "remember the military and science are still co-habiting nicely. The\n",
      "same VLBI was used to track Gallileo as it passed the Earth, and used\n",
      "so little fuel that it can afford to observe Ida. \n",
      " \n",
      "--\n",
      "Dave Stephenson\n",
      "Geodetic Survey of Canada\n",
      "Ottawa, Ontario, Canada\n",
      "Internet: stephens@geod.emr.ca\n",
      "\n"
     ]
    }
   ],
   "source": [
    "import numpy as np\n",
    "import pandas as pd\n",
    " \n",
    "data_train = pd.read_csv('data_train(96).csv')\n",
    "target_train = pd.read_csv('target_train(96).csv')\n",
    " \n",
    "print(data_train['text'][1])"
   ]
  },
  {
   "cell_type": "markdown",
   "metadata": {},
   "source": [
    "2. Two files are attached to this exercise: <br>\n",
    "<br>\n",
    "data_train.csv <br>\n",
    "target_train.csv <br>\n",
    "<br>\n",
    "The data_train.csv file contains e-mails from two categories: computer graphics (comp.graphics) and space (sci.space). The target_train.csv file contains the labels (0 - comp.graphics, 1 - sci.space). Load these files as DataFrame objects with the following names: <br>\n",
    "<br>\n",
    "data_train <br>\n",
    "target_train <br>\n",
    "<br>\n",
    "Explore this dataset. In response, print the content of the second element of the data_train object."
   ]
  },
  {
   "cell_type": "code",
   "execution_count": 2,
   "metadata": {},
   "outputs": [
    {
     "name": "stdout",
     "output_type": "stream",
     "text": [
      "50\n"
     ]
    }
   ],
   "source": [
    "import numpy as np\n",
    "import pandas as pd\n",
    " \n",
    " \n",
    "data_train = pd.read_csv('data_train(96).csv')\n",
    "target_train = pd.read_csv('target_train(96).csv')\n",
    " \n",
    "data_train = data_train['text'].tolist()\n",
    "print(len(data_train))"
   ]
  },
  {
   "cell_type": "markdown",
   "metadata": {},
   "source": [
    "3. Two files are attached to this exercise: <br>\n",
    "<br>\n",
    "data_train.csv <br>\n",
    "<br>\n",
    "target_train.csv <br>\n",
    "<br>\n",
    "The data_train.csv file contains e-mails from two categories: computer graphics (comp.graphics) and space (sci.space). The target_train.csv file contains the labels (0 - comp.graphics, 1 - sci.space). These files was loaded to the following DataFrames: <br>\n",
    "<br>\n",
    "data_train <br>\n",
    "target_train <br>\n",
    "<br>\n",
    "Some processing of data_train and target_train was performed. Using the CountVectorizer class from the scikit-learn package, vectorize the text from the data_train list and assign it to the data_train_vectorized variable. In response, print the shape of the sparse matrix obtained in this way to the console."
   ]
  },
  {
   "cell_type": "code",
   "execution_count": 3,
   "metadata": {},
   "outputs": [
    {
     "name": "stdout",
     "output_type": "stream",
     "text": [
      "(50, 3225)\n"
     ]
    }
   ],
   "source": [
    "import numpy as np\n",
    "import pandas as pd\n",
    "from sklearn.feature_extraction.text import CountVectorizer\n",
    " \n",
    "data_train = pd.read_csv('data_train(96).csv')\n",
    "target_train = pd.read_csv('target_train(96).csv')\n",
    "data_train = data_train['text'].tolist()\n",
    "target_train = target_train.values.ravel()\n",
    " \n",
    "vectorizer = CountVectorizer()\n",
    "data_train_vectorized = vectorizer.fit_transform(data_train)\n",
    "print(data_train_vectorized.shape)"
   ]
  }
 ],
 "metadata": {
  "kernelspec": {
   "display_name": "Python 3",
   "language": "python",
   "name": "python3"
  },
  "language_info": {
   "codemirror_mode": {
    "name": "ipython",
    "version": 3
   },
   "file_extension": ".py",
   "mimetype": "text/x-python",
   "name": "python",
   "nbconvert_exporter": "python",
   "pygments_lexer": "ipython3",
   "version": "3.9.6"
  },
  "orig_nbformat": 4
 },
 "nbformat": 4,
 "nbformat_minor": 2
}
