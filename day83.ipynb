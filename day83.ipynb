{
 "cells": [
  {
   "cell_type": "markdown",
   "metadata": {},
   "source": [
    "# Day 83 - data preprocessing"
   ]
  },
  {
   "cell_type": "markdown",
   "metadata": {},
   "source": [
    "1. The Breast Cancer Data was loaded into the data and target variables.<br>\n",
    "<br>\n",
    "All data was splitted into train and test sets: <br>\n",
    "<br>\n",
    "train set: X_train, y_train <br>\n",
    "test set: X_test, y_test <br>\n",
    "<br>\n",
    "Find the distribution of target, y_train and y_test arrays (in percent)."
   ]
  },
  {
   "cell_type": "code",
   "execution_count": 1,
   "metadata": {},
   "outputs": [
    {
     "name": "stdout",
     "output_type": "stream",
     "text": [
      "target :[0.37 0.63]\n",
      "y_train:[0.39 0.61]\n",
      "y_test :[0.31 0.69]\n"
     ]
    }
   ],
   "source": [
    "import numpy as np\n",
    "import pandas as pd\n",
    "from sklearn.datasets import load_breast_cancer\n",
    "from sklearn.model_selection import train_test_split\n",
    "  \n",
    "pd.set_option('display.max_columns', 10)\n",
    "pd.set_option('display.width', 200)\n",
    "np.set_printoptions(precision=2, suppress=True, linewidth=100)\n",
    "raw_data = load_breast_cancer()\n",
    "data = raw_data['data']\n",
    "target = raw_data['target']\n",
    " \n",
    "X_train, X_test, y_train, y_test = train_test_split(\n",
    "    data, target, random_state=40, test_size=0.25\n",
    ")\n",
    "for name, array in zip( ['target', 'y_train', 'y_test'], [target, y_train, y_test] ):\n",
    "    print(\n",
    "        f'{name.ljust(7)}:'\n",
    "        f'{np.unique(array, return_counts=True)[1] / len(array)}'\n",
    "    )"
   ]
  },
  {
   "cell_type": "markdown",
   "metadata": {},
   "source": [
    "2. The Breast Cancer Data was loaded into the data and target variables. <br>\n",
    "<br>\n",
    "Split the data into train and test sets: <br>\n",
    "<br>\n",
    "train set: X_train, y_train <br>\n",
    "test set: X_test, y_test <br>\n",
    "<br>\n",
    "Keep the same distribution of values in the y_train and y_test arrays as in target array.<br>\n",
    "In response, print the percentage distribution of target, y_train and y_test arrays."
   ]
  },
  {
   "cell_type": "code",
   "execution_count": 4,
   "metadata": {},
   "outputs": [
    {
     "name": "stdout",
     "output_type": "stream",
     "text": [
      "target :[0.37 0.63]\n",
      "y_train:[0.37 0.63]\n",
      "y_test :[0.37 0.63]\n"
     ]
    }
   ],
   "source": [
    "import numpy as np\n",
    "import pandas as pd\n",
    "from sklearn.datasets import load_breast_cancer\n",
    "from sklearn.model_selection import train_test_split\n",
    "  \n",
    "pd.set_option('display.max_columns', 10)\n",
    "pd.set_option('display.width', 200)\n",
    "np.set_printoptions(precision=2, suppress=True, linewidth=100)\n",
    "raw_data = load_breast_cancer()\n",
    "data = raw_data['data']\n",
    "target = raw_data['target']\n",
    "X_train, X_test, y_train, y_test = train_test_split(\n",
    "    data, target, random_state=40, test_size=0.25, stratify=target\n",
    ")\n",
    "for name, array in zip(\n",
    "    ['target', 'y_train', 'y_test'], [target, y_train, y_test]\n",
    "):\n",
    "    print(\n",
    "        f'{name.ljust(7)}:'\n",
    "        f'{np.unique(array, return_counts=True)[1] / len(array)}'\n",
    "    )"
   ]
  },
  {
   "cell_type": "markdown",
   "metadata": {},
   "source": [
    "3. The following df DataFrame is given: <br>\n",
    "<br>\n",
    "   years  salary <br>\n",
    "0      1    4000 <br>\n",
    "1      2    4250 <br>\n",
    "2      3    4500 <br>\n",
    "3      4    4750 <br> \n",
    "4      5    5000 <br>\n",
    "5      6    5250 <br>\n",
    "<br>\n",
    "The first column describes the years of experience (feature variable), the second column describes the salary (target variable). <br>\n",
    "Using the normal equation and the numpy package, find the linear regression equation."
   ]
  },
  {
   "cell_type": "code",
   "execution_count": 3,
   "metadata": {},
   "outputs": [
    {
     "name": "stdout",
     "output_type": "stream",
     "text": [
      "Linear regression: 3750.00 + 250.00x\n"
     ]
    }
   ],
   "source": [
    "import numpy as np\n",
    "import pandas as pd\n",
    "\n",
    "df = pd.DataFrame(\n",
    "    {\n",
    "        'years': [1, 2, 3, 4, 5, 6],\n",
    "        'salary': [4000, 4250, 4500, 4750, 5000, 5250],\n",
    "    }\n",
    ")\n",
    "m = len(df)\n",
    "X1 = df['years'].values\n",
    "Y = df['salary'].values\n",
    "X1 = X1.reshape(m, 1)\n",
    "bias = np.ones((m, 1))\n",
    "X = np.append(bias, X1, axis=1)\n",
    "coefs = np.dot(np.linalg.inv(np.dot(X.T, X)), np.dot(X.T, Y))\n",
    "print(f'Linear regression: {coefs[0]:.2f} + {coefs[1]:.2f}x')"
   ]
  }
 ],
 "metadata": {
  "kernelspec": {
   "display_name": "Python 3",
   "language": "python",
   "name": "python3"
  },
  "language_info": {
   "codemirror_mode": {
    "name": "ipython",
    "version": 3
   },
   "file_extension": ".py",
   "mimetype": "text/x-python",
   "name": "python",
   "nbconvert_exporter": "python",
   "pygments_lexer": "ipython3",
   "version": "3.9.6"
  },
  "orig_nbformat": 4
 },
 "nbformat": 4,
 "nbformat_minor": 2
}
