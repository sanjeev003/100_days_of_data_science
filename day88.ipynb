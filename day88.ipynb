{
 "cells": [
  {
   "cell_type": "markdown",
   "metadata": {},
   "source": [
    "# Day 88 - decision tree & grid search"
   ]
  },
  {
   "cell_type": "markdown",
   "metadata": {},
   "source": [
    "1. The following arrays are given: <br>\n",
    "<br>\n",
    "X_train, y_train <br>\n",
    "X_test, y_test <br>\n",
    "<br>\n",
    "Using the DecisionTreeClassifier class from the scikit-learn package, create classification model (set max_depth=6). Train the model on the train set and evaluate on the test set."
   ]
  },
  {
   "cell_type": "code",
   "execution_count": 1,
   "metadata": {},
   "outputs": [
    {
     "name": "stdout",
     "output_type": "stream",
     "text": [
      "Accuracy: 0.9280\n"
     ]
    }
   ],
   "source": [
    "import numpy as np\n",
    "import pandas as pd\n",
    " \n",
    "from sklearn.datasets import make_moons\n",
    "from sklearn.model_selection import train_test_split\n",
    "from sklearn.tree import DecisionTreeClassifier\n",
    " \n",
    "np.random.seed(42)\n",
    "raw_data = make_moons(n_samples=2000, noise=0.25, random_state=42)\n",
    "data = raw_data[0]\n",
    "target = raw_data[1]\n",
    " \n",
    "X_train, X_test, y_train, y_test = train_test_split(data, target)\n",
    " \n",
    "classifier = DecisionTreeClassifier(max_depth=6)\n",
    "classifier.fit(X_train, y_train)\n",
    "acc = classifier.score(X_test, y_test)\n",
    "print(f'Accuracy: {acc:.4f}')"
   ]
  },
  {
   "cell_type": "markdown",
   "metadata": {},
   "source": [
    "2. The following arrays are given: <br>\n",
    "<br>\n",
    "X_train, y_train <br>\n",
    "X_test, y_test <br>\n",
    "<br>\n",
    "Using the DecisionTreeClassifier class from the scikit-learn package, create a classification model (set max_depth=6 and min_samples_leaf=6). Train the model on the train set and evaluate on the test set."
   ]
  },
  {
   "cell_type": "code",
   "execution_count": 2,
   "metadata": {},
   "outputs": [
    {
     "name": "stdout",
     "output_type": "stream",
     "text": [
      "Accuracy: 0.9300\n"
     ]
    }
   ],
   "source": [
    "import numpy as np\n",
    "import pandas as pd\n",
    " \n",
    "from sklearn.datasets import make_moons\n",
    "from sklearn.model_selection import train_test_split\n",
    "from sklearn.tree import DecisionTreeClassifier\n",
    " \n",
    "np.random.seed(42)\n",
    "raw_data = make_moons(n_samples=2000, noise=0.25, random_state=42)\n",
    "data = raw_data[0]\n",
    "target = raw_data[1]\n",
    " \n",
    "X_train, X_test, y_train, y_test = train_test_split(data, target)\n",
    " \n",
    "classifier = DecisionTreeClassifier(max_depth=6, min_samples_leaf=6)\n",
    "classifier.fit(X_train, y_train)\n",
    "acc = classifier.score(X_test, y_test)\n",
    "print(f'Accuracy: {acc:.4f}')"
   ]
  },
  {
   "cell_type": "markdown",
   "metadata": {},
   "source": [
    "3. The following arrays are given: <br>\n",
    "<br>\n",
    "X_train, y_train <br>\n",
    "X_test, y_test <br>\n",
    "<br>\n",
    "Using the DecisionTreeClassifier class and grid search method (GridSearchCV class - set scoring='accuracy', cv=5) find the optimal values of the max_depth and min_samples_leaf arguments. Search for parameter values from the following: <br>\n",
    "<br>\n",
    "for max_depth -> np.arange(1, 10) <br>\n",
    "for min_samples_leaf -> [1, 2, 3, 4, 5, 6, 7, 8, 9, 10, 15, 20] <br>\n",
    "Train the model on the train set and evaluate on the test set. In response, print founded optimal values of max_depth and min_samples_leaf to the console. "
   ]
  },
  {
   "cell_type": "code",
   "execution_count": 3,
   "metadata": {},
   "outputs": [
    {
     "name": "stdout",
     "output_type": "stream",
     "text": [
      "{'max_depth': 6, 'min_samples_leaf': 6}\n"
     ]
    }
   ],
   "source": [
    "import numpy as np\n",
    "import pandas as pd\n",
    " \n",
    "from sklearn.datasets import make_moons\n",
    "from sklearn.model_selection import train_test_split\n",
    "from sklearn.tree import DecisionTreeClassifier\n",
    "from sklearn.model_selection import GridSearchCV\n",
    " \n",
    "np.random.seed(42)\n",
    "raw_data = make_moons(n_samples=2000, noise=0.25, random_state=42)\n",
    "data = raw_data[0]\n",
    "target = raw_data[1]\n",
    " \n",
    "X_train, X_test, y_train, y_test = train_test_split(data, target)\n",
    " \n",
    "classifier = DecisionTreeClassifier()\n",
    " \n",
    "params = {\n",
    "    'max_depth': np.arange(1, 10),\n",
    "    'min_samples_leaf': [1, 2, 3, 4, 5, 6, 7, 8, 9, 10, 15, 20],\n",
    "}\n",
    " \n",
    "grid_search = GridSearchCV(\n",
    "    classifier, param_grid=params, scoring='accuracy', cv=5\n",
    ")\n",
    "grid_search.fit(X_train, y_train)\n",
    "print(grid_search.best_params_)"
   ]
  }
 ],
 "metadata": {
  "kernelspec": {
   "display_name": "Python 3",
   "language": "python",
   "name": "python3"
  },
  "language_info": {
   "codemirror_mode": {
    "name": "ipython",
    "version": 3
   },
   "file_extension": ".py",
   "mimetype": "text/x-python",
   "name": "python",
   "nbconvert_exporter": "python",
   "pygments_lexer": "ipython3",
   "version": "3.9.6"
  },
  "orig_nbformat": 4
 },
 "nbformat": 4,
 "nbformat_minor": 2
}
