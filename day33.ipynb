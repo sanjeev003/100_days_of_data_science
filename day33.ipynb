{
 "cells": [
  {
   "attachments": {},
   "cell_type": "markdown",
   "metadata": {},
   "source": [
    "#  Day 33 - pd.DataFrame()"
   ]
  },
  {
   "attachments": {},
   "cell_type": "markdown",
   "metadata": {},
   "source": [
    "1. The following quotations Series is given:\n",
    "\n",
    "stocks = {'PLW': 387.00, 'CDR': 339.5, 'TEN': 349.5, '11B': 391.0}\n",
    "quotations = pd.Series(data=stocks)\n",
    "\n",
    "Add two elements to this Series:\n",
    "\n",
    "key: 'BBT', value: 25.5\n",
    "key: 'F51', value: 19.2\n",
    "\n",
    "In response, print quotations Series to the console."
   ]
  },
  {
   "cell_type": "code",
   "execution_count": 3,
   "metadata": {},
   "outputs": [
    {
     "name": "stdout",
     "output_type": "stream",
     "text": [
      "PLW    387.0\n",
      "CDR    339.5\n",
      "TEN    349.5\n",
      "11B    391.0\n",
      "BBT     25.5\n",
      "F51     19.2\n",
      "dtype: float64\n"
     ]
    },
    {
     "name": "stderr",
     "output_type": "stream",
     "text": [
      "C:\\Users\\JAI GANESH\\AppData\\Local\\Temp\\ipykernel_3012\\1371314546.py:5: FutureWarning: The series.append method is deprecated and will be removed from pandas in a future version. Use pandas.concat instead.\n",
      "  quotations = quotations.append(pd.Series({'BBT': 25.5, 'F51': 19.2}))\n"
     ]
    }
   ],
   "source": [
    "import pandas as pd\n",
    " \n",
    "stocks = {'PLW': 387.00, 'CDR': 339.5, 'TEN': 349.5, '11B': 391.0}\n",
    "quotations = pd.Series(data=stocks)\n",
    "quotations = quotations.append(pd.Series({'BBT': 25.5, 'F51': 19.2}))\n",
    "print(quotations)"
   ]
  },
  {
   "attachments": {},
   "cell_type": "markdown",
   "metadata": {},
   "source": [
    "2. Convert the following quotations Series:\n",
    "\n",
    "stocks = {\n",
    "    'PLW': 387.00,\n",
    "    'CDR': 339.5,\n",
    "    'TEN': 349.5,\n",
    "    '11B': 391.0,\n",
    "    'BBT': 25.5,\n",
    "    'F51': 19.2,\n",
    "}\n",
    "quotations = pd.Series(data=stocks)\n",
    "\n",
    "to DataFrame. Reset the index and name the columns 'ticker' and 'price' respectively.\n",
    "In response, print this DataFrame to the console."
   ]
  },
  {
   "cell_type": "code",
   "execution_count": 4,
   "metadata": {},
   "outputs": [
    {
     "name": "stdout",
     "output_type": "stream",
     "text": [
      "  ticker  price\n",
      "0    PLW  387.0\n",
      "1    CDR  339.5\n",
      "2    TEN  349.5\n",
      "3    11B  391.0\n",
      "4    BBT   25.5\n",
      "5    F51   19.2\n"
     ]
    }
   ],
   "source": [
    "import pandas as pd\n",
    "\n",
    "stocks = {\n",
    "    'PLW': 387.00,\n",
    "    'CDR': 339.5,\n",
    "    'TEN': 349.5,\n",
    "    '11B': 391.0,\n",
    "    'BBT': 25.5,\n",
    "    'F51': 19.2,\n",
    "}\n",
    "\n",
    "quotations = pd.Series(data=stocks)\n",
    "quotations = pd.DataFrame(quotations).reset_index()\n",
    "quotations.columns = ['ticker', 'price']\n",
    "print(quotations)"
   ]
  },
  {
   "attachments": {},
   "cell_type": "markdown",
   "metadata": {},
   "source": [
    "3. Create the following DataFrame object and assign it to the companies variable:\n",
    "\n",
    "     company   price   ticker\n",
    "0     Amazon  2375.0  AMZN.US\n",
    "1  Microsoft   178.6  MSFT.US\n",
    "2   Facebook   179.2    FB.US\n",
    "\n",
    "In response, print companies DataFrame to the console."
   ]
  },
  {
   "cell_type": "code",
   "execution_count": 5,
   "metadata": {},
   "outputs": [
    {
     "name": "stdout",
     "output_type": "stream",
     "text": [
      "     company   price   ticker\n",
      "0     Amazon  2375.0  AMZN.US\n",
      "1  Microsoft   178.6  MSFT.US\n",
      "2   Facebook   179.2    FB.US\n"
     ]
    }
   ],
   "source": [
    "import pandas as pd\n",
    "\n",
    "data_dict = {\n",
    "    'company': ['Amazon', 'Microsoft', 'Facebook'],\n",
    "    'price': [2375.00, 178.6, 179.2],\n",
    "    'ticker': ['AMZN.US', 'MSFT.US', 'FB.US']\n",
    "}\n",
    " \n",
    "companies = pd.DataFrame(data=data_dict)\n",
    "print(companies)"
   ]
  }
 ],
 "metadata": {
  "kernelspec": {
   "display_name": "Python 3",
   "language": "python",
   "name": "python3"
  },
  "language_info": {
   "codemirror_mode": {
    "name": "ipython",
    "version": 3
   },
   "file_extension": ".py",
   "mimetype": "text/x-python",
   "name": "python",
   "nbconvert_exporter": "python",
   "pygments_lexer": "ipython3",
   "version": "3.9.6"
  },
  "orig_nbformat": 4
 },
 "nbformat": 4,
 "nbformat_minor": 2
}
