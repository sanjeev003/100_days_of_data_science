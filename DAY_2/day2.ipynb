{
 "cells": [
  {
   "attachments": {},
   "cell_type": "markdown",
   "metadata": {},
   "source": [
    "The np.isnan() function is a NumPy function that checks for NaN (Not a Number) values in an array. It returns a Boolean array of the same shape as the input array, where each element is True if the corresponding element in the input array is NaN, and False otherwise.\n",
    "\n",
    "The np.allclose() function compares the corresponding elements of arrays a and b within the specified tolerances. It considers the arrays to be equal if the absolute difference between corresponding elements is less than or equal to the sum of the absolute tolerances (atol) and the relative tolerances (rtol) multiplied by the larger absolute value among the two arrays.\n",
    "\n",
    "The np.equal() function is a NumPy function that compares two arrays element-wise and returns a Boolean array of the same shape as the input arrays. It checks whether corresponding elements in the arrays are equal and assigns True to the corresponding position in the output array if the elements are equal, and False otherwise."
   ]
  },
  {
   "attachments": {},
   "cell_type": "markdown",
   "metadata": {},
   "source": [
    "1. Check if the following array has missing data\n",
    "\n",
    "A = np.array([[3, 2, 1, np.nan],[5, np.nan, 1, 6]])"
   ]
  },
  {
   "cell_type": "code",
   "execution_count": 2,
   "metadata": {},
   "outputs": [
    {
     "name": "stdout",
     "output_type": "stream",
     "text": [
      "[[False False False  True]\n",
      " [False  True False False]]\n"
     ]
    }
   ],
   "source": [
    "import numpy as np\n",
    "\n",
    "A = np.array([[3, 2, 1, np.nan],[5, np.nan, 1, 6]])\n",
    "              \n",
    "mask = np.isnan(A)\n",
    "\n",
    "print(mask)"
   ]
  },
  {
   "attachments": {},
   "cell_type": "markdown",
   "metadata": {},
   "source": [
    "2. Check if the following arrays are equal (element-wise)\n",
    "\n",
    "A = np.array([0.4, 0.5, 0.3])\n",
    "B = np.array([0.39999999, 0.5000001, 0.3])"
   ]
  },
  {
   "cell_type": "code",
   "execution_count": 3,
   "metadata": {},
   "outputs": [
    {
     "name": "stdout",
     "output_type": "stream",
     "text": [
      "True\n"
     ]
    }
   ],
   "source": [
    "import numpy as np\n",
    "\n",
    "A = np.array([0.4, 0.5, 0.3])\n",
    "B = np.array([0.39999999, 0.5000001, 0.3])\n",
    "\n",
    "mask = np.allclose(A , B)\n",
    "print(mask)"
   ]
  },
  {
   "attachments": {},
   "cell_type": "markdown",
   "metadata": {},
   "source": [
    "3. Check if the following arrays are equal\n",
    "\n",
    "A = np.array([0.4, 0.5, 0.3])\n",
    "B = np.array([0.3999999999, 0.5000000001, 0.3])"
   ]
  },
  {
   "cell_type": "code",
   "execution_count": 4,
   "metadata": {},
   "outputs": [
    {
     "name": "stdout",
     "output_type": "stream",
     "text": [
      "[False False  True]\n"
     ]
    }
   ],
   "source": [
    "import numpy as np\n",
    "\n",
    "A = np.array([0.4, 0.5, 0.3])\n",
    "B = np.array([0.3999999999, 0.5000000001, 0.3])\n",
    " \n",
    "print(np.equal(A, B))"
   ]
  }
 ],
 "metadata": {
  "kernelspec": {
   "display_name": "Python 3",
   "language": "python",
   "name": "python3"
  },
  "language_info": {
   "codemirror_mode": {
    "name": "ipython",
    "version": 3
   },
   "file_extension": ".py",
   "mimetype": "text/x-python",
   "name": "python",
   "nbconvert_exporter": "python",
   "pygments_lexer": "ipython3",
   "version": "3.9.6"
  },
  "orig_nbformat": 4
 },
 "nbformat": 4,
 "nbformat_minor": 2
}
