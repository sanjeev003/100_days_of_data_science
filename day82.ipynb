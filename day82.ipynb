{
 "cells": [
  {
   "cell_type": "markdown",
   "metadata": {},
   "source": [
    "# Day 82 - data preprocessing"
   ]
  },
  {
   "cell_type": "markdown",
   "metadata": {},
   "source": [
    "1. The Breast Cancer Data was loaded into the data and target variables. <br>\n",
    "Combine these two arrays into one array, assign to all_data variable and print the first three rows of this array to the console."
   ]
  },
  {
   "cell_type": "code",
   "execution_count": 1,
   "metadata": {},
   "outputs": [
    {
     "name": "stdout",
     "output_type": "stream",
     "text": [
      "[[  17.99   10.38  122.8  1001.      0.12    0.28    0.3     0.15    0.24    0.08    1.09    0.91\n",
      "     8.59  153.4     0.01    0.05    0.05    0.02    0.03    0.01   25.38   17.33  184.6  2019.\n",
      "     0.16    0.67    0.71    0.27    0.46    0.12    0.  ]\n",
      " [  20.57   17.77  132.9  1326.      0.08    0.08    0.09    0.07    0.18    0.06    0.54    0.73\n",
      "     3.4    74.08    0.01    0.01    0.02    0.01    0.01    0.     24.99   23.41  158.8  1956.\n",
      "     0.12    0.19    0.24    0.19    0.28    0.09    0.  ]\n",
      " [  19.69   21.25  130.   1203.      0.11    0.16    0.2     0.13    0.21    0.06    0.75    0.79\n",
      "     4.58   94.03    0.01    0.04    0.04    0.02    0.02    0.     23.57   25.53  152.5  1709.\n",
      "     0.14    0.42    0.45    0.24    0.36    0.09    0.  ]]\n"
     ]
    }
   ],
   "source": [
    "import numpy as np\n",
    "from sklearn.datasets import load_breast_cancer\n",
    " \n",
    "np.set_printoptions(precision=2, suppress=True, linewidth=100)\n",
    "raw_data = load_breast_cancer()\n",
    "data = raw_data['data']\n",
    "target = raw_data['target']\n",
    " \n",
    "all_data = np.c_[data, target]\n",
    "print(all_data[:3])"
   ]
  },
  {
   "cell_type": "markdown",
   "metadata": {},
   "source": [
    "2. The Breast Cancer Data was loaded into the all_data variable. <br>\n",
    "Create a DataFrame from the all_data array and assign to df variable. Set column names using value for the key 'feature_names' of raw_data + set target variable name as 'target' as shown below. <br>\n",
    "In response, print the first five rows of this DataFrame to the console."
   ]
  },
  {
   "cell_type": "code",
   "execution_count": 2,
   "metadata": {},
   "outputs": [
    {
     "name": "stdout",
     "output_type": "stream",
     "text": [
      "   mean radius  mean texture  mean perimeter  mean area  mean smoothness  ...  worst concavity  worst concave points  worst symmetry  worst fractal dimension  target\n",
      "0        17.99         10.38          122.80     1001.0          0.11840  ...           0.7119                0.2654          0.4601                  0.11890     0.0\n",
      "1        20.57         17.77          132.90     1326.0          0.08474  ...           0.2416                0.1860          0.2750                  0.08902     0.0\n",
      "2        19.69         21.25          130.00     1203.0          0.10960  ...           0.4504                0.2430          0.3613                  0.08758     0.0\n",
      "3        11.42         20.38           77.58      386.1          0.14250  ...           0.6869                0.2575          0.6638                  0.17300     0.0\n",
      "4        20.29         14.34          135.10     1297.0          0.10030  ...           0.4000                0.1625          0.2364                  0.07678     0.0\n",
      "\n",
      "[5 rows x 31 columns]\n"
     ]
    }
   ],
   "source": [
    "import numpy as np\n",
    "import pandas as pd\n",
    "from sklearn.datasets import load_breast_cancer\n",
    " \n",
    "pd.set_option('display.max_columns', 10)\n",
    "pd.set_option('display.width', 200)\n",
    "np.set_printoptions(precision=2, suppress=True, linewidth=100)\n",
    "raw_data = load_breast_cancer()\n",
    "data = raw_data['data']\n",
    "target = raw_data['target']\n",
    "all_data = np.c_[data, target]\n",
    " \n",
    "df = pd.DataFrame(\n",
    "    data=all_data,\n",
    "    columns=list(raw_data['feature_names']) + ['target'],\n",
    ")\n",
    "print(df.head())"
   ]
  },
  {
   "cell_type": "markdown",
   "metadata": {},
   "source": [
    "3. The Breast Cancer Data was loaded into the data and target variables. <br>\n",
    "<br>\n",
    "Using the train_test_split() function from the scikit-learn package, split the data (data and target) into train and test sets: <br>\n",
    "<br>\n",
    "train set: X_train, y_train <br>\n",
    "test set: X_test, y_test <br>\n",
    "<br>\n",
    "Set the random_state=40 and the test set size to 25%."
   ]
  },
  {
   "cell_type": "code",
   "execution_count": 4,
   "metadata": {},
   "outputs": [
    {
     "name": "stdout",
     "output_type": "stream",
     "text": [
      "X_train shape (426, 30)\n",
      "y_train shape (426,)\n",
      "X_test shape (143, 30)\n",
      "y_test shape (143,)\n"
     ]
    }
   ],
   "source": [
    "import numpy as np\n",
    "import pandas as pd\n",
    "from sklearn.datasets import load_breast_cancer\n",
    "from sklearn.model_selection import train_test_split\n",
    " \n",
    "pd.set_option('display.max_columns', 10)\n",
    "pd.set_option('display.width', 200)\n",
    "np.set_printoptions(precision=2, suppress=True, linewidth=100)\n",
    "raw_data = load_breast_cancer()\n",
    "data = raw_data['data']\n",
    "target = raw_data['target']\n",
    " \n",
    "X_train, X_test, y_train, y_test = train_test_split(\n",
    "    data, target, random_state=40, test_size=0.25\n",
    ")\n",
    "print(f'X_train shape {X_train.shape}')\n",
    "print(f'y_train shape {y_train.shape}')\n",
    "print(f'X_test shape {X_test.shape}')\n",
    "print(f'y_test shape {y_test.shape}')"
   ]
  }
 ],
 "metadata": {
  "kernelspec": {
   "display_name": "Python 3",
   "language": "python",
   "name": "python3"
  },
  "language_info": {
   "codemirror_mode": {
    "name": "ipython",
    "version": 3
   },
   "file_extension": ".py",
   "mimetype": "text/x-python",
   "name": "python",
   "nbconvert_exporter": "python",
   "pygments_lexer": "ipython3",
   "version": "3.9.6"
  },
  "orig_nbformat": 4
 },
 "nbformat": 4,
 "nbformat_minor": 2
}
