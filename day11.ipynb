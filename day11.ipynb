{
 "cells": [
  {
   "attachments": {},
   "cell_type": "markdown",
   "metadata": {},
   "source": [
    "1. np.where() is a function in NumPy that returns indices where a given condition is true. It can be used to locate elements in an array that satisfy a certain condition.\n",
    "Here's an example that demonstrates how to use np.where() to extract elements from an array that are greater than 8:\n",
    "\n",
    "import numpy as np\n",
    "A = np.array([[4.99, 3.49, 9.99], [1.99, 9.99, 4.99], [14.99, 2.39, 7.29]])\n",
    "indices = np.where(A > 8)\n",
    "result = A[indices]\n",
    "print(result)\n",
    ">>>  [ 9.99  9.99 14.99]\n",
    "\n",
    "2. np.ravel() is a function in NumPy that returns a flattened array by concatenating all elements of a given input array. The resulting array has a one-dimensional structure, with elements taken row-wise from the input array.\n",
    "Here's an example that demonstrates how to use np.ravel():\n",
    "\n",
    "import numpy as np\n",
    "A = np.array([[1, 2, 3], [4, 5, 6], [7, 8, 9]])\n",
    "result = np.ravel(A)\n",
    "print(result)\n",
    ">>> [1 2 3 4 5 6 7 8 9]\n",
    "\n",
    "3. np.zeros_like() is a function in NumPy that creates an array of zeros with the same shape and data type as a specified input array.\n",
    "Here's an example that demonstrates how to use np.zeros_like():\n",
    "\n",
    "import numpy as np\n",
    "A = np.array([[1, 2, 3], [4, 5, 6]])\n",
    "result = np.zeros_like(A)\n",
    "print(result)\n",
    ">>> [[0 0 0] [0 0 0]]"
   ]
  },
  {
   "attachments": {},
   "cell_type": "markdown",
   "metadata": {},
   "source": [
    "The following array is given:\n",
    "\n",
    "A = np.array([[4.99, 3.49, 9.99] , [1.99, 9.99, 14.99] , [14.99, 2.39, 7.29]])\n",
    "\n",
    "Replace elements greater than 10 with a fixed value = 10.0 and print result to the console."
   ]
  },
  {
   "cell_type": "code",
   "execution_count": 2,
   "metadata": {},
   "outputs": [
    {
     "name": "stdout",
     "output_type": "stream",
     "text": [
      "[[ 4.99  3.49  9.99]\n",
      " [ 1.99  9.99 10.  ]\n",
      " [10.    2.39  7.29]]\n"
     ]
    }
   ],
   "source": [
    "import numpy as np\n",
    "A = np.array([[4.99, 3.49, 9.99], [1.99, 9.99, 14.99], [14.99, 2.39, 7.29]])\n",
    "fixed_value = 10.0\n",
    "result = np.where(A > 10, fixed_value, A)\n",
    "print(result)"
   ]
  },
  {
   "attachments": {},
   "cell_type": "markdown",
   "metadata": {},
   "source": [
    "2. Present the following two-dimensional array as a flattened one-dimensional array and print result to the console.\n",
    "\n",
    "A = np.array([[4.99, 3.49, 9.99] , [1.99, 9.99, 14.99] , [14.99, 2.39, 7.29]])"
   ]
  },
  {
   "cell_type": "code",
   "execution_count": 3,
   "metadata": {},
   "outputs": [
    {
     "name": "stdout",
     "output_type": "stream",
     "text": [
      "[ 4.99  3.49  9.99  1.99  9.99 14.99 14.99  2.39  7.29]\n"
     ]
    }
   ],
   "source": [
    "import numpy as np\n",
    "A = np.array([[4.99, 3.49, 9.99] , [1.99, 9.99, 14.99] , [14.99, 2.39, 7.29]])\n",
    "print(np.ravel(A))"
   ]
  },
  {
   "attachments": {},
   "cell_type": "markdown",
   "metadata": {},
   "source": [
    "3. The following array is given:\n",
    "\n",
    "A = np.array([[4.99, 3.49, 9.99] , [1.99, 9.99, 14.99] , [14.99, 2.39, 7.29]])\n",
    "\n",
    "Using Numpy create an array of the same shape and data type as the given array and fill it with zeros. Print this array to the console."
   ]
  },
  {
   "cell_type": "code",
   "execution_count": 4,
   "metadata": {},
   "outputs": [
    {
     "name": "stdout",
     "output_type": "stream",
     "text": [
      "[[0. 0. 0.]\n",
      " [0. 0. 0.]\n",
      " [0. 0. 0.]]\n"
     ]
    }
   ],
   "source": [
    "import numpy as np\n",
    "A = np.array([[4.99, 3.49, 9.99] , [1.99, 9.99, 14.99] , [14.99, 2.39, 7.29]])\n",
    "print(np.zeros_like(A))"
   ]
  }
 ],
 "metadata": {
  "kernelspec": {
   "display_name": "Python 3",
   "language": "python",
   "name": "python3"
  },
  "language_info": {
   "codemirror_mode": {
    "name": "ipython",
    "version": 3
   },
   "file_extension": ".py",
   "mimetype": "text/x-python",
   "name": "python",
   "nbconvert_exporter": "python",
   "pygments_lexer": "ipython3",
   "version": "3.9.6"
  },
  "orig_nbformat": 4
 },
 "nbformat": 4,
 "nbformat_minor": 2
}
