{
 "cells": [
  {
   "attachments": {},
   "cell_type": "markdown",
   "metadata": {},
   "source": [
    "Huiiii on Day 6 Finally \n",
    "\n",
    "1. np.nditer() is a function in NumPy that provides an efficient way to iterate over elements in a multi-dimensional array. It allows you to loop over array elements while controlling the order, data types, and broadcasting behavior of the iteration.\n",
    "Here's a general syntax for using np.nditer() :-\n",
    "\n",
    "import numpy as np\n",
    "# Create a multi-dimensional array\n",
    "arr = np.array([[1, 2], [3, 4]])\n",
    "# Create an iterator using np.nditer()\n",
    "iter = np.nditer(arr)\n",
    "# Loop over elements in the array\n",
    "for element in iter:\n",
    "    # Process each element\n",
    "    print(element)\n",
    "                            *************************\n",
    "2. np.linspace() is a function in NumPy that generates evenly spaced numbers over a specified interval. It returns an array of numbers that are evenly spaced between the specified start and stop values, with a specified number of elements.\n",
    "Here's the syntax for using np.linspace() :-\n",
    "\n",
    "import numpy as np\n",
    "# Generate an array of evenly spaced values\n",
    "arr = np.linspace(start, stop, num=50, endpoint=True, retstep=False, dtype=None)\n",
    "# Print the array\n",
    "print(arr)\n",
    "                            *************************\n",
    "3. np.random.choice() is a function in NumPy that allows you to randomly choose elements from a given array or sequence. It returns a random sample from the input array based on specified parameters.\n",
    "Here's the syntax for using np.random.choice() :-\n",
    "\n",
    "import numpy as np\n",
    "# Generate a random sample from an array\n",
    "result = np.random.choice(a, size=None, replace=True, p=None)\n",
    "# Print the result\n",
    "print(result)"
   ]
  },
  {
   "attachments": {},
   "cell_type": "markdown",
   "metadata": {},
   "source": [
    "1. The following array is given:\n",
    "\n",
    "A = np.array([[1, 4, 3],[5, 2, 6]])\n",
    "\n",
    "Iterate through this array and print each element to the console."
   ]
  },
  {
   "cell_type": "code",
   "execution_count": 1,
   "metadata": {},
   "outputs": [
    {
     "name": "stdout",
     "output_type": "stream",
     "text": [
      "1\n",
      "4\n",
      "3\n",
      "5\n",
      "2\n",
      "6\n"
     ]
    }
   ],
   "source": [
    "import numpy as np\n",
    "A = np.array([[1, 4, 3],[5, 2, 6]])\n",
    "iter = np.nditer(A)\n",
    "for element in iter:\n",
    "    print(element)"
   ]
  },
  {
   "attachments": {},
   "cell_type": "markdown",
   "metadata": {},
   "source": [
    "2. Using Numpy create a one-dimensional array (vector) consisting of eleven equally distributed numbers from the [0,1] interval.\n",
    "\n",
    "Expected result :- [0.  0.1 0.2 0.3 0.4 0.5 0.6 0.7 0.8 0.9 1. ]"
   ]
  },
  {
   "cell_type": "code",
   "execution_count": 9,
   "metadata": {},
   "outputs": [
    {
     "name": "stdout",
     "output_type": "stream",
     "text": [
      "[0.  0.1 0.2 0.3 0.4 0.5 0.6 0.7 0.8 0.9 1. ]\n"
     ]
    }
   ],
   "source": [
    "import numpy as np\n",
    "\n",
    "arr = np.linspace(start=0, stop=1, num=11, endpoint=True, retstep=False, dtype=None)\n",
    "\n",
    "print(arr)"
   ]
  },
  {
   "attachments": {},
   "cell_type": "markdown",
   "metadata": {},
   "source": [
    "3. Using Numpy create a one-dimensional array (vector) containing the possible result from the Big Lotto game. Set the random seed to 42. Print result to the console.\n",
    "\n",
    "Expected result :- [14 46 48 45 18 28]"
   ]
  },
  {
   "cell_type": "code",
   "execution_count": 11,
   "metadata": {},
   "outputs": [
    {
     "name": "stdout",
     "output_type": "stream",
     "text": [
      "[14 46 48 45 18 28]\n"
     ]
    }
   ],
   "source": [
    "import numpy as np\n",
    "np.random.seed(42)\n",
    "print(np.random.choice(range(1, 50), size=6, replace=False))"
   ]
  }
 ],
 "metadata": {
  "kernelspec": {
   "display_name": "Python 3",
   "language": "python",
   "name": "python3"
  },
  "language_info": {
   "codemirror_mode": {
    "name": "ipython",
    "version": 3
   },
   "file_extension": ".py",
   "mimetype": "text/x-python",
   "name": "python",
   "nbconvert_exporter": "python",
   "pygments_lexer": "ipython3",
   "version": "3.9.6"
  },
  "orig_nbformat": 4
 },
 "nbformat": 4,
 "nbformat_minor": 2
}
