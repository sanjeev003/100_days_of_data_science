{
 "cells": [
  {
   "cell_type": "markdown",
   "metadata": {},
   "source": [
    "#  Day 81 - LabelEncoder & OneHotEncoder"
   ]
  },
  {
   "cell_type": "markdown",
   "metadata": {},
   "source": [
    "1. The df DataFrame is given below:<br>\n",
    "  size  color  gender  price  weight bought <br>\n",
    "0   XL    red  female  199.0     500    yes <br>\n",
    "1    L  green    male   89.0     450     no <br>\n",
    "2    M   blue    male   99.0     300    yes <br>\n",
    "3    L  green  female  129.0     380     no <br>\n",
    "4    M    red  female   79.0     410    yes <br>\n",
    "Using the LabelEncoder class from the scikit-learn package encode target variable - bought as shown below and assign the result to the df DataFrame."
   ]
  },
  {
   "cell_type": "code",
   "execution_count": 1,
   "metadata": {},
   "outputs": [
    {
     "name": "stdout",
     "output_type": "stream",
     "text": [
      "  size  color  gender  price  weight  bought\n",
      "0   XL    red  female  199.0   500.0       1\n",
      "1    L  green    male   89.0   450.0       0\n",
      "2    M   blue    male   99.0   300.0       1\n",
      "3    L  green  female  129.0   380.0       0\n",
      "4    M    red  female   79.0   410.0       1\n"
     ]
    }
   ],
   "source": [
    "import pandas as pd\n",
    "from sklearn.preprocessing import LabelEncoder \n",
    " \n",
    "data = {\n",
    "    'size': ['XL', 'L', 'M', 'L', 'M'],\n",
    "    'color': ['red', 'green', 'blue', 'green', 'red'],\n",
    "    'gender': ['female', 'male', 'male', 'female', 'female'],\n",
    "    'price': [199.0, 89.0, 99.0, 129.0, 79.0],\n",
    "    'weight': [500, 450, 300, 380, 410],\n",
    "    'bought': ['yes', 'no', 'yes', 'no', 'yes']\n",
    "}\n",
    "df = pd.DataFrame(data=data)\n",
    "for col in ['size', 'color', 'gender', 'bought']:\n",
    "    df[col] = df[col].astype('category')\n",
    "df['weight'] = df['weight'].astype('float')\n",
    "le = LabelEncoder()\n",
    "df['bought'] = le.fit_transform(df['bought'])\n",
    "print(df)"
   ]
  },
  {
   "cell_type": "markdown",
   "metadata": {},
   "source": [
    "2. The df DataFrame is given below: <br>\n",
    "  size  color  gender  price  weight bought <br>\n",
    "0   XL    red  female  199.0     500    yes <br>\n",
    "1    L  green    male   89.0     450     no <br>\n",
    "2    M   blue    male   99.0     300    yes <br>\n",
    "3    L  green  female  129.0     380     no <br>\n",
    "4    M    red  female   79.0     410    yes <br>\n",
    "Using the OneHotEncoder from the scikit-learn package, encode the size column as a one-hot numeric array. (set the parameter sparse=False). <br>\n",
    "In response, print the encoded size column to the console (don't assign changes to the df DataFrame). Also print the encoding categories to the console as shown below."
   ]
  },
  {
   "cell_type": "code",
   "execution_count": 2,
   "metadata": {},
   "outputs": [
    {
     "name": "stdout",
     "output_type": "stream",
     "text": [
      "[[0. 0. 1.]\n",
      " [1. 0. 0.]\n",
      " [0. 1. 0.]\n",
      " [1. 0. 0.]\n",
      " [0. 1. 0.]]\n",
      "[array(['L', 'M', 'XL'], dtype=object)]\n"
     ]
    }
   ],
   "source": [
    "import pandas as pd\n",
    "from sklearn.preprocessing import OneHotEncoder\n",
    " \n",
    "data = {\n",
    "    'size': ['XL', 'L', 'M', 'L', 'M'],\n",
    "    'color': ['red', 'green', 'blue', 'green', 'red'],\n",
    "    'gender': ['female', 'male', 'male', 'female', 'female'],\n",
    "    'price': [199.0, 89.0, 99.0, 129.0, 79.0],\n",
    "    'weight': [500, 450, 300, 380, 410],\n",
    "    'bought': ['yes', 'no', 'yes', 'no', 'yes']\n",
    "}\n",
    "df = pd.DataFrame(data=data)\n",
    "for col in ['size', 'color', 'gender', 'bought']:\n",
    "    df[col] = df[col].astype('category')\n",
    "df['weight'] = df['weight'].astype('float') \n",
    "encoder = OneHotEncoder(sparse=False)\n",
    "encoder.fit(df[['size']])\n",
    "print(encoder.transform(df[['size']]))\n",
    "print(encoder.categories_)"
   ]
  },
  {
   "cell_type": "markdown",
   "metadata": {},
   "source": [
    "3. The Breast Cancer Data was loaded into the raw_data variable. <br>\n",
    "Assign the value for the 'data' key (numpy array) to the data variable. Then assign the value for the 'target' key (numpy array) to the target variable."
   ]
  },
  {
   "cell_type": "code",
   "execution_count": 3,
   "metadata": {},
   "outputs": [
    {
     "name": "stdout",
     "output_type": "stream",
     "text": [
      "[[  17.99   10.38  122.8  1001.      0.12    0.28    0.3     0.15    0.24    0.08    1.09    0.91\n",
      "     8.59  153.4     0.01    0.05    0.05    0.02    0.03    0.01   25.38   17.33  184.6  2019.\n",
      "     0.16    0.67    0.71    0.27    0.46    0.12]\n",
      " [  20.57   17.77  132.9  1326.      0.08    0.08    0.09    0.07    0.18    0.06    0.54    0.73\n",
      "     3.4    74.08    0.01    0.01    0.02    0.01    0.01    0.     24.99   23.41  158.8  1956.\n",
      "     0.12    0.19    0.24    0.19    0.28    0.09]\n",
      " [  19.69   21.25  130.   1203.      0.11    0.16    0.2     0.13    0.21    0.06    0.75    0.79\n",
      "     4.58   94.03    0.01    0.04    0.04    0.02    0.02    0.     23.57   25.53  152.5  1709.\n",
      "     0.14    0.42    0.45    0.24    0.36    0.09]]\n"
     ]
    }
   ],
   "source": [
    "import numpy as np\n",
    "from sklearn.datasets import load_breast_cancer\n",
    "  \n",
    "np.set_printoptions(precision=2, suppress=True, linewidth=100)\n",
    "raw_data = load_breast_cancer()\n",
    "data = raw_data['data']\n",
    "target = raw_data['target']\n",
    "print(data[:3])"
   ]
  }
 ],
 "metadata": {
  "kernelspec": {
   "display_name": "Python 3",
   "language": "python",
   "name": "python3"
  },
  "language_info": {
   "codemirror_mode": {
    "name": "ipython",
    "version": 3
   },
   "file_extension": ".py",
   "mimetype": "text/x-python",
   "name": "python",
   "nbconvert_exporter": "python",
   "pygments_lexer": "ipython3",
   "version": "3.9.6"
  },
  "orig_nbformat": 4
 },
 "nbformat": 4,
 "nbformat_minor": 2
}
