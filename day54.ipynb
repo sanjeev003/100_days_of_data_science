{
 "cells": [
  {
   "cell_type": "markdown",
   "metadata": {},
   "source": [
    "# Day 54 - grouping & mapping"
   ]
  },
  {
   "cell_type": "markdown",
   "metadata": {},
   "source": [
    "1. The df DataFrame is given below. Group this DataFrame by year and count the number of rows for each year.\n",
    "In response, print result to the console."
   ]
  },
  {
   "cell_type": "code",
   "execution_count": 1,
   "metadata": {},
   "outputs": [
    {
     "name": "stdout",
     "output_type": "stream",
     "text": [
      "year\n",
      "1998      4\n",
      "1999      2\n",
      "2000      4\n",
      "2001      8\n",
      "2002     15\n",
      "2003     17\n",
      "2004     31\n",
      "2005     57\n",
      "2006     78\n",
      "2007    125\n",
      "2008    174\n",
      "2009    198\n",
      "2010    342\n",
      "2011    466\n",
      "2012    580\n",
      "2013    649\n",
      "2014    797\n",
      "2015    744\n",
      "2016    741\n",
      "2017    587\n",
      "2018    298\n",
      "2019    102\n",
      "dtype: int64\n"
     ]
    }
   ],
   "source": [
    "import pandas as pd \n",
    " \n",
    "url = (\n",
    "    'https://storage.googleapis.com/esmartdata-courses-files/'\n",
    "    'dash-course/data.csv'\n",
    ")\n",
    "df = pd.read_csv(url, index_col=0)\n",
    "df.columns = [col.lower() for col in df.columns]\n",
    "print(df.groupby('year').size())"
   ]
  },
  {
   "cell_type": "markdown",
   "metadata": {},
   "source": [
    "2. The df DataFrame is given below. Check the distribution of the transmission column and perform the following mapping:\n",
    "\n",
    "'Manual' -> 0\n",
    "'Automatic' -> 1\n",
    "\n",
    "Print the first five rows of transmission column."
   ]
  },
  {
   "cell_type": "code",
   "execution_count": 2,
   "metadata": {},
   "outputs": [
    {
     "name": "stdout",
     "output_type": "stream",
     "text": [
      "0    0\n",
      "1    0\n",
      "2    0\n",
      "3    0\n",
      "4    1\n",
      "Name: transmission, dtype: int64\n"
     ]
    }
   ],
   "source": [
    "import pandas as pd \n",
    " \n",
    "url = (\n",
    "    'https://storage.googleapis.com/esmartdata-courses-files/'\n",
    "    'dash-course/data.csv'\n",
    ")\n",
    "df = pd.read_csv(url, index_col=0)\n",
    "df.columns = [col.lower() for col in df.columns]\n",
    "df['transmission'] = df['transmission'].map(\n",
    "    {'Manual': 0, 'Automatic': 1}\n",
    ")\n",
    "print(df['transmission'].head())"
   ]
  },
  {
   "cell_type": "markdown",
   "metadata": {},
   "source": [
    "3. The df DataFrame is given below. Save this object to the cars.csv file (do not save the index)."
   ]
  },
  {
   "cell_type": "code",
   "execution_count": 3,
   "metadata": {},
   "outputs": [],
   "source": [
    "import pandas as pd\n",
    "  \n",
    "url = (\n",
    "    'https://storage.googleapis.com/esmartdata-courses-files/'\n",
    "    'dash-course/data.csv'\n",
    ")\n",
    "df = pd.read_csv(url, index_col=0)\n",
    "df.columns = [col.lower() for col in df.columns]\n",
    "df.to_csv('cars.csv', index=False)"
   ]
  }
 ],
 "metadata": {
  "kernelspec": {
   "display_name": "Python 3",
   "language": "python",
   "name": "python3"
  },
  "language_info": {
   "codemirror_mode": {
    "name": "ipython",
    "version": 3
   },
   "file_extension": ".py",
   "mimetype": "text/x-python",
   "name": "python",
   "nbconvert_exporter": "python",
   "pygments_lexer": "ipython3",
   "version": "3.9.6"
  },
  "orig_nbformat": 4
 },
 "nbformat": 4,
 "nbformat_minor": 2
}
