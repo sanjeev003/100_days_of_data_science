{
 "cells": [
  {
   "cell_type": "markdown",
   "metadata": {},
   "source": [
    "# Day 65 - JSON Files"
   ]
  },
  {
   "cell_type": "markdown",
   "metadata": {},
   "source": [
    "1. The df DataFrame is given below. The pct_change column has the object type. Convert this column to float type.\n",
    "In response, print this DataFrame to the console."
   ]
  },
  {
   "cell_type": "code",
   "execution_count": null,
   "metadata": {},
   "outputs": [],
   "source": [
    "import pandas as pd\n",
    "\n",
    "pd.set_option('display.max_columns', 15)\n",
    "pd.set_option('display.width', 1000)\n",
    "df = pd.read_json('market.json')\n",
    "print(df)"
   ]
  },
  {
   "cell_type": "markdown",
   "metadata": {},
   "source": [
    "2. The df DataFrame is given below. Extract the country name from the first column and assign to 'country' column as shown below."
   ]
  },
  {
   "cell_type": "code",
   "execution_count": null,
   "metadata": {},
   "outputs": [],
   "source": [
    "import pandas as pd\n",
    " \n",
    "pd.set_option('display.max_columns', 15)\n",
    "pd.set_option('display.width', 1000)\n",
    "df = pd.read_json('market.json')\n",
    "df['country'] = (\n",
    "    df['profile']\n",
    "    .str.split(n=1, expand=True)[1]\n",
    "    .apply(lambda item: item[1:-1])\n",
    ")\n",
    "print(df)"
   ]
  },
  {
   "cell_type": "markdown",
   "metadata": {},
   "source": [
    "3. The df DataFrame is given below. Extract country names (sorted alphabetically) that occur more than once as a list and print it to the console."
   ]
  },
  {
   "cell_type": "code",
   "execution_count": null,
   "metadata": {},
   "outputs": [],
   "source": [
    "import pandas as pd\n",
    " \n",
    "pd.set_option('display.max_columns', 15)\n",
    "pd.set_option('display.width', 1000)\n",
    "df = pd.read_json('market.json')\n",
    "df['country'] = (\n",
    "    df['profile']\n",
    "    .str.split(n=1, expand=True)[1]\n",
    "    .apply(lambda item: item[1:-1])\n",
    ")\n",
    "print(\n",
    "    sorted(\n",
    "        df['country']\n",
    "        .value_counts()[df['country'].value_counts() > 1]\n",
    "        .index\n",
    "    )\n",
    ")"
   ]
  }
 ],
 "metadata": {
  "kernelspec": {
   "display_name": "Python 3",
   "language": "python",
   "name": "python3"
  },
  "language_info": {
   "codemirror_mode": {
    "name": "ipython",
    "version": 3
   },
   "file_extension": ".py",
   "mimetype": "text/x-python",
   "name": "python",
   "nbconvert_exporter": "python",
   "pygments_lexer": "ipython3",
   "version": "3.9.6"
  },
  "orig_nbformat": 4
 },
 "nbformat": 4,
 "nbformat_minor": 2
}
