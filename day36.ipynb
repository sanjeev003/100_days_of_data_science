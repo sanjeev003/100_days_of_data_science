{
 "cells": [
  {
   "attachments": {},
   "cell_type": "markdown",
   "metadata": {},
   "source": [
    "# Day 36 - pd.DataFrame() & pd.date_range()"
   ]
  },
  {
   "attachments": {},
   "cell_type": "markdown",
   "metadata": {},
   "source": [
    "1. The following df DataFrame is given:\n",
    "\n",
    "              normal   uniform  binomial\n",
    "2020-01-01  0.496714  0.167483         0\n",
    "2020-01-02 -0.138264  0.104568         0\n",
    "2020-01-03  0.647689  0.636430         0\n",
    "2020-01-04  1.523030  0.706476         0\n",
    "2020-01-05 -0.234153  0.031586         1\n",
    "...              ...       ...       ...\n",
    "2022-09-22 -0.281100  0.280683         1\n",
    "2022-09-23  1.797687  0.206993         0\n",
    "2022-09-24  0.640843  0.516573         0\n",
    "2022-09-25 -0.571179  0.005506         1\n",
    "2022-09-26  0.572583  0.007664         0\n",
    " \n",
    "[1000 rows x 3 columns]\n",
    "\n",
    "Print the first ten rows of this DataFrame then print blank line and print the last five rows of this object as shown below."
   ]
  },
  {
   "cell_type": "code",
   "execution_count": 1,
   "metadata": {},
   "outputs": [
    {
     "name": "stdout",
     "output_type": "stream",
     "text": [
      "              normal   uniform  binomial\n",
      "2020-01-01  0.496714  0.167483         0\n",
      "2020-01-02 -0.138264  0.104568         0\n",
      "2020-01-03  0.647689  0.636430         0\n",
      "2020-01-04  1.523030  0.706476         0\n",
      "2020-01-05 -0.234153  0.031586         1\n",
      "2020-01-06 -0.234137  0.936212         0\n",
      "2020-01-07  1.579213  0.051971         0\n",
      "2020-01-08  0.767435  0.541296         0\n",
      "2020-01-09 -0.469474  0.709061         1\n",
      "2020-01-10  0.542560  0.870969         0\n",
      "\n",
      "              normal   uniform  binomial\n",
      "2022-09-22 -0.281100  0.280683         1\n",
      "2022-09-23  1.797687  0.206993         0\n",
      "2022-09-24  0.640843  0.516573         0\n",
      "2022-09-25 -0.571179  0.005506         1\n",
      "2022-09-26  0.572583  0.007664         0\n"
     ]
    }
   ],
   "source": [
    "import numpy as np\n",
    "import pandas as pd \n",
    " \n",
    "np.random.seed(42)\n",
    "data_dict = {\n",
    "    'normal': np.random.normal(loc=0, scale=1, size=1000),\n",
    "    'uniform': np.random.uniform(low=0, high=1, size=1000),\n",
    "    'binomial': np.random.binomial(n=1, p=0.2, size=1000),\n",
    "}\n",
    " \n",
    "df = pd.DataFrame(\n",
    "    data=data_dict, index=pd.date_range('2020-01-01', periods=1000)\n",
    ")\n",
    "print(df.head(10))\n",
    "print()\n",
    "print(df.tail())"
   ]
  },
  {
   "attachments": {},
   "cell_type": "markdown",
   "metadata": {},
   "source": [
    "2. The following df DataFrame is given:\n",
    "\n",
    "              normal   uniform  binomial\n",
    "2020-01-01  0.496714  0.167483         0\n",
    "2020-01-02 -0.138264  0.104568         0\n",
    "2020-01-03  0.647689  0.636430         0\n",
    "2020-01-04  1.523030  0.706476         0\n",
    "2020-01-05 -0.234153  0.031586         1\n",
    "...              ...       ...       ...\n",
    "2022-09-22 -0.281100  0.280683         1\n",
    "2022-09-23  1.797687  0.206993         0\n",
    "2022-09-24  0.640843  0.516573         0\n",
    "2022-09-25 -0.571179  0.005506         1\n",
    "2022-09-26  0.572583  0.007664         0\n",
    " \n",
    "[1000 rows x 3 columns]\n",
    "\n",
    "Display basic information about the df object (number of rows, number of columns, type of variables) using pd.DataFrame.info() method, print blank line and print basic statistics of df (mean value, standard deviation, min, max, median) using pd.DataFrame.describe() method as shown below."
   ]
  },
  {
   "cell_type": "code",
   "execution_count": 2,
   "metadata": {},
   "outputs": [
    {
     "name": "stdout",
     "output_type": "stream",
     "text": [
      "<class 'pandas.core.frame.DataFrame'>\n",
      "DatetimeIndex: 1000 entries, 2020-01-01 to 2022-09-26\n",
      "Freq: D\n",
      "Data columns (total 3 columns):\n",
      " #   Column    Non-Null Count  Dtype  \n",
      "---  ------    --------------  -----  \n",
      " 0   normal    1000 non-null   float64\n",
      " 1   uniform   1000 non-null   float64\n",
      " 2   binomial  1000 non-null   int32  \n",
      "dtypes: float64(2), int32(1)\n",
      "memory usage: 27.3 KB\n",
      "None\n",
      "\n",
      "            normal      uniform    binomial\n",
      "count  1000.000000  1000.000000  1000.00000\n",
      "mean      0.019332     0.503649     0.19200\n",
      "std       0.979216     0.288357     0.39407\n",
      "min      -3.241267     0.003218     0.00000\n",
      "25%      -0.647590     0.247199     0.00000\n",
      "50%       0.025301     0.516126     0.00000\n",
      "75%       0.647944     0.746319     0.00000\n",
      "max       3.852731     0.999414     1.00000\n"
     ]
    }
   ],
   "source": [
    "import numpy as np\n",
    "import pandas as pd\n",
    " \n",
    "np.random.seed(42)\n",
    "data_dict = {\n",
    "    'normal': np.random.normal(loc=0, scale=1, size=1000),\n",
    "    'uniform': np.random.uniform(low=0, high=1, size=1000),\n",
    "    'binomial': np.random.binomial(n=1, p=0.2, size=1000),\n",
    "}\n",
    " \n",
    "df = pd.DataFrame(\n",
    "    data=data_dict, index=pd.date_range('2020-01-01', periods=1000)\n",
    ")\n",
    "print(df.info())\n",
    "print()\n",
    "print(df.describe())"
   ]
  },
  {
   "attachments": {},
   "cell_type": "markdown",
   "metadata": {},
   "source": [
    "3. The following df DataFrame is given:\n",
    "\n",
    "              normal   uniform  binomial\n",
    "2020-01-01  0.496714  0.167483         0\n",
    "2020-01-02 -0.138264  0.104568         0\n",
    "2020-01-03  0.647689  0.636430         0\n",
    "2020-01-04  1.523030  0.706476         0\n",
    "2020-01-05 -0.234153  0.031586         1\n",
    "...              ...       ...       ...\n",
    "2022-09-22 -0.281100  0.280683         1\n",
    "2022-09-23  1.797687  0.206993         0\n",
    "2022-09-24  0.640843  0.516573         0\n",
    "2022-09-25 -0.571179  0.005506         1\n",
    "2022-09-26  0.572583  0.007664         0\n",
    " \n",
    "[1000 rows x 3 columns]\n",
    "\n",
    "Find the distribution of the binomial column from this DataFrame. In response, print this distribution to the console as shown below."
   ]
  },
  {
   "cell_type": "code",
   "execution_count": 3,
   "metadata": {},
   "outputs": [
    {
     "name": "stdout",
     "output_type": "stream",
     "text": [
      "0    808\n",
      "1    192\n",
      "Name: binomial, dtype: int64\n"
     ]
    }
   ],
   "source": [
    "import numpy as np\n",
    "import pandas as pd\n",
    " \n",
    "np.random.seed(42)\n",
    "data_dict = {\n",
    "    'normal': np.random.normal(loc=0, scale=1, size=1000),\n",
    "    'uniform': np.random.uniform(low=0, high=1, size=1000),\n",
    "    'binomial': np.random.binomial(n=1, p=0.2, size=1000),\n",
    "}\n",
    " \n",
    "df = pd.DataFrame(\n",
    "    data=data_dict, index=pd.date_range('2020-01-01', periods=1000)\n",
    ")\n",
    "print(df['binomial'].value_counts())"
   ]
  }
 ],
 "metadata": {
  "kernelspec": {
   "display_name": "Python 3",
   "language": "python",
   "name": "python3"
  },
  "language_info": {
   "codemirror_mode": {
    "name": "ipython",
    "version": 3
   },
   "file_extension": ".py",
   "mimetype": "text/x-python",
   "name": "python",
   "nbconvert_exporter": "python",
   "pygments_lexer": "ipython3",
   "version": "3.9.6"
  },
  "orig_nbformat": 4
 },
 "nbformat": 4,
 "nbformat_minor": 2
}
