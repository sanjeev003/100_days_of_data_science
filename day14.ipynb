{
 "cells": [
  {
   "attachments": {},
   "cell_type": "markdown",
   "metadata": {},
   "source": [
    "1. The np.append() function in NumPy is used to append values to the end of an array along a specified axis. It takes three main arguments: the array to which the values will be appended, the values to append, and the axis along which the values will be appended.\n",
    "Here's the syntax of the np.append() function :-\n",
    ">>> np.append(arr, values, axis=None)\n",
    "    arr: The array to which the values will be appended.\n",
    "    values: The values to append. It can be a scalar, an array-like object, or another array.\n",
    "    axis (optional): The axis along which the values will be appended. If not specified, the array is flattened before appending the values.\n",
    "    The np.append() function returns a new array with the appended values.\n",
    "Note that using np.append() repeatedly in a loop to grow an array can be inefficient, as it creates a new array each time. In such cases, it is generally more efficient to preallocate the array and fill it with values using indexing.\n",
    "\n",
    "2. \n",
    "The np.squeeze() function in NumPy is used to remove single-dimensional entries (dimensions with size 1) from an array. It returns a new array with all the single-dimensional dimensions removed.\n",
    "Here's the syntax of the np.squeeze() function :- \n",
    ">>> np.squeeze(a, axis=None)\n",
    "    a: The input array from which single-dimensional entries will be removed.\n",
    "    axis (optional): The axis or axes along which to remove single-dimensional entries. If specified, only the dimensions with size 1 along the specified axis or axes will be removed. If not specified, all single-dimensional entries will be removed.\n",
    "    The np.squeeze() function returns a new array with the single-dimensional entries removed. If no single-dimensional entries are present, it returns the original array itself.\n",
    "The np.squeeze() function is useful in situations where you want to remove extra dimensions that have size 1, making the array more compact and easier to work with."
   ]
  },
  {
   "attachments": {},
   "cell_type": "markdown",
   "metadata": {},
   "source": [
    "1. Two randomly generated arrays are given:\n",
    "\n",
    "image1 = np.random.randint(low=0, high=256, size=(200, 300, 3), dtype=np.uint8)\n",
    "image2 = np.random.randint(low=0, high=256, size=(200, 300, 3), dtype=np.uint8)\n",
    "\n",
    "Expand each of these arrays by adding one dimension at the beginning and then combine these arrays into one called images. Expected shape of images array: (2, 200, 300, 3)."
   ]
  },
  {
   "cell_type": "code",
   "execution_count": 3,
   "metadata": {},
   "outputs": [],
   "source": [
    "import numpy as np\n",
    " \n",
    "image1 = np.random.randint(low=0, high=256, size=(200, 300, 3), dtype=np.uint8)\n",
    "image2 = np.random.randint(low=0, high=256, size=(200, 300, 3), dtype=np.uint8)\n",
    " \n",
    "image1 = np.expand_dims(image1, axis=0)\n",
    "image2 = np.expand_dims(image2, axis=0)\n",
    " \n",
    "images = np.append(image1, image2, axis=0)"
   ]
  },
  {
   "attachments": {},
   "cell_type": "markdown",
   "metadata": {},
   "source": [
    "2. The following array is given:\n",
    "\n",
    "A = np.array([[[1, 2, 3] , [6, 3, 2]]])\n",
    "\n",
    "Shape of this array is (1, 2, 3). Remove the unnecessary first dimension and extract (2, 3) array and print it to the console as shown below."
   ]
  },
  {
   "cell_type": "code",
   "execution_count": 5,
   "metadata": {},
   "outputs": [
    {
     "name": "stdout",
     "output_type": "stream",
     "text": [
      "[[1 2 3]\n",
      " [6 3 2]]\n"
     ]
    }
   ],
   "source": [
    "import numpy as np\n",
    "A = np.array([[[1, 2, 3] , [6, 3, 2]]])\n",
    "print(np.squeeze(A))"
   ]
  },
  {
   "attachments": {},
   "cell_type": "markdown",
   "metadata": {},
   "source": [
    "3. The following array is given:\n",
    "\n",
    "A = np.array([[0.4] , [0.9] , [0.5] , [0.6]])\n",
    "\n",
    "Shape of this array is (4, 1). Remove the unnecessary dimension and extract (4, ) array and print result to the console."
   ]
  },
  {
   "cell_type": "code",
   "execution_count": 7,
   "metadata": {},
   "outputs": [
    {
     "name": "stdout",
     "output_type": "stream",
     "text": [
      "[0.4 0.9 0.5 0.6]\n",
      "(4, 1)\n"
     ]
    }
   ],
   "source": [
    "import numpy as np\n",
    "A = np.array([[0.4] , [0.9] , [0.5] , [0.6]])\n",
    "print(np.squeeze(A))"
   ]
  }
 ],
 "metadata": {
  "kernelspec": {
   "display_name": "Python 3",
   "language": "python",
   "name": "python3"
  },
  "language_info": {
   "codemirror_mode": {
    "name": "ipython",
    "version": 3
   },
   "file_extension": ".py",
   "mimetype": "text/x-python",
   "name": "python",
   "nbconvert_exporter": "python",
   "pygments_lexer": "ipython3",
   "version": "3.9.6"
  },
  "orig_nbformat": 4
 },
 "nbformat": 4,
 "nbformat_minor": 2
}
