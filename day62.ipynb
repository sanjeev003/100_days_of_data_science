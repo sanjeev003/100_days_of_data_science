{
 "cells": [
  {
   "cell_type": "markdown",
   "metadata": {},
   "source": [
    "# Day 62 - categorical data & dummies"
   ]
  },
  {
   "cell_type": "markdown",
   "metadata": {},
   "source": [
    "1. The df DataFrame is given below. Check for missing values in this DataFrame and print result to the console."
   ]
  },
  {
   "cell_type": "code",
   "execution_count": 1,
   "metadata": {},
   "outputs": [
    {
     "name": "stdout",
     "output_type": "stream",
     "text": [
      "age         0\n",
      "sex         0\n",
      "bmi         0\n",
      "children    0\n",
      "smoker      0\n",
      "region      0\n",
      "charges     0\n",
      "dtype: int64\n"
     ]
    }
   ],
   "source": [
    "import pandas as pd\n",
    " \n",
    "url = ( 'https://storage.googleapis.com/esmartdata-courses-files/ml-course/insurance.csv' )\n",
    "df = pd.read_csv(url)\n",
    "print(df.isnull().sum())"
   ]
  },
  {
   "cell_type": "markdown",
   "metadata": {},
   "source": [
    "2. The df DataFrame is given below. Convert all categorical variables to 0-1 encoding and assign it to the df_dummies variable.\n",
    "In response, print first five rows of df_dummies to the console."
   ]
  },
  {
   "cell_type": "code",
   "execution_count": 2,
   "metadata": {},
   "outputs": [
    {
     "name": "stdout",
     "output_type": "stream",
     "text": [
      "   age     bmi  children      charges  sex_male  smoker_yes  region_northwest  \\\n",
      "0   19  27.900         0  16884.92400         0           1                 0   \n",
      "1   18  33.770         1   1725.55230         1           0                 0   \n",
      "2   28  33.000         3   4449.46200         1           0                 0   \n",
      "3   33  22.705         0  21984.47061         1           0                 1   \n",
      "4   32  28.880         0   3866.85520         1           0                 1   \n",
      "\n",
      "   region_southeast  region_southwest  \n",
      "0                 0                 1  \n",
      "1                 1                 0  \n",
      "2                 1                 0  \n",
      "3                 0                 0  \n",
      "4                 0                 0  \n"
     ]
    }
   ],
   "source": [
    "import pandas as pd\n",
    " \n",
    "url = ( 'https://storage.googleapis.com/esmartdata-courses-files/ml-course/insurance.csv' )\n",
    "df = pd.read_csv(url)\n",
    "for col in list(df.select_dtypes(include=['object']).columns):\n",
    "    df[col] = df[col].astype('category')\n",
    "df_dummies = pd.get_dummies(df, drop_first=True)\n",
    "print(df_dummies.head())"
   ]
  },
  {
   "cell_type": "markdown",
   "metadata": {},
   "source": [
    "3. The df DataFrame is given below. Calculate the correlations of columns in the df_dummies and assign it to the corr variable.\n",
    "In response, print corr variable to the console."
   ]
  },
  {
   "cell_type": "code",
   "execution_count": 3,
   "metadata": {},
   "outputs": [
    {
     "name": "stdout",
     "output_type": "stream",
     "text": [
      "                       age       bmi  children   charges  sex_male  \\\n",
      "age               1.000000  0.109272  0.042469  0.299008 -0.020856   \n",
      "bmi               0.109272  1.000000  0.012759  0.198341  0.046371   \n",
      "children          0.042469  0.012759  1.000000  0.067998  0.017163   \n",
      "charges           0.299008  0.198341  0.067998  1.000000  0.057292   \n",
      "sex_male         -0.020856  0.046371  0.017163  0.057292  1.000000   \n",
      "smoker_yes       -0.025019  0.003750  0.007673  0.787251  0.076185   \n",
      "region_northwest -0.000407 -0.135996  0.024806 -0.039905 -0.011156   \n",
      "region_southeast -0.011642  0.270025 -0.023066  0.073982  0.017117   \n",
      "region_southwest  0.010016 -0.006205  0.021914 -0.043210 -0.004184   \n",
      "\n",
      "                  smoker_yes  region_northwest  region_southeast  \\\n",
      "age                -0.025019         -0.000407         -0.011642   \n",
      "bmi                 0.003750         -0.135996          0.270025   \n",
      "children            0.007673          0.024806         -0.023066   \n",
      "charges             0.787251         -0.039905          0.073982   \n",
      "sex_male            0.076185         -0.011156          0.017117   \n",
      "smoker_yes          1.000000         -0.036945          0.068498   \n",
      "region_northwest   -0.036945          1.000000         -0.346265   \n",
      "region_southeast    0.068498         -0.346265          1.000000   \n",
      "region_southwest   -0.036945         -0.320829         -0.346265   \n",
      "\n",
      "                  region_southwest  \n",
      "age                       0.010016  \n",
      "bmi                      -0.006205  \n",
      "children                  0.021914  \n",
      "charges                  -0.043210  \n",
      "sex_male                 -0.004184  \n",
      "smoker_yes               -0.036945  \n",
      "region_northwest         -0.320829  \n",
      "region_southeast         -0.346265  \n",
      "region_southwest          1.000000  \n"
     ]
    }
   ],
   "source": [
    "import pandas as pd\n",
    "\n",
    "url = ( 'https://storage.googleapis.com/esmartdata-courses-files/ml-course/insurance.csv' )\n",
    "df = pd.read_csv(url)\n",
    "for col in list(df.select_dtypes(include=['object']).columns):\n",
    "    df[col] = df[col].astype('category')\n",
    "df_dummies = pd.get_dummies(df, drop_first=True)\n",
    "corr = df_dummies.corr()\n",
    "print(corr)"
   ]
  }
 ],
 "metadata": {
  "kernelspec": {
   "display_name": "Python 3",
   "language": "python",
   "name": "python3"
  },
  "language_info": {
   "codemirror_mode": {
    "name": "ipython",
    "version": 3
   },
   "file_extension": ".py",
   "mimetype": "text/x-python",
   "name": "python",
   "nbconvert_exporter": "python",
   "pygments_lexer": "ipython3",
   "version": "3.9.6"
  },
  "orig_nbformat": 4
 },
 "nbformat": 4,
 "nbformat_minor": 2
}
