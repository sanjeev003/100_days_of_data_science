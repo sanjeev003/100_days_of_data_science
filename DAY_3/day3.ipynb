{
 "cells": [
  {
   "attachments": {},
   "cell_type": "markdown",
   "metadata": {},
   "source": [
    "1. \n",
    "The np.greater() function is a NumPy function that compares two arrays element-wise and returns a Boolean array of the same shape as the input arrays. It checks whether the elements in the first array are greater than the corresponding elements in the second array.\n",
    "\n",
    "Here's the general syntax of np.greater(arr1 , arr2)\n",
    "\n",
    "2. \n",
    "The np.zeros() function is a NumPy function that creates a new array filled with zeros. It allows you to specify the shape and data type of the array you want to create.\n",
    "\n",
    "Here's the general syntax of np.zeros() -->  np.zeros(shape, dtype=float, order='C')\n",
    "\n",
    "shape: The shape of the array to be created. It can be specified as a single integer or as a tuple of integers.\n",
    "dtype (optional): The data type of the elements in the array. The default is float.\n",
    "order (optional): The memory layout of the array. It can be 'C' for row-major (C-style) or 'F' for column-major (Fortran-style). The default is 'C'.\n",
    "\n",
    "3. \n",
    "The np.ones() function is a NumPy function that creates a new array filled with ones. It allows you to specify the shape and data type of the array you want to create.\n",
    "\n",
    "Here's the general syntax of np.ones() --> np.ones(shape, dtype=float, order='C')\n",
    "\n",
    "4. `\n",
    "The np.full() function is a NumPy function that creates a new array with a specified shape and fill value. It allows you to create an array of any shape and fill it with a specific value.\n",
    "\n",
    "Here's the general syntax of np.full() --> np.full(shape, fill_value, dtype=None, order='C')"
   ]
  },
  {
   "attachments": {},
   "cell_type": "markdown",
   "metadata": {},
   "source": [
    "1. Check which numbers (element-wise) from the A array are greater than numbers from the B array and print result to the console as shown below.\n",
    "A = np.array([0.4, 0.5, 0.3, 0.9])\n",
    "B = np.array([0.38, 0.51, 0.3, 0.91])\n",
    "\n",
    "Expected result :  [ True False False False]"
   ]
  },
  {
   "cell_type": "code",
   "execution_count": 1,
   "metadata": {},
   "outputs": [
    {
     "name": "stdout",
     "output_type": "stream",
     "text": [
      "[ True False False False]\n"
     ]
    }
   ],
   "source": [
    "import numpy as np\n",
    "\n",
    "A = np.array([0.4, 0.5, 0.3, 0.9])\n",
    "B = np.array([0.38, 0.51, 0.3, 0.91])\n",
    "\n",
    "print(np.greater(A,B))"
   ]
  },
  {
   "attachments": {},
   "cell_type": "markdown",
   "metadata": {},
   "source": [
    "2. Using Numpy create a 4x4 array filled with zeros (set data type to int). In response print this array to the console."
   ]
  },
  {
   "cell_type": "code",
   "execution_count": 2,
   "metadata": {},
   "outputs": [
    {
     "name": "stdout",
     "output_type": "stream",
     "text": [
      "[[0 0 0 0]\n",
      " [0 0 0 0]\n",
      " [0 0 0 0]\n",
      " [0 0 0 0]]\n"
     ]
    }
   ],
   "source": [
    "import numpy as np\n",
    "\n",
    "print(np.zeros((4,4) , dtype=int))"
   ]
  },
  {
   "attachments": {},
   "cell_type": "markdown",
   "metadata": {},
   "source": [
    "3. Using Numpy, create an array 10x10 filled with number 255 and set the data type to float. Print this array to the console as shown below."
   ]
  },
  {
   "cell_type": "code",
   "execution_count": 4,
   "metadata": {},
   "outputs": [
    {
     "name": "stdout",
     "output_type": "stream",
     "text": [
      "[[255. 255. 255. 255. 255. 255. 255. 255. 255. 255.]\n",
      " [255. 255. 255. 255. 255. 255. 255. 255. 255. 255.]\n",
      " [255. 255. 255. 255. 255. 255. 255. 255. 255. 255.]\n",
      " [255. 255. 255. 255. 255. 255. 255. 255. 255. 255.]\n",
      " [255. 255. 255. 255. 255. 255. 255. 255. 255. 255.]\n",
      " [255. 255. 255. 255. 255. 255. 255. 255. 255. 255.]\n",
      " [255. 255. 255. 255. 255. 255. 255. 255. 255. 255.]\n",
      " [255. 255. 255. 255. 255. 255. 255. 255. 255. 255.]\n",
      " [255. 255. 255. 255. 255. 255. 255. 255. 255. 255.]\n",
      " [255. 255. 255. 255. 255. 255. 255. 255. 255. 255.]]\n"
     ]
    }
   ],
   "source": [
    "# with np.ones() method\n",
    "import numpy as np\n",
    "\n",
    "print(np.ones(shape=(10,10) , dtype=float )* 255)"
   ]
  },
  {
   "cell_type": "code",
   "execution_count": 3,
   "metadata": {},
   "outputs": [
    {
     "name": "stdout",
     "output_type": "stream",
     "text": [
      "[[255. 255. 255. 255. 255. 255. 255. 255. 255. 255.]\n",
      " [255. 255. 255. 255. 255. 255. 255. 255. 255. 255.]\n",
      " [255. 255. 255. 255. 255. 255. 255. 255. 255. 255.]\n",
      " [255. 255. 255. 255. 255. 255. 255. 255. 255. 255.]\n",
      " [255. 255. 255. 255. 255. 255. 255. 255. 255. 255.]\n",
      " [255. 255. 255. 255. 255. 255. 255. 255. 255. 255.]\n",
      " [255. 255. 255. 255. 255. 255. 255. 255. 255. 255.]\n",
      " [255. 255. 255. 255. 255. 255. 255. 255. 255. 255.]\n",
      " [255. 255. 255. 255. 255. 255. 255. 255. 255. 255.]\n",
      " [255. 255. 255. 255. 255. 255. 255. 255. 255. 255.]]\n"
     ]
    }
   ],
   "source": [
    "# with np.full() method\n",
    "import numpy as np\n",
    "\n",
    "print(np.full(shape=(10, 10), fill_value=255, dtype='float'))\n"
   ]
  }
 ],
 "metadata": {
  "kernelspec": {
   "display_name": "Python 3",
   "language": "python",
   "name": "python3"
  },
  "language_info": {
   "codemirror_mode": {
    "name": "ipython",
    "version": 3
   },
   "file_extension": ".py",
   "mimetype": "text/x-python",
   "name": "python",
   "nbconvert_exporter": "python",
   "pygments_lexer": "ipython3",
   "version": "3.9.6"
  },
  "orig_nbformat": 4
 },
 "nbformat": 4,
 "nbformat_minor": 2
}
