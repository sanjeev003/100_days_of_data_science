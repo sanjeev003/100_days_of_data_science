{
 "cells": [
  {
   "cell_type": "markdown",
   "metadata": {},
   "source": [
    "# Day 77 - data preprocessing"
   ]
  },
  {
   "cell_type": "markdown",
   "metadata": {},
   "source": [
    "1. The df DataFrame is given below:\n",
    "<br>\n",
    "   weight weight_cut <br>\n",
    "0    75.0      light <br>\n",
    "1    78.5     normal <br>\n",
    "2    85.0      heavy <br>\n",
    "3    91.0      heavy <br>\n",
    "4    84.5      heavy <br> \n",
    "5    83.0      heavy <br> \n",
    "6    68.0      light <br>\n",
    "<br>\n",
    "Using pd.get_dummies() function convert weight_cut categorical column into dummy variable as shown below."
   ]
  },
  {
   "cell_type": "code",
   "execution_count": 1,
   "metadata": {},
   "outputs": [
    {
     "name": "stdout",
     "output_type": "stream",
     "text": [
      "   weight  weight_cut_light  weight_cut_normal  weight_cut_heavy\n",
      "0    75.0                 1                  0                 0\n",
      "1    78.5                 0                  1                 0\n",
      "2    85.0                 0                  0                 1\n",
      "3    91.0                 0                  0                 1\n",
      "4    84.5                 0                  0                 1\n",
      "5    83.0                 0                  0                 1\n",
      "6    68.0                 1                  0                 0\n"
     ]
    }
   ],
   "source": [
    "import pandas as pd\n",
    " \n",
    "df = pd.DataFrame(\n",
    "    data={'weight': [75.0, 78.5, 85.0, 91.0, 84.5, 83.0, 68.0]}\n",
    ")\n",
    "df['weight_cut'] = pd.cut(\n",
    "    df['weight'],\n",
    "    bins=(60, 75, 80, 95),\n",
    "    labels=['light', 'normal', 'heavy'],\n",
    ")\n",
    "df = pd.get_dummies(df)\n",
    "print(df)"
   ]
  },
  {
   "cell_type": "markdown",
   "metadata": {},
   "source": [
    "2. The df DataFrame is given below:\n",
    "<br>\n",
    "               currency <br>\n",
    "0            [PLN, USD] <br>\n",
    "1  [EUR, USD, PLN, CAD] <br>\n",
    "2                 [GBP] <br>\n",
    "3       [JPY, CZK, HUF] <br>\n",
    "4                    [] <br>\n",
    "\n",
    "Assign a new column 'number' that takes the number of items in the currency column."
   ]
  },
  {
   "cell_type": "code",
   "execution_count": 2,
   "metadata": {},
   "outputs": [
    {
     "name": "stdout",
     "output_type": "stream",
     "text": [
      "               currency  number\n",
      "0            [PLN, USD]       2\n",
      "1  [EUR, USD, PLN, CAD]       4\n",
      "2                 [GBP]       1\n",
      "3       [JPY, CZK, HUF]       3\n",
      "4                    []       0\n"
     ]
    }
   ],
   "source": [
    "import pandas as pd\n",
    " \n",
    "data_dict = {\n",
    "    'currency': [\n",
    "        ['PLN', 'USD'],\n",
    "        ['EUR', 'USD', 'PLN', 'CAD'],\n",
    "        ['GBP'],\n",
    "        ['JPY', 'CZK', 'HUF'],\n",
    "        [],\n",
    "    ]\n",
    "}\n",
    "df = pd.DataFrame(data=data_dict)\n",
    "df['number'] = df['currency'].apply(len)\n",
    "print(df)"
   ]
  },
  {
   "cell_type": "markdown",
   "metadata": {},
   "source": [
    "3. The df DataFrame is given below:\n",
    "<br>\n",
    "               currency <br>\n",
    "0            [PLN, USD] <br>\n",
    "1  [EUR, USD, PLN, CAD] <br>\n",
    "2                 [GBP] <br>\n",
    "3       [JPY, CZK, HUF] <br>\n",
    "4                    [] <br>\n",
    "\n",
    "Assign a new column 'PLN_flag' which stores 1 when the currency 'PLN' is in the currency column, otherwise 0 as shown below."
   ]
  },
  {
   "cell_type": "code",
   "execution_count": 3,
   "metadata": {},
   "outputs": [
    {
     "name": "stdout",
     "output_type": "stream",
     "text": [
      "               currency  PLN_flag\n",
      "0            [PLN, USD]         1\n",
      "1  [EUR, USD, PLN, CAD]         1\n",
      "2                 [GBP]         0\n",
      "3       [JPY, CZK, HUF]         0\n",
      "4                    []         0\n"
     ]
    }
   ],
   "source": [
    "import pandas as pd\n",
    " \n",
    "data_dict = {\n",
    "    'currency': [\n",
    "        ['PLN', 'USD'],\n",
    "        ['EUR', 'USD', 'PLN', 'CAD'],\n",
    "        ['GBP'],\n",
    "        ['JPY', 'CZK', 'HUF'],\n",
    "        [],\n",
    "    ]\n",
    "}\n",
    "df = pd.DataFrame(data=data_dict)\n",
    "df['PLN_flag'] = df['currency'].apply(\n",
    "    lambda item: 1 if 'PLN' in item else 0\n",
    ")\n",
    "print(df)"
   ]
  }
 ],
 "metadata": {
  "kernelspec": {
   "display_name": "Python 3",
   "language": "python",
   "name": "python3"
  },
  "language_info": {
   "codemirror_mode": {
    "name": "ipython",
    "version": 3
   },
   "file_extension": ".py",
   "mimetype": "text/x-python",
   "name": "python",
   "nbconvert_exporter": "python",
   "pygments_lexer": "ipython3",
   "version": "3.9.6"
  },
  "orig_nbformat": 4
 },
 "nbformat": 4,
 "nbformat_minor": 2
}
