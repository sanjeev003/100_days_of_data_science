{
 "cells": [
  {
   "cell_type": "markdown",
   "metadata": {},
   "source": [
    "# Day 93 - LocalOutlierFactor & IsolationForest"
   ]
  },
  {
   "cell_type": "markdown",
   "metadata": {},
   "source": [
    "1. Load blobs.csv file into the df DataFrame. The file contains two variables x1 and x2. <br>\n",
    "Use the LocalOutlierFactor class from the scikit-learn to analyze outliers in the given dataset. Set the following arguments: <br>\n",
    "<br>\n",
    "n_neighbors=20 <br>\n",
    "<br>\n",
    "As a reminder, 1 is the normal element, -1 is the outlier. Assign a new column to the df DataFrame named 'lof' that stores information whether a given sample is a normal or an outlier. In response, print the first ten rows of the df DataFrame to the console."
   ]
  },
  {
   "cell_type": "code",
   "execution_count": 1,
   "metadata": {},
   "outputs": [
    {
     "name": "stdout",
     "output_type": "stream",
     "text": [
      "          x2         x1  lof\n",
      "0  -7.798349  -8.579798    1\n",
      "1  -8.600454  -7.649221    1\n",
      "2  -0.864108   6.572599    1\n",
      "3   4.204516   4.170723    1\n",
      "4 -10.955876  -8.896282    1\n",
      "5   6.355198   1.653293    1\n",
      "6  -2.162836   9.784921    1\n",
      "7   5.465742   0.845721    1\n",
      "8  -3.467546   8.642968    1\n",
      "9  -4.891805  10.327393    1\n"
     ]
    }
   ],
   "source": [
    "import numpy as np\n",
    "import pandas as pd\n",
    "from sklearn.neighbors import LocalOutlierFactor\n",
    " \n",
    "np.random.seed(42)\n",
    "df = pd.read_csv('blobs.csv')\n",
    "data = df.values\n",
    "lof = LocalOutlierFactor(n_neighbors=20)\n",
    "y_pred = lof.fit_predict(data)\n",
    " \n",
    "df['lof'] = y_pred\n",
    "print(df.head(10))"
   ]
  },
  {
   "cell_type": "markdown",
   "metadata": {},
   "source": [
    "2. Load blobs.csv file into the df DataFrame. The file contains two variables x1 and x2.  <br>\n",
    "The LocalOutlierFactor class from the scikit-learn was used to analyze outliers from this dataset. <br>\n",
    "As a reminder, 1 is the normal element, -1 is the outlier. A new column was assigned to the df object named lof, which stores the information whether a given sample is normal or not: <br>\n",
    "<br>\n",
    "          x2         x1  lof <br>\n",
    "0  -7.798349  -8.579798    1 <br>\n",
    "1  -8.600454  -7.649221    1 <br>\n",
    "2  -0.864108   6.572599    1 <br>\n",
    "3   4.204516   4.170723    1 <br>\n",
    "4 -10.955876  -8.896282    1 <br>\n",
    "5   6.355198   1.653293    1 <br>\n",
    "6  -2.162836   9.784921    1 <br>\n",
    "7   5.465742   0.845721    1 <br>\n",
    "8  -3.467546   8.642968    1 <br>\n",
    "9  -4.891805  10.327393    1 <br>\n",
    "<br>\n",
    "Find the number of outliers in this dataset. In response, print the result to the console as shown below. v\n",
    "<br>\n",
    "Expected Result: <br>\n",
    "<br>\n",
    " 1    290 <br>\n",
    "-1     10 <br>\n",
    "Name: lof, dtype: int64 "
   ]
  },
  {
   "cell_type": "code",
   "execution_count": 2,
   "metadata": {},
   "outputs": [
    {
     "name": "stdout",
     "output_type": "stream",
     "text": [
      " 1    290\n",
      "-1     10\n",
      "Name: lof, dtype: int64\n"
     ]
    }
   ],
   "source": [
    "import numpy as np\n",
    "import pandas as pd\n",
    "from sklearn.neighbors import LocalOutlierFactor\n",
    " \n",
    "np.random.seed(42)\n",
    "df = pd.read_csv('blobs.csv')\n",
    "data = df.values\n",
    "lof = LocalOutlierFactor(n_neighbors=30)\n",
    "y_pred = lof.fit_predict(data)\n",
    " \n",
    "df['lof'] = y_pred\n",
    "print(df['lof'].value_counts())"
   ]
  },
  {
   "cell_type": "markdown",
   "metadata": {},
   "source": [
    "3. Load factory.csv file into the df DataFrame. This file contains two variables item_length and item_width. <br>\n",
    "Using the IsolationForest class from the scikit-learn, analyze the outliers in this dataset. Set following arguments: <br>\n",
    "<br>\n",
    "n_estimators=100 <br>\n",
    "contamination=0.05 <br>\n",
    "random_state=42 <br>\n",
    "<br>\n",
    "As a reminder, 1 is the normal element, -1 is the outlier. Assign a new column to the df object named 'outlier_flag' that stores information whether the sample is normal or outlier. In response, print the first ten rows of the df object to the console."
   ]
  },
  {
   "cell_type": "code",
   "execution_count": 3,
   "metadata": {},
   "outputs": [
    {
     "name": "stderr",
     "output_type": "stream",
     "text": [
      "e:\\python\\lib\\site-packages\\sklearn\\base.py:450: UserWarning: X does not have valid feature names, but IsolationForest was fitted with feature names\n",
      "  warnings.warn(\n"
     ]
    },
    {
     "name": "stdout",
     "output_type": "stream",
     "text": [
      "   item_length  item_width  outlier_flag\n",
      "0     6.206380    5.618286             1\n",
      "1     5.756649    5.921924             1\n",
      "2     5.576329    5.792401             1\n",
      "3     5.304950    7.235000             1\n",
      "4     6.764064    5.965792             1\n",
      "5     5.668838    5.708257             1\n",
      "6     6.241278    6.533104             1\n",
      "7     5.951632    6.503750             1\n",
      "8     7.192132    6.249855             1\n",
      "9     5.999551    7.660598             1\n"
     ]
    }
   ],
   "source": [
    "import numpy as np\n",
    "import pandas as pd\n",
    "from sklearn.ensemble import IsolationForest\n",
    "  \n",
    "np.random.seed(42)\n",
    "df = pd.read_csv('factory.csv')\n",
    "outlier = IsolationForest(\n",
    "    n_estimators=100, contamination=0.05, random_state=42\n",
    ")\n",
    "outlier.fit(df)\n",
    "df['outlier_flag'] = outlier.predict(df)\n",
    "print(df.head(10))"
   ]
  },
  {
   "cell_type": "markdown",
   "metadata": {},
   "source": [
    "4. The factory.csv file was loaded into the df DataFrame. This file contains two variables item_length and item_width. <br>\n",
    "The IsolationForest class from the scikit-learn was used to detect outliers from the given dataset. <br>\n",
    "As a reminder, 1 is the normal element, -1 is the outlier. A new column was assigned to the df object named outlier_flag, which stores the information whether a given sample is normal or not: <br>\n",
    "<br>\n",
    "   item_length  item_width  outlier_flag <br>\n",
    "0     6.206380    5.618286             1 <br>\n",
    "1     5.756649    5.921924             1 <br>\n",
    "2     5.576329    5.792401             1 <br>\n",
    "3     5.304950    7.235000             1 <br>\n",
    "4     6.764064    5.965792             1 <br>\n",
    "5     5.668838    5.708257             1 <br>\n",
    "6     6.241278    6.533104             1 <br>\n",
    "7     5.951632    6.503750             1 <br>\n",
    "8     7.192132    6.249855             1 <br>\n",
    "9     5.999551    7.660598             1 <br>\n",
    "Find the number of outliers in this dataset and print the result to the console as shown below."
   ]
  },
  {
   "cell_type": "code",
   "execution_count": 4,
   "metadata": {},
   "outputs": [
    {
     "name": "stdout",
     "output_type": "stream",
     "text": [
      " 1    380\n",
      "-1     20\n",
      "Name: outlier_flag, dtype: int64\n"
     ]
    },
    {
     "name": "stderr",
     "output_type": "stream",
     "text": [
      "e:\\python\\lib\\site-packages\\sklearn\\base.py:450: UserWarning: X does not have valid feature names, but IsolationForest was fitted with feature names\n",
      "  warnings.warn(\n"
     ]
    }
   ],
   "source": [
    "import numpy as np\n",
    "import pandas as pd\n",
    "from sklearn.ensemble import IsolationForest\n",
    " \n",
    "np.random.seed(42)\n",
    "df = pd.read_csv('factory.csv')\n",
    "outlier = IsolationForest(\n",
    "    n_estimators=100, contamination=0.05, random_state=42\n",
    ")\n",
    "outlier.fit(df)\n",
    "df['outlier_flag'] = outlier.predict(df)\n",
    "print(df['outlier_flag'].value_counts())"
   ]
  }
 ],
 "metadata": {
  "kernelspec": {
   "display_name": "Python 3",
   "language": "python",
   "name": "python3"
  },
  "language_info": {
   "codemirror_mode": {
    "name": "ipython",
    "version": 3
   },
   "file_extension": ".py",
   "mimetype": "text/x-python",
   "name": "python",
   "nbconvert_exporter": "python",
   "pygments_lexer": "ipython3",
   "version": "3.9.6"
  },
  "orig_nbformat": 4
 },
 "nbformat": 4,
 "nbformat_minor": 2
}
