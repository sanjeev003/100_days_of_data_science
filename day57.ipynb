{
 "cells": [
  {
   "cell_type": "markdown",
   "metadata": {},
   "source": [
    "# Day 57 - grouping & querying"
   ]
  },
  {
   "cell_type": "markdown",
   "metadata": {},
   "source": [
    "1. The df DataFrame is given below. Group this DataFrame by hour and calculate the average value of the cnt column. Assign the result to the cnt_by_hour variable and reset the index.\n",
    "In repsonse, print cnt_by_hour DataFrame to the console as shown below."
   ]
  },
  {
   "cell_type": "code",
   "execution_count": 1,
   "metadata": {},
   "outputs": [
    {
     "name": "stdout",
     "output_type": "stream",
     "text": [
      "    hour          cnt\n",
      "0      0   290.609116\n",
      "1      1   200.631215\n",
      "2      2   136.303745\n",
      "3      3    94.245492\n",
      "4      4    73.313454\n",
      "5      5   110.707351\n",
      "6      6   466.626722\n",
      "7      7  1468.745179\n",
      "8      8  2882.823204\n",
      "9      9  1653.019257\n",
      "10    10  1064.660690\n",
      "11    11  1151.218707\n",
      "12    12  1433.717421\n",
      "13    13  1505.739011\n",
      "14    14  1472.004121\n",
      "15    15  1564.621399\n",
      "16    16  1869.801370\n",
      "17    17  2829.585165\n",
      "18    18  2629.043956\n",
      "19    19  1651.510316\n",
      "20    20  1059.781293\n",
      "21    21   741.249311\n",
      "22    22   592.409655\n",
      "23    23   439.652355\n"
     ]
    }
   ],
   "source": [
    "import pandas as pd\n",
    "\n",
    "url = ( 'https://storage.googleapis.com/esmartdata-courses-files/ds-bootcamp/london_bike.csv' )\n",
    "df = pd.read_csv(url)\n",
    "df['timestamp'] = pd.to_datetime(df['timestamp'])\n",
    "df['hour'] = df['timestamp'].dt.hour\n",
    "cnt_by_hour = df.groupby('hour')['cnt'].mean().reset_index()\n",
    "print(cnt_by_hour)"
   ]
  },
  {
   "cell_type": "markdown",
   "metadata": {},
   "source": [
    "2. The df DataFrame is given below. Group this DataFrame by is_weekend and hour columns and calculate the average value for the cnt variable. Assign the result to the cnt_by_weekend_hour variable and reset the index.\n",
    "In response, print cnt_by_weekend_hour DataFrame to the console as shown below."
   ]
  },
  {
   "cell_type": "code",
   "execution_count": 2,
   "metadata": {},
   "outputs": [
    {
     "name": "stdout",
     "output_type": "stream",
     "text": [
      "    is_weekend  hour          cnt\n",
      "0          0.0     0   215.366795\n",
      "1          0.0     1   128.001931\n",
      "2          0.0     2    81.007737\n",
      "3          0.0     3    53.250000\n",
      "4          0.0     4    52.248062\n",
      "5          0.0     5   116.052326\n",
      "6          0.0     6   604.655106\n",
      "7          0.0     7  1969.518304\n",
      "8          0.0     8  3863.922780\n",
      "9          0.0     9  1997.605769\n",
      "10         0.0    10  1003.832692\n",
      "11         0.0    11   968.384615\n",
      "12         0.0    12  1233.938462\n",
      "13         0.0    13  1276.556840\n",
      "14         0.0    14  1211.795761\n",
      "15         0.0    15  1330.265385\n",
      "16         0.0    16  1801.692898\n",
      "17         0.0    17  3232.104046\n",
      "18         0.0    18  3051.809249\n",
      "19         0.0    19  1825.682081\n",
      "20         0.0    20  1133.965318\n",
      "21         0.0    21   789.131274\n",
      "22         0.0    22   614.686654\n",
      "23         0.0    23   434.893617\n",
      "24         1.0     0   479.810680\n",
      "25         1.0     1   383.262136\n",
      "26         1.0     2   276.441176\n",
      "27         1.0     3   197.434146\n",
      "28         1.0     4   126.336585\n",
      "29         1.0     5    97.253659\n",
      "30         1.0     6   120.555556\n",
      "31         1.0     7   213.183575\n",
      "32         1.0     8   415.786408\n",
      "33         1.0     9   787.391304\n",
      "34         1.0    10  1218.956098\n",
      "35         1.0    11  1610.512077\n",
      "36         1.0    12  1930.775120\n",
      "37         1.0    13  2074.856459\n",
      "38         1.0    14  2118.167464\n",
      "39         1.0    15  2147.708134\n",
      "40         1.0    16  2039.583732\n",
      "41         1.0    17  1830.028708\n",
      "42         1.0    18  1579.210526\n",
      "43         1.0    19  1216.918269\n",
      "44         1.0    20   874.677885\n",
      "45         1.0    21   622.004808\n",
      "46         1.0    22   537.038462\n",
      "47         1.0    23   451.653659\n"
     ]
    }
   ],
   "source": [
    "import pandas as pd\n",
    " \n",
    "\n",
    "url = ('https://storage.googleapis.com/esmartdata-courses-files/ds-bootcamp/london_bike.csv' )\n",
    "df = pd.read_csv(url)\n",
    "df['timestamp'] = pd.to_datetime(df['timestamp'])\n",
    "df['hour'] = df['timestamp'].dt.hour\n",
    "cnt_by_weekend_hour = (\n",
    "    df.groupby(['is_weekend', 'hour'])['cnt'].mean().reset_index()\n",
    ")\n",
    "print(cnt_by_weekend_hour)"
   ]
  },
  {
   "cell_type": "markdown",
   "metadata": {},
   "source": [
    "3. The df DataFrame is given below. Extract rows for which the wind_speed column is less than 10.0 and the hum is greater than 90.0."
   ]
  },
  {
   "cell_type": "code",
   "execution_count": 3,
   "metadata": {},
   "outputs": [
    {
     "name": "stdout",
     "output_type": "stream",
     "text": [
      "                timestamp  cnt   t1   t2    hum  wind_speed  weather_code  \\\n",
      "0     2015-01-04 00:00:00  182  3.0  2.0   93.0         6.0           3.0   \n",
      "1     2015-01-04 01:00:00  138  3.0  2.5   93.0         5.0           1.0   \n",
      "2     2015-01-04 02:00:00  134  2.5  2.5   96.5         0.0           1.0   \n",
      "3     2015-01-04 03:00:00   72  2.0  2.0  100.0         0.0           1.0   \n",
      "4     2015-01-04 04:00:00   47  2.0  0.0   93.0         6.5           1.0   \n",
      "...                   ...  ...  ...  ...    ...         ...           ...   \n",
      "17312 2016-12-30 18:00:00  674  4.0  2.0  100.0         9.0           4.0   \n",
      "17319 2016-12-31 01:00:00  123  5.0  3.5  100.0         7.5           4.0   \n",
      "17320 2016-12-31 02:00:00   85  6.0  4.0   93.0         8.0           4.0   \n",
      "17370 2017-01-02 04:00:00   18  3.0  0.5   93.0         8.0           2.0   \n",
      "17371 2017-01-02 05:00:00   35  3.0  2.5   93.0         5.0           2.0   \n",
      "\n",
      "       is_holiday  is_weekend  season  hour  \n",
      "0             0.0         1.0     3.0     0  \n",
      "1             0.0         1.0     3.0     1  \n",
      "2             0.0         1.0     3.0     2  \n",
      "3             0.0         1.0     3.0     3  \n",
      "4             0.0         1.0     3.0     4  \n",
      "...           ...         ...     ...   ...  \n",
      "17312         0.0         0.0     3.0    18  \n",
      "17319         0.0         1.0     3.0     1  \n",
      "17320         0.0         1.0     3.0     2  \n",
      "17370         1.0         0.0     3.0     4  \n",
      "17371         1.0         0.0     3.0     5  \n",
      "\n",
      "[692 rows x 11 columns]\n"
     ]
    }
   ],
   "source": [
    "import pandas as pd\n",
    " \n",
    "url = ( 'https://storage.googleapis.com/esmartdata-courses-files/ds-bootcamp/london_bike.csv' )\n",
    "df = pd.read_csv(url)\n",
    "df['timestamp'] = pd.to_datetime(df['timestamp'])\n",
    "df['hour'] = df['timestamp'].dt.hour\n",
    "print(df.query(\"wind_speed < 10.0 and hum > 90.0\"))"
   ]
  }
 ],
 "metadata": {
  "kernelspec": {
   "display_name": "Python 3",
   "language": "python",
   "name": "python3"
  },
  "language_info": {
   "codemirror_mode": {
    "name": "ipython",
    "version": 3
   },
   "file_extension": ".py",
   "mimetype": "text/x-python",
   "name": "python",
   "nbconvert_exporter": "python",
   "pygments_lexer": "ipython3",
   "version": "3.9.6"
  },
  "orig_nbformat": 4
 },
 "nbformat": 4,
 "nbformat_minor": 2
}
