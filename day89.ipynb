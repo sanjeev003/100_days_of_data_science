{
 "cells": [
  {
   "cell_type": "markdown",
   "metadata": {},
   "source": [
    "# Day 89 - random forest, grid search & CountVectorizer"
   ]
  },
  {
   "cell_type": "markdown",
   "metadata": {},
   "source": [
    "1. The following arrays are given: <br>\n",
    "<br>\n",
    "X_train, y_train <br>\n",
    "X_test, y_test <br>\n",
    "<br>\n",
    "Using the RandomForestClassifier class from the scikit-learn package, create a classification model (set  random_state=42). Train the model on the train set and evaluate on the test set."
   ]
  },
  {
   "cell_type": "code",
   "execution_count": 1,
   "metadata": {},
   "outputs": [
    {
     "name": "stdout",
     "output_type": "stream",
     "text": [
      "Accuracy: 0.9300\n"
     ]
    }
   ],
   "source": [
    "import numpy as np\n",
    "import pandas as pd\n",
    " \n",
    "from sklearn.datasets import make_moons\n",
    "from sklearn.model_selection import train_test_split\n",
    "from sklearn.ensemble import RandomForestClassifier\n",
    " \n",
    "np.random.seed(42)\n",
    "raw_data = make_moons(n_samples=2000, noise=0.25, random_state=42)\n",
    "data = raw_data[0]\n",
    "target = raw_data[1]\n",
    " \n",
    "X_train, X_test, y_train, y_test = train_test_split(data, target)\n",
    " \n",
    "classifier = RandomForestClassifier(random_state=42)\n",
    "classifier.fit(X_train, y_train)\n",
    "acc = classifier.score(X_test, y_test)\n",
    "print(f'Accuracy: {acc:.4f}')"
   ]
  },
  {
   "cell_type": "markdown",
   "metadata": {},
   "source": [
    "2. The following arrays are given: <br>\n",
    "<br>\n",
    "X_train, y_train <br>\n",
    "X_test, y_test <br>\n",
    "<br>\n",
    "Using the RandomForestClassifier class and grid search method (GridSearchCV class - set scoring='accuracy', cv=5) find the optimal values of criterion, max_depth and min_samples_leaf parameters. Search for parameter values from the following: <br>\n",
    "for criterion -> ['gini', 'entropy'] <br>\n",
    "for max_depth -> [6, 7, 8] <br>\n",
    "for min_samples_leaf -> [4, 5] <br>\n",
    "Train the model on the train set and evaluate on the test set."
   ]
  },
  {
   "cell_type": "code",
   "execution_count": 2,
   "metadata": {},
   "outputs": [
    {
     "name": "stdout",
     "output_type": "stream",
     "text": [
      "{'criterion': 'gini', 'max_depth': 8, 'min_samples_leaf': 4}\n"
     ]
    }
   ],
   "source": [
    "import numpy as np\n",
    "import pandas as pd\n",
    " \n",
    "from sklearn.datasets import make_moons\n",
    "from sklearn.model_selection import train_test_split\n",
    "from sklearn.ensemble import RandomForestClassifier\n",
    "from sklearn.model_selection import GridSearchCV\n",
    " \n",
    "np.random.seed(42)\n",
    "raw_data = make_moons(n_samples=2000, noise=0.25, random_state=42)\n",
    "data = raw_data[0]\n",
    "target = raw_data[1]\n",
    " \n",
    "X_train, X_test, y_train, y_test = train_test_split(data, target)\n",
    " \n",
    "classifier = RandomForestClassifier(random_state=42)\n",
    " \n",
    "param_grid = {\n",
    "    'criterion': ['gini', 'entropy'],\n",
    "    'max_depth': [6, 7, 8],\n",
    "    'min_samples_leaf': [4, 5],\n",
    "}\n",
    " \n",
    "grid_search = GridSearchCV(\n",
    "    classifier,\n",
    "    param_grid=param_grid,\n",
    "    n_jobs=-1,\n",
    "    scoring='accuracy',\n",
    "    cv=2,\n",
    ")\n",
    "grid_search.fit(X_train, y_train)\n",
    "grid_search.score(X_test, y_test)\n",
    "print(grid_search.best_params_)"
   ]
  },
  {
   "cell_type": "markdown",
   "metadata": {},
   "source": [
    "3. The following list with text documents is given: <br>\n",
    "<br>\n",
    "documents = [ <br>\n",
    "    'python is a programming language', <br>\n",
    "    'python is popular', <br>\n",
    "    'programming in python', <br>\n",
    "    'object-oriented programming in python' <br>\n",
    "] <br>\n",
    "<br>\n",
    "Vectorize your documents with the CountVectorizer class from the scikit-learn."
   ]
  },
  {
   "cell_type": "code",
   "execution_count": 3,
   "metadata": {},
   "outputs": [
    {
     "name": "stderr",
     "output_type": "stream",
     "text": [
      "e:\\python\\lib\\site-packages\\sklearn\\utils\\deprecation.py:87: FutureWarning: Function get_feature_names is deprecated; get_feature_names is deprecated in 1.0 and will be removed in 1.2. Please use get_feature_names_out instead.\n",
      "  warnings.warn(msg, category=FutureWarning)\n"
     ]
    },
    {
     "name": "stdout",
     "output_type": "stream",
     "text": [
      "   in  is  language  object  oriented  popular  programming  python\n",
      "0   0   1         1       0         0        0            1       1\n",
      "1   0   1         0       0         0        1            0       1\n",
      "2   1   0         0       0         0        0            1       1\n",
      "3   1   0         0       1         1        0            1       1\n"
     ]
    }
   ],
   "source": [
    "import numpy as np\n",
    "import pandas as pd\n",
    " \n",
    "from sklearn.feature_extraction.text import CountVectorizer\n",
    " \n",
    "documents = [\n",
    "    'python is a programming language',\n",
    "    'python is popular',\n",
    "    'programming in python',\n",
    "    'object-oriented programming in python',\n",
    "]\n",
    " \n",
    "vectorizer = CountVectorizer()\n",
    " \n",
    "df = pd.DataFrame(\n",
    "    data=vectorizer.fit_transform(documents).toarray(),\n",
    "    columns=vectorizer.get_feature_names(),\n",
    ")\n",
    "print(df)"
   ]
  }
 ],
 "metadata": {
  "kernelspec": {
   "display_name": "Python 3",
   "language": "python",
   "name": "python3"
  },
  "language_info": {
   "codemirror_mode": {
    "name": "ipython",
    "version": 3
   },
   "file_extension": ".py",
   "mimetype": "text/x-python",
   "name": "python",
   "nbconvert_exporter": "python",
   "pygments_lexer": "ipython3",
   "version": "3.9.6"
  },
  "orig_nbformat": 4
 },
 "nbformat": 4,
 "nbformat_minor": 2
}
