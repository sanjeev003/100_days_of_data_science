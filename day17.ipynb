{
 "cells": [
  {
   "attachments": {},
   "cell_type": "markdown",
   "metadata": {},
   "source": [
    "1. The np.split() function in NumPy allows you to split an array into multiple subarrays along a specified axis. \n",
    "Here's an example of how you can use np.split():\n",
    "\n",
    "import numpy as np\n",
    "arr = np.array([1, 2, 3, 4, 5, 6, 7, 8, 9, 10])\n",
    "subarrays = np.split(arr, 5)\n",
    "for subarray in subarrays:\n",
    "    print(subarray)\n",
    ">>> Output \n",
    "    [1, 2]\n",
    "    [3, 4]\n",
    "    [5, 6]\n",
    "    [7, 8]\n",
    "    [9, 10]\n",
    "\n",
    "2. The np.count_nonzero() function in NumPy is used to count the number of non-zero elements in an array.\n",
    "Here's an example of how to use it:\n",
    "\n",
    "import numpy as np\n",
    "arr = np.array([0, 5, 0, 3, 7, 0, 1])\n",
    "count = np.count_nonzero(arr)\n",
    "print(count)\n",
    ">>> Output 4\n",
    "\n",
    "3. The np.set_printoptions() function in NumPy is used to customize the printing behavior of NumPy arrays. It allows you to control various aspects such as the precision of floating-point numbers, the number of digits to display, the formatting of arrays, and more. \n",
    "Here's an example of how to use it:\n",
    "\n",
    "import numpy as np\n",
    "# Create a simple array\n",
    "arr = np.array([0.123456789, 1.23456789, 12.3456789])\n",
    "# Set the print options to display only 2 decimal places\n",
    "np.set_printoptions(precision=2)\n",
    "# Print the array\n",
    "print(arr)\n",
    ">>> Output [ 0.12  1.23 12.35]"
   ]
  },
  {
   "attachments": {},
   "cell_type": "markdown",
   "metadata": {},
   "source": [
    "1. The following two-dimensional array is given:\n",
    "\n",
    "A = np.random.randint(low=0, high=7, size=(5, 8))\n",
    "A[:, :2] = 0\n",
    "A[:, -2:] = 1\n",
    "\n",
    "array([[0, 0, 4, 6, 2, 4, 1, 1],\n",
    "       [0, 0, 6, 2, 2, 4, 1, 1],\n",
    "       [0, 0, 1, 3, 5, 5, 1, 1],\n",
    "       [0, 0, 3, 1, 5, 4, 1, 1],\n",
    "       [0, 0, 2, 6, 1, 3, 1, 1]])\n",
    "\n",
    "Split this array into three parts:\n",
    "\n",
    "the first two columns assign to the A1 variable\n",
    "the next four columns assign to the A2 variable\n",
    "the last two columns assign to the A3 variable"
   ]
  },
  {
   "cell_type": "code",
   "execution_count": 1,
   "metadata": {},
   "outputs": [
    {
     "name": "stdout",
     "output_type": "stream",
     "text": [
      "[[0 0]\n",
      " [0 0]\n",
      " [0 0]\n",
      " [0 0]\n",
      " [0 0]]\n",
      "[[1 6 3 5]\n",
      " [2 3 6 1]\n",
      " [1 1 6 4]\n",
      " [6 1 2 3]\n",
      " [5 0 1 0]]\n",
      "[[1 1]\n",
      " [1 1]\n",
      " [1 1]\n",
      " [1 1]\n",
      " [1 1]]\n"
     ]
    }
   ],
   "source": [
    "import numpy as np\n",
    "\n",
    "A = np.random.randint(low=0, high=7, size=(5, 8))\n",
    "A[:, :2] = 0\n",
    "A[:, -2:] = 1\n",
    "\n",
    "A1, A2, A3 = np.split(A, [2, 6], axis=1)\n",
    "\n",
    "print(A1)\n",
    "print(A2)\n",
    "print(A3)"
   ]
  },
  {
   "attachments": {},
   "cell_type": "markdown",
   "metadata": {},
   "source": [
    "2. The following array is given:\n",
    "\n",
    "A = np.random.randint(low=0, high=2, size=(10, 6))\n",
    "\n",
    "Calculate the total number of non-zero elements in this array and print it to the console."
   ]
  },
  {
   "cell_type": "code",
   "execution_count": 3,
   "metadata": {},
   "outputs": [
    {
     "name": "stdout",
     "output_type": "stream",
     "text": [
      "31\n"
     ]
    }
   ],
   "source": [
    "import numpy as np\n",
    "np.random.seed(42)\n",
    "A = np.random.randint(low=0, high=2, size=(10, 6))\n",
    "print(np.count_nonzero(A))"
   ]
  },
  {
   "attachments": {},
   "cell_type": "markdown",
   "metadata": {},
   "source": [
    "3. The following array is given below:\n",
    "\n",
    "A = np.random.randn(10, 4)\n",
    "\n",
    "array([[-0.53441645, -1.49505387, -0.78925833,  0.74371128],\n",
    "       [-0.21216142, -0.42686879,  0.50144833,  1.15818665],\n",
    "       [ 0.25711687,  0.3145129 ,  1.37186213,  0.17555329],\n",
    "       [-0.30928855,  0.6731255 , -0.25663018, -0.36782572],\n",
    "       [ 1.27373362, -0.29195267, -2.65517605,  0.34551794],\n",
    "       [-0.39551645, -0.28913686,  0.45293633, -0.16606091],\n",
    "       [ 0.21493883, -2.02231493, -0.94305681,  1.40395874],\n",
    "       [-0.0185508 , -1.67350462, -1.07253183, -0.99258618],\n",
    "       [ 0.10234768, -0.43260928, -0.6591823 ,  0.0039373 ],\n",
    "       [ 0.4777541 , -0.25902864, -0.57470921, -0.42149822]])\n",
    "\n",
    "Set the Numpy option to print arrays with specified precision. Set precision to 4 and print this array."
   ]
  },
  {
   "cell_type": "code",
   "execution_count": 8,
   "metadata": {},
   "outputs": [
    {
     "name": "stdout",
     "output_type": "stream",
     "text": [
      "[[ 0.4967 -0.1383  0.6477  1.523 ]\n",
      " [-0.2342 -0.2341  1.5792  0.7674]\n",
      " [-0.4695  0.5426 -0.4634 -0.4657]\n",
      " [ 0.242  -1.9133 -1.7249 -0.5623]\n",
      " [-1.0128  0.3142 -0.908  -1.4123]\n",
      " [ 1.4656 -0.2258  0.0675 -1.4247]\n",
      " [-0.5444  0.1109 -1.151   0.3757]\n",
      " [-0.6006 -0.2917 -0.6017  1.8523]\n",
      " [-0.0135 -1.0577  0.8225 -1.2208]\n",
      " [ 0.2089 -1.9597 -1.3282  0.1969]]\n"
     ]
    }
   ],
   "source": [
    "import numpy as np\n",
    "\n",
    "np.random.seed(42)\n",
    "A = np.random.randn(10, 4)\n",
    "np.set_printoptions(precision=4)\n",
    "\n",
    "print(A)"
   ]
  },
  {
   "attachments": {},
   "cell_type": "markdown",
   "metadata": {},
   "source": [
    "4. The following array is given:\n",
    "\n",
    "A = np.array([1.2e-6, 1.7e-7])\n",
    "\n",
    "Set the precision to 8 and also set the appropriate Numpy option to suppress mathematical notation and print this array to the console."
   ]
  },
  {
   "cell_type": "code",
   "execution_count": null,
   "metadata": {},
   "outputs": [],
   "source": [
    "import numpy as np\n",
    "\n",
    "A = np.array([1.2e-6, 1.7e-7])\n",
    "np.set_printoptions(precision=8, suppress=True)\n",
    "\n",
    "print(A)"
   ]
  }
 ],
 "metadata": {
  "kernelspec": {
   "display_name": "Python 3",
   "language": "python",
   "name": "python3"
  },
  "language_info": {
   "codemirror_mode": {
    "name": "ipython",
    "version": 3
   },
   "file_extension": ".py",
   "mimetype": "text/x-python",
   "name": "python",
   "nbconvert_exporter": "python",
   "pygments_lexer": "ipython3",
   "version": "3.9.6"
  },
  "orig_nbformat": 4
 },
 "nbformat": 4,
 "nbformat_minor": 2
}
