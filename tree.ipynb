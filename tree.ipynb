{
 "cells": [
  {
   "cell_type": "markdown",
   "metadata": {},
   "source": [
    "# TREES"
   ]
  },
  {
   "cell_type": "markdown",
   "metadata": {},
   "source": [
    "A tree data structure is a widely used data structure in computer science that represents a hierarchical structure similar to a tree in nature. It consists of nodes connected by edges, where each node can have zero or more child nodes. <br>\n",
    "In a tree, there is a special node called the root node, which is the topmost node in the hierarchy. Each child node is connected to its parent node through an edge. Nodes that have the same parent are called siblings, and nodes without any children are called leaf nodes. <br>\n",
    "Here are a few key terms associated with trees: <br>\n",
    "Node: Each element in a tree is called a node. It contains some data and may have references to its child nodes or its parent node. <br>\n",
    "Root: The topmost node in a tree is called the root node. It is the starting point of the tree and has no parent. <br>\n",
    "Parent: A node that has one or more child nodes is called the parent node. It is located one level above its child nodes. <br>\n",
    "Child: Nodes that have a common parent node are called child nodes. They are located one level below their parent node. <br>\n",
    "Sibling: Nodes that have the same parent node are called sibling nodes. <br>\n",
    "Leaf: Nodes that do not have any child nodes are called leaf nodes or terminal nodes.\n",
    "<br>"
   ]
  }
 ],
 "metadata": {
  "kernelspec": {
   "display_name": "Python 3",
   "language": "python",
   "name": "python3"
  },
  "language_info": {
   "codemirror_mode": {
    "name": "ipython",
    "version": 3
   },
   "file_extension": ".py",
   "mimetype": "text/x-python",
   "name": "python",
   "nbconvert_exporter": "python",
   "pygments_lexer": "ipython3",
   "version": "3.9.6"
  },
  "orig_nbformat": 4
 },
 "nbformat": 4,
 "nbformat_minor": 2
}
