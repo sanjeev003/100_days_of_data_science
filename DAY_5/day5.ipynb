{
 "cells": [
  {
   "attachments": {},
   "cell_type": "markdown",
   "metadata": {},
   "source": [
    "On Day 5 we are going to learn about\n",
    "\n",
    "1. The np.random.rand() function is a part of the NumPy library and is used to generate an array of random numbers with a specified shape. It generates random values from a uniform distribution over the range [0, 1).\n",
    "\n",
    "Here's the general syntax of np.random.rand() --> np.random.rand(d0, d1, ..., dn)\n",
    "The parameters d0, d1, ..., dn represent the dimensions of the desired output array. You can specify the number of dimensions and their sizes to create arrays of different shapes.\n",
    "\n",
    "2. The np.random.randn() function is a part of the NumPy library and is used to generate an array of random numbers from a standard normal distribution (mean = 0, standard deviation = 1).\n",
    "\n",
    "Here's the general syntax of np.random.randn() --> np.random.randn(d0, d1, ..., dn)\n",
    "The parameters d0, d1, ..., dn represent the dimensions of the desired output array. You can specify the number of dimensions and their sizes to create arrays of different shapes.\n",
    "\n",
    "3. The np.sqrt() function is a NumPy mathematical function that calculates the square root of each element in an array.\n",
    "\n",
    "Here's the general syntax of np.sqrt() --> np.sqrt(arr)"
   ]
  },
  {
   "attachments": {},
   "cell_type": "markdown",
   "metadata": {},
   "source": [
    "1. Set the random seed to 10. Then using Numpy create a one-dimensional array consisting of 30 pseudo-randomly generated values from the uniform distribution [0,1). Print result to the console as shown below.\n",
    "\n",
    "[0.77132064 0.02075195 0.63364823 0.74880388 0.49850701 0.22479665\n",
    " 0.19806286 0.76053071 0.16911084 0.08833981 0.68535982 0.95339335\n",
    " 0.00394827 0.51219226 0.81262096 0.61252607 0.72175532 0.29187607\n",
    " 0.91777412 0.71457578 0.54254437 0.14217005 0.37334076 0.67413362\n",
    " 0.44183317 0.43401399 0.61776698 0.51313824 0.65039718 0.60103895]"
   ]
  },
  {
   "cell_type": "code",
   "execution_count": 1,
   "metadata": {},
   "outputs": [
    {
     "name": "stdout",
     "output_type": "stream",
     "text": [
      "[0.77132064 0.02075195 0.63364823 0.74880388 0.49850701 0.22479665\n",
      " 0.19806286 0.76053071 0.16911084 0.08833981 0.68535982 0.95339335\n",
      " 0.00394827 0.51219226 0.81262096 0.61252607 0.72175532 0.29187607\n",
      " 0.91777412 0.71457578 0.54254437 0.14217005 0.37334076 0.67413362\n",
      " 0.44183317 0.43401399 0.61776698 0.51313824 0.65039718 0.60103895]\n"
     ]
    }
   ],
   "source": [
    "import numpy as np\n",
    "\n",
    "# Set the random seed to 10\n",
    "np.random.seed(10)\n",
    "\n",
    "# Generate a one-dimensional array of size 30 with random values from the uniform distribution [0, 1)\n",
    "arr = np.random.rand(30)\n",
    "\n",
    "# Print the array\n",
    "print(arr)"
   ]
  },
  {
   "attachments": {},
   "cell_type": "markdown",
   "metadata": {},
   "source": [
    "2. Using Numpy create a two-dimensional array with the shape (10, 4) pseudo-randomly generated values from the standard normal distribution N(0,1). Set the random seed to 20. Print result to the console as shown below.\n",
    "\n",
    "[[ 0.88389311  0.19586502  0.35753652 -2.34326191]\n",
    " [-1.08483259  0.55969629  0.93946935 -0.97848104]\n",
    " [ 0.50309684  0.40641447  0.32346101 -0.49341088]\n",
    " [-0.79201679 -0.84236793 -1.27950266  0.24571517]\n",
    " [-0.0441948   1.56763255  1.05110868  0.40636843]\n",
    " [-0.1686461  -3.18970279  1.12013226  1.33277821]\n",
    " [-0.24333877 -0.13003071 -0.10901737  1.55618644]\n",
    " [ 0.12877835 -2.06694872 -0.88549315 -1.10457948]\n",
    " [ 0.93286635  2.059838   -0.93493796 -1.61299022]\n",
    " [ 0.52706972 -1.55110074  0.32961334 -1.13652654]]"
   ]
  },
  {
   "cell_type": "code",
   "execution_count": 2,
   "metadata": {},
   "outputs": [
    {
     "name": "stdout",
     "output_type": "stream",
     "text": [
      "[[ 0.88389311  0.19586502  0.35753652 -2.34326191]\n",
      " [-1.08483259  0.55969629  0.93946935 -0.97848104]\n",
      " [ 0.50309684  0.40641447  0.32346101 -0.49341088]\n",
      " [-0.79201679 -0.84236793 -1.27950266  0.24571517]\n",
      " [-0.0441948   1.56763255  1.05110868  0.40636843]\n",
      " [-0.1686461  -3.18970279  1.12013226  1.33277821]\n",
      " [-0.24333877 -0.13003071 -0.10901737  1.55618644]\n",
      " [ 0.12877835 -2.06694872 -0.88549315 -1.10457948]\n",
      " [ 0.93286635  2.059838   -0.93493796 -1.61299022]\n",
      " [ 0.52706972 -1.55110074  0.32961334 -1.13652654]]\n"
     ]
    }
   ],
   "source": [
    "import numpy as np\n",
    "\n",
    "# Set the random seed to 20\n",
    "np.random.seed(20)\n",
    "\n",
    "# Generate a two-dimensional array of shape (10, 4) with random values from the standard normal distribution\n",
    "arr = np.random.randn(10, 4)\n",
    "\n",
    "# Print the array\n",
    "print(arr)"
   ]
  },
  {
   "attachments": {},
   "cell_type": "markdown",
   "metadata": {},
   "source": [
    "3. Using Numpy create a two-dimensional array with the shape (10, 4) pseudo-randomly generated values from the normal distribution N(100, 5). Set the random seed to 30. Print result to the console as shown below.\n",
    "\n",
    "[[ 97.17349231 103.41650023  97.82942436 101.05220329]\n",
    " [ 99.7748353  100.67930221  96.14063068 103.544381  ]\n",
    " [100.30029631  97.52499594 103.52901961 100.24037271]\n",
    " [ 98.29153712  98.2666258  103.09437633 101.70027274]\n",
    " [ 99.36127721 101.20382627  95.34026547 102.09694365]\n",
    " [ 99.98708001  98.95468525  99.05410904 102.38025432]\n",
    " [ 93.50787269 103.61547679 103.18753701  98.51356237]\n",
    " [102.20256689  96.19764407  97.54000366  97.05813038]\n",
    " [101.81233513  97.66380453  98.45883627  98.09317768]\n",
    " [102.48979932  95.70413391  98.43161651 101.89861815]]"
   ]
  },
  {
   "cell_type": "code",
   "execution_count": 5,
   "metadata": {},
   "outputs": [
    {
     "name": "stdout",
     "output_type": "stream",
     "text": [
      "[[ 97.17349231 103.41650023  97.82942436 101.05220329]\n",
      " [ 99.7748353  100.67930221  96.14063068 103.544381  ]\n",
      " [100.30029631  97.52499594 103.52901961 100.24037271]\n",
      " [ 98.29153712  98.2666258  103.09437633 101.70027274]\n",
      " [ 99.36127721 101.20382627  95.34026547 102.09694365]\n",
      " [ 99.98708001  98.95468525  99.05410904 102.38025432]\n",
      " [ 93.50787269 103.61547679 103.18753701  98.51356237]\n",
      " [102.20256689  96.19764407  97.54000366  97.05813038]\n",
      " [101.81233513  97.66380453  98.45883627  98.09317768]\n",
      " [102.48979932  95.70413391  98.43161651 101.89861815]]\n"
     ]
    }
   ],
   "source": [
    "import numpy as np\n",
    "\n",
    "# Set the random seed to 30\n",
    "np.random.seed(30)\n",
    " \n",
    "#This calculates the standard deviation (sigma) using the square root of 5\n",
    "sigma = np.sqrt(5)\n",
    "#Sets the mean (mu) to 100. In this case, mu represents the mean of the normal distribution.\n",
    "mu = 100\n",
    "\n",
    "print(sigma * np.random.randn(10, 4) + mu)"
   ]
  }
 ],
 "metadata": {
  "kernelspec": {
   "display_name": "Python 3",
   "language": "python",
   "name": "python3"
  },
  "language_info": {
   "codemirror_mode": {
    "name": "ipython",
    "version": 3
   },
   "file_extension": ".py",
   "mimetype": "text/x-python",
   "name": "python",
   "nbconvert_exporter": "python",
   "pygments_lexer": "ipython3",
   "version": "3.9.6"
  },
  "orig_nbformat": 4
 },
 "nbformat": 4,
 "nbformat_minor": 2
}
