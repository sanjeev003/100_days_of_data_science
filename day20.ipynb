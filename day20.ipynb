{
 "cells": [
  {
   "attachments": {},
   "cell_type": "markdown",
   "metadata": {},
   "source": [
    "1. # Day 20 - np.allclose(), np.dot() & np.linalg.det()\n",
    "\n",
    "np.allclose() is a NumPy function that compares whether two arrays are element-wise equal within a specified tolerance. It returns True if all elements in the arrays are close (within the specified tolerance) and False otherwise.\n",
    "Here's the syntax of np.allclose():\n",
    ">    np.allclose(a, b, rtol=1e-05, atol=1e-08, equal_nan=False)\n",
    "a and b are the arrays to compare.\n",
    "rtol (optional) is the relative tolerance (default is 1e-05).\n",
    "atol (optional) is the absolute tolerance (default is 1e-08).\n",
    "equal_nan (optional) determines whether NaN values are considered equal (default is False).\n",
    "The function returns True if the arrays are element-wise equal within the specified tolerance and False otherwise.import numpy as np\n",
    "\n",
    "a = np.array([1.0, 2.0, 3.0])\n",
    "b = np.array([1.000001, 2.000002, 2.999999])\n",
    "result = np.allclose(a, b)\n",
    "print(result)  # Output: True\n",
    "\n",
    "2. np.dot() is a NumPy function used for matrix multiplication or dot product calculation. It computes the dot product between two arrays.\n",
    "There are *two ways* to use np.dot():\n",
    "Multiply two arrays element-wise (for 1-D arrays, it calculates the inner product):\n",
    ">       np.dot(a, b)\n",
    "Perform matrix multiplication between two 2-D arrays:\n",
    ">       np.dot(a, b)\n",
    "Here's an example to illustrate each usage:\n",
    "    Element-wise multiplication (dot product of 1-D arrays):\n",
    "\n",
    "    import numpy as np\n",
    "    a = np.array([1, 2, 3])\n",
    "    b = np.array([4, 5, 6])\n",
    "    result = np.dot(a, b)\n",
    "    print(result)  # Output: 32\n",
    "In this example, np.dot(a, b) calculates the dot product between arrays a and b, resulting in the scalar value 32.\n",
    "Matrix multiplication (dot product of 2-D arrays):\n",
    "\n",
    "import numpy as np\n",
    "a = np.array([[1, 2], [3, 4]])\n",
    "b = np.array([[5, 6], [7, 8]])\n",
    "result = np.dot(a, b)\n",
    "print(result)\n",
    "# Output:\n",
    "# [[19 22]\n",
    "#  [43 50]]\n",
    "\n",
    "3. np.linalg.det() is a NumPy function that calculates the determinant of a square matrix. The determinant is a scalar value that represents certain properties of the matrix.\n",
    "The syntax for using np.linalg.det() is:\n",
    ">   np.linalg.det(a)\n",
    "where a is the input square matrix.\n",
    "Here's an example to illustrate the usage of np.linalg.det():\n",
    "    import numpy as np\n",
    "    a = np.array([[1, 2], [3, 4]])\n",
    "    det = np.linalg.det(a) \n",
    "    print(det)  # Output: -2.0"
   ]
  },
  {
   "attachments": {},
   "cell_type": "markdown",
   "metadata": {},
   "source": [
    "1. The following arrays are given:\n",
    "\n",
    "A = np.linspace(0, np.pi / 2, 20)\n",
    "B = np.full(shape=(20,), fill_value=1, dtype='float')\n",
    "\n",
    "Check the Pythagorean formula for sines and cosines on the A array and then compare the result with the B array. Use the np.allclose() function in this exercise.\n",
    "\n",
    "In response, print result to the console."
   ]
  },
  {
   "cell_type": "code",
   "execution_count": 2,
   "metadata": {},
   "outputs": [
    {
     "name": "stdout",
     "output_type": "stream",
     "text": [
      "True\n"
     ]
    }
   ],
   "source": [
    "import numpy as np\n",
    "A = np.linspace(0, np.pi / 2, 20)\n",
    "B = np.full(shape=(20,), fill_value=1, dtype='float')\n",
    "result = np.sin(A)**2 + np.cos(A)**2\n",
    "print(np.allclose(result, B))"
   ]
  },
  {
   "attachments": {},
   "cell_type": "markdown",
   "metadata": {},
   "source": [
    "2. The following arrays are given:\n",
    "\n",
    "A = np.array([[2, 3] , [-4, 2] , [5, 0]])\n",
    "B = np.array([[4, 3, 2] , [-1, 0, 2]])\n",
    "\n",
    "Shapes of these arrays:\n",
    "\n",
    "A - 3x2\n",
    "\n",
    "B - 2x3\n",
    "\n",
    "Perform matrix multiplication A x B and print result to the console."
   ]
  },
  {
   "cell_type": "code",
   "execution_count": 3,
   "metadata": {},
   "outputs": [
    {
     "name": "stdout",
     "output_type": "stream",
     "text": [
      "[[  5   6  10]\n",
      " [-18 -12  -4]\n",
      " [ 20  15  10]]\n"
     ]
    }
   ],
   "source": [
    "import numpy as np\n",
    "A = np.array([[2, 3] , [-4, 2] , [5, 0]])\n",
    "B = np.array([[4, 3, 2] , [-1, 0, 2]])\n",
    "print(np.dot(A,B))"
   ]
  },
  {
   "attachments": {},
   "cell_type": "markdown",
   "metadata": {},
   "source": [
    "3. The following array (square matrix) is given:\n",
    "\n",
    "A = np.array([[-2, 0, 4] , [5, 2, -1] , [-4, 2, 4]])\n",
    "\n",
    "Calculate the determinant of this matrix and print it to the console."
   ]
  },
  {
   "cell_type": "code",
   "execution_count": 4,
   "metadata": {},
   "outputs": [
    {
     "name": "stdout",
     "output_type": "stream",
     "text": [
      "51.999999999999986\n"
     ]
    }
   ],
   "source": [
    "import numpy as np\n",
    "A = np.array([[-2, 0, 4] , [5, 2, -1] , [-4, 2, 4]])\n",
    "print(np.linalg.det(A))"
   ]
  }
 ],
 "metadata": {
  "kernelspec": {
   "display_name": "Python 3",
   "language": "python",
   "name": "python3"
  },
  "language_info": {
   "codemirror_mode": {
    "name": "ipython",
    "version": 3
   },
   "file_extension": ".py",
   "mimetype": "text/x-python",
   "name": "python",
   "nbconvert_exporter": "python",
   "pygments_lexer": "ipython3",
   "version": "3.9.6"
  },
  "orig_nbformat": 4
 },
 "nbformat": 4,
 "nbformat_minor": 2
}
