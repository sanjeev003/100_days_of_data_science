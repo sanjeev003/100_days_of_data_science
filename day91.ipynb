{
 "cells": [
  {
   "cell_type": "markdown",
   "metadata": {},
   "source": [
    "# Day 91 - KMeans, AgglomerativeClustering & DBSCAN"
   ]
  },
  {
   "cell_type": "markdown",
   "metadata": {},
   "source": [
    "1. Load the data(91).csv file into the DataFrame. <br>\n",
    "Then, implement the K-Means algorithm to split the given data into two clusters. Specify the centroid of each cluster and print its coordinates to the console. Round the result to three decimal places for each coordinate."
   ]
  },
  {
   "cell_type": "code",
   "execution_count": 1,
   "metadata": {},
   "outputs": [
    {
     "name": "stdout",
     "output_type": "stream",
     "text": [
      "[0.352, 2.502]\n",
      "[2.663, -3.083]\n"
     ]
    }
   ],
   "source": [
    "import numpy as np\n",
    "from numpy.linalg import norm\n",
    "import pandas as pd\n",
    "import random\n",
    " \n",
    " \n",
    "np.random.seed(42)\n",
    "df = pd.read_csv('data(91).csv')\n",
    " \n",
    "x1_min = df.x1.min()\n",
    "x1_max = df.x1.max()\n",
    " \n",
    "x2_min = df.x2.min()\n",
    "x2_max = df.x2.max()\n",
    " \n",
    "centroid_1 = np.array(\n",
    "    [\n",
    "        random.uniform(x1_min, x1_max),\n",
    "        random.uniform(x2_min, x2_max),\n",
    "    ]\n",
    ")\n",
    "centroid_2 = np.array(\n",
    "    [\n",
    "        random.uniform(x1_min, x1_max),\n",
    "        random.uniform(x2_min, x2_max),\n",
    "    ]\n",
    ")\n",
    " \n",
    "data = df.values\n",
    " \n",
    "for i in range(10):\n",
    "    clusters = []\n",
    "    for point in data:\n",
    "        centroid_1_dist = norm(centroid_1 - point)\n",
    "        centroid_2_dist = norm(centroid_2 - point)\n",
    "        cluster = 1\n",
    "        if centroid_1_dist > centroid_2_dist:\n",
    "            cluster = 2\n",
    "        clusters.append(cluster)\n",
    " \n",
    "    df['cluster'] = clusters\n",
    " \n",
    "    centroid_1 = [\n",
    "        round(df[df.cluster == 1].x1.mean(), 3),\n",
    "        round(df[df.cluster == 1].x2.mean(), 3),\n",
    "    ]\n",
    "    centroid_2 = [\n",
    "        round(df[df.cluster == 2].x1.mean(), 3),\n",
    "        round(df[df.cluster == 2].x2.mean(), 3),\n",
    "    ]\n",
    " \n",
    "print(centroid_1)\n",
    "print(centroid_2)"
   ]
  },
  {
   "cell_type": "markdown",
   "metadata": {},
   "source": [
    "2. Load the clusters(91).csv file into the DataFrame. <br>\n",
    "Using the KMeans class from the scikit-learn, split the data into three clusters. Set arguments: <br>\n",
    "<br>\n",
    "max_iter=1000 <br>\n",
    "random_state=42 <br>\n",
    "<br>\n",
    "In response, print the coordinates of the centroid of each cluster as shown below."
   ]
  },
  {
   "cell_type": "code",
   "execution_count": 2,
   "metadata": {},
   "outputs": [
    {
     "name": "stdout",
     "output_type": "stream",
     "text": [
      "[[-0.55537629 -0.32971364]\n",
      " [ 4.86661316  0.42352176]\n",
      " [-2.15656147 -4.30478556]]\n"
     ]
    }
   ],
   "source": [
    "import numpy as np\n",
    "import pandas as pd\n",
    "from sklearn.cluster import KMeans\n",
    " \n",
    "np.random.seed(42)\n",
    "df = pd.read_csv('clusters(91).csv')\n",
    "kmeans = KMeans(n_clusters=3, max_iter=1000, random_state=42)\n",
    "kmeans.fit(df)\n",
    " \n",
    "print(kmeans.cluster_centers_)"
   ]
  },
  {
   "cell_type": "markdown",
   "metadata": {},
   "source": [
    "3. Load the clusters.csv file into the DataFrame. <br>\n",
    "Using the KMeans class from the scikit-learn, the model was created. Make a prediction based on this model (kmeans) and assign a cluster number to each sample in the df DataFrame as 'y_kmeans' column. <br>\n",
    "In response, print the first ten rows of the df DataFrame to the console."
   ]
  },
  {
   "cell_type": "code",
   "execution_count": 3,
   "metadata": {},
   "outputs": [
    {
     "name": "stdout",
     "output_type": "stream",
     "text": [
      "         x1        x2  y_kmeans\n",
      "0 -2.776333 -4.166641         2\n",
      "1 -1.335879 -1.083934         0\n",
      "2  6.507272 -0.158773         1\n",
      "3 -0.956622  0.235036         0\n",
      "4 -1.558383 -3.969630         2\n",
      "5 -0.652304 -1.332604         0\n",
      "6  5.560753  1.517069         1\n",
      "7 -0.891052 -3.455786         2\n",
      "8  6.391479  3.597473         1\n",
      "9  5.812508 -0.845526         1\n"
     ]
    }
   ],
   "source": [
    "import numpy as np\n",
    "import pandas as pd\n",
    "from sklearn.cluster import KMeans\n",
    " \n",
    "np.random.seed(42)\n",
    "df = pd.read_csv('clusters(91).csv')\n",
    "kmeans = KMeans(n_clusters=3, max_iter=1000, random_state=42)\n",
    "kmeans.fit(df)\n",
    " \n",
    "y_kmeans = kmeans.predict(df)\n",
    "df['y_kmeans'] = y_kmeans\n",
    "print(df.head(10))"
   ]
  },
  {
   "cell_type": "markdown",
   "metadata": {},
   "source": [
    "4. Load the clusters(91).csv file into the DataFrame. <br>\n",
    "Using the KMeans class (set random_state=42) from the scikit-learn, create a list of WCSS (Within-Cluster Sum-of-Squared) values for the number of clusters from 2 to 9 inclusive. Round WCSS values to two decimal places and print to the console."
   ]
  },
  {
   "cell_type": "code",
   "execution_count": 4,
   "metadata": {},
   "outputs": [
    {
     "name": "stdout",
     "output_type": "stream",
     "text": [
      "[957.78, 779.97, 618.5, 510.3, 425.63, 377.54, 333.38, 304.72]\n"
     ]
    }
   ],
   "source": [
    "import numpy as np\n",
    "import pandas as pd\n",
    "from sklearn.cluster import KMeans\n",
    " \n",
    " \n",
    "np.random.seed(42)\n",
    "df = pd.read_csv('clusters.csv')\n",
    " \n",
    "wcss = []\n",
    "\n",
    "for i in range(2, 10):\n",
    "    kmeans = KMeans(n_clusters=i, random_state=42)\n",
    "    kmeans.fit(df)\n",
    "    wcss.append(round(kmeans.inertia_, 2))\n",
    "print(wcss)"
   ]
  },
  {
   "cell_type": "markdown",
   "metadata": {},
   "source": [
    "5. Load the clusters(91).csv file into the DataFrame. <br>\n",
    "Using the DBSCAN class from the scikit-learn, create a model to split given dataset into clusters. Set the following arguemnts: <br>\n",
    "<br>\n",
    "eps=0.6 <br>\n",
    "min_samples=7 <br>\n",
    "<br>\n",
    "Make a prediction based on this model and assign a new column 'cluster' which stores the cluster number for each sample in the df DataFrame. <br>\n",
    "In response, print the first ten rows of the df DataFrame."
   ]
  },
  {
   "cell_type": "code",
   "execution_count": 5,
   "metadata": {},
   "outputs": [
    {
     "name": "stdout",
     "output_type": "stream",
     "text": [
      "         x1        x2  cluster\n",
      "0 -2.486532  7.025770        0\n",
      "1 -3.522549  8.578303        0\n",
      "2 -2.982040  7.998514        0\n",
      "3 -2.135276  6.255888        0\n",
      "4  2.762504  4.210918       -1\n",
      "5 -3.541472  8.489106        0\n",
      "6  1.240259  0.781640       -1\n",
      "7  0.053390  8.966770       -1\n",
      "8 -0.827918  6.742253        0\n",
      "9  3.291716  1.296751        1\n"
     ]
    }
   ],
   "source": [
    "import numpy as np\n",
    "import pandas as pd\n",
    "from sklearn.cluster import DBSCAN\n",
    " \n",
    "df = pd.read_csv('clusters.csv')\n",
    "cluster = DBSCAN(eps=0.6, min_samples=7)\n",
    "cluster.fit(df)\n",
    "df['cluster'] = cluster.labels_\n",
    "print(df.head(10))"
   ]
  }
 ],
 "metadata": {
  "kernelspec": {
   "display_name": "Python 3",
   "language": "python",
   "name": "python3"
  },
  "language_info": {
   "codemirror_mode": {
    "name": "ipython",
    "version": 3
   },
   "file_extension": ".py",
   "mimetype": "text/x-python",
   "name": "python",
   "nbconvert_exporter": "python",
   "pygments_lexer": "ipython3",
   "version": "3.9.6"
  },
  "orig_nbformat": 4
 },
 "nbformat": 4,
 "nbformat_minor": 2
}
