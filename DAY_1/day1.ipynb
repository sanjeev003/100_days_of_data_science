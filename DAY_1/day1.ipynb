{
 "cells": [
  {
   "attachments": {},
   "cell_type": "markdown",
   "metadata": {},
   "source": [
    "We all know that to learn data science numpy is an important package of python on the day 1 we will focus on the np.all() and np.any()\n",
    "\n",
    "np.all() --> np.all() is a NumPy function that returns True if all elements of an array are True, and False otherwise. It can be used to check if all elements in a Boolean array are True, or if all non-zero elements in a numeric array are positive.\n",
    "The function takes an array as input and an optional axis argument that specifies which axis to apply the function along. If no axis is specified, np.all() will treat the array as a flattened 1D array and return a single Boolean value.\n",
    "\n",
    "np.any() --> np.any() is a NumPy function that returns True if any element of an array is True, and False otherwise. It can be used to check if any elements in a Boolean array are True, or if any non-zero elements in a numeric array are positive.\n",
    "The function takes an array as input and an optional axis argument that specifies which axis to apply the function along. If no axis is specified, np.any() will treat the array as a flattened 1D array and return a single Boolean value."
   ]
  },
  {
   "attachments": {},
   "cell_type": "markdown",
   "metadata": {},
   "source": [
    "1. Check if all elements from the following arrays return the logical value True:\n",
    "\n",
    "A = np.array([[3, 2, 1, 4] , [5, 2, 1, 6]])\n",
    "\n",
    "B = np.array([[3, 2, 1, 4] , [5, 2, 0, 6]])\n",
    "\n",
    "C = np.array([[True, False, False] , [True, True, True]])\n",
    "\n",
    "D = np.array([0.1, 0.3])"
   ]
  },
  {
   "cell_type": "code",
   "execution_count": 1,
   "metadata": {},
   "outputs": [
    {
     "name": "stdout",
     "output_type": "stream",
     "text": [
      "A: True\n",
      "B: False\n",
      "C: False\n",
      "D: True\n"
     ]
    }
   ],
   "source": [
    "import numpy as np\n",
    "\n",
    "\n",
    "A = np.array([[3, 2, 1, 4],\n",
    "              [5, 2, 1, 6]])\n",
    "\n",
    "B = np.array([[3, 2, 1, 4],\n",
    "              [5, 2, 0, 6]])\n",
    "\n",
    "C = np.array([[True, False, False],\n",
    "              [True, True, True]])\n",
    "\n",
    "D = np.array([0.1, 0.3])\n",
    "\n",
    "for name, array in zip(list('ABCD'), [A, B, C, D]):\n",
    "    print(f'{name}: {np.all(array)}')"
   ]
  },
  {
   "attachments": {},
   "cell_type": "markdown",
   "metadata": {},
   "source": [
    "EXPLANATION\n",
    "\n",
    "This code imports the NumPy library and defines four NumPy arrays: A, B, C, and D. The arrays contain the following values:\n",
    "\n",
    "A: a 2-dimensional array of integers with shape (2, 4), containing the values [3, 2, 1, 4] in the first row and [5, 2, 1, 6] in the second row.\n",
    "B: a 2-dimensional array of integers with shape (2, 4), containing the same values as A except for a zero in the second row and third column.\n",
    "C: a 2-dimensional array of booleans with shape (2, 3), containing the values True in the first row and False in the first column of the second row, and True in all other positions.\n",
    "D: a 1-dimensional array of floating-point numbers with shape (2,), containing the values 0.1 and 0.3.\n",
    "The for loop iterates through the four NumPy arrays (A, B, C, and D) using the zip() function to pair them up with the letters 'A', 'B', 'C', and 'D', respectively.\n",
    "\n",
    "Inside the loop, the np.all() function is used to determine whether all the elements of the current array evaluate to True. If they do, the function returns True; otherwise, it returns False.\n",
    "\n",
    "The print() function is then used to output a message to the console indicating whether all elements of the current array evaluated to True or False. The message is formatted using an f-string that displays the current array's letter name and the Boolean result of the np.all() function.\n",
    "\n",
    "So overall, this code snippet creates four NumPy arrays with different data types and shapes, iterates through them using a for loop, checks whether all elements of each array evaluate to True using the np.all() function, and prints a message indicating whether each array passed the check or not."
   ]
  },
  {
   "attachments": {},
   "cell_type": "markdown",
   "metadata": {},
   "source": [
    "2. Check if all elements from the following arrays return the logical value True along the axis with index 1\n",
    "\n",
    "A = np.array([[3, 2, 1, 4] , [5, 2, 1, 6]])\n",
    "\n",
    "B = np.array([[3, 2, 1, 4] , [5, 2, 0, 6]])\n",
    "\n",
    "C = np.array([[True, False, False] , [True, True, True]])"
   ]
  },
  {
   "cell_type": "code",
   "execution_count": 2,
   "metadata": {},
   "outputs": [
    {
     "name": "stdout",
     "output_type": "stream",
     "text": [
      "A: [ True  True]\n",
      "B: [ True False]\n",
      "C: [False  True]\n"
     ]
    }
   ],
   "source": [
    "import numpy as np\n",
    " \n",
    " \n",
    "A = np.array([[3, 2, 1, 4],\n",
    "              [5, 2, 1, 6]])\n",
    " \n",
    "B = np.array([[3, 2, 1, 4],\n",
    "              [5, 2, 0, 6]])\n",
    " \n",
    "C = np.array([[True, False, False],\n",
    "              [True, True, True]])\n",
    " \n",
    "for name, array in zip(list('ABC'), [A, B, C]):\n",
    "    print(f'{name}: {np.all(array, axis=1)}')"
   ]
  },
  {
   "attachments": {},
   "cell_type": "markdown",
   "metadata": {},
   "source": [
    "EXPLANATION\n",
    "\n",
    "This code defines three NumPy arrays, A, B, and C, and then iterates over them using a for loop.\n",
    "\n",
    "In the loop, the zip() function is used to pair up the arrays with the letters 'A', 'B', and 'C', respectively. Then, for each array, the np.all() function is called with the argument axis=1.\n",
    "\n",
    "The np.all() function checks if all elements of an array along a given axis (in this case, the second axis or columns) are True. By setting axis=1, we are checking each row of the array for truthiness.\n",
    "\n",
    "The result of calling np.all() on each row of the array is returned as a boolean NumPy array, where each element represents whether all elements in that row were True.\n",
    "\n",
    "Finally, the loop prints out the letter name of the array along with the boolean NumPy array produced by calling np.all() on that array."
   ]
  },
  {
   "attachments": {},
   "cell_type": "markdown",
   "metadata": {},
   "source": [
    "3. Check if any element of the following arrays returns the logical value True\n",
    "\n",
    "A = np.array([[0, 0, 0],[0, 0, 0]])\n",
    "\n",
    "B = np.array([[0, 0, 0],[0, 1, 0]])\n",
    "\n",
    "C = np.array([[False, False, False],[True, False, False]])\n",
    "\n",
    "D = np.array([[0.1, 0.0]])"
   ]
  },
  {
   "cell_type": "code",
   "execution_count": 1,
   "metadata": {},
   "outputs": [
    {
     "name": "stdout",
     "output_type": "stream",
     "text": [
      "A: False\n",
      "B: True\n",
      "C: True\n",
      "D: True\n"
     ]
    }
   ],
   "source": [
    "import numpy as np\n",
    "\n",
    "\n",
    "A = np.array([[0, 0, 0],[0, 0, 0]])\n",
    "\n",
    "B = np.array([[0, 0, 0],[0, 1, 0]])\n",
    "\n",
    "C = np.array([[False, False, False],[True, False, False]])\n",
    "\n",
    "D = np.array([[0.1, 0.0]])\n",
    "\n",
    "\n",
    "for name, array in zip(list('ABCD'), [A, B, C, D]):\n",
    "    print(f'{name}: {np.any(array)}')"
   ]
  },
  {
   "attachments": {},
   "cell_type": "markdown",
   "metadata": {},
   "source": [
    "EXPLANATION\n",
    "\n",
    "This code defines three NumPy arrays, A, B, and C, and then iterates over them using a for loop.\n",
    "\n",
    "In the loop, the zip() function is used to pair up the arrays with the letters 'A', 'B', and 'C', respectively. Then, for each array, the np.all() function is called with the argument axis=1.\n",
    "\n",
    "The np.all() function checks if all elements of an array along a given axis (in this case, the second axis or columns) are True. By setting axis=1, we are checking each row of the array for truthiness.\n",
    "\n",
    "The result of calling np.all() on each row of the array is returned as a boolean NumPy array, where each element represents whether all elements in that row were True.\n",
    "\n",
    "Finally, the loop prints out the letter name of the array along with the boolean NumPy array produced by calling np.all() on that array."
   ]
  },
  {
   "attachments": {},
   "cell_type": "markdown",
   "metadata": {},
   "source": [
    "4. Check if any element of the following arrays returns the logical value True along the axis with index 0\n",
    "\n",
    "A = np.array([[0, 0, 0],[0, 0, 0]])\n",
    "\n",
    "B = np.array([[0, 0, 0],[0, 1, 0]])\n",
    "\n",
    "C = np.array([[False, False, False],[True, False, False]])\n",
    "\n",
    "D = np.array([[0.1, 0.0]])"
   ]
  },
  {
   "cell_type": "code",
   "execution_count": 2,
   "metadata": {},
   "outputs": [
    {
     "name": "stdout",
     "output_type": "stream",
     "text": [
      "A: [False False False]\n",
      "B: [False  True False]\n",
      "C: [ True False False]\n",
      "D: [ True False]\n"
     ]
    }
   ],
   "source": [
    "import numpy as np\n",
    "\n",
    "\n",
    "A = np.array([[0, 0, 0],[0, 0, 0]])\n",
    "\n",
    "B = np.array([[0, 0, 0],[0, 1, 0]])\n",
    "\n",
    "C = np.array([[False, False, False],[True, False, False]])\n",
    "\n",
    "D = np.array([[0.1, 0.0]])\n",
    "\n",
    "for name, array in zip(list('ABCD'), [A, B, C, D]):\n",
    "    print(f'{name}: {np.any(array, axis=0)}')"
   ]
  },
  {
   "attachments": {},
   "cell_type": "markdown",
   "metadata": {},
   "source": [
    "EXPLANATION\n",
    "\n",
    "This code is similar to the previous code, but instead of checking if any element in an array is True, it checks if any element along a specific axis is True.\n",
    "\n",
    "In the loop, for each array, the np.any() function is called with the argument axis=0. This means that np.any() will check if any element in each column of the array is True.\n",
    "\n",
    "The result of calling np.any() on each column of the array is returned as a boolean NumPy array, where each element represents whether at least one element in that column was True.\n",
    "\n",
    "Finally, the loop prints out the letter name of the array along with the boolean NumPy array produced by calling np.any() on that array."
   ]
  }
 ],
 "metadata": {
  "kernelspec": {
   "display_name": "Python 3",
   "language": "python",
   "name": "python3"
  },
  "language_info": {
   "codemirror_mode": {
    "name": "ipython",
    "version": 3
   },
   "file_extension": ".py",
   "mimetype": "text/x-python",
   "name": "python",
   "nbconvert_exporter": "python",
   "pygments_lexer": "ipython3",
   "version": "3.9.6"
  },
  "orig_nbformat": 4
 },
 "nbformat": 4,
 "nbformat_minor": 2
}
