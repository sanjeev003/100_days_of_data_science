{
 "cells": [
  {
   "attachments": {},
   "cell_type": "markdown",
   "metadata": {},
   "source": [
    "1. np.zeros() is a NumPy function that creates an array filled with zeros. It takes the shape of the desired array as an argument and returns an array of that shape, where all elements are set to zero.\n",
    ">>>>> arr = np.zeros(\"Give Dimension\")\n",
    "\n",
    "2. np.append() is a NumPy function that allows you to append values to an existing array. It takes the array to which you want to append values and the values themselves as arguments, and returns a new array with the appended values.\n",
    "\n",
    ">>> It's same as python list\n",
    "import numpy as np\n",
    "\n",
    "# Create an initial array\n",
    "arr = np.array([1, 2, 3])\n",
    "\n",
    "# Append a single value to the array\n",
    "new_arr1 = np.append(arr, 4)\n",
    "print(new_arr1)\n",
    "# Output: [1 2 3 4]\n",
    "\n",
    "# Append multiple values to the array\n",
    "new_arr2 = np.append(arr, [4, 5, 6])\n",
    "print(new_arr2)\n",
    "# Output: [1 2 3 4 5 6]\n",
    "\n",
    "# Append values to a multi-dimensional array\n",
    "arr2D = np.array([[1, 2], [3, 4]])\n",
    "new_arr2D = np.append(arr2D, [[5, 6]], axis=0)\n",
    "print(new_arr2D)\n",
    "# Output:\n",
    "# [[1 2]\n",
    "#  [3 4]\n",
    "#  [5 6]]\n",
    "\n",
    "3. np.intersect1d() is a NumPy function that returns the sorted, unique values that are in both of the input arrays. It computes the intersection of two arrays and returns the common elements.\n",
    ">>>Here's an example usage of np.intersect1d() :\n",
    "import numpy as np\n",
    "\n",
    "# Create two arrays\n",
    "arr1 = np.array([1, 2, 3, 4, 5])\n",
    "arr2 = np.array([4, 5, 6, 7, 8])\n",
    "\n",
    "# Compute the intersection of the two arrays\n",
    "intersection = np.intersect1d(arr1, arr2)\n",
    "print(intersection)\n",
    "# Output: [4 5]"
   ]
  },
  {
   "attachments": {},
   "cell_type": "markdown",
   "metadata": {},
   "source": [
    "1. The following array:\n",
    "\n",
    "array([[0, 0, 0, 0, 0, 0],\n",
    "       [0, 0, 0, 0, 0, 0],\n",
    "       [0, 0, 0, 0, 0, 0],\n",
    "       [0, 0, 0, 0, 0, 0],\n",
    "       [0, 0, 0, 0, 0, 0],\n",
    "       [0, 0, 0, 0, 0, 0]])\n",
    "\n",
    "transform to the following:\n",
    "\n",
    "array([[10,  0, 10,  0, 10,  0],\n",
    "       [ 5,  0,  5,  0,  5,  0],\n",
    "       [10,  0, 10,  0, 10,  0],\n",
    "       [ 5,  0,  5,  0,  5,  0],\n",
    "       [10,  0, 10,  0, 10,  0],\n",
    "       [ 5,  0,  5,  0,  5,  0]])"
   ]
  },
  {
   "cell_type": "code",
   "execution_count": 1,
   "metadata": {},
   "outputs": [
    {
     "name": "stdout",
     "output_type": "stream",
     "text": [
      "[[10  0 10  0 10  0]\n",
      " [ 5  0  5  0  5  0]\n",
      " [10  0 10  0 10  0]\n",
      " [ 5  0  5  0  5  0]\n",
      " [10  0 10  0 10  0]\n",
      " [ 5  0  5  0  5  0]]\n"
     ]
    }
   ],
   "source": [
    "import numpy as np\n",
    "\n",
    "# Create the initial array\n",
    "arr = np.zeros((6, 6), dtype=int)\n",
    "\n",
    "# Assign values using the slice operator\n",
    "arr[::2, ::2] = 10 # The arr[::2, ::2] selects every other row and column starting from the first (0th) row and column.\n",
    "arr[1::2, ::2] = 5 # arr[1::2, ::2] selects every other row starting from the second (1st) row and every column starting from the first (0th) column.\n",
    "\n",
    "print(arr)"
   ]
  },
  {
   "attachments": {},
   "cell_type": "markdown",
   "metadata": {},
   "source": [
    "2. Combine the following arrays into one as shown below and print it to the console.\n",
    "\n",
    "A = np.arange(12).reshape(-1, 4)\n",
    "B = np.array([[4, 3, 7, 2],\n",
    "              [0, 5, 2, 6]])"
   ]
  },
  {
   "cell_type": "code",
   "execution_count": 2,
   "metadata": {},
   "outputs": [
    {
     "name": "stdout",
     "output_type": "stream",
     "text": [
      "[[ 0  1  2  3]\n",
      " [ 4  5  6  7]\n",
      " [ 8  9 10 11]\n",
      " [ 4  3  7  2]\n",
      " [ 0  5  2  6]]\n"
     ]
    }
   ],
   "source": [
    "import numpy as np\n",
    "\n",
    "A = np.arange(12).reshape(-1, 4)\n",
    "B = np.array([[4, 3, 7, 2] , [0, 5, 2, 6]])\n",
    "\n",
    "print(np.append(A , B , axis=0))"
   ]
  },
  {
   "attachments": {},
   "cell_type": "markdown",
   "metadata": {},
   "source": [
    "3. The following arrays are given:\n",
    "\n",
    "A = np.arange(8).reshape(-1, 4)\n",
    "B = np.array([[9, 10, 11, 3] , [2, 8, 0, 9]])      \n",
    "\n",
    "Extract the same elements (intersection) of the arrays as a list and print result to the console."
   ]
  },
  {
   "cell_type": "code",
   "execution_count": 3,
   "metadata": {},
   "outputs": [
    {
     "name": "stdout",
     "output_type": "stream",
     "text": [
      "[0 2 3]\n"
     ]
    }
   ],
   "source": [
    "import numpy as np\n",
    "\n",
    "A = np.arange(8).reshape(-1, 4)\n",
    "B = np.array([[9, 10, 11, 3] , [2, 8, 0, 9]])\n",
    "\n",
    "print(np.intersect1d(A, B))"
   ]
  }
 ],
 "metadata": {
  "kernelspec": {
   "display_name": "Python 3",
   "language": "python",
   "name": "python3"
  },
  "language_info": {
   "codemirror_mode": {
    "name": "ipython",
    "version": 3
   },
   "file_extension": ".py",
   "mimetype": "text/x-python",
   "name": "python",
   "nbconvert_exporter": "python",
   "pygments_lexer": "ipython3",
   "version": "3.9.6"
  },
  "orig_nbformat": 4
 },
 "nbformat": 4,
 "nbformat_minor": 2
}
