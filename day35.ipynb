{
 "cells": [
  {
   "attachments": {},
   "cell_type": "markdown",
   "metadata": {},
   "source": [
    "# Day 35 - pd.DataFrame() & pd.data_range()"
   ]
  },
  {
   "attachments": {},
   "cell_type": "markdown",
   "metadata": {},
   "source": [
    "1. Create the DatetimeIndex object containing the dates in the format yyyy-mm-dd hh: mm: ss for January 1, 2021 with a time interval of 1h and assign to the variable date_range. In response, print this variable to the console."
   ]
  },
  {
   "cell_type": "code",
   "execution_count": 1,
   "metadata": {},
   "outputs": [
    {
     "name": "stdout",
     "output_type": "stream",
     "text": [
      "DatetimeIndex(['2021-01-01 00:00:00', '2021-01-01 01:00:00',\n",
      "               '2021-01-01 02:00:00', '2021-01-01 03:00:00',\n",
      "               '2021-01-01 04:00:00', '2021-01-01 05:00:00',\n",
      "               '2021-01-01 06:00:00', '2021-01-01 07:00:00',\n",
      "               '2021-01-01 08:00:00', '2021-01-01 09:00:00',\n",
      "               '2021-01-01 10:00:00', '2021-01-01 11:00:00',\n",
      "               '2021-01-01 12:00:00', '2021-01-01 13:00:00',\n",
      "               '2021-01-01 14:00:00', '2021-01-01 15:00:00',\n",
      "               '2021-01-01 16:00:00', '2021-01-01 17:00:00',\n",
      "               '2021-01-01 18:00:00', '2021-01-01 19:00:00',\n",
      "               '2021-01-01 20:00:00', '2021-01-01 21:00:00',\n",
      "               '2021-01-01 22:00:00', '2021-01-01 23:00:00'],\n",
      "              dtype='datetime64[ns]', freq='H')\n"
     ]
    }
   ],
   "source": [
    "import pandas as pd\n",
    "  \n",
    "date_range = pd.date_range(start='2021-01-01', periods=24, freq='H')\n",
    "print(date_range)"
   ]
  },
  {
   "attachments": {},
   "cell_type": "markdown",
   "metadata": {},
   "source": [
    "2. Create the following DataFrame object and print it to the console.\n",
    "\n",
    "      day           day_of_year\n",
    " 0    2021-03-01    60\n",
    " 1    2021-03-02    61\n",
    " 2    2021-03-03    62\n",
    " 3    2021-03-04    63\n",
    " 4    2021-03-05    64\n",
    " 5    2021-03-06    65\n",
    " 6    2021-03-07    66\n",
    " 7    2021-03-08    67\n",
    " 8    2021-03-09    68\n",
    " 9    2021-03-10    69\n",
    "10    2021-03-11    70\n",
    "11    2021-03-12    71\n",
    "12    2021-03-13    72\n",
    "13    2021-03-14    73\n",
    "14    2021-03-15    74\n",
    "15    2021-03-16    75\n",
    "16    2021-03-17    76\n",
    "17    2021-03-18    77\n",
    "18    2021-03-19    78\n",
    "19    2021-03-20    79\n",
    "20    2021-03-21    80\n",
    "21    2021-03-22    81\n",
    "22    2021-03-23    82\n",
    "23    2021-03-24    83\n",
    "24    2021-03-25    84\n",
    "25    2021-03-26    85\n",
    "26    2021-03-27    86\n",
    "27    2021-03-28    87\n",
    "28    2021-03-29    88\n",
    "29    2021-03-30    89\n",
    "30    2021-03-31    90\n",
    "\n",
    "Tip: The day column contains dates from March 1, 2021 to March 31, 2021. The column day_of_year is the day number of the whole year."
   ]
  },
  {
   "cell_type": "code",
   "execution_count": 2,
   "metadata": {},
   "outputs": [
    {
     "name": "stdout",
     "output_type": "stream",
     "text": [
      "          day  day_of_year\n",
      "0  2021-03-01           60\n",
      "1  2021-03-02           61\n",
      "2  2021-03-03           62\n",
      "3  2021-03-04           63\n",
      "4  2021-03-05           64\n",
      "5  2021-03-06           65\n",
      "6  2021-03-07           66\n",
      "7  2021-03-08           67\n",
      "8  2021-03-09           68\n",
      "9  2021-03-10           69\n",
      "10 2021-03-11           70\n",
      "11 2021-03-12           71\n",
      "12 2021-03-13           72\n",
      "13 2021-03-14           73\n",
      "14 2021-03-15           74\n",
      "15 2021-03-16           75\n",
      "16 2021-03-17           76\n",
      "17 2021-03-18           77\n",
      "18 2021-03-19           78\n",
      "19 2021-03-20           79\n",
      "20 2021-03-21           80\n",
      "21 2021-03-22           81\n",
      "22 2021-03-23           82\n",
      "23 2021-03-24           83\n",
      "24 2021-03-25           84\n",
      "25 2021-03-26           85\n",
      "26 2021-03-27           86\n",
      "27 2021-03-28           87\n",
      "28 2021-03-29           88\n",
      "29 2021-03-30           89\n",
      "30 2021-03-31           90\n"
     ]
    }
   ],
   "source": [
    "import pandas as pd\n",
    " \n",
    "date_range = pd.date_range(start='2021-03-01', periods=31)\n",
    "df = pd.DataFrame(data=date_range, columns=['day'])\n",
    "df['day_of_year'] = df['day'].dt.dayofyear\n",
    "print(df)"
   ]
  },
  {
   "attachments": {},
   "cell_type": "markdown",
   "metadata": {},
   "source": [
    "3. The following dictionary is given:\n",
    "\n",
    "data_dict = {\n",
    "    'normal': np.random.normal(loc=0, scale=1, size=1000),\n",
    "    'uniform': np.random.uniform(low=0, high=1, size=1000),\n",
    "    'binomial': np.random.binomial(n=1, p=0.2, size=1000)\n",
    "}\n",
    "\n",
    "Create the DateFrame object from this dictionary and assign it to the df variable. As an index, add a dates from 2020-01-01 as shown below. In response print this DataFrame to the console."
   ]
  },
  {
   "cell_type": "code",
   "execution_count": 3,
   "metadata": {},
   "outputs": [
    {
     "name": "stdout",
     "output_type": "stream",
     "text": [
      "              normal   uniform  binomial\n",
      "2020-01-01  0.496714  0.167483         0\n",
      "2020-01-02 -0.138264  0.104568         0\n",
      "2020-01-03  0.647689  0.636430         0\n",
      "2020-01-04  1.523030  0.706476         0\n",
      "2020-01-05 -0.234153  0.031586         1\n",
      "...              ...       ...       ...\n",
      "2022-09-22 -0.281100  0.280683         1\n",
      "2022-09-23  1.797687  0.206993         0\n",
      "2022-09-24  0.640843  0.516573         0\n",
      "2022-09-25 -0.571179  0.005506         1\n",
      "2022-09-26  0.572583  0.007664         0\n",
      "\n",
      "[1000 rows x 3 columns]\n"
     ]
    }
   ],
   "source": [
    "import numpy as np\n",
    "import pandas as pd\n",
    " \n",
    "np.random.seed(42)\n",
    "data_dict = {\n",
    "    'normal': np.random.normal(loc=0, scale=1, size=1000),\n",
    "    'uniform': np.random.uniform(low=0, high=1, size=1000),\n",
    "    'binomial': np.random.binomial(n=1, p=0.2, size=1000),\n",
    "}\n",
    " \n",
    "df = pd.DataFrame(\n",
    "    data=data_dict, index=pd.date_range('2020-01-01', periods=1000)\n",
    ")\n",
    "print(df)"
   ]
  }
 ],
 "metadata": {
  "kernelspec": {
   "display_name": "Python 3",
   "language": "python",
   "name": "python3"
  },
  "language_info": {
   "codemirror_mode": {
    "name": "ipython",
    "version": 3
   },
   "file_extension": ".py",
   "mimetype": "text/x-python",
   "name": "python",
   "nbconvert_exporter": "python",
   "pygments_lexer": "ipython3",
   "version": "3.9.6"
  },
  "orig_nbformat": 4
 },
 "nbformat": 4,
 "nbformat_minor": 2
}
