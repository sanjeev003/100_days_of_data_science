{
 "cells": [
  {
   "cell_type": "markdown",
   "metadata": {},
   "source": [
    "# Day 55 - data exploring"
   ]
  },
  {
   "cell_type": "markdown",
   "metadata": {},
   "source": [
    "1. Using pandas load the london_bike.csv file into the DataFrame and assign to df variable:\n",
    "    https://storage.googleapis.com/esmartdata-courses-files/ds-bootcamp/london_bike.csv\n",
    "In response print basic information about this DataFrame to the console."
   ]
  },
  {
   "cell_type": "code",
   "execution_count": 2,
   "metadata": {},
   "outputs": [
    {
     "name": "stdout",
     "output_type": "stream",
     "text": [
      "<class 'pandas.core.frame.DataFrame'>\n",
      "Index: 17414 entries, 2015-01-04 00:00:00 to 2017-01-03 23:00:00\n",
      "Data columns (total 9 columns):\n",
      " #   Column        Non-Null Count  Dtype  \n",
      "---  ------        --------------  -----  \n",
      " 0   cnt           17414 non-null  int64  \n",
      " 1   t1            17414 non-null  float64\n",
      " 2   t2            17414 non-null  float64\n",
      " 3   hum           17414 non-null  float64\n",
      " 4   wind_speed    17414 non-null  float64\n",
      " 5   weather_code  17414 non-null  float64\n",
      " 6   is_holiday    17414 non-null  float64\n",
      " 7   is_weekend    17414 non-null  float64\n",
      " 8   season        17414 non-null  float64\n",
      "dtypes: float64(8), int64(1)\n",
      "memory usage: 1.3+ MB\n"
     ]
    }
   ],
   "source": [
    "import pandas as pd\n",
    "\n",
    "url = ('https://storage.googleapis.com/esmartdata-courses-files/ds-bootcamp/london_bike.csv')\n",
    "df = pd.read_csv(url, index_col=0)\n",
    "df.info()"
   ]
  }
 ],
 "metadata": {
  "kernelspec": {
   "display_name": "Python 3",
   "language": "python",
   "name": "python3"
  },
  "language_info": {
   "codemirror_mode": {
    "name": "ipython",
    "version": 3
   },
   "file_extension": ".py",
   "mimetype": "text/x-python",
   "name": "python",
   "nbconvert_exporter": "python",
   "pygments_lexer": "ipython3",
   "version": "3.9.6"
  },
  "orig_nbformat": 4
 },
 "nbformat": 4,
 "nbformat_minor": 2
}
