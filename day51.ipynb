{
 "cells": [
  {
   "attachments": {},
   "cell_type": "markdown",
   "metadata": {},
   "source": [
    "# Day 51 - data preprocessing"
   ]
  },
  {
   "attachments": {},
   "cell_type": "markdown",
   "metadata": {},
   "source": [
    "1. Using pandas load the following csv file into the DataFrame and assign to the df variable:\n",
    "    https://storage.googleapis.com/esmartdata-courses-files/dash-course/data.csv\n",
    "Set the index to the first column and print this DataFrame to the console."
   ]
  },
  {
   "cell_type": "code",
   "execution_count": 1,
   "metadata": {},
   "outputs": [
    {
     "name": "stdout",
     "output_type": "stream",
     "text": [
      "                                  Name    Location  Year  Kilometers_Driven  \\\n",
      "0               Maruti Wagon R LXI CNG      Mumbai  2010              72000   \n",
      "1     Hyundai Creta 1.6 CRDi SX Option        Pune  2015              41000   \n",
      "2                         Honda Jazz V     Chennai  2011              46000   \n",
      "3                    Maruti Ertiga VDI     Chennai  2012              87000   \n",
      "4      Audi A4 New 2.0 TDI Multitronic  Coimbatore  2013              40670   \n",
      "...                                ...         ...   ...                ...   \n",
      "6014                  Maruti Swift VDI       Delhi  2014              27365   \n",
      "6015          Hyundai Xcent 1.1 CRDi S      Jaipur  2015             100000   \n",
      "6016             Mahindra Xylo D4 BSIV      Jaipur  2012              55000   \n",
      "6017                Maruti Wagon R VXI     Kolkata  2013              46000   \n",
      "6018             Chevrolet Beat Diesel   Hyderabad  2011              47000   \n",
      "\n",
      "     Fuel_Type Transmission Owner_Type     Mileage   Engine      Power  Seats  \\\n",
      "0          CNG       Manual      First  26.6 km/kg   998 CC  58.16 bhp    5.0   \n",
      "1       Diesel       Manual      First  19.67 kmpl  1582 CC  126.2 bhp    5.0   \n",
      "2       Petrol       Manual      First   18.2 kmpl  1199 CC   88.7 bhp    5.0   \n",
      "3       Diesel       Manual      First  20.77 kmpl  1248 CC  88.76 bhp    7.0   \n",
      "4       Diesel    Automatic     Second   15.2 kmpl  1968 CC  140.8 bhp    5.0   \n",
      "...        ...          ...        ...         ...      ...        ...    ...   \n",
      "6014    Diesel       Manual      First   28.4 kmpl  1248 CC     74 bhp    5.0   \n",
      "6015    Diesel       Manual      First   24.4 kmpl  1120 CC     71 bhp    5.0   \n",
      "6016    Diesel       Manual     Second   14.0 kmpl  2498 CC    112 bhp    8.0   \n",
      "6017    Petrol       Manual      First   18.9 kmpl   998 CC   67.1 bhp    5.0   \n",
      "6018    Diesel       Manual      First  25.44 kmpl   936 CC   57.6 bhp    5.0   \n",
      "\n",
      "      New_Price  Price  \n",
      "0           NaN   1.75  \n",
      "1           NaN  12.50  \n",
      "2     8.61 Lakh   4.50  \n",
      "3           NaN   6.00  \n",
      "4           NaN  17.74  \n",
      "...         ...    ...  \n",
      "6014  7.88 Lakh   4.75  \n",
      "6015        NaN   4.00  \n",
      "6016        NaN   2.90  \n",
      "6017        NaN   2.65  \n",
      "6018        NaN   2.50  \n",
      "\n",
      "[6019 rows x 13 columns]\n"
     ]
    }
   ],
   "source": [
    "import pandas as pd\n",
    " \n",
    "url = ( 'https://storage.googleapis.com/esmartdata-courses-files/dash-course/data.csv' )\n",
    "df = pd.read_csv(url, index_col=0)\n",
    "print(df)"
   ]
  },
  {
   "attachments": {},
   "cell_type": "markdown",
   "metadata": {},
   "source": [
    "2. The df DataFrame is given below. Extract list with column names of this DataFrame and print it to the console."
   ]
  },
  {
   "cell_type": "code",
   "execution_count": 2,
   "metadata": {},
   "outputs": [
    {
     "name": "stdout",
     "output_type": "stream",
     "text": [
      "['Name', 'Location', 'Year', 'Kilometers_Driven', 'Fuel_Type', 'Transmission', 'Owner_Type', 'Mileage', 'Engine', 'Power', 'Seats', 'New_Price', 'Price']\n"
     ]
    }
   ],
   "source": [
    "import pandas as pd\n",
    " \n",
    "url = ( 'https://storage.googleapis.com/esmartdata-courses-files/dash-course/data.csv' ) \n",
    "df = pd.read_csv(url, index_col=0)\n",
    "print(list(df.columns))"
   ]
  },
  {
   "attachments": {},
   "cell_type": "markdown",
   "metadata": {},
   "source": [
    "3. The df DataFrame is given below. From this object, remove the column 'New_Price' and print the first 5 rows to the console."
   ]
  },
  {
   "cell_type": "code",
   "execution_count": 3,
   "metadata": {},
   "outputs": [
    {
     "name": "stdout",
     "output_type": "stream",
     "text": [
      "                               Name    Location  Year  Kilometers_Driven  \\\n",
      "0            Maruti Wagon R LXI CNG      Mumbai  2010              72000   \n",
      "1  Hyundai Creta 1.6 CRDi SX Option        Pune  2015              41000   \n",
      "2                      Honda Jazz V     Chennai  2011              46000   \n",
      "3                 Maruti Ertiga VDI     Chennai  2012              87000   \n",
      "4   Audi A4 New 2.0 TDI Multitronic  Coimbatore  2013              40670   \n",
      "\n",
      "  Fuel_Type Transmission Owner_Type     Mileage   Engine      Power  Seats  \\\n",
      "0       CNG       Manual      First  26.6 km/kg   998 CC  58.16 bhp    5.0   \n",
      "1    Diesel       Manual      First  19.67 kmpl  1582 CC  126.2 bhp    5.0   \n",
      "2    Petrol       Manual      First   18.2 kmpl  1199 CC   88.7 bhp    5.0   \n",
      "3    Diesel       Manual      First  20.77 kmpl  1248 CC  88.76 bhp    7.0   \n",
      "4    Diesel    Automatic     Second   15.2 kmpl  1968 CC  140.8 bhp    5.0   \n",
      "\n",
      "   Price  \n",
      "0   1.75  \n",
      "1  12.50  \n",
      "2   4.50  \n",
      "3   6.00  \n",
      "4  17.74  \n"
     ]
    }
   ],
   "source": [
    "import pandas as pd\n",
    "  \n",
    "url = ( 'https://storage.googleapis.com/esmartdata-courses-files/dash-course/data.csv' )\n",
    "df = pd.read_csv(url, index_col=0)\n",
    "df.drop('New_Price', axis=1, inplace=True)\n",
    "print(df.head())"
   ]
  }
 ],
 "metadata": {
  "kernelspec": {
   "display_name": "Python 3",
   "language": "python",
   "name": "python3"
  },
  "language_info": {
   "codemirror_mode": {
    "name": "ipython",
    "version": 3
   },
   "file_extension": ".py",
   "mimetype": "text/x-python",
   "name": "python",
   "nbconvert_exporter": "python",
   "pygments_lexer": "ipython3",
   "version": "3.9.6"
  },
  "orig_nbformat": 4
 },
 "nbformat": 4,
 "nbformat_minor": 2
}
