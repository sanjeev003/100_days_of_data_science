{
 "cells": [
  {
   "cell_type": "markdown",
   "metadata": {},
   "source": [
    "# Day 73 - Pivot Tables"
   ]
  },
  {
   "cell_type": "markdown",
   "metadata": {},
   "source": [
    "1. The following tips DataFrame is given:\n",
    "\n",
    "     total_bill   tip     sex smoker   day    time  size\n",
    "0         16.99  1.01  Female     No   Sun  Dinner     2\n",
    "1         10.34  1.66    Male     No   Sun  Dinner     3\n",
    "2         21.01  3.50    Male     No   Sun  Dinner     3\n",
    "3         23.68  3.31    Male     No   Sun  Dinner     2\n",
    "4         24.59  3.61  Female     No   Sun  Dinner     4\n",
    "..          ...   ...     ...    ...   ...     ...   ...\n",
    "239       29.03  5.92    Male     No   Sat  Dinner     3\n",
    "240       27.18  2.00  Female    Yes   Sat  Dinner     2\n",
    "241       22.67  2.00    Male    Yes   Sat  Dinner     2\n",
    "242       17.82  1.75    Male     No   Sat  Dinner     2\n",
    "243       18.78  3.00  Female     No  Thur  Dinner     2\n",
    " \n",
    "[244 rows x 7 columns]\n",
    "\n",
    "Using the pivot tables prepare the following DataFrame:\n",
    "\n",
    "           tip  total_bill\n",
    "day                       \n",
    "Fri   2.734737   17.151579\n",
    "Sat   2.993103   20.441379\n",
    "Sun   3.255132   21.410000\n",
    "Thur  2.771452   17.682742\n",
    "\n",
    "Average value of the tip and total_bill columns broken down into days."
   ]
  },
  {
   "cell_type": "code",
   "execution_count": 1,
   "metadata": {},
   "outputs": [
    {
     "name": "stdout",
     "output_type": "stream",
     "text": [
      "           tip  total_bill\n",
      "day                       \n",
      "Fri   2.734737   17.151579\n",
      "Sat   2.993103   20.441379\n",
      "Sun   3.255132   21.410000\n",
      "Thur  2.771452   17.682742\n"
     ]
    }
   ],
   "source": [
    "import pandas as pd\n",
    "import numpy as np\n",
    "\n",
    "tips = pd.read_csv( 'https://raw.githubusercontent.com/mwaskom/seaborn-data/master/tips.csv' )\n",
    "result = pd.pivot_table( tips, index='day', values=['tip', 'total_bill'], aggfunc=np.mean )\n",
    "print(result)"
   ]
  },
  {
   "cell_type": "markdown",
   "metadata": {},
   "source": [
    "2. The following tips DataFrame is given:\n",
    "\n",
    "     total_bill   tip     sex smoker   day    time  size\n",
    "0         16.99  1.01  Female     No   Sun  Dinner     2\n",
    "1         10.34  1.66    Male     No   Sun  Dinner     3\n",
    "2         21.01  3.50    Male     No   Sun  Dinner     3\n",
    "3         23.68  3.31    Male     No   Sun  Dinner     2\n",
    "4         24.59  3.61  Female     No   Sun  Dinner     4\n",
    "..          ...   ...     ...    ...   ...     ...   ...\n",
    "239       29.03  5.92    Male     No   Sat  Dinner     3\n",
    "240       27.18  2.00  Female    Yes   Sat  Dinner     2\n",
    "241       22.67  2.00    Male    Yes   Sat  Dinner     2\n",
    "242       17.82  1.75    Male     No   Sat  Dinner     2\n",
    "243       18.78  3.00  Female     No  Thur  Dinner     2\n",
    " \n",
    "[244 rows x 7 columns]\n",
    "\n",
    "Using the pivot tables prepare the following DataFrame:\n",
    "\n",
    "                  tip  total_bill\n",
    "day  sex                         \n",
    "Fri  Female  2.781111   14.145556\n",
    "     Male    2.693000   19.857000\n",
    "Sat  Female  2.801786   19.680357\n",
    "     Male    3.083898   20.802542\n",
    "Sun  Female  3.367222   19.872222\n",
    "     Male    3.220345   21.887241\n",
    "Thur Female  2.575625   16.715312\n",
    "     Male    2.980333   18.714667\n",
    "\n",
    "Average value of the tip and total_bill columns broken down into days and gender."
   ]
  },
  {
   "cell_type": "code",
   "execution_count": 2,
   "metadata": {},
   "outputs": [
    {
     "name": "stdout",
     "output_type": "stream",
     "text": [
      "                  tip  total_bill\n",
      "day  sex                         \n",
      "Fri  Female  2.781111   14.145556\n",
      "     Male    2.693000   19.857000\n",
      "Sat  Female  2.801786   19.680357\n",
      "     Male    3.083898   20.802542\n",
      "Sun  Female  3.367222   19.872222\n",
      "     Male    3.220345   21.887241\n",
      "Thur Female  2.575625   16.715312\n",
      "     Male    2.980333   18.714667\n"
     ]
    }
   ],
   "source": [
    "import pandas as pd\n",
    "import numpy as np\n",
    "\n",
    "tips = pd.read_csv( 'https://raw.githubusercontent.com/mwaskom/seaborn-data/master/tips.csv' )\n",
    "result = pd.pivot_table(\n",
    "    tips,\n",
    "    index=['day', 'sex'],\n",
    "    values=['tip', 'total_bill'],\n",
    "    aggfunc=np.mean,\n",
    ")\n",
    "print(result)"
   ]
  },
  {
   "cell_type": "markdown",
   "metadata": {},
   "source": [
    "3. The following tips DataFrame is given:\n",
    "\n",
    "     total_bill   tip     sex smoker   day    time  size\n",
    "0         16.99  1.01  Female     No   Sun  Dinner     2\n",
    "1         10.34  1.66    Male     No   Sun  Dinner     3\n",
    "2         21.01  3.50    Male     No   Sun  Dinner     3\n",
    "3         23.68  3.31    Male     No   Sun  Dinner     2\n",
    "4         24.59  3.61  Female     No   Sun  Dinner     4\n",
    "..          ...   ...     ...    ...   ...     ...   ...\n",
    "239       29.03  5.92    Male     No   Sat  Dinner     3\n",
    "240       27.18  2.00  Female    Yes   Sat  Dinner     2\n",
    "241       22.67  2.00    Male    Yes   Sat  Dinner     2\n",
    "242       17.82  1.75    Male     No   Sat  Dinner     2\n",
    "243       18.78  3.00  Female     No  Thur  Dinner     2\n",
    " \n",
    "[244 rows x 7 columns]\n",
    "\n",
    "Using the pivot tables prepare the following DataFrame:\n",
    "\n",
    "        tip  total_bill\n",
    "day                    \n",
    "Fri    4.73       40.17\n",
    "Sat   10.00       50.81\n",
    "Sun    6.50       48.17\n",
    "Thur   6.70       43.11\n",
    "\n",
    "Maximum value of the tip and total_bill columns broken down into days."
   ]
  },
  {
   "cell_type": "code",
   "execution_count": 3,
   "metadata": {},
   "outputs": [
    {
     "name": "stdout",
     "output_type": "stream",
     "text": [
      "        tip  total_bill\n",
      "day                    \n",
      "Fri    4.73       40.17\n",
      "Sat   10.00       50.81\n",
      "Sun    6.50       48.17\n",
      "Thur   6.70       43.11\n"
     ]
    }
   ],
   "source": [
    "import pandas as pd\n",
    "import numpy as np\n",
    " \n",
    "tips = pd.read_csv( 'https://raw.githubusercontent.com/mwaskom/seaborn-data/master/tips.csv' ) \n",
    "result = pd.pivot_table(\n",
    "    tips, index='day', values=['tip', 'total_bill'], aggfunc=np.max\n",
    ")\n",
    "print(result)"
   ]
  },
  {
   "cell_type": "markdown",
   "metadata": {},
   "source": [
    "4. The following tips DataFrame is given:\n",
    "\n",
    "     total_bill   tip     sex smoker   day    time  size\n",
    "0         16.99  1.01  Female     No   Sun  Dinner     2\n",
    "1         10.34  1.66    Male     No   Sun  Dinner     3\n",
    "2         21.01  3.50    Male     No   Sun  Dinner     3\n",
    "3         23.68  3.31    Male     No   Sun  Dinner     2\n",
    "4         24.59  3.61  Female     No   Sun  Dinner     4\n",
    "..          ...   ...     ...    ...   ...     ...   ...\n",
    "239       29.03  5.92    Male     No   Sat  Dinner     3\n",
    "240       27.18  2.00  Female    Yes   Sat  Dinner     2\n",
    "241       22.67  2.00    Male    Yes   Sat  Dinner     2\n",
    "242       17.82  1.75    Male     No   Sat  Dinner     2\n",
    "243       18.78  3.00  Female     No  Thur  Dinner     2\n",
    " \n",
    "[244 rows x 7 columns]\n",
    "\n",
    "Using the pivot tables prepare the following DataFrame:\n",
    "\n",
    "                         tip  total_bill\n",
    "day  sex    smoker                      \n",
    "Fri  Female No      3.125000   19.365000\n",
    "            Yes     2.682857   12.654286\n",
    "     Male   No      2.500000   17.475000\n",
    "            Yes     2.741250   20.452500\n",
    "Sat  Female No      2.724615   19.003846\n",
    "            Yes     2.868667   20.266667\n",
    "     Male   No      3.256563   19.929063\n",
    "            Yes     2.879259   21.837778\n",
    "Sun  Female No      3.329286   20.824286\n",
    "            Yes     3.500000   16.540000\n",
    "     Male   No      3.115349   20.403256\n",
    "            Yes     3.521333   26.141333\n",
    "Thur Female No      2.459600   16.014400\n",
    "            Yes     2.990000   19.218571\n",
    "     Male   No      2.941500   18.486500\n",
    "            Yes     3.058000   19.171000\n",
    "\n",
    "Average value of the tip and total_bill columns broken down into days, gender and smoker / non-smoker."
   ]
  },
  {
   "cell_type": "code",
   "execution_count": 4,
   "metadata": {},
   "outputs": [
    {
     "name": "stdout",
     "output_type": "stream",
     "text": [
      "                         tip  total_bill\n",
      "day  sex    smoker                      \n",
      "Fri  Female No      3.125000   19.365000\n",
      "            Yes     2.682857   12.654286\n",
      "     Male   No      2.500000   17.475000\n",
      "            Yes     2.741250   20.452500\n",
      "Sat  Female No      2.724615   19.003846\n",
      "            Yes     2.868667   20.266667\n",
      "     Male   No      3.256563   19.929063\n",
      "            Yes     2.879259   21.837778\n",
      "Sun  Female No      3.329286   20.824286\n",
      "            Yes     3.500000   16.540000\n",
      "     Male   No      3.115349   20.403256\n",
      "            Yes     3.521333   26.141333\n",
      "Thur Female No      2.459600   16.014400\n",
      "            Yes     2.990000   19.218571\n",
      "     Male   No      2.941500   18.486500\n",
      "            Yes     3.058000   19.171000\n"
     ]
    }
   ],
   "source": [
    "import pandas as pd\n",
    "import numpy as np\n",
    "\n",
    "tips = pd.read_csv( 'https://raw.githubusercontent.com/mwaskom/seaborn-data/master/tips.csv' )\n",
    "result = pd.pivot_table(\n",
    "    tips,\n",
    "    index=['day', 'sex', 'smoker'],\n",
    "    values=['tip', 'total_bill'],\n",
    "    aggfunc=np.mean,\n",
    ")\n",
    "print(result)"
   ]
  }
 ],
 "metadata": {
  "kernelspec": {
   "display_name": "Python 3",
   "language": "python",
   "name": "python3"
  },
  "language_info": {
   "codemirror_mode": {
    "name": "ipython",
    "version": 3
   },
   "file_extension": ".py",
   "mimetype": "text/x-python",
   "name": "python",
   "nbconvert_exporter": "python",
   "pygments_lexer": "ipython3",
   "version": "3.9.6"
  },
  "orig_nbformat": 4
 },
 "nbformat": 4,
 "nbformat_minor": 2
}
