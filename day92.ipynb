{
 "cells": [
  {
   "cell_type": "markdown",
   "metadata": {},
   "source": [
    "# # Day 92 - PCA"
   ]
  },
  {
   "cell_type": "markdown",
   "metadata": {},
   "source": [
    "1. The pca.csv file was loaded into the df DataFrame. Using the StandardScaler class, the variables in the X were standardized and assigned to the X_std. <br>\n",
    "Implement the PCA algorithm using the X_std array. Reduce the result to the two principal components and assign it to the X_pca variable. <br>\n",
    "In response, print the first ten rows of the X_pca array. <br>\n",
    "<br>\n",
    "STEPS <br>\n",
    "compute covariance matrix of X_std array <br>\n",
    "find the eigenvectors and their corresponding eigenvalues for this covariance matrix <br>\n",
    "sort eigenvectors by decreasing eigenvalues <br>\n",
    "determine the number of components (in this case 2). <br>\n",
    "create matrix W from selected vectors (columns as eigenvectors). <br>\n",
    "multiply X_std by W and assign to the X_pca variable"
   ]
  },
  {
   "cell_type": "code",
   "execution_count": 3,
   "metadata": {},
   "outputs": [
    {
     "name": "stdout",
     "output_type": "stream",
     "text": [
      "[[-2.06036006  0.2986744 ]\n",
      " [-2.1959812   0.10172707]\n",
      " [-2.36522102 -0.08074913]\n",
      " [-2.36579421 -0.20816508]\n",
      " [-2.12817063  0.20020073]\n",
      " [-1.60325585  0.4127035 ]\n",
      " [-2.32300467 -0.26268319]\n",
      " [-2.09455194  0.1857296 ]\n",
      " [-2.53503403 -0.39064128]\n",
      " [-2.23877073  0.15624518]]\n"
     ]
    }
   ],
   "source": [
    "import numpy as np\n",
    "import pandas as pd\n",
    "from sklearn.preprocessing import StandardScaler\n",
    " \n",
    " \n",
    "np.set_printoptions(\n",
    "    precision=8, suppress=True, edgeitems=5, linewidth=200\n",
    ")\n",
    "np.random.seed(42)\n",
    "df = pd.read_csv('pca.csv')\n",
    " \n",
    "X = df.copy()\n",
    "y = X.pop('class')\n",
    " \n",
    "scaler = StandardScaler()\n",
    "X_std = scaler.fit_transform(X)\n",
    " \n",
    "eig_vals, eig_vecs = np.linalg.eig(np.cov(X_std, rowvar=False))\n",
    "eig_pairs = [\n",
    "    (np.abs(eig_vals[i]), eig_vecs[:, i])\n",
    "    for i in range(len(eig_vals))\n",
    "]\n",
    "eig_pairs.sort(reverse=True)\n",
    " \n",
    "W = np.hstack(\n",
    "    (\n",
    "        eig_pairs[0][1].reshape(3, 1),\n",
    "        eig_pairs[1][1].reshape(3, 1),\n",
    "    )\n",
    ")\n",
    "X_pca = X_std.dot(W)\n",
    "print(X_pca[:10])"
   ]
  },
  {
   "cell_type": "markdown",
   "metadata": {},
   "source": [
    "2. The PCA algorithm was implemented using the X_std array and the result was assigned to the X_pca variable. <br>\n",
    "Create a DataFrame called df_pca using the X_pca array and the y variable and print the first ten rows of this object to the console."
   ]
  },
  {
   "cell_type": "code",
   "execution_count": 2,
   "metadata": {},
   "outputs": [
    {
     "name": "stdout",
     "output_type": "stream",
     "text": [
      "      pca_1     pca_2  class\n",
      "0 -2.060360 -0.298674    0.0\n",
      "1 -2.195981 -0.101727    0.0\n",
      "2 -2.365221  0.080749    0.0\n",
      "3 -2.365794  0.208165    0.0\n",
      "4 -2.128171 -0.200201    0.0\n",
      "5 -1.603256 -0.412703    0.0\n",
      "6 -2.323005  0.262683    0.0\n",
      "7 -2.094552 -0.185730    0.0\n",
      "8 -2.535034  0.390641    0.0\n",
      "9 -2.238771 -0.156245    0.0\n"
     ]
    }
   ],
   "source": [
    "import numpy as np\n",
    "import pandas as pd\n",
    "from sklearn.preprocessing import StandardScaler\n",
    " \n",
    " \n",
    "np.set_printoptions(\n",
    "    precision=8, suppress=True, edgeitems=5, linewidth=200\n",
    ")\n",
    "np.random.seed(42)\n",
    "df = pd.read_csv('pca.csv')\n",
    " \n",
    "X = df.copy()\n",
    "y = X.pop('class')\n",
    " \n",
    "scaler = StandardScaler()\n",
    "X_std = scaler.fit_transform(X)\n",
    " \n",
    "eig_vals, eig_vecs = np.linalg.eig(np.cov(X_std, rowvar=False))\n",
    "eig_pairs = [\n",
    "    (np.abs(eig_vals[i]), eig_vecs[:, i])\n",
    "    for i in range(len(eig_vals))\n",
    "]\n",
    "eig_pairs.sort(reverse=True)\n",
    " \n",
    "W = np.hstack(\n",
    "    (\n",
    "        eig_pairs[0][1].reshape(3, 1),\n",
    "        eig_pairs[1][1].reshape(3, 1),\n",
    "    )\n",
    ")\n",
    "X_pca = X_std.dot(W)\n",
    " \n",
    "df_pca = pd.DataFrame(data=X_pca, columns=['pca_1', 'pca_2'])\n",
    "df_pca['class'] = df['class']\n",
    "df_pca['pca_2'] = -df_pca['pca_2']\n",
    "print(df_pca.head(10))"
   ]
  },
  {
   "cell_type": "markdown",
   "metadata": {},
   "source": [
    "3. The pca.csv file was loaded into the df DataFrame. Using the StandardScaler class, the variables in the X object were standardized and assigned to the X_std variable. <br>\n",
    "Using the PCA class from the scikit-learn, perform the PCA analysis with two components using the X_std array and assign it to the df_pca variable. In resposne, print the first ten rows of this object (also add the 'class' column) as shown below."
   ]
  },
  {
   "cell_type": "code",
   "execution_count": 4,
   "metadata": {},
   "outputs": [
    {
     "name": "stdout",
     "output_type": "stream",
     "text": [
      "      pca_1     pca_2  class\n",
      "0 -2.060360 -0.298674    0.0\n",
      "1 -2.195981 -0.101727    0.0\n",
      "2 -2.365221  0.080749    0.0\n",
      "3 -2.365794  0.208165    0.0\n",
      "4 -2.128171 -0.200201    0.0\n",
      "5 -1.603256 -0.412703    0.0\n",
      "6 -2.323005  0.262683    0.0\n",
      "7 -2.094552 -0.185730    0.0\n",
      "8 -2.535034  0.390641    0.0\n",
      "9 -2.238771 -0.156245    0.0\n"
     ]
    }
   ],
   "source": [
    "import numpy as np\n",
    "import pandas as pd\n",
    "from sklearn.preprocessing import StandardScaler\n",
    "from sklearn.decomposition import PCA\n",
    " \n",
    " \n",
    "np.set_printoptions(\n",
    "    precision=8, suppress=True, edgeitems=5, linewidth=200\n",
    ")\n",
    "np.random.seed(42)\n",
    "df = pd.read_csv('pca.csv')\n",
    " \n",
    "X = df.copy()\n",
    "y = X.pop('class')\n",
    " \n",
    "scaler = StandardScaler()\n",
    "X_std = scaler.fit_transform(X)\n",
    " \n",
    "pca = PCA(n_components=2)\n",
    "X_pca = pca.fit_transform(X_std)\n",
    "df_pca = pd.DataFrame(data=X_pca, columns=['pca_1', 'pca_2'])\n",
    "df_pca['class'] = df['class']\n",
    "print(df_pca.head(10))"
   ]
  },
  {
   "cell_type": "markdown",
   "metadata": {},
   "source": [
    "4. Load the pca.csv file into the df DataFrame. Perform dimensional reduction with PCA and three principal components using the scikit-learn package and the PCA class. <br>\n",
    "In response, print the percentage of the variance explained by these components "
   ]
  },
  {
   "cell_type": "code",
   "execution_count": 5,
   "metadata": {},
   "outputs": [
    {
     "name": "stdout",
     "output_type": "stream",
     "text": [
      "   explained_variance_ratio  cumulative  component\n",
      "0                  0.918611    0.918611          1\n",
      "1                  0.063267    0.981878          2\n",
      "2                  0.010525    0.992403          3\n"
     ]
    }
   ],
   "source": [
    "import numpy as np\n",
    "import pandas as pd\n",
    "from sklearn.preprocessing import StandardScaler\n",
    "from sklearn.decomposition import PCA\n",
    " \n",
    "df = pd.read_csv('pca.csv')\n",
    "data = df.values\n",
    " \n",
    "scaler = StandardScaler()\n",
    "data_std = scaler.fit_transform(data)\n",
    " \n",
    "pca = PCA(n_components=3)\n",
    "data_pca = pca.fit_transform(data_std)\n",
    " \n",
    "results = pd.DataFrame(\n",
    "    data={\n",
    "        'explained_variance_ratio': pca.explained_variance_ratio_\n",
    "    }\n",
    ")\n",
    "results['cumulative'] = results[\n",
    "    'explained_variance_ratio'\n",
    "].cumsum()\n",
    "results['component'] = results.index + 1\n",
    "print(results)"
   ]
  }
 ],
 "metadata": {
  "kernelspec": {
   "display_name": "Python 3",
   "language": "python",
   "name": "python3"
  },
  "language_info": {
   "codemirror_mode": {
    "name": "ipython",
    "version": 3
   },
   "file_extension": ".py",
   "mimetype": "text/x-python",
   "name": "python",
   "nbconvert_exporter": "python",
   "pygments_lexer": "ipython3",
   "version": "3.9.6"
  },
  "orig_nbformat": 4
 },
 "nbformat": 4,
 "nbformat_minor": 2
}
