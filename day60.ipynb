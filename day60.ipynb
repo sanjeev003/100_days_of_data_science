{
 "cells": [
  {
   "cell_type": "markdown",
   "metadata": {},
   "source": [
    "# Day 60 - data types"
   ]
  },
  {
   "cell_type": "markdown",
   "metadata": {},
   "source": [
    "1. The df DataFrame is given below. Convert following columns:\n",
    "\n",
    "sex\n",
    "smoker\n",
    "region\n",
    "\n",
    "to category type.\n",
    "\n",
    "In response, using pd.DataFrame.info() print some information about this DataFrame to the console."
   ]
  },
  {
   "cell_type": "code",
   "execution_count": 1,
   "metadata": {},
   "outputs": [
    {
     "name": "stdout",
     "output_type": "stream",
     "text": [
      "<class 'pandas.core.frame.DataFrame'>\n",
      "RangeIndex: 1338 entries, 0 to 1337\n",
      "Data columns (total 7 columns):\n",
      " #   Column    Non-Null Count  Dtype   \n",
      "---  ------    --------------  -----   \n",
      " 0   age       1338 non-null   int64   \n",
      " 1   sex       1338 non-null   category\n",
      " 2   bmi       1338 non-null   float64 \n",
      " 3   children  1338 non-null   int64   \n",
      " 4   smoker    1338 non-null   category\n",
      " 5   region    1338 non-null   category\n",
      " 6   charges   1338 non-null   float64 \n",
      "dtypes: category(3), float64(2), int64(2)\n",
      "memory usage: 46.3 KB\n"
     ]
    }
   ],
   "source": [
    "import pandas as pd\n",
    " \n",
    "url = ( 'https://storage.googleapis.com/esmartdata-courses-files/ml-course/insurance.csv' )\n",
    "df = pd.read_csv(url)\n",
    "cat_vars = ['sex', 'smoker', 'region']\n",
    " \n",
    "for col in cat_vars:\n",
    "    df[col] = df[col].astype('category')\n",
    " \n",
    "df.info() "
   ]
  },
  {
   "cell_type": "markdown",
   "metadata": {},
   "source": [
    "2. The df DataFrame is given below. Extract all names of numeric columns (float, int) from this object as a list and print it to the console."
   ]
  },
  {
   "cell_type": "code",
   "execution_count": 2,
   "metadata": {},
   "outputs": [
    {
     "name": "stdout",
     "output_type": "stream",
     "text": [
      "['age', 'bmi', 'children', 'charges']\n"
     ]
    }
   ],
   "source": [
    "import pandas as pd \n",
    " \n",
    "url = ( 'https://storage.googleapis.com/esmartdata-courses-files/ml-course/insurance.csv' )\n",
    "df = pd.read_csv(url)\n",
    "num_vars = list(df.select_dtypes(include=['float', 'int']).columns)\n",
    "print(num_vars)"
   ]
  },
  {
   "cell_type": "markdown",
   "metadata": {},
   "source": [
    "3. The df DataFrame is given below. Follow the steps below:\n",
    "\n",
    "assign to the variable df_cat DataFrame with categorical columns from the df (create a copy)\n",
    "assign to the variable df_num DataFrame with numerical variables from the df (create a copy)\n",
    "\n",
    "Print the first five rows of the df_cat and df_num to the console."
   ]
  },
  {
   "cell_type": "code",
   "execution_count": 3,
   "metadata": {},
   "outputs": [
    {
     "name": "stdout",
     "output_type": "stream",
     "text": [
      "      sex smoker     region\n",
      "0  female    yes  southwest\n",
      "1    male     no  southeast\n",
      "2    male     no  southeast\n",
      "3    male     no  northwest\n",
      "4    male     no  northwest\n",
      "   age     bmi  children      charges\n",
      "0   19  27.900         0  16884.92400\n",
      "1   18  33.770         1   1725.55230\n",
      "2   28  33.000         3   4449.46200\n",
      "3   33  22.705         0  21984.47061\n",
      "4   32  28.880         0   3866.85520\n"
     ]
    }
   ],
   "source": [
    "import pandas as pd\n",
    "  \n",
    "url = ( 'https://storage.googleapis.com/esmartdata-courses-files/ml-course/insurance.csv' )\n",
    "df = pd.read_csv(url)\n",
    "for col in list(df.select_dtypes(include=['object']).columns):\n",
    "    df[col] = df[col].astype('category')\n",
    "df_cat = df.select_dtypes(include=['category']).copy()\n",
    "df_num = df.select_dtypes(include=['float', 'int']).copy()\n",
    "print(df_cat.head())\n",
    "print(df_num.head())"
   ]
  }
 ],
 "metadata": {
  "kernelspec": {
   "display_name": "Python 3",
   "language": "python",
   "name": "python3"
  },
  "language_info": {
   "codemirror_mode": {
    "name": "ipython",
    "version": 3
   },
   "file_extension": ".py",
   "mimetype": "text/x-python",
   "name": "python",
   "nbconvert_exporter": "python",
   "pygments_lexer": "ipython3",
   "version": "3.9.6"
  },
  "orig_nbformat": 4
 },
 "nbformat": 4,
 "nbformat_minor": 2
}
