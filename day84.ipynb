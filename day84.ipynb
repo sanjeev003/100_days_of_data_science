{
 "cells": [
  {
   "cell_type": "markdown",
   "metadata": {},
   "source": [
    "# Day 84 - linear regression & polynomial features"
   ]
  },
  {
   "cell_type": "markdown",
   "metadata": {},
   "source": [
    "1. The following df DataFrame is given: <br>\n",
    "<br>\n",
    "   years  salary <br>\n",
    "0      1    4000 <br>\n",
    "1      2    4250 <br>\n",
    "2      3    4500 <br>\n",
    "3      4    4750 <br>\n",
    "4      5    5000 <br>\n",
    "5      6    5250 <br>\n",
    "<br>\n",
    "The first column describes the years of experience (feature variable), the second column describes the salary (target variable). <br>\n",
    "Using the scikit-learn package and the LinearRegression class, find the linear regression equation for this problem."
   ]
  },
  {
   "cell_type": "code",
   "execution_count": 1,
   "metadata": {},
   "outputs": [
    {
     "name": "stdout",
     "output_type": "stream",
     "text": [
      "Linear regression: 3750.00 + 250.00x\n"
     ]
    }
   ],
   "source": [
    "import numpy as np\n",
    "import pandas as pd\n",
    "from sklearn.linear_model import LinearRegression\n",
    " \n",
    "df = pd.DataFrame(\n",
    "    {\n",
    "        'years': [1, 2, 3, 4, 5, 6],\n",
    "        'salary': [4000, 4250, 4500, 4750, 5000, 5250],\n",
    "    }\n",
    ")\n",
    " \n",
    "model = LinearRegression()\n",
    "model.fit(df[['years']], df[['salary']])\n",
    " \n",
    "print(\n",
    "    f'Linear regression: {model.intercept_[0]:.2f} + '\n",
    "    f'{model.coef_[0][0]:.2f}x'\n",
    ")"
   ]
  },
  {
   "cell_type": "markdown",
   "metadata": {},
   "source": [
    "2. Load data.csv file into a DataFrame and assign to df variable. <br>\n",
    "Then, based on the variable column, create a linear regression model that allows you to predict the values of the target column (create the model based on all available data). Use the scikit-learn package and the LinearRegression class. <br>\n",
    "Evaluate the model using score() and print the result"
   ]
  },
  {
   "cell_type": "code",
   "execution_count": 3,
   "metadata": {},
   "outputs": [
    {
     "name": "stdout",
     "output_type": "stream",
     "text": [
      "0.5532\n"
     ]
    }
   ],
   "source": [
    "import numpy as np\n",
    "import pandas as pd\n",
    "from sklearn.linear_model import LinearRegression\n",
    " \n",
    "df = pd.read_csv('data.csv')\n",
    "data = df[['variable']]\n",
    "target = df['target']\n",
    "model = LinearRegression()\n",
    "model.fit(data, target)\n",
    "print(f'{model.score(data, target):.4f}')"
   ]
  },
  {
   "cell_type": "markdown",
   "metadata": {},
   "source": [
    "3. Load the data.csv file into the DataFrame. <br>\n",
    "Then extract the polynomial features from the var1 column with degree = 2."
   ]
  },
  {
   "cell_type": "code",
   "execution_count": 4,
   "metadata": {},
   "outputs": [
    {
     "name": "stdout",
     "output_type": "stream",
     "text": [
      "[[    1.       -1.137   -13.153     1.292    14.95    172.999]\n",
      " [    1.       -1.419   -36.317     2.012    51.517  1318.899]\n",
      " [    1.        1.745   104.185     3.044   181.783 10854.481]\n",
      " [    1.       -0.232   -15.823     0.054     3.674   250.36 ]\n",
      " [    1.       -0.489   -24.082     0.239    11.784   579.919]\n",
      " [    1.        0.289    41.157     0.084    11.898  1693.865]\n",
      " [    1.        1.332   101.416     1.773   135.045 10285.28 ]\n",
      " [    1.       -0.529   -24.058     0.28     12.734   578.764]\n",
      " [    1.        1.129     4.934     1.274     5.569    24.343]\n",
      " [    1.       -0.175    44.85      0.03     -7.831  2011.546]\n",
      " [    1.        1.028    -2.047     1.057    -2.105     4.19 ]\n",
      " [    1.       -0.939    21.001     0.883   -19.729   441.048]\n",
      " [    1.        0.66    -32.98      0.436   -21.775  1087.709]\n",
      " [    1.        0.245    -1.358     0.06     -0.332     1.845]\n",
      " [    1.       -0.698   -27.181     0.487    18.967   738.831]\n",
      " [    1.        0.989    63.35      0.978    62.658  4013.211]\n",
      " [    1.       -1.856   -91.305     3.445   169.479  8336.636]\n",
      " [    1.       -0.502    34.635     0.252   -17.377  1199.564]\n",
      " [    1.        0.4      20.882     0.16      8.357   436.045]\n",
      " [    1.        1.124    42.586     1.263    47.853  1813.56 ]\n",
      " [    1.        0.827    39.093     0.684    32.33   1528.231]\n",
      " [    1.       -0.216   -22.987     0.047     4.96    528.415]\n",
      " [    1.        1.398    71.6       1.954   100.096  5126.497]\n",
      " [    1.        1.203    45.067     1.447    54.217  2031.017]\n",
      " [    1.       -0.026     8.841     0.001    -0.229    78.171]\n",
      " [    1.       -1.045    -9.695     1.092    10.133    94.001]\n",
      " [    1.        0.708    60.367     0.501    42.749  3644.129]\n",
      " [    1.        0.715    25.812     0.512    18.463   666.273]\n",
      " [    1.        0.312    -0.37      0.097    -0.116     0.137]\n",
      " [    1.       -0.081   -23.017     0.007     1.867   529.799]\n",
      " [    1.       -1.955   -46.366     3.82     90.623  2149.8  ]\n",
      " [    1.        0.266    -5.187     0.07     -1.377    26.905]\n",
      " [    1.        0.135    -1.824     0.018    -0.246     3.325]\n",
      " [    1.       -1.994   -34.133     3.978    68.074  1165.04 ]\n",
      " [    1.       -0.122   -44.819     0.015     5.464  2008.71 ]\n",
      " [    1.       -2.132   -75.947     4.544   161.897  5767.932]\n",
      " [    1.        1.308    40.016     1.712    52.36   1601.268]\n",
      " [    1.       -0.732   -10.359     0.536     7.583   107.313]\n",
      " [    1.       -0.362    -0.537     0.131     0.195     0.288]\n",
      " [    1.       -0.805   -86.723     0.647    69.777  7520.961]\n",
      " [    1.       -0.008    -9.556     0.        0.08     91.308]\n",
      " [    1.        0.315    -5.389     0.099    -1.696    29.046]\n",
      " [    1.        1.985    61.167     3.941   121.422  3741.446]\n",
      " [    1.       -0.112   -12.949     0.013     1.454   167.682]\n",
      " [    1.        0.229   -38.782     0.052    -8.867  1504.005]\n",
      " [    1.        0.266     9.638     0.071     2.564    92.89 ]\n",
      " [    1.        0.621   -18.567     0.386   -11.536   344.738]\n",
      " [    1.        0.918    48.374     0.843    44.42   2340.02 ]\n",
      " [    1.        0.109    11.697     0.012     1.27    136.808]\n",
      " [    1.        0.09     43.33      0.008     3.882  1877.467]\n",
      " [    1.        0.393     6.301     0.155     2.478    39.697]\n",
      " [    1.        0.004    -6.058     0.       -0.026    36.699]\n",
      " [    1.        0.433   -19.327     0.188    -8.369   373.551]\n",
      " [    1.       -0.362    -0.706     0.131     0.256     0.498]\n",
      " [    1.        0.099     9.598     0.01      0.952    92.127]\n",
      " [    1.       -0.351   -27.033     0.123     9.485   730.807]\n",
      " [    1.        1.485    48.093     2.204    71.395  2312.913]\n",
      " [    1.        0.133    -0.303     0.018    -0.04      0.092]\n",
      " [    1.        0.195   -32.276     0.038    -6.294  1041.756]\n",
      " [    1.        0.842    20.27      0.709    17.072   410.892]\n",
      " [    1.        0.319    38.956     0.102    12.441  1517.562]\n",
      " [    1.        0.712     8.151     0.507     5.803    66.44 ]\n",
      " [    1.       -0.754   -24.661     0.568    18.592   608.148]\n",
      " [    1.       -0.062   -12.025     0.004     0.745   144.611]\n",
      " [    1.        0.613    32.131     0.376    19.703  1032.407]\n",
      " [    1.       -0.72    -39.387     0.519    28.362  1551.374]\n",
      " [    1.        0.621    48.196     0.385    29.91   2322.854]\n",
      " [    1.       -0.049    -4.553     0.002     0.222    20.725]\n",
      " [    1.        0.461   -25.087     0.212   -11.563   629.355]\n",
      " [    1.        1.256    -1.468     1.579    -1.845     2.155]\n",
      " [    1.        0.445    20.425     0.198     9.092   417.187]\n",
      " [    1.        0.204   -32.736     0.041    -6.664  1071.63 ]\n",
      " [    1.        2.395   -10.982     5.735   -26.298   120.601]\n",
      " [    1.        0.217     3.898     0.047     0.847    15.198]\n",
      " [    1.       -0.338    30.823     0.114   -10.407   950.067]\n",
      " [    1.        1.046    19.205     1.094    20.092   368.837]\n",
      " [    1.       -0.965   -13.835     0.931    13.352   191.412]\n",
      " [    1.       -1.545   -68.805     2.388   106.331  4734.124]\n",
      " [    1.       -0.476   -42.295     0.227    20.138  1788.828]\n",
      " [    1.       -0.147     9.781     0.022    -1.442    95.667]\n",
      " [    1.       -1.978   -69.258     3.911   136.974  4796.676]\n",
      " [    1.       -0.213    24.848     0.045    -5.285   617.424]\n",
      " [    1.       -0.223    11.272     0.05     -2.511   127.06 ]\n",
      " [    1.       -0.339    -0.252     0.115     0.086     0.064]\n",
      " [    1.       -1.743   -51.566     3.039    89.898  2659.007]\n",
      " [    1.       -0.066    22.103     0.004    -1.455   488.557]\n",
      " [    1.       -0.798   -39.856     0.637    31.805  1588.463]\n",
      " [    1.       -0.271   -31.272     0.074     8.482   977.946]\n",
      " [    1.       -0.549   -35.989     0.302    19.769  1295.194]\n",
      " [    1.       -0.267    44.896     0.071   -12.002  2015.693]\n",
      " [    1.        2.468   113.583     6.089   280.283 12901.085]\n",
      " [    1.       -1.508   -54.625     2.275    82.393  2983.923]\n",
      " [    1.       -0.482   -42.484     0.232    20.481  1804.867]\n",
      " [    1.       -1.08     -9.445     1.166    10.199    89.21 ]\n",
      " [    1.        1.673    92.342     2.798   154.453  8527.064]\n",
      " [    1.        2.385    82.367     5.688   196.443  6784.378]\n",
      " [    1.        0.565    57.468     0.319    32.478  3302.569]\n",
      " [    1.        0.917    95.464     0.842    87.584  9113.285]\n",
      " [    1.        1.108    40.482     1.227    44.842  1638.798]\n",
      " [    1.       -0.54     -0.064     0.291     0.035     0.004]]\n"
     ]
    }
   ],
   "source": [
    "import numpy as np\n",
    "import pandas as pd\n",
    "from sklearn.preprocessing import PolynomialFeatures\n",
    " \n",
    "np.set_printoptions(suppress=True, precision=3)\n",
    "df = pd.read_csv('data.csv')\n",
    "poly = PolynomialFeatures(degree=2)\n",
    "df_poly = poly.fit_transform(df)\n",
    "print(df_poly)"
   ]
  }
 ],
 "metadata": {
  "kernelspec": {
   "display_name": "Python 3",
   "language": "python",
   "name": "python3"
  },
  "language_info": {
   "codemirror_mode": {
    "name": "ipython",
    "version": 3
   },
   "file_extension": ".py",
   "mimetype": "text/x-python",
   "name": "python",
   "nbconvert_exporter": "python",
   "pygments_lexer": "ipython3",
   "version": "3.9.6"
  },
  "orig_nbformat": 4
 },
 "nbformat": 4,
 "nbformat_minor": 2
}
