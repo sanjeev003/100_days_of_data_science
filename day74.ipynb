{
 "cells": [
  {
   "cell_type": "markdown",
   "metadata": {},
   "source": [
    "#  Day 74 - imputing missing values"
   ]
  },
  {
   "cell_type": "markdown",
   "metadata": {},
   "source": [
    "1. The following dictionary is given:\n",
    "\n",
    "data = {\n",
    "    'size': ['XL', 'L', 'M', np.nan, 'M', 'M'],\n",
    "    'color': ['red', 'green', 'blue', 'green', 'red', 'green'],\n",
    "    'gender': ['female', 'male', np.nan, 'female', 'female', 'male'],\n",
    "    'price': [199.0, 89.0, np.nan, 129.0, 79.0, 89.0],\n",
    "    'weight': [500, 450, 300, np.nan, 410, np.nan],\n",
    "    'bought': ['yes', 'no', 'yes', 'no', 'yes', 'no']\n",
    "}\n",
    "\n",
    "From this dictionary create a DataFrame object and assign to the df variable.\n",
    "Then check for the missing values for each column (in percent) and print it to console as shown below. Round the result to two decimal places."
   ]
  },
  {
   "cell_type": "code",
   "execution_count": 1,
   "metadata": {},
   "outputs": [
    {
     "name": "stdout",
     "output_type": "stream",
     "text": [
      "size      0.17\n",
      "color     0.00\n",
      "gender    0.17\n",
      "price     0.17\n",
      "weight    0.33\n",
      "bought    0.00\n",
      "dtype: float64\n"
     ]
    }
   ],
   "source": [
    "import numpy as np\n",
    "import pandas as pd\n",
    " \n",
    "data = {\n",
    "    'size': ['XL', 'L', 'M', np.nan, 'M', 'M'],\n",
    "    'color': ['red', 'green', 'blue', 'green', 'red', 'green'],\n",
    "    'gender': ['female', 'male', np.nan, 'female', 'female', 'male'],\n",
    "    'price': [199.0, 89.0, np.nan, 129.0, 79.0, 89.0],\n",
    "    'weight': [500, 450, 300, np.nan, 410, np.nan],\n",
    "    'bought': ['yes', 'no', 'yes', 'no', 'yes', 'no']\n",
    "}\n",
    "\n",
    "df = pd.DataFrame(data=data)\n",
    "print(np.round(df.isnull().sum() / len(df), 2))"
   ]
  },
  {
   "cell_type": "markdown",
   "metadata": {},
   "source": [
    "2. The following df DataFrame is given:\n",
    "\n",
    "  size  color  gender  price  weight bought\n",
    "0   XL    red  female  199.0   500.0    yes\n",
    "1    L  green    male   89.0   450.0     no\n",
    "2    M   blue     NaN    NaN   300.0    yes\n",
    "3  NaN  green  female  129.0     NaN     no\n",
    "4    M    red  female   79.0   410.0    yes\n",
    "5    M  green    male   89.0     NaN     no\n",
    "\n",
    "Using the scikit-learn package and the SimpleImputer class, fill in the missing data for the column weight with the average value. Assign changes to the df DataFrame."
   ]
  },
  {
   "cell_type": "code",
   "execution_count": 2,
   "metadata": {},
   "outputs": [
    {
     "name": "stdout",
     "output_type": "stream",
     "text": [
      "  size  color  gender  price  weight bought\n",
      "0   XL    red  female  199.0   500.0    yes\n",
      "1    L  green    male   89.0   450.0     no\n",
      "2    M   blue     NaN    NaN   300.0    yes\n",
      "3  NaN  green  female  129.0   415.0     no\n",
      "4    M    red  female   79.0   410.0    yes\n",
      "5    M  green    male   89.0   415.0     no\n"
     ]
    }
   ],
   "source": [
    "import numpy as np\n",
    "import pandas as pd\n",
    "from sklearn.impute import SimpleImputer\n",
    " \n",
    "data = {\n",
    "    'size': ['XL', 'L', 'M', np.nan, 'M', 'M'],\n",
    "    'color': ['red', 'green', 'blue', 'green', 'red', 'green'],\n",
    "    'gender': ['female', 'male', np.nan, 'female', 'female', 'male'],\n",
    "    'price': [199.0, 89.0, np.nan, 129.0, 79.0, 89.0],\n",
    "    'weight': [500, 450, 300, np.nan, 410, np.nan],\n",
    "    'bought': ['yes', 'no', 'yes', 'no', 'yes', 'no']\n",
    "}\n",
    " \n",
    "df = pd.DataFrame(data=data)\n",
    "imputer = SimpleImputer(missing_values=np.nan, strategy='mean')\n",
    "df[['weight']] = imputer.fit_transform(df[['weight']])\n",
    "print(df)"
   ]
  },
  {
   "cell_type": "markdown",
   "metadata": {},
   "source": [
    "3. The following df DataFrame is given:\n",
    "\n",
    "  size  color  gender  price  weight bought\n",
    "0   XL    red  female  199.0   500.0    yes\n",
    "1    L  green    male   89.0   450.0     no\n",
    "2    M   blue     NaN    NaN   300.0    yes\n",
    "3  NaN  green  female  129.0     NaN     no\n",
    "4    M    red  female   79.0   410.0    yes\n",
    "5    M  green    male   89.0     NaN     no\n",
    "\n",
    "Missing data for the column weight was replaced with the average value of this column using the SimpleImputer class.\n",
    "Print the average value that was replaced with the missing values in the weight column."
   ]
  },
  {
   "cell_type": "code",
   "execution_count": 3,
   "metadata": {},
   "outputs": [
    {
     "name": "stdout",
     "output_type": "stream",
     "text": [
      "415.0\n"
     ]
    }
   ],
   "source": [
    "import numpy as np\n",
    "import pandas as pd\n",
    "from sklearn.impute import SimpleImputer\n",
    " \n",
    "data = {\n",
    "    'size': ['XL', 'L', 'M', np.nan, 'M', 'M'],\n",
    "    'color': ['red', 'green', 'blue', 'green', 'red', 'green'],\n",
    "    'gender': ['female', 'male', np.nan, 'female', 'female', 'male'],\n",
    "    'price': [199.0, 89.0, np.nan, 129.0, 79.0, 89.0],\n",
    "    'weight': [500, 450, 300, np.nan, 410, np.nan],\n",
    "    'bought': ['yes', 'no', 'yes', 'no', 'yes', 'no']\n",
    "}\n",
    " \n",
    "df = pd.DataFrame(data=data)\n",
    "imputer = SimpleImputer(missing_values=np.nan, strategy='mean')\n",
    "df[['weight']] = imputer.fit_transform(df[['weight']])\n",
    "print(imputer.statistics_[0])"
   ]
  }
 ],
 "metadata": {
  "kernelspec": {
   "display_name": "Python 3",
   "language": "python",
   "name": "python3"
  },
  "language_info": {
   "codemirror_mode": {
    "name": "ipython",
    "version": 3
   },
   "file_extension": ".py",
   "mimetype": "text/x-python",
   "name": "python",
   "nbconvert_exporter": "python",
   "pygments_lexer": "ipython3",
   "version": "3.9.6"
  },
  "orig_nbformat": 4
 },
 "nbformat": 4,
 "nbformat_minor": 2
}
