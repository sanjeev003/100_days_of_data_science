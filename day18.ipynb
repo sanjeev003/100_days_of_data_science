{
 "cells": [
  {
   "attachments": {},
   "cell_type": "markdown",
   "metadata": {},
   "source": [
    "# On Day 18 we are gonna see about np.delete() and np.linalg.norm() \n",
    "\n",
    "\n",
    "1. np.delete() is a NumPy function that allows you to remove elements along a specified axis from an array. The function takes three parameters: the input array, the indices or slice to remove, and the axis along which the elements should be deleted.\n",
    " Here is the general syntax:\n",
    ">    np.delete(arr, obj, axis=None)\n",
    "arr: The input array from which elements will be deleted.\n",
    "obj: The indices or slice specifying which elements to delete.\n",
    "axis (optional): The axis along which the elements should be deleted. If not specified, the array will be flattened before deletion.\n",
    "The np.delete() function returns a new array with the specified elements removed.\n",
    ">>> EXAMPLE\n",
    "import numpy as np\n",
    "arr = np.array([[1, 2, 3], [4, 5, 6], [7, 8, 9]])\n",
    "new_arr = np.delete(arr, 1, axis=0)\n",
    "print(new_arr)\n",
    ">>> output \n",
    "    [[1 2 3]\n",
    "     [7 8 9]]\n",
    "\n",
    "\n",
    "2. np.linalg.norm() is a NumPy function that calculates various norms of a given vector or matrix. It can be used to compute the Euclidean norm, Frobenius norm, or other matrix norms depending on the specified parameters.\n",
    "Here is the general syntax for np.linalg.norm():\n",
    ">   np.linalg.norm(x, ord=None, axis=None)\n",
    "x: The input vector or matrix.\n",
    "ord (optional): The order of the norm to be calculated. Default is None, which computes the Frobenius norm for matrices or the 2-norm for vectors.\n",
    "axis (optional): The axis or axes along which the norm is computed. If None, the norm is calculated over the entire array.\n",
    "The np.linalg.norm() function returns the calculated norm value.\n",
    ">>> EXAMPLE\n",
    "import numpy as np\n",
    "# Calculate the Euclidean norm of a vector\n",
    "v = np.array([3, 4])\n",
    "norm_v = np.linalg.norm(v)\n",
    "print(norm_v)\n",
    "# Calculate the Frobenius norm of a matrix\n",
    "A = np.array([[1, 2], [3, 4]])\n",
    "norm_A = np.linalg.norm(A)\n",
    "print(norm_A)\n",
    "# Calculate the 1-norm of a matrix along a specific axis\n",
    "B = np.array([[1, -2], [3, -4]])\n",
    "norm_B = np.linalg.norm(B, ord=1, axis=0)\n",
    "print(norm_B)\n",
    ">>> output \n",
    "    5.0\n",
    "    5.477225575051661\n",
    "    [4. 6.]"
   ]
  },
  {
   "attachments": {},
   "cell_type": "markdown",
   "metadata": {},
   "source": [
    "1. The following array is given:\n",
    "\n",
    "A = np.random.randn(8, 4)\n",
    "\n",
    "Remove the third column and print this array to the console."
   ]
  },
  {
   "cell_type": "code",
   "execution_count": 4,
   "metadata": {},
   "outputs": [
    {
     "name": "stdout",
     "output_type": "stream",
     "text": [
      "[[ 0.49671415 -0.1382643   0.64768854  1.52302986]\n",
      " [-0.23415337 -0.23413696  1.57921282  0.76743473]\n",
      " [ 0.24196227 -1.91328024 -1.72491783 -0.56228753]\n",
      " [-1.01283112  0.31424733 -0.90802408 -1.4123037 ]\n",
      " [ 1.46564877 -0.2257763   0.0675282  -1.42474819]\n",
      " [-0.54438272  0.11092259 -1.15099358  0.37569802]\n",
      " [-0.60063869 -0.29169375 -0.60170661  1.85227818]]\n"
     ]
    }
   ],
   "source": [
    "import numpy as np\n",
    "np.random.seed(42)\n",
    "A = np.random.randn(8, 4)\n",
    "b = np.delete(A , 2 , axis=0)\n",
    "print(b)"
   ]
  },
  {
   "attachments": {},
   "cell_type": "markdown",
   "metadata": {},
   "source": [
    "2. A one-dimensional array v (vector) is given:\n",
    "\n",
    "v = np.array([3, 4, -2])\n",
    "\n",
    "Calculate the norm of this vector and print result to the console."
   ]
  },
  {
   "cell_type": "code",
   "execution_count": 5,
   "metadata": {},
   "outputs": [
    {
     "name": "stdout",
     "output_type": "stream",
     "text": [
      "5.385164807134504\n"
     ]
    }
   ],
   "source": [
    "import numpy as np\n",
    "v = np.array([3, 4, -2])\n",
    "print(np.linalg.norm(v))"
   ]
  },
  {
   "attachments": {},
   "cell_type": "markdown",
   "metadata": {},
   "source": [
    "3. The following array is given:\n",
    "\n",
    "A = np.random.randint(10, size=(100, 30))\n",
    "\n",
    "Set the Numpy option to print only ten edge elements and then print this array to the console."
   ]
  },
  {
   "cell_type": "code",
   "execution_count": 6,
   "metadata": {},
   "outputs": [
    {
     "name": "stdout",
     "output_type": "stream",
     "text": [
      "[[6 3 7 4 6 9 2 6 7 4 ... 4 0 9 5 8 0 9 2 6 3]\n",
      " [8 2 4 2 6 4 8 6 1 3 ... 2 0 3 1 7 3 1 5 5 9]\n",
      " [3 5 1 9 1 9 3 7 6 8 ... 6 8 7 0 7 7 2 0 7 2]\n",
      " [2 0 4 9 6 9 8 6 8 7 ... 0 2 4 2 0 4 9 6 6 8]\n",
      " [9 9 2 6 0 3 3 4 6 6 ... 9 6 8 6 0 0 8 8 3 8]\n",
      " [2 6 5 7 8 4 0 2 9 7 ... 2 0 4 0 7 0 0 1 1 5]\n",
      " [6 4 0 0 2 1 4 9 5 6 ... 5 0 8 5 2 3 3 2 9 2]\n",
      " [2 3 6 3 8 0 7 6 1 7 ... 3 0 1 0 4 4 6 8 8 2]\n",
      " [2 2 3 7 5 7 0 7 3 0 ... 1 1 5 2 8 3 0 3 0 4]\n",
      " [3 7 7 6 2 0 0 2 5 6 ... 4 2 3 2 0 0 4 5 2 8]\n",
      " ...\n",
      " [6 4 8 2 0 3 8 3 1 9 ... 8 4 7 1 5 2 9 4 7 9]\n",
      " [0 4 2 3 1 8 2 1 9 8 ... 7 7 6 5 8 3 0 7 6 6]\n",
      " [2 3 9 8 5 4 2 8 4 4 ... 6 1 7 5 3 4 7 2 2 3]\n",
      " [0 8 7 7 9 5 6 5 8 2 ... 2 3 7 5 4 3 7 0 8 0]\n",
      " [7 3 8 4 2 8 8 3 3 7 ... 4 4 3 4 2 0 4 8 8 3]\n",
      " [2 0 1 7 0 7 6 7 5 8 ... 2 3 6 6 3 5 2 5 1 7]\n",
      " [1 6 8 0 7 6 5 5 5 8 ... 2 7 2 3 7 0 5 0 0 7]\n",
      " [3 0 9 6 4 4 0 9 5 8 ... 6 8 6 2 0 7 2 7 7 4]\n",
      " [0 9 6 9 4 7 8 6 6 0 ... 7 3 0 0 9 2 8 6 1 8]\n",
      " [9 1 2 9 1 2 5 8 8 6 ... 8 2 0 6 9 4 4 0 8 6]]\n"
     ]
    }
   ],
   "source": [
    "import numpy as np\n",
    "np.random.seed(42)\n",
    "A = np.random.randint(10, size=(100, 30))\n",
    "np.set_printoptions(edgeitems=10)\n",
    "print(A)"
   ]
  }
 ],
 "metadata": {
  "kernelspec": {
   "display_name": "Python 3",
   "language": "python",
   "name": "python3"
  },
  "language_info": {
   "codemirror_mode": {
    "name": "ipython",
    "version": 3
   },
   "file_extension": ".py",
   "mimetype": "text/x-python",
   "name": "python",
   "nbconvert_exporter": "python",
   "pygments_lexer": "ipython3",
   "version": "3.9.6"
  },
  "orig_nbformat": 4
 },
 "nbformat": 4,
 "nbformat_minor": 2
}
