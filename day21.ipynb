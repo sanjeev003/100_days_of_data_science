{
 "cells": [
  {
   "attachments": {},
   "cell_type": "markdown",
   "metadata": {},
   "source": [
    "# np.linalg.eig(), np.linalg.inv() & np.trace()\n",
    "\n",
    "1. np.linalg.eig() in NumPy, which is used to compute the eigenvalues and eigenvectors of a square matrix.\n",
    "Here's an example of how to use np.linalg.eig():\n",
    "\n",
    "import numpy as np\n",
    "A = np.array([[2, -1], [4, 3]])\n",
    "eigenvalues, eigenvectors = np.linalg.eig(A)\n",
    "print(\"Eigenvalues:\", eigenvalues)\n",
    "print(\"Eigenvectors:\")\n",
    "print(eigenvectors)\n",
    "> Output \n",
    "    Eigenvalues: [2.5+1.93649167j 2.5-1.93649167j]\n",
    "    Eigenvectors:\n",
    "    [[ 0.19611614+0.33106601j  0.19611614-0.33106601j]\n",
    "    [ 0.58834841+0.j         -0.58834841-0.j        ]]\n",
    "\n",
    "2. np.linalg.inv() in NumPy, which is used to compute the inverse of a square matrix.\n",
    "Here's an example of how to use np.linalg.inv():\n",
    "\n",
    "import numpy as np\n",
    "A = np.array([[1, 2], [3, 4]])\n",
    "A_inv = np.linalg.inv(A)\n",
    "print(\"Inverse of A:\")\n",
    "print(A_inv)\n",
    "\n",
    "> Output\n",
    "    Inverse of A:\n",
    "    [[-2.   1. ]\n",
    "    [ 1.5 -0.5]]\n",
    "\n",
    "3. The np.trace() function in NumPy is used to calculate the sum of the diagonal elements of a square matrix. It returns the trace of the matrix.\n",
    "Here's an example of how to use np.trace():\n",
    "\n",
    "import numpy as np\n",
    "A = np.array([[1, 2, 3],\n",
    "              [4, 5, 6],\n",
    "              [7, 8, 9]])\n",
    "trace_A = np.trace(A)\n",
    "print(\"Trace of A:\", trace_A)\n",
    "> Output    Trace of A: 15"
   ]
  },
  {
   "attachments": {},
   "cell_type": "markdown",
   "metadata": {},
   "source": [
    "1. The following array (square matrix) is given:\n",
    "\n",
    "A = np.array([[5, 8, 16] , [4, 1, 8] , [-4, 4, -11]])\n",
    "\n",
    "Calculate eigenvalues and their corresponding eigenvectors of this matrix and print to the console"
   ]
  },
  {
   "cell_type": "code",
   "execution_count": 1,
   "metadata": {},
   "outputs": [
    {
     "name": "stdout",
     "output_type": "stream",
     "text": [
      "[-9.24621125 -3.          7.24621125]\n",
      "[[-6.26164716e-01 -8.94427191e-01  8.90159406e-01]\n",
      " [-3.13082358e-01  2.82399734e-16  4.45079703e-01]\n",
      " [ 7.14070855e-01  4.47213595e-01 -9.75719719e-02]]\n"
     ]
    }
   ],
   "source": [
    "import numpy as np\n",
    "A = np.array([[5, 8, 16] , [4, 1, 8] , [-4, 4, -11]])\n",
    "eigenvalues, eigenvectors = np.linalg.eig(A)\n",
    "print(eigenvalues)\n",
    "print(eigenvectors)"
   ]
  },
  {
   "attachments": {},
   "cell_type": "markdown",
   "metadata": {},
   "source": [
    "2. The following array (square matrix) is given:\n",
    "\n",
    "A = np.array([[5, 8, 16] , [4, 1, 8] , [-4, 4, -11]])\n",
    "\n",
    "Find the inverse matrix to this matrix and print it to the console."
   ]
  },
  {
   "cell_type": "code",
   "execution_count": 2,
   "metadata": {},
   "outputs": [
    {
     "name": "stdout",
     "output_type": "stream",
     "text": [
      "[[-0.21393035  0.75621891  0.23880597]\n",
      " [ 0.05970149  0.04477612  0.11940299]\n",
      " [ 0.09950249 -0.25870647 -0.13432836]]\n"
     ]
    }
   ],
   "source": [
    "import numpy as np\n",
    "A = np.array([[5, 8, 16] , [4, 1, 8] , [-4, 4, -11]])\n",
    "print(np.linalg.inv(A))"
   ]
  },
  {
   "attachments": {},
   "cell_type": "markdown",
   "metadata": {},
   "source": [
    "3. The following array (square matrix) is given:\n",
    "\n",
    "A = np.array([[5, 8, 16] , [4, 1, 8] , [-4, 4, -11]])\n",
    "\n",
    "Find the trace of this matrix (sum of elements on the main diagonal) and print result to the console."
   ]
  },
  {
   "cell_type": "code",
   "execution_count": 3,
   "metadata": {},
   "outputs": [
    {
     "name": "stdout",
     "output_type": "stream",
     "text": [
      "-5\n"
     ]
    }
   ],
   "source": [
    "import numpy as np\n",
    "A = np.array([[5, 8, 16] , [4, 1, 8] , [-4, 4, -11]])\n",
    "print(np.trace(A))"
   ]
  },
  {
   "attachments": {},
   "cell_type": "markdown",
   "metadata": {},
   "source": [
    "4. The following arrays are given:\n",
    "\n",
    "A = np.array([[2, 0] , [4, 2] , [5, 3] , [4, 2]])\n",
    "\n",
    "B = np.array([[4, 0, 2, 1, 1, 0, 2, 9]])\n",
    "\n",
    "Shapes of these arrays:\n",
    "\n",
    "A - 4x2\n",
    "B - 1x8\n",
    "\n",
    "Transform B array to perform the matrix multiplication A x B. Then perform this multiplication and print result to the console."
   ]
  },
  {
   "cell_type": "code",
   "execution_count": 5,
   "metadata": {},
   "outputs": [
    {
     "name": "stdout",
     "output_type": "stream",
     "text": [
      "[[ 8  0  4  2]\n",
      " [18  0 12 22]\n",
      " [23  0 16 32]\n",
      " [18  0 12 22]]\n"
     ]
    }
   ],
   "source": [
    "import numpy as np\n",
    "A = np.array([[2, 0] , [4, 2] , [5, 3] , [4, 2]])\n",
    "B = np.array([[4, 0, 2, 1, 1, 0, 2, 9]])\n",
    "print(np.dot(A, B.reshape(2, -1)))"
   ]
  }
 ],
 "metadata": {
  "kernelspec": {
   "display_name": "Python 3",
   "language": "python",
   "name": "python3"
  },
  "language_info": {
   "codemirror_mode": {
    "name": "ipython",
    "version": 3
   },
   "file_extension": ".py",
   "mimetype": "text/x-python",
   "name": "python",
   "nbconvert_exporter": "python",
   "pygments_lexer": "ipython3",
   "version": "3.9.6"
  },
  "orig_nbformat": 4
 },
 "nbformat": 4,
 "nbformat_minor": 2
}
