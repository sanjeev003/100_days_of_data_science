{
 "cells": [
  {
   "cell_type": "markdown",
   "metadata": {},
   "source": [
    "# Day  58 :- Querying"
   ]
  },
  {
   "cell_type": "markdown",
   "metadata": {},
   "source": [
    "1. The df DataFrame is given below. Extract rows for which the is_weekend column is 1.0. Then copy the result and assign to the df_weekend variable.\n",
    "Print df_weekend DataFrame to the console."
   ]
  },
  {
   "cell_type": "code",
   "execution_count": 1,
   "metadata": {},
   "outputs": [
    {
     "name": "stdout",
     "output_type": "stream",
     "text": [
      "                timestamp  cnt   t1   t2    hum  wind_speed  weather_code  \\\n",
      "0     2015-01-04 00:00:00  182  3.0  2.0   93.0         6.0           3.0   \n",
      "1     2015-01-04 01:00:00  138  3.0  2.5   93.0         5.0           1.0   \n",
      "2     2015-01-04 02:00:00  134  2.5  2.5   96.5         0.0           1.0   \n",
      "3     2015-01-04 03:00:00   72  2.0  2.0  100.0         0.0           1.0   \n",
      "4     2015-01-04 04:00:00   47  2.0  0.0   93.0         6.5           1.0   \n",
      "...                   ...  ...  ...  ...    ...         ...           ...   \n",
      "17361 2017-01-01 19:00:00  136  5.0  2.0   93.0        15.0           7.0   \n",
      "17362 2017-01-01 20:00:00  116  5.0  2.0   93.0        14.0           7.0   \n",
      "17363 2017-01-01 21:00:00  110  5.0  2.0   93.0        14.0          26.0   \n",
      "17364 2017-01-01 22:00:00  119  5.0  2.0   93.0        12.0           3.0   \n",
      "17365 2017-01-01 23:00:00   89  5.0  2.5   90.0        10.0           1.0   \n",
      "\n",
      "       is_holiday  is_weekend  season  hour  \n",
      "0             0.0         1.0     3.0     0  \n",
      "1             0.0         1.0     3.0     1  \n",
      "2             0.0         1.0     3.0     2  \n",
      "3             0.0         1.0     3.0     3  \n",
      "4             0.0         1.0     3.0     4  \n",
      "...           ...         ...     ...   ...  \n",
      "17361         0.0         1.0     3.0    19  \n",
      "17362         0.0         1.0     3.0    20  \n",
      "17363         0.0         1.0     3.0    21  \n",
      "17364         0.0         1.0     3.0    22  \n",
      "17365         0.0         1.0     3.0    23  \n",
      "\n",
      "[4970 rows x 11 columns]\n"
     ]
    }
   ],
   "source": [
    "import pandas as pd\n",
    " \n",
    "url = ( 'https://storage.googleapis.com/esmartdata-courses-files/ds-bootcamp/london_bike.csv' )\n",
    "df = pd.read_csv(url)\n",
    "df['timestamp'] = pd.to_datetime(df['timestamp'])\n",
    "df['hour'] = df['timestamp'].dt.hour\n",
    "df_weekend = df.query(\"is_weekend == 1.0\").copy()\n",
    "print(df_weekend)"
   ]
  },
  {
   "cell_type": "markdown",
   "metadata": {},
   "source": [
    "2. The df DataFrame is given below. Save the df_weekend DataFrame to the 'weekend.txt' file. Don't save index of this DataFrame to this file."
   ]
  },
  {
   "cell_type": "code",
   "execution_count": 2,
   "metadata": {},
   "outputs": [],
   "source": [
    "import pandas as pd\n",
    "\n",
    "url = ( 'https://storage.googleapis.com/esmartdata-courses-files/ds-bootcamp/london_bike.csv' )\n",
    "df = pd.read_csv(url)\n",
    "df['timestamp'] = pd.to_datetime(df['timestamp'])\n",
    "df['hour'] = df['timestamp'].dt.hour\n",
    "df_weekend = df.query(\"is_weekend == 1.0\").copy()\n",
    "df_weekend.to_csv('weekend.txt', index=False)"
   ]
  },
  {
   "cell_type": "markdown",
   "metadata": {},
   "source": [
    "3. Using pandas load the insurance.csv file into the DataFrame and assign to df variable:\n",
    "    https://storage.googleapis.com/esmartdata-courses-files/ml-course/insurance.csv\n",
    "In response print first five rows of this DataFrame to the console."
   ]
  },
  {
   "cell_type": "code",
   "execution_count": 3,
   "metadata": {},
   "outputs": [
    {
     "name": "stdout",
     "output_type": "stream",
     "text": [
      "   age     sex     bmi  children smoker     region      charges\n",
      "0   19  female  27.900         0    yes  southwest  16884.92400\n",
      "1   18    male  33.770         1     no  southeast   1725.55230\n",
      "2   28    male  33.000         3     no  southeast   4449.46200\n",
      "3   33    male  22.705         0     no  northwest  21984.47061\n",
      "4   32    male  28.880         0     no  northwest   3866.85520\n"
     ]
    }
   ],
   "source": [
    "import pandas as pd \n",
    " \n",
    "url = ('https://storage.googleapis.com/esmartdata-courses-files/ml-course/insurance.csv' )\n",
    "df = pd.read_csv(url)\n",
    "print(df.head())"
   ]
  }
 ],
 "metadata": {
  "kernelspec": {
   "display_name": "Python 3",
   "language": "python",
   "name": "python3"
  },
  "language_info": {
   "codemirror_mode": {
    "name": "ipython",
    "version": 3
   },
   "file_extension": ".py",
   "mimetype": "text/x-python",
   "name": "python",
   "nbconvert_exporter": "python",
   "pygments_lexer": "ipython3",
   "version": "3.9.6"
  },
  "orig_nbformat": 4
 },
 "nbformat": 4,
 "nbformat_minor": 2
}
