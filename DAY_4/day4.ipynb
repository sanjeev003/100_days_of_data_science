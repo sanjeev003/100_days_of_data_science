{
 "cells": [
  {
   "attachments": {},
   "cell_type": "markdown",
   "metadata": {},
   "source": [
    "Yup I am on Day 4\n",
    "\n",
    "today is about np.arange( ) and np.eye( )\n",
    "\n",
    "1. *The np.arange() function is a NumPy function that creates a new 1-dimensional array with evenly spaced values within a specified range. It allows you to generate a sequence of numbers based on a start, stop, and step size.*\n",
    "\n",
    "Here's the general syntax of np.arange() --> np.arange(start, stop, step, dtype=None)\n",
    "\n",
    "Let's break down the parameters:\n",
    "\n",
    "start: The start value of the sequence. It is inclusive in the sequence.\n",
    "stop: The end value of the sequence. It is exclusive in the sequence.\n",
    "step: The step size or the increment between consecutive values in the sequence. The default is 1.\n",
    "dtype (optional): The data type of the elements in the array. If not provided, it will be determined based on the other parameters.\n",
    "The np.arange() function returns a new 1-dimensional array that contains the values from start to stop-1, incremented by step.\n",
    "\n",
    "2. *The np.eye() function is a NumPy function that creates a new 2-dimensional array (matrix) with ones on the diagonal and zeros elsewhere. It is commonly used to create identity matrices.*\n",
    "\n",
    "Here's the general syntax of np.eye() --> np.eye(N, M=None, k=0, dtype=float, order='C')\n",
    "\n",
    "Let's break down the parameters:\n",
    "\n",
    "N: The number of rows in the resulting matrix.\n",
    "M (optional): The number of columns in the resulting matrix. If not provided, it defaults to N, creating a square matrix.\n",
    "k (optional): The index of the diagonal. The default is 0, which refers to the main diagonal. Positive values refer to diagonals above the main diagonal, and negative values refer to diagonals below the main diagonal.\n",
    "dtype (optional): The data type of the elements in the array. The default is float.\n",
    "order (optional): The memory layout of the array. It can be 'C' for row-major (C-style) or 'F' for column-major (Fortran-style). The default is 'C'.\n",
    "The np.eye() function returns a new 2-dimensional array (matrix) where the elements on the diagonal are ones, and all other elements are zeros."
   ]
  },
  {
   "attachments": {},
   "cell_type": "markdown",
   "metadata": {},
   "source": [
    "Lets solve some examples"
   ]
  },
  {
   "attachments": {},
   "cell_type": "markdown",
   "metadata": {},
   "source": [
    "1. Using Numpy create a one-dimensional array of all two-digit numbers and print this array to the console as shown below.\n",
    "[10 11 12 13 14 15 16 17 18 19 20 21 22 23 24 25 26 27 28 29 30 31 32 33\n",
    " 34 35 36 37 38 39 40 41 42 43 44 45 46 47 48 49 50 51 52 53 54 55 56 57\n",
    " 58 59 60 61 62 63 64 65 66 67 68 69 70 71 72 73 74 75 76 77 78 79 80 81\n",
    " 82 83 84 85 86 87 88 89 90 91 92 93 94 95 96 97 98 99]"
   ]
  },
  {
   "cell_type": "code",
   "execution_count": 2,
   "metadata": {},
   "outputs": [
    {
     "name": "stdout",
     "output_type": "stream",
     "text": [
      "[10 11 12 13 14 15 16 17 18 19 20 21 22 23 24 25 26 27 28 29 30 31 32 33\n",
      " 34 35 36 37 38 39 40 41 42 43 44 45 46 47 48 49 50 51 52 53 54 55 56 57\n",
      " 58 59 60 61 62 63 64 65 66 67 68 69 70 71 72 73 74 75 76 77 78 79 80 81\n",
      " 82 83 84 85 86 87 88 89 90 91 92 93 94 95 96 97 98 99]\n"
     ]
    }
   ],
   "source": [
    "import numpy as np \n",
    "\n",
    "print(np.arange(10,100,1)) # by default index value is 1 (3rd paramter) no need it mention again if it's 1 . it's upto you "
   ]
  },
  {
   "attachments": {},
   "cell_type": "markdown",
   "metadata": {},
   "source": [
    "2. Using Numpy create the following array:\n",
    "[[10 11 12 13 14 15 16 17 18 19]\n",
    " [20 21 22 23 24 25 26 27 28 29]\n",
    " [30 31 32 33 34 35 36 37 38 39]\n",
    " [40 41 42 43 44 45 46 47 48 49]\n",
    " [50 51 52 53 54 55 56 57 58 59]\n",
    " [60 61 62 63 64 65 66 67 68 69]\n",
    " [70 71 72 73 74 75 76 77 78 79]\n",
    " [80 81 82 83 84 85 86 87 88 89]\n",
    " [90 91 92 93 94 95 96 97 98 99]]"
   ]
  },
  {
   "cell_type": "code",
   "execution_count": 3,
   "metadata": {},
   "outputs": [
    {
     "name": "stdout",
     "output_type": "stream",
     "text": [
      "[[10 11 12 13 14 15 16 17 18 19]\n",
      " [20 21 22 23 24 25 26 27 28 29]\n",
      " [30 31 32 33 34 35 36 37 38 39]\n",
      " [40 41 42 43 44 45 46 47 48 49]\n",
      " [50 51 52 53 54 55 56 57 58 59]\n",
      " [60 61 62 63 64 65 66 67 68 69]\n",
      " [70 71 72 73 74 75 76 77 78 79]\n",
      " [80 81 82 83 84 85 86 87 88 89]\n",
      " [90 91 92 93 94 95 96 97 98 99]]\n"
     ]
    }
   ],
   "source": [
    "import numpy as np\n",
    "\n",
    "# Create a 1-dimensional array with values from 10 to 99\n",
    "arr = np.arange(10, 100)\n",
    "# Reshape the array into a 2-dimensional array with shape (9, 10)\n",
    "result = arr.reshape(9, 10)\n",
    "\n",
    "print(result)"
   ]
  },
  {
   "attachments": {},
   "cell_type": "markdown",
   "metadata": {},
   "source": [
    "3. Using Numpy create a 6x6 two-dimensional array - identity matrix with int data type. Print this array to the console as shown below.\n",
    "[[1 0 0 0 0 0]\n",
    " [0 1 0 0 0 0]\n",
    " [0 0 1 0 0 0]\n",
    " [0 0 0 1 0 0]\n",
    " [0 0 0 0 1 0]\n",
    " [0 0 0 0 0 1]]"
   ]
  },
  {
   "cell_type": "code",
   "execution_count": 4,
   "metadata": {},
   "outputs": [
    {
     "name": "stdout",
     "output_type": "stream",
     "text": [
      "[[1 0 0 0 0 0]\n",
      " [0 1 0 0 0 0]\n",
      " [0 0 1 0 0 0]\n",
      " [0 0 0 1 0 0]\n",
      " [0 0 0 0 1 0]\n",
      " [0 0 0 0 0 1]]\n"
     ]
    }
   ],
   "source": [
    "import numpy as np\n",
    "\n",
    "# Create a 6x6 identity matrix with int data type\n",
    "arr = np.eye(6, dtype=int)\n",
    "\n",
    "# Print the array\n",
    "print(arr)"
   ]
  }
 ],
 "metadata": {
  "kernelspec": {
   "display_name": "Python 3",
   "language": "python",
   "name": "python3"
  },
  "language_info": {
   "codemirror_mode": {
    "name": "ipython",
    "version": 3
   },
   "file_extension": ".py",
   "mimetype": "text/x-python",
   "name": "python",
   "nbconvert_exporter": "python",
   "pygments_lexer": "ipython3",
   "version": "3.9.6"
  },
  "orig_nbformat": 4
 },
 "nbformat": 4,
 "nbformat_minor": 2
}
