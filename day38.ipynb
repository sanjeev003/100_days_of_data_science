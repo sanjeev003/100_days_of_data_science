{
 "cells": [
  {
   "attachments": {},
   "cell_type": "markdown",
   "metadata": {},
   "source": [
    "# Day 38 - pd.read_csv()"
   ]
  },
  {
   "attachments": {},
   "cell_type": "markdown",
   "metadata": {},
   "source": [
    "pd.read_csv() is a function in the pandas library that allows you to read data from a CSV (Comma-Separated Values) file and create a DataFrame. CSV files are a common file format for storing tabular data, where each line represents a row and the values are separated by commas.\n",
    "\n",
    "The syntax for using pd.read_csv() is as follows:\n",
    "\n",
    "#   df = pd.read_csv(filepath_or_buffer, sep=',', header='infer', names=None, index_col=None)\n",
    "filepath_or_buffer: The file path or URL to the CSV file.\n",
    "sep: The delimiter used to separate the values in the CSV file. By default, it is set to a comma (',').\n",
    "header: Specifies the row number to be used as the column names. By default, it is set to 'infer', which means the column names are inferred from the first row of the CSV file.\n",
    "names: A list of column names to be used instead of the names inferred from the file. It is useful when the CSV file does not contain a header row.\n",
    "index_col: Specifies the column to be used as the index of the DataFrame. By default, it is set to None, which means a default integer index will be assigned."
   ]
  }
 ],
 "metadata": {
  "kernelspec": {
   "display_name": "Python 3",
   "language": "python",
   "name": "python3"
  },
  "language_info": {
   "codemirror_mode": {
    "name": "ipython",
    "version": 3
   },
   "file_extension": ".py",
   "mimetype": "text/x-python",
   "name": "python",
   "nbconvert_exporter": "python",
   "pygments_lexer": "ipython3",
   "version": "3.9.6"
  },
  "orig_nbformat": 4
 },
 "nbformat": 4,
 "nbformat_minor": 2
}
