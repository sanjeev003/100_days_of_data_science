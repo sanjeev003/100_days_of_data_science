{
 "cells": [
  {
   "cell_type": "markdown",
   "metadata": {},
   "source": [
    "# Day 70 - Merging"
   ]
  },
  {
   "cell_type": "markdown",
   "metadata": {},
   "source": [
    "1. Using the given products DataFrame:\n",
    "\n",
    "  product_id          name    price\n",
    "0        001  mobile phone  1490.00\n",
    "1        004        laptop  3400.00\n",
    "2        007         mouse    59.99\n",
    "3        010        tablet   999.00"
   ]
  },
  {
   "cell_type": "code",
   "execution_count": 1,
   "metadata": {},
   "outputs": [
    {
     "name": "stdout",
     "output_type": "stream",
     "text": [
      "  order_id product_id  quantity          name    price\n",
      "0     1001        004         2        laptop  3400.00\n",
      "1     1002        001         1  mobile phone  1490.00\n",
      "2     1003        001         1  mobile phone  1490.00\n",
      "3     1006        001         1  mobile phone  1490.00\n",
      "4     1004        007         3         mouse    59.99\n",
      "5     1007        007         1         mouse    59.99\n",
      "6     1005        010         2        tablet   999.00\n"
     ]
    },
    {
     "name": "stderr",
     "output_type": "stream",
     "text": [
      "C:\\Users\\JAI GANESH\\AppData\\Local\\Temp\\ipykernel_18628\\3083480874.py:25: FutureWarning: The frame.append method is deprecated and will be removed from pandas in a future version. Use pandas.concat instead.\n",
      "  orders = orders_day_1.append(orders_day_2, ignore_index=True)\n"
     ]
    }
   ],
   "source": [
    "import pandas as pd\n",
    " \n",
    " \n",
    "products_dict = {\n",
    "    'product_id': ['001', '004', '007', '010'],\n",
    "    'name': ['mobile phone', 'laptop', 'mouse', 'tablet'],\n",
    "    'price': [1490.0, 3400.0, 59.99, 999.00]\n",
    "}\n",
    " \n",
    "orders_day_1_dict = {\n",
    "    'order_id': ['1001', '1002', '1003', '1004'],\n",
    "    'product_id': ['004', '001', '001', '007'],\n",
    "    'quantity': [2, 1, 1, 3]\n",
    "}       \n",
    " \n",
    "orders_day_2_dict = {\n",
    "    'order_id': ['1005', '1006', '1007'],\n",
    "    'product_id': ['010', '001', '007'],\n",
    "    'quantity': [2, 1, 1]\n",
    "}                \n",
    " \n",
    "products = pd.DataFrame(products_dict)\n",
    "orders_day_1 = pd.DataFrame(orders_day_1_dict)\n",
    "orders_day_2 = pd.DataFrame(orders_day_2_dict)\n",
    "orders = orders_day_1.append(orders_day_2, ignore_index=True)\n",
    " \n",
    "result = pd.merge(orders, products, on='product_id')\n",
    "print(result)"
   ]
  },
  {
   "cell_type": "markdown",
   "metadata": {},
   "source": [
    "2. The result DataFrame is given below:\n",
    "\n",
    "  order_id product_id  quantity          name    price\n",
    "0     1001        004         2        laptop  3400.00\n",
    "1     1002        001         1  mobile phone  1490.00\n",
    "2     1003        001         1  mobile phone  1490.00\n",
    "3     1006        001         1  mobile phone  1490.00\n",
    "4     1004        007         3         mouse    59.99\n",
    "5     1007        007         1         mouse    59.99\n",
    "6     1005        010         2        tablet   999.00\n",
    "\n",
    "Based on the quantity and price columns, calculate a new column 'total' that stores the total amount for each order as shown below.\n",
    "In response, print a result DataFrame to the console."
   ]
  },
  {
   "cell_type": "code",
   "execution_count": 2,
   "metadata": {},
   "outputs": [
    {
     "name": "stdout",
     "output_type": "stream",
     "text": [
      "  order_id product_id  quantity          name    price    total\n",
      "0     1001        004         2        laptop  3400.00  6800.00\n",
      "1     1002        001         1  mobile phone  1490.00  1490.00\n",
      "2     1003        001         1  mobile phone  1490.00  1490.00\n",
      "3     1006        001         1  mobile phone  1490.00  1490.00\n",
      "4     1004        007         3         mouse    59.99   179.97\n",
      "5     1007        007         1         mouse    59.99    59.99\n",
      "6     1005        010         2        tablet   999.00  1998.00\n"
     ]
    },
    {
     "name": "stderr",
     "output_type": "stream",
     "text": [
      "C:\\Users\\JAI GANESH\\AppData\\Local\\Temp\\ipykernel_18628\\4015244350.py:25: FutureWarning: The frame.append method is deprecated and will be removed from pandas in a future version. Use pandas.concat instead.\n",
      "  orders = orders_day_1.append(orders_day_2, ignore_index=True)\n"
     ]
    }
   ],
   "source": [
    "import pandas as pd\n",
    "\n",
    "\n",
    "products_dict = {\n",
    "    'product_id': ['001', '004', '007', '010'],\n",
    "    'name': ['mobile phone', 'laptop', 'mouse', 'tablet'],\n",
    "    'price': [1490.0, 3400.0, 59.99, 999.00]\n",
    "}\n",
    "\n",
    "orders_day_1_dict = {\n",
    "    'order_id': ['1001', '1002', '1003', '1004'],\n",
    "    'product_id': ['004', '001', '001', '007'],\n",
    "    'quantity': [2, 1, 1, 3]\n",
    "}       \n",
    "\n",
    "orders_day_2_dict = {\n",
    "    'order_id': ['1005', '1006', '1007'],\n",
    "    'product_id': ['010', '001', '007'],\n",
    "    'quantity': [2, 1, 1]\n",
    "}                \n",
    "\n",
    "products = pd.DataFrame(products_dict)\n",
    "orders_day_1 = pd.DataFrame(orders_day_1_dict)\n",
    "orders_day_2 = pd.DataFrame(orders_day_2_dict)\n",
    "orders = orders_day_1.append(orders_day_2, ignore_index=True)\n",
    "result = pd.merge(orders, products, on='product_id')\n",
    "\n",
    "result['total'] = result['quantity'] * result['price']\n",
    "print(result)"
   ]
  },
  {
   "cell_type": "markdown",
   "metadata": {},
   "source": [
    "3. The following result DataFrame is given:\n",
    "\n",
    "  order_id product_id  quantity          name    price    total\n",
    "0     1001        004         2        laptop  3400.00  6800.00\n",
    "1     1002        001         1  mobile phone  1490.00  1490.00\n",
    "2     1003        001         1  mobile phone  1490.00  1490.00\n",
    "3     1006        001         1  mobile phone  1490.00  1490.00\n",
    "4     1004        007         3         mouse    59.99   179.97\n",
    "5     1007        007         1         mouse    59.99    59.99\n",
    "6     1005        010         2        tablet   999.00  1998.00\n",
    "\n",
    "Save this DataFrame to the following files:\n",
    "\n",
    "'result.csv' -> skip index\n",
    "'result.html'\n",
    "'result.json' -> set indent to 4 spaces"
   ]
  },
  {
   "cell_type": "code",
   "execution_count": 3,
   "metadata": {},
   "outputs": [
    {
     "name": "stderr",
     "output_type": "stream",
     "text": [
      "C:\\Users\\JAI GANESH\\AppData\\Local\\Temp\\ipykernel_18628\\2758402380.py:25: FutureWarning: The frame.append method is deprecated and will be removed from pandas in a future version. Use pandas.concat instead.\n",
      "  orders = orders_day_1.append(orders_day_2, ignore_index=True)\n"
     ]
    }
   ],
   "source": [
    "import pandas as pd\n",
    " \n",
    " \n",
    "products_dict = {\n",
    "    'product_id': ['001', '004', '007', '010'],\n",
    "    'name': ['mobile phone', 'laptop', 'mouse', 'tablet'],\n",
    "    'price': [1490.0, 3400.0, 59.99, 999.00]\n",
    "}\n",
    " \n",
    "orders_day_1_dict = {\n",
    "    'order_id': ['1001', '1002', '1003', '1004'],\n",
    "    'product_id': ['004', '001', '001', '007'],\n",
    "    'quantity': [2, 1, 1, 3]\n",
    "}       \n",
    " \n",
    "orders_day_2_dict = {\n",
    "    'order_id': ['1005', '1006', '1007'],\n",
    "    'product_id': ['010', '001', '007'],\n",
    "    'quantity': [2, 1, 1]\n",
    "}                \n",
    " \n",
    "products = pd.DataFrame(products_dict)\n",
    "orders_day_1 = pd.DataFrame(orders_day_1_dict)\n",
    "orders_day_2 = pd.DataFrame(orders_day_2_dict)\n",
    "orders = orders_day_1.append(orders_day_2, ignore_index=True)\n",
    "result = pd.merge(orders, products, on='product_id')\n",
    "result['total'] = result['quantity'] * result['price']\n",
    " \n",
    "result.to_csv('result.csv', index=False)\n",
    "result.to_html('result.html')\n",
    "result.to_json('result.json', indent=4)"
   ]
  }
 ],
 "metadata": {
  "kernelspec": {
   "display_name": "Python 3",
   "language": "python",
   "name": "python3"
  },
  "language_info": {
   "codemirror_mode": {
    "name": "ipython",
    "version": 3
   },
   "file_extension": ".py",
   "mimetype": "text/x-python",
   "name": "python",
   "nbconvert_exporter": "python",
   "pygments_lexer": "ipython3",
   "version": "3.9.6"
  },
  "orig_nbformat": 4
 },
 "nbformat": 4,
 "nbformat_minor": 2
}
