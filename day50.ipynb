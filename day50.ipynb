{
 "cells": [
  {
   "attachments": {},
   "cell_type": "markdown",
   "metadata": {},
   "source": [
    "# Day 50 - missing values & random"
   ]
  },
  {
   "attachments": {},
   "cell_type": "markdown",
   "metadata": {},
   "source": [
    "1. The following df DataFrame is given. Fill in the missing values with 0 and assign to the variable df. In response, print df to the console."
   ]
  },
  {
   "cell_type": "code",
   "execution_count": 1,
   "metadata": {},
   "outputs": [
    {
     "name": "stdout",
     "output_type": "stream",
     "text": [
      "          A         B         C         D\n",
      "0  0.374540  0.950714  0.731994  0.598658\n",
      "1  0.156019  0.155995  0.058084  0.866176\n",
      "2  0.601115  0.708073  0.020584  0.969910\n",
      "3  0.832443  0.000000  0.181825  0.183405\n",
      "4  0.304242  0.524756  0.431945  0.291229\n",
      "5  0.611853  0.139494  0.292145  0.366362\n",
      "6  0.456070  0.785176  0.199674  0.514234\n",
      "7  0.592415  0.046450  0.607545  0.170524\n",
      "8  0.065052  0.948886  0.965632  0.000000\n",
      "9  0.304614  0.097672  0.684233  0.440152\n"
     ]
    }
   ],
   "source": [
    "import numpy as np\n",
    "import pandas as pd\n",
    "\n",
    "np.random.seed(42)\n",
    "df = pd.DataFrame(np.random.rand(10, 4), columns=list('ABCD'))\n",
    "df.iloc[3, 1] = np.nan\n",
    "df.loc[8, 'D'] = np.nan\n",
    "df = df.fillna(0)\n",
    "print(df)"
   ]
  },
  {
   "attachments": {},
   "cell_type": "markdown",
   "metadata": {},
   "source": [
    "2. The following df DataFrame is given. Replace the order of the columns in the df object as following:\n",
    "    D, A, B, C\n",
    "and assign to df variable. In respone, print this variable to the console."
   ]
  },
  {
   "cell_type": "code",
   "execution_count": 2,
   "metadata": {},
   "outputs": [
    {
     "name": "stdout",
     "output_type": "stream",
     "text": [
      "          D         A         B         C\n",
      "0  0.598658  0.374540  0.950714  0.731994\n",
      "1  0.866176  0.156019  0.155995  0.058084\n",
      "2  0.969910  0.601115  0.708073  0.020584\n",
      "3  0.183405  0.832443  0.212339  0.181825\n",
      "4  0.291229  0.304242  0.524756  0.431945\n",
      "5  0.366362  0.611853  0.139494  0.292145\n",
      "6  0.514234  0.456070  0.785176  0.199674\n",
      "7  0.170524  0.592415  0.046450  0.607545\n",
      "8  0.808397  0.065052  0.948886  0.965632\n",
      "9  0.440152  0.304614  0.097672  0.684233\n"
     ]
    }
   ],
   "source": [
    "import numpy as np\n",
    "import pandas as pd\n",
    " \n",
    "np.random.seed(42)\n",
    "df = pd.DataFrame(np.random.rand(10, 4), columns=list('ABCD'))\n",
    "df = df[['D', 'A', 'B', 'C']]\n",
    "print(df)"
   ]
  },
  {
   "attachments": {},
   "cell_type": "markdown",
   "metadata": {},
   "source": [
    "3. The following df DataFrame is given. Remove the D column from this object and print DataFrame to the console."
   ]
  },
  {
   "cell_type": "code",
   "execution_count": 3,
   "metadata": {},
   "outputs": [
    {
     "name": "stdout",
     "output_type": "stream",
     "text": [
      "          A         B         C\n",
      "0  0.374540  0.950714  0.731994\n",
      "1  0.156019  0.155995  0.058084\n",
      "2  0.601115  0.708073  0.020584\n",
      "3  0.832443  0.212339  0.181825\n",
      "4  0.304242  0.524756  0.431945\n",
      "5  0.611853  0.139494  0.292145\n",
      "6  0.456070  0.785176  0.199674\n",
      "7  0.592415  0.046450  0.607545\n",
      "8  0.065052  0.948886  0.965632\n",
      "9  0.304614  0.097672  0.684233\n"
     ]
    }
   ],
   "source": [
    "import numpy as np\n",
    "import pandas as pd \n",
    " \n",
    "np.random.seed(42)\n",
    "df = pd.DataFrame(np.random.rand(10, 4), columns=list('ABCD'))\n",
    "df = df.drop('D', axis=1)\n",
    "print(df)"
   ]
  }
 ],
 "metadata": {
  "kernelspec": {
   "display_name": "Python 3",
   "language": "python",
   "name": "python3"
  },
  "language_info": {
   "codemirror_mode": {
    "name": "ipython",
    "version": 3
   },
   "file_extension": ".py",
   "mimetype": "text/x-python",
   "name": "python",
   "nbconvert_exporter": "python",
   "pygments_lexer": "ipython3",
   "version": "3.9.6"
  },
  "orig_nbformat": 4
 },
 "nbformat": 4,
 "nbformat_minor": 2
}
