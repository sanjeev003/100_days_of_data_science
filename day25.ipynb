{
 "cells": [
  {
   "attachments": {},
   "cell_type": "markdown",
   "metadata": {},
   "source": [
    " # Day 25 - np.char.add(), np.char.rjust(), np.char.zfill() & np.char.split()"
   ]
  },
  {
   "attachments": {},
   "cell_type": "markdown",
   "metadata": {},
   "source": [
    "1. The np.char.add() function is used to element-wise concatenate strings in NumPy arrays. It takes two arrays as input and returns a new array where each element is the concatenation of the corresponding elements from the input arrays.\n",
    "\n",
    "import numpy as np\n",
    "A = np.array(['Hello', 'World'])The np.char.zfill() function is used to pad the elements of a NumPy character array with zeros (0) on the left side to a specified width. It helps in ensuring that all elements have the same width by adding leading zeros if necessary.\n",
    "B = np.array(['!', ' Goodbye'])\n",
    "result = np.char.add(A, B)\n",
    "print(result)\n",
    "\n",
    "> Output :- ['Hello!' 'World Goodbye']\n",
    " \n",
    " 2. The np.char.rjust() function is used to right-justify the elements in a NumPy character array by padding them with a specified fill character or space. It takes the array and the width as input and returns a new array with right-justified elements.\n",
    "\n",
    "import numpy as np\n",
    "A = np.array(['apple', 'banana', 'cherry'])\n",
    "width = 10\n",
    "result = np.char.rjust(A, width ,  fillchar='*')\n",
    "print(result)\n",
    "\n",
    ">Output :- \n",
    "    ['*****apple' '****banana' '****cherry']\n",
    "\n",
    "3. The np.char.zfill() function is used to pad the elements of a NumPy character array with zeros (0) on the left side to a specified width. It helps in ensuring that all elements have the same width by adding leading zeros if necessary.\n",
    "\n",
    "import numpy as np\n",
    "A = np.array(['1', '22', '333', '4444'])\n",
    "width = 6\n",
    "result = np.char.zfill(A, width)\n",
    "print(result)\n",
    "\n",
    ">Output :- \n",
    "    ['000001' '000022' '000333' '004444']\n",
    "\n",
    "4. The np.char.split() function in NumPy is used to split the elements of a character array into a new array of substrings. It splits each element of the input array based on a specified delimiter.\n",
    "\n",
    "import numpy as np\n",
    "A = np.array(['Hello World', 'Welcome to Python', 'NumPy is great'])\n",
    "result = np.char.split(A)\n",
    "print(result)\n",
    "\n",
    ">Output :- \n",
    "    [list(['Hello', 'World']) list(['Welcome', 'to', 'Python'])\n",
    "    list(['NumPy', 'is', 'great'])]"
   ]
  },
  {
   "attachments": {},
   "cell_type": "markdown",
   "metadata": {},
   "source": [
    "1. The following arrays are given:\n",
    "\n",
    "A = np.array(['001', '002', '003'], dtype=np.str)\n",
    "B = np.array(['XC', 'YC', 'ZC'], dtype=np.str)\n",
    "\n",
    "Merge them together as shown below and print result to the console.\n",
    "\n",
    "Expected result:\n",
    "    ['001XC' '002YC' '003ZC']"
   ]
  },
  {
   "cell_type": "code",
   "execution_count": 5,
   "metadata": {},
   "outputs": [
    {
     "name": "stdout",
     "output_type": "stream",
     "text": [
      "['001XC' '002YC' '003ZC']\n"
     ]
    }
   ],
   "source": [
    "import numpy as np\n",
    "A = np.array(['001', '002', '003'], dtype=str)\n",
    "B = np.array(['XC', 'YC', 'ZC'], dtype=str)\n",
    "print(np.char.add(A,B))"
   ]
  },
  {
   "attachments": {},
   "cell_type": "markdown",
   "metadata": {},
   "source": [
    "2. The following array is given:\n",
    "\n",
    "A = np.array(['1', '2', '3'], dtype=np.str)\n",
    "\n",
    "Add '000' (3 zeros) at the beginning of each element of this array as shown below and print result to the console.\n",
    "\n",
    "Expected output:\n",
    "    ['0001' '0002' '0003'] "
   ]
  },
  {
   "cell_type": "code",
   "execution_count": 6,
   "metadata": {},
   "outputs": [
    {
     "name": "stdout",
     "output_type": "stream",
     "text": [
      "['0001' '0002' '0003']\n"
     ]
    }
   ],
   "source": [
    "import numpy as np\n",
    "P = np.array(['000','000','000'],dtype=str)\n",
    "A = np.array(['1', '2', '3'], dtype=str)\n",
    "print(np.char.add(P,A))"
   ]
  },
  {
   "attachments": {},
   "cell_type": "markdown",
   "metadata": {},
   "source": [
    "3. The following array is given:\n",
    "\n",
    "A = np.array([['PLW CDR 11B TEN', 'AMC LPP'],\n",
    "              ['CDR PKO KGH', 'CCC QMK']], dtype=np.str)\n",
    "\n",
    "\n",
    "Split each element of this array by space character as shown below.\n",
    "\n",
    "Expected result:\n",
    "    [[list(['PLW', 'CDR', '11B', 'TEN']) list(['AMC', 'LPP'])]\n",
    "    [list(['CDR', 'PKO', 'KGH']) list(['CCC', 'QMK'])]]"
   ]
  },
  {
   "cell_type": "code",
   "execution_count": 7,
   "metadata": {},
   "outputs": [
    {
     "name": "stdout",
     "output_type": "stream",
     "text": [
      "[[list(['PLW', 'CDR', '11B', 'TEN']) list(['AMC', 'LPP'])]\n",
      " [list(['CDR', 'PKO', 'KGH']) list(['CCC', 'QMK'])]]\n"
     ]
    }
   ],
   "source": [
    "import numpy as np\n",
    "A = np.array([['PLW CDR 11B TEN', 'AMC LPP'],\n",
    "              ['CDR PKO KGH', 'CCC QMK']], dtype=str)\n",
    "print(np.char.split(A))"
   ]
  }
 ],
 "metadata": {
  "kernelspec": {
   "display_name": "Python 3",
   "language": "python",
   "name": "python3"
  },
  "language_info": {
   "codemirror_mode": {
    "name": "ipython",
    "version": 3
   },
   "file_extension": ".py",
   "mimetype": "text/x-python",
   "name": "python",
   "nbconvert_exporter": "python",
   "pygments_lexer": "ipython3",
   "version": "3.9.6"
  },
  "orig_nbformat": 4
 },
 "nbformat": 4,
 "nbformat_minor": 2
}
