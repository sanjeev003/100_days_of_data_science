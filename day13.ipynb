{
 "cells": [
  {
   "attachments": {},
   "cell_type": "markdown",
   "metadata": {},
   "source": [
    "1. np.sort() is a NumPy function that returns a sorted copy of an array. By default, it sorts the array along the last axis.\n",
    "Here's an example of using np.sort() on a one-dimensional array:\n",
    ">>>\n",
    "import numpy as np\n",
    "arr = np.array([5, 2, 8, 1, 3])\n",
    "sorted_arr = np.sort(arr)\n",
    "print(sorted_arr)\n",
    ">>> Output :- [1 2 3 5 8]\n",
    "You can also use np.sort() on multi-dimensional arrays. By default, it sorts the values along the last axis. If you want to sort the array along a different axis or in a specific order, you can specify the axis and kind parameters.\n",
    "# with kind parameter we can give the type of the sorting order of the array (Example :-MergeSort)\n",
    "For example, to sort a two-dimensional array column-wise, you can specify axis=0:\n",
    ">>>\n",
    "import numpy as np\n",
    "arr = np.array([[5, 3, 9] , [2, 1, 8]])\n",
    "sorted_arr = np.sort(arr, axis=0)\n",
    "print(sorted_arr)\n",
    ">>> Output :- [[2 1 8] [5 3 9]]\n",
    "# In this example, np.sort() is used to sort the two-dimensional array arr along axis=0, which corresponds to sorting the columns. The resulting sorted array is printed to the console.\n",
    "\n",
    "2. np.expand_dims() is a function in NumPy that allows you to expand the dimensions of an array by inserting new axes. This can be useful when you want to reshape or manipulate arrays to perform certain operations.\n",
    "The syntax of np.expand_dims() is as follows:\n",
    ">>>\n",
    "import numpy as np\n",
    "arr = np.array([1, 2, 3])\n",
    "expanded_arr = np.expand_dims(arr, axis=0)\n",
    "print(expanded_arr)\n",
    "print(expanded_arr.shape)\n",
    ">>> Output :- \n",
    "    [[1 2 3]]\n",
    "    (1, 3)\n",
    "# NOTE >>>\n",
    "In NumPy, the axis parameter specifies the axis along which a new dimension should be inserted when using the np.expand_dims() function.\n",
    "\n",
    "In the context of np.expand_dims(), axis=0 means that a new dimension will be added at the beginning of the array. This results in the shape of the array being modified by inserting a new dimension of size 1 at the specified axis.\n",
    "\n",
    "For example, if you have a 2-dimensional array A with shape (2, 3), and you apply np.expand_dims(A, axis=0), the resulting array will have shape (1, 2, 3). The original rows of A will become the rows of the expanded array, and the new dimension of size 1 will be added at the beginning.\n",
    "\n",
    "Similarly, if you were to use axis=1 with np.expand_dims(), a new dimension would be inserted between the existing columns of the array.\n",
    "\n",
    "In summary, the axis parameter determines the position along which the new dimension will be inserted when expanding an array using np.expand_dims()."
   ]
  },
  {
   "attachments": {},
   "cell_type": "markdown",
   "metadata": {},
   "source": [
    "1. The following array is given:\n",
    "\n",
    "image = np.random.randint(low=0, high=256, size=(200, 300), dtype=np.uint8)\n",
    "\n",
    "Sort this array along the rows in ascending order and assign to the variable image_sorted."
   ]
  },
  {
   "cell_type": "code",
   "execution_count": 1,
   "metadata": {},
   "outputs": [
    {
     "name": "stdout",
     "output_type": "stream",
     "text": [
      "[[  0   0   1 ... 253 254 255]\n",
      " [  0   0   2 ... 253 254 255]\n",
      " [  1   2   3 ... 254 255 255]\n",
      " ...\n",
      " [  1   2   2 ... 253 255 255]\n",
      " [  2   2   2 ... 252 252 255]\n",
      " [  0   1   4 ... 254 255 255]]\n"
     ]
    }
   ],
   "source": [
    "import numpy as np\n",
    "image = np.random.randint(low=0, high=256, size=(200, 300), dtype=np.uint8)\n",
    "image_sorted = np.sort(image)\n",
    "print(image_sorted)"
   ]
  },
  {
   "attachments": {},
   "cell_type": "markdown",
   "metadata": {},
   "source": [
    "2. The following array is given:\n",
    "\n",
    "A = np.array([[4, 2, 1] , [6, 4, 2]])\n",
    "\n",
    "Expand this array by one dimension (add a new dimension at the beginning). Expected shape of the output array: (1, 2, 3).\n",
    "In response, print array to the console.\n",
    "Expected output:\n",
    "\n",
    "    [[[4 2 1]\n",
    "     [6 4 2]]] "
   ]
  },
  {
   "cell_type": "code",
   "execution_count": 2,
   "metadata": {},
   "outputs": [
    {
     "name": "stdout",
     "output_type": "stream",
     "text": [
      "[[[4 2 1]\n",
      "  [6 4 2]]]\n"
     ]
    }
   ],
   "source": [
    "import numpy as np\n",
    "A = np.array([[4, 2, 1] , [6, 4, 2]])\n",
    "print(np.expand_dims(A, axis=0))"
   ]
  },
  {
   "attachments": {},
   "cell_type": "markdown",
   "metadata": {},
   "source": [
    "3. Using Numpy create a three-dimensional array called image with shape (200, 300, 3) filled with random values from 0 to 255 (inclusive) and data type np.uint8. Set random seed to 42.\n",
    "In response, print array to the console."
   ]
  },
  {
   "cell_type": "code",
   "execution_count": 3,
   "metadata": {},
   "outputs": [
    {
     "name": "stdout",
     "output_type": "stream",
     "text": [
      "[[[102 220 225]\n",
      "  [ 95 179  61]\n",
      "  [234 203  92]\n",
      "  ...\n",
      "  [ 41  27  87]\n",
      "  [102 225  65]\n",
      "  [170   0 238]]\n",
      "\n",
      " [[169 170 213]\n",
      "  [159  44 250]\n",
      "  [224 206  61]\n",
      "  ...\n",
      "  [162 118  77]\n",
      "  [228  67  21]\n",
      "  [ 68  30  64]]\n",
      "\n",
      " [[237  26 118]\n",
      "  [ 62 157 198]\n",
      "  [  1 151  37]\n",
      "  ...\n",
      "  [218 189  51]\n",
      "  [193 250 243]\n",
      "  [235  34 180]]\n",
      "\n",
      " ...\n",
      "\n",
      " [[116 102 228]\n",
      "  [ 29  75  71]\n",
      "  [156 133  53]\n",
      "  ...\n",
      "  [ 93  45  68]\n",
      "  [124 238  76]\n",
      "  [184 185 202]]\n",
      "\n",
      " [[216 202 116]\n",
      "  [146 168 132]\n",
      "  [236  80  45]\n",
      "  ...\n",
      "  [169 145 212]\n",
      "  [123  50  70]\n",
      "  [ 11  43  62]]\n",
      "\n",
      " [[ 32  52  65]\n",
      "  [155   2  86]\n",
      "  [ 83 240  27]\n",
      "  ...\n",
      "  [ 30  57 175]\n",
      "  [ 72  83 171]\n",
      "  [ 40 114 195]]]\n"
     ]
    }
   ],
   "source": [
    "import numpy as np\n",
    "np.random.seed(42)\n",
    "image = np.random.randint(0, 256, size=(200, 300, 3), dtype=np.uint8)\n",
    "print(image)"
   ]
  },
  {
   "attachments": {},
   "cell_type": "markdown",
   "metadata": {},
   "source": [
    "4. The following array is given:\n",
    "\n",
    "image = np.random.randint(low=0, high=256, size=(200, 300, 3), dtype=np.uint8)\n",
    "\n",
    "Extend this array by one dimension (add a new dimension at the beginning) and assign to image_extended variable. Expected shape of this array is (1, 200, 300, 3)."
   ]
  },
  {
   "cell_type": "code",
   "execution_count": 4,
   "metadata": {},
   "outputs": [
    {
     "name": "stdout",
     "output_type": "stream",
     "text": [
      "[[[[145  30 244]\n",
      "   [107   6 122]\n",
      "   [201  42  86]\n",
      "   ...\n",
      "   [182 113 173]\n",
      "   [140 196 105]\n",
      "   [123  60 198]]\n",
      "\n",
      "  [[221  40 190]\n",
      "   [175  36 108]\n",
      "   [ 33   0 106]\n",
      "   ...\n",
      "   [ 75 169  71]\n",
      "   [218 180 159]\n",
      "   [ 88  16   4]]\n",
      "\n",
      "  [[141 115 148]\n",
      "   [211  17 146]\n",
      "   [118 201  37]\n",
      "   ...\n",
      "   [ 10 168 141]\n",
      "   [136 119 180]\n",
      "   [134 202  48]]\n",
      "\n",
      "  ...\n",
      "\n",
      "  [[105 148  18]\n",
      "   [178 143 146]\n",
      "   [249 136  32]\n",
      "   ...\n",
      "   [ 80  45 210]\n",
      "   [182 138  93]\n",
      "   [ 93 176 230]]\n",
      "\n",
      "  [[  8  92  85]\n",
      "   [105 188  47]\n",
      "   [188 219 100]\n",
      "   ...\n",
      "   [117 202 126]\n",
      "   [171 254  58]\n",
      "   [ 60 227 231]]\n",
      "\n",
      "  [[ 90  77 134]\n",
      "   [121 220 235]\n",
      "   [ 64 117 152]\n",
      "   ...\n",
      "   [ 60 122  47]\n",
      "   [110 218 233]\n",
      "   [233  85  89]]]]\n"
     ]
    }
   ],
   "source": [
    "import numpy as np\n",
    "image = np.random.randint(low=0, high=256, size=(200, 300, 3), dtype=np.uint8)\n",
    "image_extended = np.expand_dims(image, axis=0)\n",
    "print(image_extended)"
   ]
  }
 ],
 "metadata": {
  "kernelspec": {
   "display_name": "Python 3",
   "language": "python",
   "name": "python3"
  },
  "language_info": {
   "codemirror_mode": {
    "name": "ipython",
    "version": 3
   },
   "file_extension": ".py",
   "mimetype": "text/x-python",
   "name": "python",
   "nbconvert_exporter": "python",
   "pygments_lexer": "ipython3",
   "version": "3.9.6"
  },
  "orig_nbformat": 4
 },
 "nbformat": 4,
 "nbformat_minor": 2
}
