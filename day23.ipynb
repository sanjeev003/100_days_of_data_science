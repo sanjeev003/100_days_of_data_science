{
 "cells": [
  {
   "attachments": {},
   "cell_type": "markdown",
   "metadata": {},
   "source": [
    "# Day 23 - np.polyadd() & np.sign()"
   ]
  },
  {
   "attachments": {},
   "cell_type": "markdown",
   "metadata": {},
   "source": [
    "1. Calculate the roots of the following polynomials:\n",
    "\n",
    "Q(X) = 2X^3 + 4X^2 - 5X + 1\n",
    "R(x) = 2X^3 - 5X + 1\n",
    "\n",
    "In response print these roots to the console"
   ]
  },
  {
   "cell_type": "code",
   "execution_count": 1,
   "metadata": {},
   "outputs": [
    {
     "name": "stdout",
     "output_type": "stream",
     "text": [
      "[-2.91610583  0.65388685  0.26221898]\n",
      "[-1.67298165  1.46961743  0.20336421]\n"
     ]
    }
   ],
   "source": [
    "import numpy as np\n",
    " \n",
    " \n",
    "Q = np.array([2, 4, -5, 1])\n",
    "R = np.array([2, 0, -5, 1])\n",
    " \n",
    "print(np.roots(Q))\n",
    "print(np.roots(R))"
   ]
  },
  {
   "attachments": {},
   "cell_type": "markdown",
   "metadata": {},
   "source": [
    "2. The following polynomials are given:\n",
    "\n",
    "Q(X) = 4X^2 + 5X + 1\n",
    "R(x) = 2X^3 + 4X^2 - 5X + 1\n",
    "\n",
    "Perform the following operations and print results to the console as shown below:\n",
    "\n",
    "Q(X) + R(x)\n",
    "Q(X) - R(x)\n",
    "Q(X) * R(x)\n",
    "Q(X) + 2*R(x)"
   ]
  },
  {
   "cell_type": "code",
   "execution_count": 2,
   "metadata": {},
   "outputs": [
    {
     "name": "stdout",
     "output_type": "stream",
     "text": [
      "[2 8 0 2]\n",
      "[-2  0 10  0]\n",
      "[  8  26   2 -17   0   1]\n",
      "[ 4 12 -5  3]\n"
     ]
    }
   ],
   "source": [
    "import numpy as np\n",
    " \n",
    " \n",
    "W = np.array([4, 5, 1])\n",
    "Q = np.array([2, 4, -5, 1])\n",
    " \n",
    "print(np.polyadd(W, Q))\n",
    "print(np.polysub(W, Q))\n",
    "print(np.polymul(W, Q))\n",
    "print(np.polyadd(W, 2 * Q))"
   ]
  },
  {
   "attachments": {},
   "cell_type": "markdown",
   "metadata": {},
   "source": [
    "3. The following array is given:\n",
    "\n",
    "A = np.array([[-4, 3, 0, 1, -5],\n",
    "              [6, -4, -2, 1, 3]])\n",
    "\n",
    "Use the sign function for this array.\n",
    "\n",
    "Reminder: The sign function works as follows: returns -1 for negative values, zero for zero, and 1 for positive values"
   ]
  },
  {
   "cell_type": "code",
   "execution_count": 3,
   "metadata": {},
   "outputs": [
    {
     "name": "stdout",
     "output_type": "stream",
     "text": [
      "[[-1  1  0  1 -1]\n",
      " [ 1 -1 -1  1  1]]\n"
     ]
    }
   ],
   "source": [
    "import numpy as np\n",
    "\n",
    "\n",
    "A = np.array([[-4, 3, 0, 1, -5],\n",
    "              [6, -4, -2, 1, 3]])\n",
    "              \n",
    "print(np.sign(A))"
   ]
  }
 ],
 "metadata": {
  "kernelspec": {
   "display_name": "Python 3",
   "language": "python",
   "name": "python3"
  },
  "language_info": {
   "codemirror_mode": {
    "name": "ipython",
    "version": 3
   },
   "file_extension": ".py",
   "mimetype": "text/x-python",
   "name": "python",
   "nbconvert_exporter": "python",
   "pygments_lexer": "ipython3",
   "version": "3.9.6"
  },
  "orig_nbformat": 4
 },
 "nbformat": 4,
 "nbformat_minor": 2
}
