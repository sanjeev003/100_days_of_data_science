{
 "cells": [
  {
   "attachments": {},
   "cell_type": "markdown",
   "metadata": {},
   "source": [
    "1. np.full_like() :- If you want to create an array of the same shape and data type as the given array A filled with a specific value, you can use the np.full_like() function. Here's the corrected code:\n",
    ">>>\n",
    "import numpy as np\n",
    "A = np.array([[4.99, 3.49, 9.99] , [1.99, 9.99, 14.99] , [14.99, 2.39, 7.29]])\n",
    "zeros_array = np.full_like(A, 0.0)\n",
    "print(zeros_array)\n",
    ">>> Output :- [[0. 0. 0.] [0. 0. 0.] [0. 0. 0.]]\n",
    "\n",
    "2. The np.tri() function in NumPy can be used to create a two-dimensional array with ones at and below the main diagonal, and zeros elsewhere. Here's an example:\n",
    ">>>\n",
    "import numpy as np\n",
    "n = 5  # Size of the array\n",
    "triangular_array = np.tri(n)\n",
    "print(triangular_array)\n",
    ">>> Output :- \n",
    "    [[1. 0. 0. 0. 0.]\n",
    "    [1. 1. 0. 0. 0.]\n",
    "    [1. 1. 1. 0. 0.]\n",
    "    [1. 1. 1. 1. 0.]\n",
    "    [1. 1. 1. 1. 1.]]\n",
    "\n",
    "3. The np.random.randint() function in NumPy is used to generate random integers from a specified range. Here's an example:\n",
    ">>>\n",
    "import numpy as np\n",
    "# Generate a random integer between 0 and 9\n",
    "random_integer = np.random.randint(10)\n",
    "print(random_integer)\n",
    ">>> Output :- 7\n",
    "\n",
    ">>>\n",
    "import numpy as np\n",
    "# Generate a random integer between 1 and 100\n",
    "random_integer = np.random.randint(low=1, high=101)\n",
    "print(random_integer)\n",
    ">>> Output :-  42\n",
    "\n",
    ">>>\n",
    "import numpy as np\n",
    "# Generate a 1D array of 5 random integers between 0 and 9\n",
    "random_array = np.random.randint(10, size=5)\n",
    "print(random_array)\n",
    ">>> Output :- [1 7 3 8 2]"
   ]
  },
  {
   "attachments": {},
   "cell_type": "markdown",
   "metadata": {},
   "source": [
    "1. The following array is given:\n",
    "\n",
    "A = np.array([[4.99, 3.49, 9.99] , [1.99, 9.99, 14.99] , [14.99, 2.39, 7.29]])\n",
    "\n",
    "Using Numpy create an array of the same shape and data type as the given array and fill it with a constant value = 9.99. Print this array to the console."
   ]
  },
  {
   "cell_type": "code",
   "execution_count": 1,
   "metadata": {},
   "outputs": [
    {
     "name": "stdout",
     "output_type": "stream",
     "text": [
      "[[9.99 9.99 9.99]\n",
      " [9.99 9.99 9.99]\n",
      " [9.99 9.99 9.99]]\n"
     ]
    }
   ],
   "source": [
    "import numpy as np\n",
    "A = np.array([[4.99, 3.49, 9.99] , [1.99, 9.99, 14.99] , [14.99, 2.39, 7.29]])\n",
    "print(np.full_like(A , 9.99))"
   ]
  },
  {
   "attachments": {},
   "cell_type": "markdown",
   "metadata": {},
   "source": [
    "2. Using Numpy create a two-dimensional array (lower triangular matrix):\n",
    "\n",
    "array([[1., 0., 0., 0., 0.] , [1., 1., 0., 0., 0.] , [1., 1., 1., 0., 0.] , [1., 1., 1., 1., 0.] , [1., 1., 1., 1., 1.]])\n",
    "\n",
    "In response, print result to the console."
   ]
  },
  {
   "cell_type": "code",
   "execution_count": 3,
   "metadata": {},
   "outputs": [
    {
     "name": "stdout",
     "output_type": "stream",
     "text": [
      "[[1. 0. 0. 0. 0.]\n",
      " [1. 1. 0. 0. 0.]\n",
      " [1. 1. 1. 0. 0.]\n",
      " [1. 1. 1. 1. 0.]\n",
      " [1. 1. 1. 1. 1.]]\n"
     ]
    }
   ],
   "source": [
    "import numpy as np\n",
    "A = np.array([[1., 0., 0., 0., 0.] , [1., 1., 0., 0., 0.] , [1., 1., 1., 0., 0.] , [1., 1., 1., 1., 0.] , [1., 1., 1., 1., 1.]])\n",
    "print(np.tri(5))"
   ]
  },
  {
   "attachments": {},
   "cell_type": "markdown",
   "metadata": {},
   "source": [
    "3. Using Numpy create any 3-dimensional array with shape (2, 3, 4) and assign to variable A.\n",
    "Example:\n",
    "\n",
    "[[[4 5 4 2]\n",
    "  [6 3 5 1]\n",
    "  [5 2 1 2]]\n",
    " \n",
    " [[7 2 3 1]\n",
    "  [6 2 0 9]\n",
    "  [0 1 9 1]]]"
   ]
  },
  {
   "cell_type": "code",
   "execution_count": 4,
   "metadata": {},
   "outputs": [
    {
     "name": "stdout",
     "output_type": "stream",
     "text": [
      "[[[2 5 8 1]\n",
      "  [3 3 3 4]\n",
      "  [3 5 5 3]]\n",
      "\n",
      " [[3 2 5 0]\n",
      "  [4 5 6 6]\n",
      "  [9 2 3 4]]]\n"
     ]
    }
   ],
   "source": [
    "import numpy as np\n",
    "A = np.random.randint(0, 10, size=(2, 3, 4))\n",
    "print(A)"
   ]
  },
  {
   "attachments": {},
   "cell_type": "markdown",
   "metadata": {},
   "source": [
    "4. Using Numpy create a two-dimensional array with shape of (200, 300) filled with random values from 0 to 255 (inclusive) with data type np.uint8 and assign to the variable image."
   ]
  },
  {
   "cell_type": "code",
   "execution_count": 5,
   "metadata": {},
   "outputs": [
    {
     "name": "stdout",
     "output_type": "stream",
     "text": [
      "[[  3  85   1 ... 202  20 161]\n",
      " [  4  73 133 ... 240  14 106]\n",
      " [105 141  56 ...  45 240 129]\n",
      " ...\n",
      " [ 40   1  12 ... 121 225 134]\n",
      " [ 21  12 128 ... 219  36  78]\n",
      " [189  63 196 ... 161 227  37]]\n"
     ]
    }
   ],
   "source": [
    "import numpy as np\n",
    "image = np.random.randint(0, 256, size=(200, 300), dtype=np.uint8)\n",
    "print(image)"
   ]
  }
 ],
 "metadata": {
  "kernelspec": {
   "display_name": "Python 3",
   "language": "python",
   "name": "python3"
  },
  "language_info": {
   "codemirror_mode": {
    "name": "ipython",
    "version": 3
   },
   "file_extension": ".py",
   "mimetype": "text/x-python",
   "name": "python",
   "nbconvert_exporter": "python",
   "pygments_lexer": "ipython3",
   "version": "3.9.6"
  },
  "orig_nbformat": 4
 },
 "nbformat": 4,
 "nbformat_minor": 2
}
