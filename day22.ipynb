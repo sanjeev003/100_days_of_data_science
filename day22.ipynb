{
 "cells": [
  {
   "attachments": {},
   "cell_type": "markdown",
   "metadata": {},
   "source": [
    "# Day 22 - np.random.shuffle(), np.argsort(), np.round() & np.roots()\n",
    "\n",
    "1. np.random.shuffle() is a function from the NumPy library that shuffles the elements of an array in place. It modifies the original array by rearranging its elements randomly.\n",
    "Here's an example usage of np.random.shuffle():\n",
    "\n",
    "import numpy as np\n",
    "# Create an array\n",
    "arr = np.array([1, 2, 3, 4, 5])\n",
    "print(\"Original array:\", arr)\n",
    "# Shuffle the array\n",
    "np.random.shuffle(arr)\n",
    "print(\"Shuffled array:\", arr)\n",
    "> Output :-\n",
    "    Original array: [1 2 3 4 5]\n",
    "    Shuffled array: [3 5 4 1 2]\n",
    "\n",
    "2. np.argsort() is a function from the NumPy library that returns the indices that would sort an array in ascending order. It provides a sorted version of the array's indices instead of the actual sorted array.\n",
    "Here's an example usage of np.argsort():\n",
    "\n",
    "import numpy as np\n",
    "# Create an array\n",
    "arr = np.array([3, 1, 5, 2, 4])\n",
    "# Get the sorted indices\n",
    "sorted_indices = np.argsort(arr)\n",
    "print(\"Sorted indices:\", sorted_indices)\n",
    "> Output :-    Sorted indices: [1 3 0 4 2]\n",
    "The output shows the indices that would sort the array arr in ascending order. In this case, the smallest element is at index 1, followed by index 3, index 0, index 4, and index 2.\n",
    "You can also use the sorted indices to retrieve the sorted array itself. Here's an example:\n",
    ">>>\n",
    "sorted_arr = arr[sorted_indices]\n",
    "print(\"Sorted array:\", sorted_arr)\n",
    "> Output :-    Sorted array: [1 2 3 4 5]\n",
    "\n",
    "3. np.round() is a function from the NumPy library that returns an array with each element rounded to the specified number of decimals. It allows you to round the values of an array to a desired precision.\n",
    "Here's an example usage of np.round():\n",
    "\n",
    "import numpy as np\n",
    "# Create an array with floating-point values\n",
    "arr = np.array([1.234, 2.567, 3.891, 4.123])\n",
    "# Round the array elements to 2 decimals\n",
    "rounded_arr = np.round(arr, decimals=2)\n",
    "print(\"Original array:\", arr)\n",
    "print(\"Rounded array:\", rounded_arr)\n",
    "> Output :-\n",
    "    Original array: [1.234 2.567 3.891 4.123]\n",
    "    Rounded array: [1.23 2.57 3.89 4.12]\n",
    "\n",
    "In the example, the np.round() function is used to round each element of the arr array to 2 decimal places. The resulting rounded values are stored in the rounded_arr array.\n",
    "The decimals parameter specifies the number of decimal places to which the elements will be rounded. If decimals is not provided, it defaults to 0, resulting in rounding to the nearest integer.\n",
    "Note that np.round() uses \"round half to even\" rounding strategy, also known as \"banker's rounding\", which means that when a value is exactly halfway between two possible rounded values, it rounds to the nearest even value.\n",
    "\n",
    "4. np.roots() is a function from the NumPy library that calculates the roots of a polynomial with given coefficients. It returns an array containing the roots of the polynomial equation.\n",
    "Here's an example usage of np.roots():\n",
    "\n",
    "import numpy as np\n",
    "# Coefficients of the polynomial equation: x^3 - 6x^2 + 11x - 6\n",
    "coefficients = [1, -6, 11, -6]\n",
    "# Calculate the roots of the polynomial equation\n",
    "roots = np.roots(coefficients)\n",
    "print(\"Roots:\", roots)\n",
    "> Output :-    Roots: [1. 2. 3.]\n",
    "\n",
    "In the example, np.roots() is used to find the roots of the polynomial equation with coefficients [1, -6, 11, -6]. The resulting roots are stored in the roots array.\n",
    "The input to np.roots() is a 1-D array containing the coefficients of the polynomial in decreasing order of powers. The function then solves the polynomial equation and returns the complex or real roots depending on the coefficients.\n",
    "Note that if the polynomial equation has complex roots, they will be returned as complex numbers."
   ]
  },
  {
   "attachments": {},
   "cell_type": "markdown",
   "metadata": {},
   "source": [
    "1. The following array is given:\n",
    "\n",
    "A = np.array([['id', 'price'],\n",
    "              ['001', 14.99],\n",
    "              ['002', 4.99],\n",
    "              ['003', 7.99],\n",
    "              ['004', 2.49],\n",
    "              ['005', 1.49]])\n",
    "\n",
    "Starting with the second row of this array, randomly shuffle the rows and print result to the console."
   ]
  },
  {
   "cell_type": "code",
   "execution_count": 5,
   "metadata": {},
   "outputs": [
    {
     "name": "stdout",
     "output_type": "stream",
     "text": [
      "[['id' 'price']\n",
      " ['002' '4.99']\n",
      " ['005' '1.49']\n",
      " ['003' '7.99']\n",
      " ['001' '14.99']\n",
      " ['004' '2.49']]\n"
     ]
    }
   ],
   "source": [
    "import numpy as np\n",
    " \n",
    " \n",
    "np.random.seed(42)\n",
    " \n",
    "A = np.array([['id', 'price'],\n",
    "              ['001', 14.99],\n",
    "              ['002', 4.99],\n",
    "              ['003', 7.99],\n",
    "              ['004', 2.49],\n",
    "              ['005', 1.49]])\n",
    " \n",
    "np.random.shuffle(A[1:])\n",
    "print(A)"
   ]
  },
  {
   "attachments": {},
   "cell_type": "markdown",
   "metadata": {},
   "source": [
    "2. The following array is given:\n",
    "\n",
    "A = np.array([0.2, 0.15, 0.1, 0.3, 0.2, 0.05])\n",
    "\n",
    "Return a list of indexes that sorts this array in ascending order and print it to the console."
   ]
  },
  {
   "cell_type": "code",
   "execution_count": 6,
   "metadata": {},
   "outputs": [
    {
     "name": "stdout",
     "output_type": "stream",
     "text": [
      "[5 2 1 0 4 3]\n"
     ]
    }
   ],
   "source": [
    "import numpy as np\n",
    "A = np.array([0.2, 0.15, 0.1, 0.3, 0.2, 0.05])\n",
    "print(np.argsort(A))"
   ]
  },
  {
   "attachments": {},
   "cell_type": "markdown",
   "metadata": {},
   "source": [
    "3. The following array is given:\n",
    "\n",
    "A = np.random.randn(10, 8)\n",
    "\n",
    "Round the values of this array to three decimal places and print result to the console."
   ]
  },
  {
   "cell_type": "code",
   "execution_count": 7,
   "metadata": {},
   "outputs": [
    {
     "name": "stdout",
     "output_type": "stream",
     "text": [
      "[[ 0.497 -0.138  0.648  1.523 -0.234 -0.234  1.579  0.767]\n",
      " [-0.469  0.543 -0.463 -0.466  0.242 -1.913 -1.725 -0.562]\n",
      " [-1.013  0.314 -0.908 -1.412  1.466 -0.226  0.068 -1.425]\n",
      " [-0.544  0.111 -1.151  0.376 -0.601 -0.292 -0.602  1.852]\n",
      " [-0.013 -1.058  0.823 -1.221  0.209 -1.96  -1.328  0.197]\n",
      " [ 0.738  0.171 -0.116 -0.301 -1.479 -0.72  -0.461  1.057]\n",
      " [ 0.344 -1.763  0.324 -0.385 -0.677  0.612  1.031  0.931]\n",
      " [-0.839 -0.309  0.331  0.976 -0.479 -0.186 -1.106 -1.196]\n",
      " [ 0.813  1.356 -0.072  1.004  0.362 -0.645  0.361  1.538]\n",
      " [-0.036  1.565 -2.62   0.822  0.087 -0.299  0.092 -1.988]]\n"
     ]
    }
   ],
   "source": [
    "import numpy as np\n",
    "np.random.seed(42)\n",
    "A = np.random.randn(10, 8)\n",
    "rounded_arr = np.round(A, decimals=3)\n",
    "print(rounded_arr)"
   ]
  },
  {
   "attachments": {},
   "cell_type": "markdown",
   "metadata": {},
   "source": [
    "4. Calculate  the roots of the following polynomial:\n",
    "\n",
    "w(x) = 4x^2 + 5x + 1\n",
    "\n",
    "In response, print these roots to the console."
   ]
  },
  {
   "cell_type": "code",
   "execution_count": 9,
   "metadata": {},
   "outputs": [
    {
     "ename": "IndentationError",
     "evalue": "unexpected indent (252993553.py, line 4)",
     "output_type": "error",
     "traceback": [
      "\u001b[1;36m  Input \u001b[1;32mIn [9]\u001b[1;36m\u001b[0m\n\u001b[1;33m    print(roots)\u001b[0m\n\u001b[1;37m    ^\u001b[0m\n\u001b[1;31mIndentationError\u001b[0m\u001b[1;31m:\u001b[0m unexpected indent\n"
     ]
    }
   ],
   "source": [
    "import numpy as np\n",
    "coefficients = [4,5,1]\n",
    "roots = np.roots(coefficients)\n",
    "print(roots)"
   ]
  }
 ],
 "metadata": {
  "kernelspec": {
   "display_name": "Python 3",
   "language": "python",
   "name": "python3"
  },
  "language_info": {
   "codemirror_mode": {
    "name": "ipython",
    "version": 3
   },
   "file_extension": ".py",
   "mimetype": "text/x-python",
   "name": "python",
   "nbconvert_exporter": "python",
   "pygments_lexer": "ipython3",
   "version": "3.9.6"
  },
  "orig_nbformat": 4
 },
 "nbformat": 4,
 "nbformat_minor": 2
}
