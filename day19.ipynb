{
 "cells": [
  {
   "attachments": {},
   "cell_type": "markdown",
   "metadata": {},
   "source": [
    "#  Day 19 - np.divide(), np.multiply() & np.sqrt()\n",
    "\n",
    "1. np.divide() is a NumPy function that performs element-wise division between two arrays. It returns an array with the same shape as the input arrays, where each element is the result of dividing the corresponding elements from the input arrays.\n",
    "The syntax of np.divide() is as follows:\n",
    ">            np.divide(x1, x2, out=None)\n",
    "Here, x1 and x2 are the input arrays, and out is an optional parameter that specifies the output array where the result will be stored. If out is not provided, a new array will be created to store the result.\n",
    "Here's an example that demonstrates the usage of np.divide():\n",
    "\n",
    "import numpy as np\n",
    "a = np.array([1, 2, 3])\n",
    "b = np.array([4, 5, 6])\n",
    "result = np.divide(a, b)\n",
    "print(result)\n",
    ">>> Output : [0.25 0.4  0.5 ]\n",
    "\n",
    "2. np.multiply() is a NumPy function that performs element-wise multiplication between two arrays. It returns an array with the same shape as the input arrays, where each element is the product of the corresponding elements from the input arrays.\n",
    "The syntax of np.multiply() is as follows:\n",
    ">           np.multiply(x1, x2, out=None)\n",
    "Here, x1 and x2 are the input arrays, and out is an optional parameter that specifies the output array where the result will be stored. If out is not provided, a new array will be created to store the result.\n",
    "Here's an example that demonstrates the usage of np.multiply():\n",
    "\n",
    "import numpy as np\n",
    "a = np.array([1, 2, 3])\n",
    "b = np.array([4, 5, 6])\n",
    "result = np.multiply(a, b)\n",
    "print(result)\n",
    ">>> Output : [ 4 10 18]\n",
    "\n",
    "3. np.sqrt() is a NumPy function that computes the element-wise square root of an array. It returns a new array with the same shape as the input array, where each element is the square root of the corresponding element in the input.\n",
    "The syntax of np.sqrt() is as follows:\n",
    ">           np.sqrt(x, out=None)\n",
    "Here, x is the input array, and out is an optional parameter that specifies the output array where the result will be stored. If out is not provided, a new array will be created to store the result.\n",
    "Here's an example that demonstrates the usage of np.sqrt():\n",
    "\n",
    "import numpy as np\n",
    "a = np.array([4, 9, 16])\n",
    "result = np.sqrt(a)\n",
    "print(result)\n",
    ">>>Output : [2. 3. 4.]"
   ]
  },
  {
   "attachments": {},
   "cell_type": "markdown",
   "metadata": {},
   "source": [
    "1. The following arrays are given:\n",
    "\n",
    "A = np.array([[3, 4, 9, 2],\n",
    "              [5, 3, 2, 5]])\n",
    "B = np.array([[4, 3, 2, 5],\n",
    "              [6, 3, 1, 6]])\n",
    "\n",
    "Calculate arithmetic means of these arrays (elementwise) and print result to the console."
   ]
  },
  {
   "cell_type": "code",
   "execution_count": 1,
   "metadata": {},
   "outputs": [
    {
     "name": "stdout",
     "output_type": "stream",
     "text": [
      "[[3.5 3.5 5.5 3.5]\n",
      " [5.5 3.  1.5 5.5]]\n"
     ]
    }
   ],
   "source": [
    "import numpy as np\n",
    "A = np.array([[3, 4, 9, 2],\n",
    "              [5, 3, 2, 5]])\n",
    "B = np.array([[4, 3, 2, 5],\n",
    "              [6, 3, 1, 6]])\n",
    "means = np.mean([A, B], axis=0)\n",
    "print(means)"
   ]
  },
  {
   "attachments": {},
   "cell_type": "markdown",
   "metadata": {},
   "source": [
    "2. The following arrays are given:\n",
    "\n",
    "A = np.array([[3, 4, 9, 2],\n",
    "              [5, 3, 2, 5]])\n",
    "B = np.array([[4, 3, 2, 5],\n",
    "              [6, 3, 1, 6]])\n",
    "\n",
    "Multiply these arrays (elementwise) and print result to the console."
   ]
  },
  {
   "cell_type": "code",
   "execution_count": 2,
   "metadata": {},
   "outputs": [
    {
     "name": "stdout",
     "output_type": "stream",
     "text": [
      "[[12 12 18 10]\n",
      " [30  9  2 30]]\n"
     ]
    }
   ],
   "source": [
    "import numpy as np\n",
    "A = np.array([[3, 4, 9, 2] , [5, 3, 2, 5]])\n",
    "B = np.array([[4, 3, 2, 5] , [6, 3, 1, 6]])\n",
    "print(np.multiply(A,B))"
   ]
  },
  {
   "attachments": {},
   "cell_type": "markdown",
   "metadata": {},
   "source": [
    "3. The following array is given:\n",
    "\n",
    "A = np.array([[3, 4, 9, 2],\n",
    "              [5, 3, 2, 5]])\n",
    "\n",
    "Calculate the square root of each element of this array and print result to the console."
   ]
  },
  {
   "cell_type": "code",
   "execution_count": 4,
   "metadata": {},
   "outputs": [
    {
     "name": "stdout",
     "output_type": "stream",
     "text": [
      "[[1.73205081 2.         3.         1.41421356]\n",
      " [2.23606798 1.73205081 1.41421356 2.23606798]]\n"
     ]
    }
   ],
   "source": [
    "import numpy as np\n",
    "A = np.array([[3, 4, 9, 2] , [5, 3, 2, 5]])\n",
    "result = np.sqrt(A)\n",
    "print(result)"
   ]
  }
 ],
 "metadata": {
  "kernelspec": {
   "display_name": "Python 3",
   "language": "python",
   "name": "python3"
  },
  "language_info": {
   "codemirror_mode": {
    "name": "ipython",
    "version": 3
   },
   "file_extension": ".py",
   "mimetype": "text/x-python",
   "name": "python",
   "nbconvert_exporter": "python",
   "pygments_lexer": "ipython3",
   "version": "3.9.6"
  },
  "orig_nbformat": 4
 },
 "nbformat": 4,
 "nbformat_minor": 2
}
