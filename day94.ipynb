{
 "cells": [
  {
   "cell_type": "markdown",
   "metadata": {},
   "source": [
    "# Day 94 - KNeighborsClassifier & Logisticregression"
   ]
  },
  {
   "cell_type": "markdown",
   "metadata": {},
   "source": [
    "1. Using the load_digits() function from the scikit-learn package, load image data with the 8x8 resolution into the following variables: <br>\n",
    "<br>\n",
    "data - images as a numpy array with (1797, 64) shape <br>\n",
    "target - labels as a numpy array with (1797,) shape <br>\n",
    "<br>\n",
    "Explore this dataset. Try to display some images. You can use the matplotlib package to display the image as follows (in an external IDE): <br>\n",
    "<br>\n",
    "import matplotlib.pyplot as plt <br>\n",
    "<br>\n",
    "idx = 50 <br>\n",
    "plt.imshow(data[idx].reshape(8, 8), cmap='gray_r') <br>\n",
    "plt.title(f'Label: {target[idx]}') <br>\n",
    "plt.show() <br>\n",
    "<br>\n",
    "what should return: <br>\n",
    "Change the value of the variable idx and check more images. As an answer, print the label for the image with idx = 250."
   ]
  },
  {
   "cell_type": "code",
   "execution_count": 1,
   "metadata": {},
   "outputs": [
    {
     "name": "stdout",
     "output_type": "stream",
     "text": [
      "4\n"
     ]
    }
   ],
   "source": [
    "import numpy as np\n",
    "import pandas as pd\n",
    "# import matplotlib.pyplot as plt\n",
    " \n",
    "from sklearn.datasets import load_digits\n",
    "from sklearn.neighbors import KNeighborsClassifier\n",
    "from sklearn.model_selection import train_test_split\n",
    " \n",
    " \n",
    "np.random.seed(42)\n",
    "data, target = load_digits(return_X_y=True)\n",
    " \n",
    "# idx = 250\n",
    "# plt.imshow(data[idx].reshape(8, 8), cmap='gray_r')\n",
    "# plt.title(f'Label: {target[idx]}')\n",
    "# plt.show()\n",
    " \n",
    "print(target[250])"
   ]
  },
  {
   "cell_type": "markdown",
   "metadata": {},
   "source": [
    "2. Using the load_digits() function from the scikit-learn package image data was loaded into the following variables: <br>\n",
    "<br>\n",
    "data - images as a numpy array with (1797, 64) shape <br>\n",
    "target - labels as a numpy array with (1797,) shape <br>\n",
    " <br>\n",
    "Standardize the data variable. Then using the train_test_split() function (set the parameter random_state=42) split the data into train and test set: <br>\n",
    " <br>\n",
    "X_train, y_train <br>\n",
    "X_test, y_test <br>\n",
    " <br>\n",
    "In response, print the shapes of these arrays as shown below. <br>\n",
    " <br>\n",
    "Expected result: <br>\n",
    " <br>\n",
    "X_train shape: (1347, 64) <br>\n",
    "y_train shape: (1347,) <br>\n",
    "X_test shape: (450, 64) <br>\n",
    "y_test shape: (450,) <br>"
   ]
  },
  {
   "cell_type": "code",
   "execution_count": 2,
   "metadata": {},
   "outputs": [
    {
     "name": "stdout",
     "output_type": "stream",
     "text": [
      "X_train shape: (1347, 64)\n",
      "y_train shape: (1347,)\n",
      "X_test shape: (450, 64)\n",
      "y_test shape: (450,)\n"
     ]
    }
   ],
   "source": [
    "import numpy as np\n",
    "import pandas as pd\n",
    "from sklearn.datasets import load_digits\n",
    "from sklearn.model_selection import train_test_split\n",
    " \n",
    "\n",
    "np.random.seed(42)\n",
    "data, target = load_digits(return_X_y=True)\n",
    "data = data / data.max()\n",
    " \n",
    "X_train, X_test, y_train, y_test = train_test_split(\n",
    "    data, target, random_state=42\n",
    ")\n",
    " \n",
    "print(f'X_train shape: {X_train.shape}')\n",
    "print(f'y_train shape: {y_train.shape}')\n",
    "print(f'X_test shape: {X_test.shape}')\n",
    "print(f'y_test shape: {y_test.shape}')"
   ]
  },
  {
   "cell_type": "markdown",
   "metadata": {},
   "source": [
    "3. Using the load_digits() function from the scikit-learn package image data was loaded into the following variables: <br>\n",
    " <br>\n",
    "data - images as a numpy array with (1797, 64) shape <br>\n",
    "target - labels as a numpy array with (1797,) shape <br>\n",
    " <br>\n",
    "Then the data variable was standardized. Using the train_test_split() function, the data was splitted into train and test set: <br>\n",
    " <br>\n",
    "X_train, y_train <br>\n",
    "X_test, y_test <br>\n",
    " <br>\n",
    "with the following shapes: <br>\n",
    " <br>\n",
    "X_train shape: (1347, 64) <br>\n",
    "y_train shape: (1347,) <br>\n",
    "X_test shape: (450, 64) <br>\n",
    "y_test shape: (450,) <br>\n",
    "Create a multi-class classification model using the KNeighborsClassifier class from the scikit-learn package. Fit the model on the train data and then evaluate on the test data. In response, print the accuracy of the model to the console "
   ]
  },
  {
   "cell_type": "code",
   "execution_count": 3,
   "metadata": {},
   "outputs": [
    {
     "name": "stdout",
     "output_type": "stream",
     "text": [
      "KNN accuracy: 0.9933\n"
     ]
    }
   ],
   "source": [
    "import numpy as np\n",
    "import pandas as pd\n",
    "from sklearn.datasets import load_digits\n",
    "from sklearn.model_selection import train_test_split\n",
    "from sklearn.neighbors import KNeighborsClassifier\n",
    " \n",
    "np.random.seed(42)\n",
    "data, target = load_digits(return_X_y=True)\n",
    "data = data / data.max()\n",
    " \n",
    "X_train, X_test, y_train, y_test = train_test_split(\n",
    "    data, target, random_state=42\n",
    ")\n",
    " \n",
    "knn = KNeighborsClassifier()\n",
    "knn.fit(X_train, y_train)\n",
    "acc = knn.score(X_test, y_test)\n",
    "print(f'KNN accuracy: {acc:.4f}')"
   ]
  },
  {
   "cell_type": "markdown",
   "metadata": {},
   "source": [
    "4. Using the load_digits() function from the scikit-learn package image data was loaded into the following variables: <br>\n",
    " <br>\n",
    "data - images as a numpy array with (1797, 64) shape <br>\n",
    "target - labels as a numpy array with (1797,) shape <br>\n",
    " <br>\n",
    "Then the data variable was standardized. Using the train_test_split() function, the data was splitted into train and test set: <br>\n",
    " <br>\n",
    "X_train, y_train <br>\n",
    "X_test, y_test <br>\n",
    " <br>\n",
    "with the following shapes: <br>\n",
    " <br>\n",
    "X_train shape: (1347, 64) <br>\n",
    "y_train shape: (1347,) <br>\n",
    "X_test shape: (450, 64) <br>\n",
    "y_test shape: (450,) <br>\n",
    " <br>\n",
    "Create a classification model using the LogisticRegression class from the scikit-learn package. Fit the model on the train data and then evaluate on the test data. In response, print the accuracy of the model to the console "
   ]
  },
  {
   "cell_type": "code",
   "execution_count": 4,
   "metadata": {},
   "outputs": [
    {
     "name": "stdout",
     "output_type": "stream",
     "text": [
      "Logistic Regression accuracy: 0.9689\n"
     ]
    }
   ],
   "source": [
    "import numpy as np\n",
    "import pandas as pd\n",
    "from sklearn.datasets import load_digits\n",
    "from sklearn.model_selection import train_test_split\n",
    "from sklearn.linear_model import LogisticRegression\n",
    " \n",
    "np.random.seed(42)\n",
    "data, target = load_digits(return_X_y=True)\n",
    "data = data / data.max()\n",
    " \n",
    "X_train, X_test, y_train, y_test = train_test_split(\n",
    "    data, target, random_state=42\n",
    ")\n",
    " \n",
    "classifier = LogisticRegression(max_iter=1000)\n",
    "classifier.fit(X_train, y_train)\n",
    "acc = classifier.score(X_test, y_test)\n",
    "print(f'Logistic Regression accuracy: {acc:.4f}')"
   ]
  }
 ],
 "metadata": {
  "kernelspec": {
   "display_name": "Python 3",
   "language": "python",
   "name": "python3"
  },
  "language_info": {
   "codemirror_mode": {
    "name": "ipython",
    "version": 3
   },
   "file_extension": ".py",
   "mimetype": "text/x-python",
   "name": "python",
   "nbconvert_exporter": "python",
   "pygments_lexer": "ipython3",
   "version": "3.9.6"
  },
  "orig_nbformat": 4
 },
 "nbformat": 4,
 "nbformat_minor": 2
}
