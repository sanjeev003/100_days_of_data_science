{
 "cells": [
  {
   "cell_type": "markdown",
   "metadata": {},
   "source": [
    "# Day 63 - Data Analysis"
   ]
  },
  {
   "cell_type": "markdown",
   "metadata": {},
   "source": [
    "1. The corr DataFrame is given below. Extract charges column (as a DataFrame object), sort the values in descending order and print it to the console."
   ]
  },
  {
   "cell_type": "code",
   "execution_count": 1,
   "metadata": {},
   "outputs": [
    {
     "name": "stdout",
     "output_type": "stream",
     "text": [
      "                   charges\n",
      "charges           1.000000\n",
      "smoker_yes        0.787251\n",
      "age               0.299008\n",
      "bmi               0.198341\n",
      "region_southeast  0.073982\n",
      "children          0.067998\n",
      "sex_male          0.057292\n",
      "region_northwest -0.039905\n",
      "region_southwest -0.043210\n"
     ]
    }
   ],
   "source": [
    "import pandas as pd\n",
    " \n",
    "url = ( 'https://storage.googleapis.com/esmartdata-courses-files/ml-course/insurance.csv' )\n",
    "df = pd.read_csv(url)\n",
    "for col in list(df.select_dtypes(include=['object']).columns):\n",
    "    df[col] = df[col].astype('category')\n",
    "df_dummies = pd.get_dummies(df, drop_first=True)\n",
    "corr = df_dummies.corr()\n",
    "print(corr[['charges']].sort_values(by='charges', ascending=False))"
   ]
  },
  {
   "cell_type": "markdown",
   "metadata": {},
   "source": [
    "2. The df DataFrame is given below. Make a copy of the df_dummies and assign to data variable. Then pop the charges column from this object and assign it to the target variable.\n",
    "In response, print the first five rows of data DataFrame, print blank line and the first five rows of target DataFrame."
   ]
  },
  {
   "cell_type": "code",
   "execution_count": 2,
   "metadata": {},
   "outputs": [
    {
     "name": "stdout",
     "output_type": "stream",
     "text": [
      "   age     bmi  children  sex_male  smoker_yes  region_northwest  \\\n",
      "0   19  27.900         0         0           1                 0   \n",
      "1   18  33.770         1         1           0                 0   \n",
      "2   28  33.000         3         1           0                 0   \n",
      "3   33  22.705         0         1           0                 1   \n",
      "4   32  28.880         0         1           0                 1   \n",
      "\n",
      "   region_southeast  region_southwest  \n",
      "0                 0                 1  \n",
      "1                 1                 0  \n",
      "2                 1                 0  \n",
      "3                 0                 0  \n",
      "4                 0                 0  \n",
      "\n",
      "0    16884.92400\n",
      "1     1725.55230\n",
      "2     4449.46200\n",
      "3    21984.47061\n",
      "4     3866.85520\n",
      "Name: charges, dtype: float64\n"
     ]
    }
   ],
   "source": [
    "import pandas as pd\n",
    "\n",
    "url = ( 'https://storage.googleapis.com/esmartdata-courses-files/ml-course/insurance.csv' )\n",
    "df = pd.read_csv(url)\n",
    "for col in list(df.select_dtypes(include=['object']).columns):\n",
    "    df[col] = df[col].astype('category')\n",
    "df_dummies = pd.get_dummies(df, drop_first=True)\n",
    "data = df_dummies.copy()\n",
    "target = data.pop('charges')\n",
    "print(data.head())\n",
    "print()\n",
    "print(target.head())"
   ]
  },
  {
   "cell_type": "markdown",
   "metadata": {},
   "source": [
    "3. Create the DataFrame from the following dictionary and assign it to the df variable:\n",
    "\n",
    "data = {\n",
    "    'size': ['XL', 'L', 'M', 'L', 'M'],\n",
    "    'color': ['red', 'green', 'blue', 'green', 'red'],\n",
    "    'gender': ['female', 'male', 'male', 'female', 'female'],\n",
    "    'price': [199.0, 89.0, 99.0, 129.0, 79.0],\n",
    "    'weight': [500, 450, 300, 380, 410],\n",
    "    'bought': ['yes', 'no', 'yes', 'no', 'yes']\n",
    "}\n",
    "\n",
    "In response, print df to the console."
   ]
  },
  {
   "cell_type": "code",
   "execution_count": 3,
   "metadata": {},
   "outputs": [
    {
     "name": "stdout",
     "output_type": "stream",
     "text": [
      "  size  color  gender  price  weight bought\n",
      "0   XL    red  female  199.0     500    yes\n",
      "1    L  green    male   89.0     450     no\n",
      "2    M   blue    male   99.0     300    yes\n",
      "3    L  green  female  129.0     380     no\n",
      "4    M    red  female   79.0     410    yes\n"
     ]
    }
   ],
   "source": [
    "import pandas as pd\n",
    " \n",
    "data = {\n",
    "    'size': ['XL', 'L', 'M', 'L', 'M'],\n",
    "    'color': ['red', 'green', 'blue', 'green', 'red'],\n",
    "    'gender': ['female', 'male', 'male', 'female', 'female'],\n",
    "    'price': [199.0, 89.0, 99.0, 129.0, 79.0],\n",
    "    'weight': [500, 450, 300, 380, 410],\n",
    "    'bought': ['yes', 'no', 'yes', 'no', 'yes']\n",
    "}\n",
    " \n",
    "df = pd.DataFrame(data)\n",
    "print(df)"
   ]
  }
 ],
 "metadata": {
  "kernelspec": {
   "display_name": "Python 3",
   "language": "python",
   "name": "python3"
  },
  "language_info": {
   "codemirror_mode": {
    "name": "ipython",
    "version": 3
   },
   "file_extension": ".py",
   "mimetype": "text/x-python",
   "name": "python",
   "nbconvert_exporter": "python",
   "pygments_lexer": "ipython3",
   "version": "3.9.6"
  },
  "orig_nbformat": 4
 },
 "nbformat": 4,
 "nbformat_minor": 2
}
