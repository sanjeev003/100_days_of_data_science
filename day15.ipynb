{
 "cells": [
  {
   "attachments": {},
   "cell_type": "markdown",
   "metadata": {},
   "source": [
    "Let's do some :slicing\""
   ]
  },
  {
   "attachments": {},
   "cell_type": "markdown",
   "metadata": {},
   "source": [
    "1. The following array is given:\n",
    "\n",
    "array([[ 0,  1,  2,  3] , [ 4,  5,  6,  7] , [ 8,  9, 10, 11]])\n",
    "\n",
    "Using the slice operator, transform this array into the following:\n",
    "\n",
    "array([[ 3,  2,  1,  0] , [ 7,  6,  5,  4] , [11, 10,  9,  8]])\n",
    "\n",
    ">>> Code Explanation\n",
    "# The array[:, ::-1] expression selects all rows (:) and reverses the order of elements in each row (::-1)."
   ]
  },
  {
   "cell_type": "code",
   "execution_count": 2,
   "metadata": {},
   "outputs": [
    {
     "name": "stdout",
     "output_type": "stream",
     "text": [
      "[[ 3  2  1  0]\n",
      " [ 7  6  5  4]\n",
      " [11 10  9  8]]\n"
     ]
    }
   ],
   "source": [
    "import numpy as np\n",
    "A = np.arange(12, dtype='int').reshape(-1, 4)\n",
    "transformed_array = A[:, ::-1]\n",
    "print(transformed_array)"
   ]
  },
  {
   "attachments": {},
   "cell_type": "markdown",
   "metadata": {},
   "source": [
    "2. The following  array is given:\n",
    "\n",
    "array([[ 0,  1,  2,  3] , [ 4,  5,  6,  7] , [ 8,  9, 10, 11]])\n",
    "\n",
    "Using the slice operator, transform this array into the following:\n",
    "\n",
    "array([[11, 10,  9,  8] , [ 7,  6,  5,  4] , [ 3,  2,  1,  0]])"
   ]
  },
  {
   "cell_type": "code",
   "execution_count": 3,
   "metadata": {},
   "outputs": [
    {
     "name": "stdout",
     "output_type": "stream",
     "text": [
      "[[11 10  9  8]\n",
      " [ 7  6  5  4]\n",
      " [ 3  2  1  0]]\n"
     ]
    }
   ],
   "source": [
    "import numpy as np\n",
    "A = np.arange(12, dtype='int').reshape(-1, 4)\n",
    "print(A[::-1, ::-1])"
   ]
  },
  {
   "attachments": {},
   "cell_type": "markdown",
   "metadata": {},
   "source": [
    "3. Random seed is set to 42. The following array is given:\n",
    "\n",
    "image = np.random.randint(low=0, high=256, size=(10, 10, 3), dtype=np.uint8)\n",
    "\n",
    "Extract the first channel (index 0) of this image array and print it to the console.\n",
    "\n",
    "Expected output:\n",
    "\n",
    "[[102  95 234   3  14  46  99 212 188 153]\n",
    " [203 214 121 114 239 244  74  14 145 184]\n",
    " [116  85 226 235 151 181 160   6  52  14]\n",
    " [ 76 233 235 213  68 219 129   0 140 147]\n",
    " [ 20  46  19 209  57 156  86  24 235 110]\n",
    " [231 254 218 134 162  73 169  35 242 253]\n",
    " [187 249 201 231 189 116  49  74 189 158]\n",
    " [ 29   7  54 131 181 123 248 119 228  13]\n",
    " [ 50 155  40 120  72 115 167  85 131 242]\n",
    " [ 52 169  13 144 243 167   8  77  22  10]]"
   ]
  },
  {
   "cell_type": "code",
   "execution_count": 5,
   "metadata": {},
   "outputs": [
    {
     "name": "stdout",
     "output_type": "stream",
     "text": [
      "[[102  95 234   3  14  46  99 212 188 153]\n",
      " [203 214 121 114 239 244  74  14 145 184]\n",
      " [116  85 226 235 151 181 160   6  52  14]\n",
      " [ 76 233 235 213  68 219 129   0 140 147]\n",
      " [ 20  46  19 209  57 156  86  24 235 110]\n",
      " [231 254 218 134 162  73 169  35 242 253]\n",
      " [187 249 201 231 189 116  49  74 189 158]\n",
      " [ 29   7  54 131 181 123 248 119 228  13]\n",
      " [ 50 155  40 120  72 115 167  85 131 242]\n",
      " [ 52 169  13 144 243 167   8  77  22  10]]\n"
     ]
    }
   ],
   "source": [
    "import numpy as np\n",
    "np.random.seed(42)\n",
    "image = np.random.randint(low=0, high=256, size=(10, 10, 3), dtype=np.uint8)\n",
    "first_channel = image[:, :, 0]\n",
    "print(first_channel)"
   ]
  },
  {
   "attachments": {},
   "cell_type": "markdown",
   "metadata": {},
   "source": [
    "4. The following array is given:\n",
    "\n",
    "image = np.random.randint(low=0, high=256, size=(10, 10, 3), dtype=np.uint8)\n",
    "\n",
    "Extract any array of shape (5, 5, 3) from this array and assign to the result variable."
   ]
  },
  {
   "cell_type": "code",
   "execution_count": 6,
   "metadata": {},
   "outputs": [
    {
     "name": "stdout",
     "output_type": "stream",
     "text": [
      "[[[129 219  27]\n",
      "  [ 59  83 229]\n",
      "  [ 41 175  91]\n",
      "  [216 179  61]\n",
      "  [110 213 173]]\n",
      "\n",
      " [[195 126   7]\n",
      "  [ 67  76 213]\n",
      "  [174 175 205]\n",
      "  [  8  34 160]\n",
      "  [ 97  44 205]]\n",
      "\n",
      " [[103  15 155]\n",
      "  [169 131  93]\n",
      "  [ 95 193   1]\n",
      "  [ 76 204  79]\n",
      "  [253   3 215]]\n",
      "\n",
      " [[ 84 145  53]\n",
      "  [159  82  47]\n",
      "  [220  37   4]\n",
      "  [  8 190 178]\n",
      "  [ 54 248 145]]\n",
      "\n",
      " [[201 144  40]\n",
      "  [101 189 103]\n",
      "  [ 19 229 227]\n",
      "  [131  57 237]\n",
      "  [ 13 249  15]]]\n"
     ]
    }
   ],
   "source": [
    "import numpy as np\n",
    "image = np.random.randint(low=0, high=256, size=(10, 10, 3), dtype=np.uint8)\n",
    "result = image[:5, :5, :]\n",
    "print(result)"
   ]
  }
 ],
 "metadata": {
  "kernelspec": {
   "display_name": "Python 3",
   "language": "python",
   "name": "python3"
  },
  "language_info": {
   "codemirror_mode": {
    "name": "ipython",
    "version": 3
   },
   "file_extension": ".py",
   "mimetype": "text/x-python",
   "name": "python",
   "nbconvert_exporter": "python",
   "pygments_lexer": "ipython3",
   "version": "3.9.6"
  },
  "orig_nbformat": 4
 },
 "nbformat": 4,
 "nbformat_minor": 2
}
