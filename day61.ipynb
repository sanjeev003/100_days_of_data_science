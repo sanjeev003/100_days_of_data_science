{
 "cells": [
  {
   "cell_type": "markdown",
   "metadata": {},
   "source": [
    "# Day 61 - categorical data"
   ]
  },
  {
   "cell_type": "markdown",
   "metadata": {},
   "source": [
    "1. The df_cat DataFrame is given below. Print basic statistics of this DataFrame to the console."
   ]
  },
  {
   "cell_type": "code",
   "execution_count": 1,
   "metadata": {},
   "outputs": [
    {
     "name": "stdout",
     "output_type": "stream",
     "text": [
      "         sex smoker     region\n",
      "count   1338   1338       1338\n",
      "unique     2      2          4\n",
      "top     male     no  southeast\n",
      "freq     676   1064        364\n"
     ]
    }
   ],
   "source": [
    "import pandas as pd\n",
    " \n",
    "url = ( 'https://storage.googleapis.com/esmartdata-courses-files/ml-course/insurance.csv' )\n",
    "df = pd.read_csv(url)\n",
    "for col in list(df.select_dtypes(include=['object']).columns):\n",
    "    df[col] = df[col].astype('category')\n",
    "df_cat = df.select_dtypes(include=['category']).copy()\n",
    "print(df_cat.describe())"
   ]
  },
  {
   "cell_type": "markdown",
   "metadata": {},
   "source": [
    "2. The df_num DataFrame is given below. Print basic statistics of this DataFrame to the console."
   ]
  },
  {
   "cell_type": "code",
   "execution_count": 2,
   "metadata": {},
   "outputs": [
    {
     "name": "stdout",
     "output_type": "stream",
     "text": [
      "               age          bmi     children       charges\n",
      "count  1338.000000  1338.000000  1338.000000   1338.000000\n",
      "mean     39.207025    30.663397     1.094918  13270.422265\n",
      "std      14.049960     6.098187     1.205493  12110.011237\n",
      "min      18.000000    15.960000     0.000000   1121.873900\n",
      "25%      27.000000    26.296250     0.000000   4740.287150\n",
      "50%      39.000000    30.400000     1.000000   9382.033000\n",
      "75%      51.000000    34.693750     2.000000  16639.912515\n",
      "max      64.000000    53.130000     5.000000  63770.428010\n"
     ]
    }
   ],
   "source": [
    "import pandas as pd\n",
    " \n",
    "url = ( 'https://storage.googleapis.com/esmartdata-courses-files/ml-course/insurance.csv' )\n",
    "df = pd.read_csv(url)\n",
    "for col in list(df.select_dtypes(include=['object']).columns):\n",
    "    df[col] = df[col].astype('category')\n",
    "df_num = df.select_dtypes(include=['float', 'int']).copy()\n",
    "print(df_num.describe())"
   ]
  },
  {
   "cell_type": "markdown",
   "metadata": {},
   "source": [
    "3. The df DataFrame is given below. Calculate basic statistics of this object only for numeric variables, transpose the result and extract two columns:\n",
    "\n",
    "mean\n",
    "std"
   ]
  },
  {
   "cell_type": "code",
   "execution_count": 3,
   "metadata": {},
   "outputs": [
    {
     "name": "stdout",
     "output_type": "stream",
     "text": [
      "                  mean           std\n",
      "age          39.207025     14.049960\n",
      "bmi          30.663397      6.098187\n",
      "children      1.094918      1.205493\n",
      "charges   13270.422265  12110.011237\n"
     ]
    }
   ],
   "source": [
    "import pandas as pd\n",
    "\n",
    "url = ( 'https://storage.googleapis.com/esmartdata-courses-files/ml-course/insurance.csv' )\n",
    "df = pd.read_csv(url)\n",
    "print(df.describe().T[['mean', 'std']])"
   ]
  }
 ],
 "metadata": {
  "kernelspec": {
   "display_name": "Python 3",
   "language": "python",
   "name": "python3"
  },
  "language_info": {
   "codemirror_mode": {
    "name": "ipython",
    "version": 3
   },
   "file_extension": ".py",
   "mimetype": "text/x-python",
   "name": "python",
   "nbconvert_exporter": "python",
   "pygments_lexer": "ipython3",
   "version": "3.9.6"
  },
  "orig_nbformat": 4
 },
 "nbformat": 4,
 "nbformat_minor": 2
}
