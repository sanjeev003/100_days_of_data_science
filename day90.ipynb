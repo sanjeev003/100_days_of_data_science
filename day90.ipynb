{
 "cells": [
  {
   "cell_type": "markdown",
   "metadata": {},
   "source": [
    "# Day 90 - CountVectorizer & TfidfVectorizer"
   ]
  },
  {
   "cell_type": "markdown",
   "metadata": {},
   "source": [
    "1. The following list with text documents is given: <br>\n",
    "<br>\n",
    "documents = [ <br>\n",
    "    'python is a programming language', <br>\n",
    "    'python is popular', <br>\n",
    "    'programming in python', <br>\n",
    "    'object-oriented programming in python' <br>\n",
    "] <br>\n",
    "<br>\n",
    "Vectorize your documents with the CountVectorizer class from the scikit-learn. Use the stop_words argument and set its value to 'english'."
   ]
  },
  {
   "cell_type": "code",
   "execution_count": 1,
   "metadata": {},
   "outputs": [
    {
     "name": "stdout",
     "output_type": "stream",
     "text": [
      "   language  object  oriented  popular  programming  python\n",
      "0         1       0         0        0            1       1\n",
      "1         0       0         0        1            0       1\n",
      "2         0       0         0        0            1       1\n",
      "3         0       1         1        0            1       1\n"
     ]
    },
    {
     "name": "stderr",
     "output_type": "stream",
     "text": [
      "e:\\python\\lib\\site-packages\\sklearn\\utils\\deprecation.py:87: FutureWarning: Function get_feature_names is deprecated; get_feature_names is deprecated in 1.0 and will be removed in 1.2. Please use get_feature_names_out instead.\n",
      "  warnings.warn(msg, category=FutureWarning)\n"
     ]
    }
   ],
   "source": [
    "import numpy as np\n",
    "import pandas as pd\n",
    "from sklearn.feature_extraction.text import CountVectorizer\n",
    " \n",
    "documents = [\n",
    "    'python is a programming language',\n",
    "    'python is popular',\n",
    "    'programming in python',\n",
    "    'object-oriented programming in python',\n",
    "]\n",
    " \n",
    "vectorizer = CountVectorizer(stop_words='english')\n",
    " \n",
    "df = pd.DataFrame(\n",
    "    data=vectorizer.fit_transform(documents).toarray(),\n",
    "    columns=vectorizer.get_feature_names(),\n",
    ")\n",
    "print(df)"
   ]
  },
  {
   "cell_type": "markdown",
   "metadata": {},
   "source": [
    "2. The following list with text documents is given: <br>\n",
    "<br>\n",
    "documents = [ <br>\n",
    "    'python is a programming language', <br>\n",
    "    'python is popular', <br>\n",
    "    'programming in python', <br>\n",
    "    'object-oriented programming in python' <br>\n",
    "] <br>\n",
    "<br>\n",
    "Vectorize your documents with the CountVectorizer class from the scikit-learn. Use the stop_words argument and set its value to 'english'. Also set the appropriate argument that allows you to extract n-grams: unigrams and bigrams."
   ]
  },
  {
   "cell_type": "code",
   "execution_count": 2,
   "metadata": {},
   "outputs": [
    {
     "name": "stdout",
     "output_type": "stream",
     "text": [
      "   language  object  object oriented  oriented  oriented programming  popular  programming  programming language  programming python  python  python popular  python programming\n",
      "0         1       0                0         0                     0        0            1                     1                   0       1               0                   1\n",
      "1         0       0                0         0                     0        1            0                     0                   0       1               1                   0\n",
      "2         0       0                0         0                     0        0            1                     0                   1       1               0                   0\n",
      "3         0       1                1         1                     1        0            1                     0                   1       1               0                   0\n",
      "4         1       0                0         0                     0        0            1                     1                   0       0               0                   0\n"
     ]
    },
    {
     "name": "stderr",
     "output_type": "stream",
     "text": [
      "e:\\python\\lib\\site-packages\\sklearn\\utils\\deprecation.py:87: FutureWarning: Function get_feature_names is deprecated; get_feature_names is deprecated in 1.0 and will be removed in 1.2. Please use get_feature_names_out instead.\n",
      "  warnings.warn(msg, category=FutureWarning)\n"
     ]
    }
   ],
   "source": [
    "import numpy as np\n",
    "import pandas as pd\n",
    "from sklearn.feature_extraction.text import CountVectorizer\n",
    " \n",
    "pd.set_option('display.width', 200)\n",
    "pd.set_option('display.max_columns', 20)\n",
    "documents = [\n",
    "    'python is a programming language',\n",
    "    'python is popular',\n",
    "    'programming in python',\n",
    "    'object-oriented programming in python',\n",
    "    'programming language',\n",
    "]\n",
    " \n",
    "vectorizer = CountVectorizer(stop_words='english', ngram_range=(1, 2))\n",
    " \n",
    "df = pd.DataFrame(\n",
    "    data=vectorizer.fit_transform(documents).toarray(),\n",
    "    columns=vectorizer.get_feature_names(),\n",
    ")\n",
    "print(df)"
   ]
  },
  {
   "cell_type": "markdown",
   "metadata": {},
   "source": [
    "3. The following list with text documents is given: <br>\n",
    "<br>\n",
    "documents = [ <br>\n",
    "    'python is a programming language', <br>\n",
    "    'python is popular', <br>\n",
    "    'programming in python', <br>\n",
    "    'object-oriented programming in python' <br>\n",
    "] <br>\n",
    "<br>\n",
    "Vectorize the given documents using the TfidfVectorizer class from the scikit-learn."
   ]
  },
  {
   "cell_type": "code",
   "execution_count": 4,
   "metadata": {},
   "outputs": [
    {
     "name": "stdout",
     "output_type": "stream",
     "text": [
      "         in        is  language    object  oriented   popular  programming    python\n",
      "0  0.000000  0.579748  0.579748  0.000000  0.000000  0.000000     0.404837  0.404837\n",
      "1  0.000000  0.575063  0.000000  0.000000  0.000000  0.712775     0.000000  0.401565\n",
      "2  0.711525  0.000000  0.000000  0.000000  0.000000  0.000000     0.496856  0.496856\n",
      "3  0.445090  0.000000  0.000000  0.551677  0.551677  0.000000     0.310805  0.310805\n",
      "4  0.000000  0.000000  0.819887  0.000000  0.000000  0.000000     0.572526  0.000000\n"
     ]
    },
    {
     "name": "stderr",
     "output_type": "stream",
     "text": [
      "e:\\python\\lib\\site-packages\\sklearn\\utils\\deprecation.py:87: FutureWarning: Function get_feature_names is deprecated; get_feature_names is deprecated in 1.0 and will be removed in 1.2. Please use get_feature_names_out instead.\n",
      "  warnings.warn(msg, category=FutureWarning)\n"
     ]
    }
   ],
   "source": [
    "import numpy as np\n",
    "import pandas as pd\n",
    "from sklearn.feature_extraction.text import TfidfVectorizer\n",
    "\n",
    "documents = [\n",
    "    'python is a programming language',\n",
    "    'python is popular',\n",
    "    'programming in python',\n",
    "    'object-oriented programming in python',\n",
    "    'programming language',\n",
    "]\n",
    " \n",
    "tfidf_vectorizer = TfidfVectorizer()\n",
    " \n",
    "df = pd.DataFrame(\n",
    "    data=tfidf_vectorizer.fit_transform(documents).toarray(),\n",
    "    columns=tfidf_vectorizer.get_feature_names(),\n",
    ")\n",
    "print(df)"
   ]
  },
  {
   "cell_type": "markdown",
   "metadata": {},
   "source": [
    "4. Load the clusters.csv file into the DataFrame and assign to df variable. <br>\n",
    "Using the AgglomerativeClustering class from the scikit-learn, create a model to split given dataset into two clusters. Make a prediction based on this model and assign a new column 'cluster' which stores the cluster number for each sample in the df DataFrame.<br>\n",
    "In response, print the first ten rows of the df DataFrame to the console."
   ]
  },
  {
   "cell_type": "code",
   "execution_count": 5,
   "metadata": {},
   "outputs": [
    {
     "name": "stdout",
     "output_type": "stream",
     "text": [
      "         x1        x2  cluster\n",
      "0 -2.486532  7.025770        0\n",
      "1 -3.522549  8.578303        0\n",
      "2 -2.982040  7.998514        0\n",
      "3 -2.135276  6.255888        0\n",
      "4  2.762504  4.210918        1\n",
      "5 -3.541472  8.489106        0\n",
      "6  1.240259  0.781640        1\n",
      "7  0.053390  8.966770        0\n",
      "8 -0.827918  6.742253        0\n",
      "9  3.291716  1.296751        1\n"
     ]
    }
   ],
   "source": [
    "import numpy as np\n",
    "import pandas as pd\n",
    "from sklearn.cluster import AgglomerativeClustering\n",
    " \n",
    "df = pd.read_csv('clusters.csv')\n",
    " \n",
    "cluster = AgglomerativeClustering(n_clusters=2)\n",
    "cluster.fit_predict(df)\n",
    " \n",
    "df = pd.DataFrame(df, columns=['x1', 'x2'])\n",
    "df['cluster'] = cluster.labels_\n",
    "print(df.head(10))"
   ]
  }
 ],
 "metadata": {
  "kernelspec": {
   "display_name": "Python 3",
   "language": "python",
   "name": "python3"
  },
  "language_info": {
   "codemirror_mode": {
    "name": "ipython",
    "version": 3
   },
   "file_extension": ".py",
   "mimetype": "text/x-python",
   "name": "python",
   "nbconvert_exporter": "python",
   "pygments_lexer": "ipython3",
   "version": "3.9.6"
  },
  "orig_nbformat": 4
 },
 "nbformat": 4,
 "nbformat_minor": 2
}
